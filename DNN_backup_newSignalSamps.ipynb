{
 "cells": [
  {
   "cell_type": "code",
   "execution_count": 1,
   "id": "a0123230",
   "metadata": {},
   "outputs": [
    {
     "name": "stderr",
     "output_type": "stream",
     "text": [
      "2021-12-06 14:37:33.607344: W tensorflow/stream_executor/platform/default/dso_loader.cc:64] Could not load dynamic library 'libcudart.so.11.0'; dlerror: libcudart.so.11.0: cannot open shared object file: No such file or directory\n",
      "2021-12-06 14:37:33.607366: I tensorflow/stream_executor/cuda/cudart_stub.cc:29] Ignore above cudart dlerror if you do not have a GPU set up on your machine.\n"
     ]
    }
   ],
   "source": [
    "import pyarrow.parquet as pq\n",
    "import pandas as pd\n",
    "from sklearn.model_selection import train_test_split\n",
    "import tensorflow as tf\n",
    "from tensorflow import keras\n",
    "from tensorflow.keras import layers\n",
    "from tensorflow.keras.callbacks import EarlyStopping, ReduceLROnPlateau"
   ]
  },
  {
   "cell_type": "code",
   "execution_count": 2,
   "id": "16348b5d",
   "metadata": {},
   "outputs": [],
   "source": [
    "df = pd.read_parquet(\"Skim_TauTau.parquet\")"
   ]
  },
  {
   "cell_type": "code",
   "execution_count": 3,
   "id": "9d30264b",
   "metadata": {},
   "outputs": [],
   "source": [
    "df[\"label\"] = 0\n",
    "df = df[df['weight']>0]"
   ]
  },
  {
   "cell_type": "code",
   "execution_count": 4,
   "id": "6ca5fa4e",
   "metadata": {},
   "outputs": [
    {
     "name": "stdout",
     "output_type": "stream",
     "text": [
      "         weight   Eta_ph1   Phi_ph1  E_mGG_ph1  pT_mGG_ph1   Eta_ph2  \\\n",
      "0      0.000025  1.151401  2.699523   1.979170    1.137842  1.603054   \n",
      "1      0.000025 -2.393572 -2.922358   2.951623    0.534528 -2.449574   \n",
      "2      0.000025  1.871283  1.047394   2.573060    0.773788  0.890115   \n",
      "3      0.000025  2.091786 -1.589172   3.478898    0.846155  1.033298   \n",
      "4      0.000025  0.276418  0.034514   0.957748    0.922289  1.291733   \n",
      "...         ...       ...       ...        ...         ...       ...   \n",
      "11598  0.784736 -2.116986 -2.165987   1.446223    0.343258 -0.149756   \n",
      "11599  0.784736 -1.269456  1.293445   1.083464    0.564319  0.837923   \n",
      "11600  0.784736 -0.149645 -1.243483   0.301720    0.298373 -2.465785   \n",
      "11601  0.784736 -0.378473 -2.596633   0.777907    0.725335  0.097171   \n",
      "11602  0.784736 -0.108251 -1.029221   0.532038    0.528935  0.496024   \n",
      "\n",
      "        Phi_ph2  E_mGG_ph2  pT_mGG_ph2  Electron_E  ...  Phi_jet1      E_jet2  \\\n",
      "0      1.725826   2.097534    0.811509  233.906647  ... -2.594233   44.835041   \n",
      "1      0.575581   2.815203    0.482479   32.269810  ...  2.665205   38.627937   \n",
      "2     -2.034852   0.364962    0.256472    0.000000  ... -1.665297   63.172352   \n",
      "3      2.798018   0.483689    0.305538    0.000000  ...  2.198083    0.000000   \n",
      "4      2.735958   0.430226    0.219846   34.023560  ... -2.330503    0.000000   \n",
      "...         ...        ...         ...         ...  ...       ...         ...   \n",
      "11598  0.845019   0.317673    0.314144   79.956085  ... -2.829258  307.735107   \n",
      "11599 -0.183357   0.297948    0.217150  132.363144  ...  1.879067  179.886734   \n",
      "11600  2.102916   1.629620    0.274864   59.879711  ... -1.277384  233.968384   \n",
      "11601 -0.896777   0.556761    0.554143   95.659576  ...  1.958448    0.000000   \n",
      "11602  2.186316   0.486848    0.432537  160.895844  ...  0.257546   92.041840   \n",
      "\n",
      "         pT_jet2  Eta_jet2  Phi_jet2    InvM_jet   InvM_jet2         met  \\\n",
      "0      37.006805  0.610907 -1.165494  133.033234    0.000000  174.566574   \n",
      "1      36.823357 -0.242533 -2.739480   56.101810    0.000000   24.312021   \n",
      "2      50.032013 -0.691587  1.763133  179.932816  744.325867   85.148727   \n",
      "3       0.000000  0.000000  0.000000    0.000000    0.000000   78.107925   \n",
      "4       0.000000  0.000000  0.000000    0.000000    0.000000   72.548462   \n",
      "...          ...       ...       ...         ...         ...         ...   \n",
      "11598  90.123940 -1.898869  3.127343   68.317734  227.906967  152.903793   \n",
      "11599  97.304092 -1.219673 -2.578638  216.408539  120.819717   62.389122   \n",
      "11600  47.030895  2.287121 -1.830422  424.068176  242.763474  287.674591   \n",
      "11601   0.000000  0.000000  0.000000    0.000000    0.000000  158.110779   \n",
      "11602  58.880585  1.014826 -3.097107  205.302536    0.000000   88.026482   \n",
      "\n",
      "                                                 process  label  \n",
      "0      GluGluToHHTo2G2Qlnu_node_cHHH1_TuneCP5_14TeV-p...      0  \n",
      "1      GluGluToHHTo2G2Qlnu_node_cHHH1_TuneCP5_14TeV-p...      0  \n",
      "2      GluGluToHHTo2G2Qlnu_node_cHHH1_TuneCP5_14TeV-p...      0  \n",
      "3      GluGluToHHTo2G2Qlnu_node_cHHH1_TuneCP5_14TeV-p...      0  \n",
      "4      GluGluToHHTo2G2Qlnu_node_cHHH1_TuneCP5_14TeV-p...      0  \n",
      "...                                                  ...    ...  \n",
      "11598  TTGamma_SingleLeptFromTbar_TuneCUETP8M2T4_14Te...      0  \n",
      "11599  TTGamma_SingleLeptFromTbar_TuneCUETP8M2T4_14Te...      0  \n",
      "11600  TTGamma_SingleLeptFromTbar_TuneCUETP8M2T4_14Te...      0  \n",
      "11601  TTGamma_SingleLeptFromTbar_TuneCUETP8M2T4_14Te...      0  \n",
      "11602  TTGamma_SingleLeptFromTbar_TuneCUETP8M2T4_14Te...      0  \n",
      "\n",
      "[1133162 rows x 31 columns]\n"
     ]
    }
   ],
   "source": [
    "print(df)"
   ]
  },
  {
   "cell_type": "code",
   "execution_count": 5,
   "id": "57147667",
   "metadata": {},
   "outputs": [],
   "source": [
    "df.loc[df.process.str.contains(\"HHH\"), ['label']] = 1"
   ]
  },
  {
   "cell_type": "code",
   "execution_count": 6,
   "id": "8aa03dbe",
   "metadata": {},
   "outputs": [],
   "source": [
    "batch_size = 500\n",
    "\n",
    "\n",
    "def checkBatches(df):\n",
    "    N_checks = 1000\n",
    "    sum_sig = 0.\n",
    "    N_sig = 0\n",
    "    sum_back = 0.\n",
    "    N_back = 0\n",
    "    for i in range(N_checks):\n",
    "        rnd_df = df.sample(batch_size)\n",
    "        sum_sig  += rnd_df[rnd_df['label']==1]['weight'].sum()\n",
    "        sum_back += rnd_df[rnd_df['label']==0]['weight'].sum()\n",
    "        N_sig    += rnd_df[rnd_df['label']==1].shape[0]\n",
    "        N_back   += rnd_df[rnd_df['label']==0].shape[0]\n",
    "    sum_sig  /= N_checks\n",
    "    sum_back /= N_checks\n",
    "    N_sig    /= N_checks\n",
    "    N_back   /= N_checks\n",
    "\n",
    "    print (f'On average, per batch the total learning weight is\\n\\t... signal     : {sum_sig:12.6f} [{N_sig} events] \\n\\t... background : {sum_back:12.6f} [{N_back} events]')\n",
    "\n"
   ]
  },
  {
   "cell_type": "code",
   "execution_count": 7,
   "id": "3daa75df",
   "metadata": {},
   "outputs": [
    {
     "name": "stdout",
     "output_type": "stream",
     "text": [
      "On average, per batch the total learning weight is\n",
      "\t... signal     :     0.002661 [239.806 events] \n",
      "\t... background : 11953.636282 [260.194 events]\n"
     ]
    }
   ],
   "source": [
    "checkBatches(df)"
   ]
  },
  {
   "cell_type": "code",
   "execution_count": 8,
   "id": "12b641a7",
   "metadata": {},
   "outputs": [
    {
     "name": "stdout",
     "output_type": "stream",
     "text": [
      "         weight   Eta_ph1   Phi_ph1  E_mGG_ph1  pT_mGG_ph1   Eta_ph2  \\\n",
      "0      0.000025  1.151401  2.699523   1.979170    1.137842  1.603054   \n",
      "1      0.000025 -2.393572 -2.922358   2.951623    0.534528 -2.449574   \n",
      "2      0.000025  1.871283  1.047394   2.573060    0.773788  0.890115   \n",
      "3      0.000025  2.091786 -1.589172   3.478898    0.846155  1.033298   \n",
      "4      0.000025  0.276418  0.034514   0.957748    0.922289  1.291733   \n",
      "...         ...       ...       ...        ...         ...       ...   \n",
      "11598  0.784736 -2.116986 -2.165987   1.446223    0.343258 -0.149756   \n",
      "11599  0.784736 -1.269456  1.293445   1.083464    0.564319  0.837923   \n",
      "11600  0.784736 -0.149645 -1.243483   0.301720    0.298373 -2.465785   \n",
      "11601  0.784736 -0.378473 -2.596633   0.777907    0.725335  0.097171   \n",
      "11602  0.784736 -0.108251 -1.029221   0.532038    0.528935  0.496024   \n",
      "\n",
      "        Phi_ph2  E_mGG_ph2  pT_mGG_ph2  Electron_E  ...  Phi_jet1      E_jet2  \\\n",
      "0      1.725826   2.097534    0.811509  233.906647  ... -2.594233   44.835041   \n",
      "1      0.575581   2.815203    0.482479   32.269810  ...  2.665205   38.627937   \n",
      "2     -2.034852   0.364962    0.256472    0.000000  ... -1.665297   63.172352   \n",
      "3      2.798018   0.483689    0.305538    0.000000  ...  2.198083    0.000000   \n",
      "4      2.735958   0.430226    0.219846   34.023560  ... -2.330503    0.000000   \n",
      "...         ...        ...         ...         ...  ...       ...         ...   \n",
      "11598  0.845019   0.317673    0.314144   79.956085  ... -2.829258  307.735107   \n",
      "11599 -0.183357   0.297948    0.217150  132.363144  ...  1.879067  179.886734   \n",
      "11600  2.102916   1.629620    0.274864   59.879711  ... -1.277384  233.968384   \n",
      "11601 -0.896777   0.556761    0.554143   95.659576  ...  1.958448    0.000000   \n",
      "11602  2.186316   0.486848    0.432537  160.895844  ...  0.257546   92.041840   \n",
      "\n",
      "         pT_jet2  Eta_jet2  Phi_jet2    InvM_jet   InvM_jet2         met  \\\n",
      "0      37.006805  0.610907 -1.165494  133.033234    0.000000  174.566574   \n",
      "1      36.823357 -0.242533 -2.739480   56.101810    0.000000   24.312021   \n",
      "2      50.032013 -0.691587  1.763133  179.932816  744.325867   85.148727   \n",
      "3       0.000000  0.000000  0.000000    0.000000    0.000000   78.107925   \n",
      "4       0.000000  0.000000  0.000000    0.000000    0.000000   72.548462   \n",
      "...          ...       ...       ...         ...         ...         ...   \n",
      "11598  90.123940 -1.898869  3.127343   68.317734  227.906967  152.903793   \n",
      "11599  97.304092 -1.219673 -2.578638  216.408539  120.819717   62.389122   \n",
      "11600  47.030895  2.287121 -1.830422  424.068176  242.763474  287.674591   \n",
      "11601   0.000000  0.000000  0.000000    0.000000    0.000000  158.110779   \n",
      "11602  58.880585  1.014826 -3.097107  205.302536    0.000000   88.026482   \n",
      "\n",
      "                                                 process  label  \n",
      "0      GluGluToHHTo2G2Qlnu_node_cHHH1_TuneCP5_14TeV-p...      1  \n",
      "1      GluGluToHHTo2G2Qlnu_node_cHHH1_TuneCP5_14TeV-p...      1  \n",
      "2      GluGluToHHTo2G2Qlnu_node_cHHH1_TuneCP5_14TeV-p...      1  \n",
      "3      GluGluToHHTo2G2Qlnu_node_cHHH1_TuneCP5_14TeV-p...      1  \n",
      "4      GluGluToHHTo2G2Qlnu_node_cHHH1_TuneCP5_14TeV-p...      1  \n",
      "...                                                  ...    ...  \n",
      "11598  TTGamma_SingleLeptFromTbar_TuneCUETP8M2T4_14Te...      0  \n",
      "11599  TTGamma_SingleLeptFromTbar_TuneCUETP8M2T4_14Te...      0  \n",
      "11600  TTGamma_SingleLeptFromTbar_TuneCUETP8M2T4_14Te...      0  \n",
      "11601  TTGamma_SingleLeptFromTbar_TuneCUETP8M2T4_14Te...      0  \n",
      "11602  TTGamma_SingleLeptFromTbar_TuneCUETP8M2T4_14Te...      0  \n",
      "\n",
      "[1133162 rows x 31 columns]\n"
     ]
    }
   ],
   "source": [
    "print(df)"
   ]
  },
  {
   "cell_type": "code",
   "execution_count": 9,
   "id": "9e6a34ce",
   "metadata": {},
   "outputs": [
    {
     "name": "stdout",
     "output_type": "stream",
     "text": [
      "Sum of learning weight for signal     =         6.58808\n",
      "Sum of learning weight for background =  26855362.00000\n",
      "After equalization\n",
      "Sum of learning weight for signal     =    566581.06250\n",
      "Sum of learning weight for background =    566581.00000\n",
      "Average learning weight = 0.9999998807907104\n",
      "\n",
      "Now let us try again with batches\n"
     ]
    }
   ],
   "source": [
    "print (f\"Sum of learning weight for signal     = {df[df['label']==1]['weight'].sum():15.5f}\")\n",
    "print (f\"Sum of learning weight for background = {df[df['label']==0]['weight'].sum():15.5f}\")\n",
    "df.loc[df['label']==1,'weight'] *= df.shape[0]/2 / df[df['label']==1]['weight'].sum() \n",
    "df.loc[df['label']==0,'weight'] *= df.shape[0]/2 / df[df['label']==0]['weight'].sum()\n",
    "# We divide by their sum, and multiply by the number of events\n",
    "#   First part is so that the sum of weights of the signal is now == to the background ones\n",
    "#   The second part is because if the weights are super small, the loss will be small\n",
    "#       In practice the magnitude does not matter, only relative difference, but it is easier\n",
    "#       to check the learning when the loss variations are not far in the decimals\n",
    "#       -> like that the average unit weight is 1\n",
    "print (\"After equalization\")\n",
    "print (f\"Sum of learning weight for signal     = {df[df['label']==1]['weight'].sum():15.5f}\")\n",
    "print (f\"Sum of learning weight for background = {df[df['label']==0]['weight'].sum():15.5f}\")\n",
    "\n",
    "print (f'Average learning weight = {df[\"weight\"].mean()}')\n",
    "\n",
    "print ('\\nNow let us try again with batches')"
   ]
  },
  {
   "cell_type": "code",
   "execution_count": 10,
   "id": "03f230a9",
   "metadata": {},
   "outputs": [
    {
     "name": "stdout",
     "output_type": "stream",
     "text": [
      "On average, per batch the total learning weight is\n",
      "\t... signal     :   228.105715 [239.035 events] \n",
      "\t... background :   254.128864 [260.965 events]\n"
     ]
    }
   ],
   "source": [
    "checkBatches(df)"
   ]
  },
  {
   "cell_type": "code",
   "execution_count": 11,
   "id": "ed4a97fe",
   "metadata": {},
   "outputs": [],
   "source": [
    "input_vars=[\"Eta_ph1\",\"Phi_ph1\",\"E_mGG_ph1\",\"pT_mGG_ph1\",\"Eta_ph2\",\"Phi_ph2\",\"E_mGG_ph2\",\"pT_mGG_ph2\",\"Electron_E\",\"Electron_pT\",\"Electron_Eta\",\"Electron_Phi\",\"Muon_E\",\"Muon_pT\",\"Muon_Eta\",\"Muon_Phi\",\"nJets\",\"E_jet1\",\"pT_jet1\",\"Eta_jet1\",\"Phi_jet1\",\"E_jet2\",\"pT_jet2\",\"Eta_jet2\",\"Phi_jet2\",\"InvM_jet\",\"InvM_jet2\", \"met\"]"
   ]
  },
  {
   "cell_type": "code",
   "execution_count": 12,
   "id": "fb4f4837",
   "metadata": {},
   "outputs": [
    {
     "name": "stdout",
     "output_type": "stream",
     "text": [
      "        Eta_ph1   Phi_ph1  E_mGG_ph1  pT_mGG_ph1   Eta_ph2   Phi_ph2  \\\n",
      "0      1.151401  2.699523   1.979170    1.137842  1.603054  1.725826   \n",
      "1     -2.393572 -2.922358   2.951623    0.534528 -2.449574  0.575581   \n",
      "2      1.871283  1.047394   2.573060    0.773788  0.890115 -2.034852   \n",
      "3      2.091786 -1.589172   3.478898    0.846155  1.033298  2.798018   \n",
      "4      0.276418  0.034514   0.957748    0.922289  1.291733  2.735958   \n",
      "...         ...       ...        ...         ...       ...       ...   \n",
      "11598 -2.116986 -2.165987   1.446223    0.343258 -0.149756  0.845019   \n",
      "11599 -1.269456  1.293445   1.083464    0.564319  0.837923 -0.183357   \n",
      "11600 -0.149645 -1.243483   0.301720    0.298373 -2.465785  2.102916   \n",
      "11601 -0.378473 -2.596633   0.777907    0.725335  0.097171 -0.896777   \n",
      "11602 -0.108251 -1.029221   0.532038    0.528935  0.496024  2.186316   \n",
      "\n",
      "       E_mGG_ph2  pT_mGG_ph2  Electron_E  Electron_pT  ...     pT_jet1  \\\n",
      "0       2.097534    0.811509  233.906647   116.614990  ...   64.265007   \n",
      "1       2.815203    0.482479   32.269810    30.670956  ...   75.722549   \n",
      "2       0.364962    0.256472    0.000000     0.000000  ...  152.659454   \n",
      "3       0.483689    0.305538    0.000000     0.000000  ...   35.002209   \n",
      "4       0.430226    0.219846   34.023560    33.640869  ...   34.346485   \n",
      "...          ...         ...         ...          ...  ...         ...   \n",
      "11598   0.317673    0.314144   79.956085    65.055237  ...  126.594124   \n",
      "11599   0.297948    0.217150  132.363144   121.819656  ...  186.968506   \n",
      "11600   1.629620    0.274864   59.879711    39.063606  ...   52.372261   \n",
      "11601   0.556761    0.554143   95.659576    52.358196  ...  344.069641   \n",
      "11602   0.486848    0.432537  160.895844    70.241005  ...   89.394867   \n",
      "\n",
      "       Eta_jet1  Phi_jet1      E_jet2    pT_jet2  Eta_jet2  Phi_jet2  \\\n",
      "0     -1.394348 -2.594233   44.835041  37.006805  0.610907 -1.165494   \n",
      "1     -0.779769  2.665205   38.627937  36.823357 -0.242533 -2.739480   \n",
      "2     -0.190269 -1.665297   63.172352  50.032013 -0.691587  1.763133   \n",
      "3      0.436127  2.198083    0.000000   0.000000  0.000000  0.000000   \n",
      "4      1.111015 -2.330503    0.000000   0.000000  0.000000  0.000000   \n",
      "...         ...       ...         ...        ...       ...       ...   \n",
      "11598 -2.432016 -2.829258  307.735107  90.123940 -1.898869  3.127343   \n",
      "11599 -1.120784  1.879067  179.886734  97.304092 -1.219673 -2.578638   \n",
      "11600 -2.024773 -1.277384  233.968384  47.030895  2.287121 -1.830422   \n",
      "11601 -1.731691  1.958448    0.000000   0.000000  0.000000  0.000000   \n",
      "11602 -0.752171  0.257546   92.041840  58.880585  1.014826 -3.097107   \n",
      "\n",
      "         InvM_jet   InvM_jet2         met  \n",
      "0      133.033234    0.000000  174.566574  \n",
      "1       56.101810    0.000000   24.312021  \n",
      "2      179.932816  744.325867   85.148727  \n",
      "3        0.000000    0.000000   78.107925  \n",
      "4        0.000000    0.000000   72.548462  \n",
      "...           ...         ...         ...  \n",
      "11598   68.317734  227.906967  152.903793  \n",
      "11599  216.408539  120.819717   62.389122  \n",
      "11600  424.068176  242.763474  287.674591  \n",
      "11601    0.000000    0.000000  158.110779  \n",
      "11602  205.302536    0.000000   88.026482  \n",
      "\n",
      "[1133162 rows x 28 columns]\n"
     ]
    }
   ],
   "source": [
    "print(df[input_vars])"
   ]
  },
  {
   "cell_type": "code",
   "execution_count": 13,
   "id": "b2d3b075",
   "metadata": {},
   "outputs": [],
   "source": [
    "df_clean = df[input_vars].copy()\n",
    "df_clean[\"label\"] = df.loc[:,\"label\"]\n",
    "df_clean.to_csv(\"dataframe_HHWWgg.csv\")\n"
   ]
  },
  {
   "cell_type": "code",
   "execution_count": 14,
   "id": "6fe45642",
   "metadata": {},
   "outputs": [],
   "source": [
    "X_train, X_test, y_train, y_test,w_train, w_test = train_test_split(df[input_vars], df.label, df.weight, \n",
    "                                                    test_size=0.33, random_state=42)"
   ]
  },
  {
   "cell_type": "code",
   "execution_count": 15,
   "id": "6bc055e3",
   "metadata": {},
   "outputs": [
    {
     "name": "stdout",
     "output_type": "stream",
     "text": [
      "         Eta_ph1   Phi_ph1  E_mGG_ph1  pT_mGG_ph1   Eta_ph2   Phi_ph2  \\\n",
      "337459 -1.103109 -1.057868   1.232613    0.736910 -1.976905  1.710266   \n",
      "28451  -0.171368  0.624096   0.472621    0.465765 -1.313808  3.100382   \n",
      "9105    0.749502 -0.215321   0.690801    0.533736 -0.629576 -1.429791   \n",
      "10620  -0.270585 -1.906157   0.846999    0.816911  0.496753  0.184791   \n",
      "85725   1.592854  0.643091   2.728069    1.065422  2.978626  1.455885   \n",
      "...          ...       ...        ...         ...       ...       ...   \n",
      "116656 -0.214718  0.645514   0.598891    0.585346  1.030034 -2.131754   \n",
      "98664   0.265260 -0.885053   0.730139    0.705184  2.122367 -2.003702   \n",
      "139591 -0.700511  3.136265   1.477767    1.176981 -0.820494  1.798735   \n",
      "187181 -0.790387 -0.036484   1.124312    0.846010 -1.456175 -1.647439   \n",
      "129019 -2.016224 -0.308179   6.356263    1.663274 -2.072469 -2.195926   \n",
      "\n",
      "        E_mGG_ph2  pT_mGG_ph2  Electron_E  Electron_pT  ...     pT_jet1  \\\n",
      "337459   1.067920    0.290241   52.299816    26.043039  ...  151.240326   \n",
      "28451    0.851879    0.427103  126.112442   112.982719  ...  181.409119   \n",
      "9105     0.640306    0.531456  135.660446    75.877968  ...  125.998718   \n",
      "10620    0.381555    0.338877  127.824295    98.592659  ...    0.000000   \n",
      "85725    3.219719    0.326682  211.267471    23.854853  ...  206.183777   \n",
      "...           ...         ...         ...          ...  ...         ...   \n",
      "116656   0.479263    0.303508  102.482468    35.129623  ...    0.000000   \n",
      "98664    1.055994    0.249331   47.230713    46.225342  ...    0.000000   \n",
      "139591   0.742240    0.547408   68.468208    23.338154  ...   65.078789   \n",
      "187181   1.052256    0.465328  531.339661    59.723770  ...  116.360641   \n",
      "129019   0.923674    0.228907  895.175049   188.347168  ...  168.244354   \n",
      "\n",
      "        Eta_jet1  Phi_jet1      E_jet2    pT_jet2  Eta_jet2  Phi_jet2  \\\n",
      "337459 -1.206963 -2.436706   61.558586  59.456528 -0.217492  1.276803   \n",
      "28451  -0.691899  0.729663    0.000000   0.000000  0.000000  0.000000   \n",
      "9105    2.673370  1.897501  134.054779  51.160828  1.616566 -1.563490   \n",
      "10620   0.000000  0.000000    0.000000   0.000000  0.000000  0.000000   \n",
      "85725   1.593810 -2.233456  101.766792  68.115402  0.949147 -1.857277   \n",
      "...          ...       ...         ...        ...       ...       ...   \n",
      "116656  0.000000  0.000000    0.000000   0.000000  0.000000  0.000000   \n",
      "98664   0.000000  0.000000    0.000000   0.000000  0.000000  0.000000   \n",
      "139591 -3.194614 -1.105118  132.305237  61.497402 -1.396152 -2.266003   \n",
      "187181 -1.519226 -2.945680  111.308640  77.899315 -0.893331  3.079528   \n",
      "129019  1.268657  1.397521  150.309311  51.042873 -1.742239 -2.995702   \n",
      "\n",
      "          InvM_jet   InvM_jet2         met  \n",
      "337459  207.970169    0.000000  130.631592  \n",
      "28451     0.000000    0.000000  297.133484  \n",
      "9105    182.784027    0.000000  125.501961  \n",
      "10620     0.000000    0.000000   85.267990  \n",
      "85725    95.067413    0.000000   89.167053  \n",
      "...            ...         ...         ...  \n",
      "116656    0.000000    0.000000   47.179131  \n",
      "98664     0.000000    0.000000   65.222549  \n",
      "139591  150.506439  105.038666  116.919670  \n",
      "187181   67.806023  113.659294  104.461945  \n",
      "129019  426.043488    0.000000  216.782166  \n",
      "\n",
      "[759218 rows x 28 columns]\n"
     ]
    }
   ],
   "source": [
    "print(X_train)"
   ]
  },
  {
   "cell_type": "code",
   "execution_count": 16,
   "id": "9a2ee770",
   "metadata": {},
   "outputs": [
    {
     "name": "stdout",
     "output_type": "stream",
     "text": [
      "         Eta_ph1   Phi_ph1  E_mGG_ph1  pT_mGG_ph1   Eta_ph2   Phi_ph2  \\\n",
      "79757  -0.553796 -2.549840   0.734825    0.634946 -0.799875  1.876379   \n",
      "26217   0.078268  2.377720   0.540352    0.538701 -0.313834 -1.276461   \n",
      "409727 -0.106213 -2.757444   0.767839    0.763528 -0.915073  2.318362   \n",
      "246603 -1.654413 -0.725811   1.854937    0.684325 -0.364275 -1.396393   \n",
      "105328  0.240238  0.253628   0.967350    0.940091  1.318177  2.187539   \n",
      "...          ...       ...        ...         ...       ...       ...   \n",
      "37971   1.814786 -1.578022   2.007930    0.637172  2.465589  3.042948   \n",
      "82744  -0.419551  1.480143   2.060362    1.891438  0.296311  2.297061   \n",
      "173336  0.579668 -1.819415   1.779268    1.517156  1.282382 -1.930179   \n",
      "153751  0.230627  0.330448   0.999939    0.973923  0.030099 -1.245685   \n",
      "224431 -1.229273 -0.027338   1.328278    0.715812 -1.495994 -3.003654   \n",
      "\n",
      "        E_mGG_ph2  pT_mGG_ph2  Electron_E  Electron_pT  ...     pT_jet1  \\\n",
      "79757    0.802234    0.599880   37.512913    37.092144  ...  129.896622   \n",
      "26217    0.499781    0.476140   36.956318    29.058592  ...  173.985168   \n",
      "409727   0.958396    0.661545   44.784008    33.299713  ...   58.283752   \n",
      "246603   0.665922    0.624057  101.339218    52.550774  ...   35.709400   \n",
      "105328   0.533855    0.266646   61.647072    44.843498  ...  153.424652   \n",
      "...           ...         ...         ...          ...  ...         ...   \n",
      "37971    3.549061    0.598726   90.386589    28.018940  ...   41.745457   \n",
      "82744    0.473572    0.453517   48.598236    45.138157  ...  103.761978   \n",
      "173336   2.429300    1.251380  111.810829    95.242668  ...   58.940323   \n",
      "153751   0.500843    0.500616   94.843880    38.281952  ...  121.830750   \n",
      "224431   0.809647    0.345427  326.990814   176.095474  ...  180.188705   \n",
      "\n",
      "        Eta_jet1  Phi_jet1      E_jet2     pT_jet2  Eta_jet2  Phi_jet2  \\\n",
      "79757   2.124978  1.329736  138.328278   73.899345  1.237393  0.269002   \n",
      "26217   0.645862  0.173259  303.786102  112.738235  1.647513  1.572413   \n",
      "409727 -0.391496  2.322734   51.860687   50.283695 -0.248481 -0.640194   \n",
      "246603 -1.210483  1.149861    0.000000    0.000000  0.000000  0.000000   \n",
      "105328  1.120746 -2.159035    0.000000    0.000000  0.000000  0.000000   \n",
      "...          ...       ...         ...         ...       ...       ...   \n",
      "37971   2.417936 -1.118754   34.555889   33.093582  0.262837  0.963507   \n",
      "82744  -0.419596 -1.445272   68.125092   60.860630 -0.468154 -2.540539   \n",
      "173336 -0.336900  1.323028    0.000000    0.000000  0.000000  0.000000   \n",
      "153751 -2.489027 -1.702067  591.222229  112.918396 -2.339389 -2.091944   \n",
      "224431  0.527469 -2.085583   44.983433   43.230885 -0.240486 -3.098799   \n",
      "\n",
      "          InvM_jet   InvM_jet2         met  \n",
      "79757   135.671127    0.000000  171.135422  \n",
      "26217   235.548630  262.824036    9.018262  \n",
      "409727  108.519852    0.000000   33.181431  \n",
      "246603    0.000000    0.000000   37.694664  \n",
      "105328    0.000000    0.000000  115.686653  \n",
      "...            ...         ...         ...  \n",
      "37971   116.674561    0.000000   42.642849  \n",
      "82744    84.255852    0.000000  244.041992  \n",
      "173336    0.000000    0.000000  179.287338  \n",
      "153751   50.790009    0.000000  107.460754  \n",
      "224431  115.665436    0.000000  151.185822  \n",
      "\n",
      "[373944 rows x 28 columns]\n"
     ]
    }
   ],
   "source": [
    "print(X_test)"
   ]
  },
  {
   "cell_type": "code",
   "execution_count": 17,
   "id": "f8eb9bdd",
   "metadata": {},
   "outputs": [],
   "source": [
    "parameters = {\n",
    "    'epochs'                : 200,\n",
    "    'lr'                    : 0.001,\n",
    "    'batch_size'            : 500,\n",
    "    'n_layers'              : 4,\n",
    "    'n_neurons'             : 128,\n",
    "    'hidden_activation'     : 'relu',\n",
    "    'output_activation'     : 'sigmoid',\n",
    "}"
   ]
  },
  {
   "cell_type": "code",
   "execution_count": 18,
   "id": "8a3c62ed",
   "metadata": {},
   "outputs": [
    {
     "name": "stderr",
     "output_type": "stream",
     "text": [
      "2021-12-06 14:40:50.534468: W tensorflow/stream_executor/platform/default/dso_loader.cc:64] Could not load dynamic library 'libcuda.so.1'; dlerror: libcuda.so.1: cannot open shared object file: No such file or directory\n",
      "2021-12-06 14:40:50.534491: W tensorflow/stream_executor/cuda/cuda_driver.cc:269] failed call to cuInit: UNKNOWN ERROR (303)\n",
      "2021-12-06 14:40:50.534509: I tensorflow/stream_executor/cuda/cuda_diagnostics.cc:156] kernel driver does not appear to be running on this host (1S0): /proc/driver/nvidia/version does not exist\n",
      "2021-12-06 14:40:50.534673: I tensorflow/core/platform/cpu_feature_guard.cc:151] This TensorFlow binary is optimized with oneAPI Deep Neural Network Library (oneDNN) to use the following CPU instructions in performance-critical operations:  AVX2 FMA\n",
      "To enable them in other operations, rebuild TensorFlow with the appropriate compiler flags.\n"
     ]
    }
   ],
   "source": [
    "inputs = keras.Input(shape=(len(input_vars),), name=\"particles\")\n",
    "x = layers.Dense(parameters['n_neurons'], activation=parameters['hidden_activation'], name=f\"dense_1\")(inputs)\n",
    "for i in range(1,parameters['n_layers']):\n",
    "    x = layers.Dense(parameters['n_neurons'], activation=parameters['hidden_activation'], name=f\"dense_{i+1}\")(x)\n",
    "outputs = layers.Dense(1, activation=parameters['output_activation'], name=\"predictions\")(x)\n",
    "\n",
    "model = keras.Model(inputs=inputs, outputs=outputs)"
   ]
  },
  {
   "cell_type": "code",
   "execution_count": 19,
   "id": "40426231",
   "metadata": {},
   "outputs": [
    {
     "name": "stdout",
     "output_type": "stream",
     "text": [
      "Model: \"model\"\n",
      "_________________________________________________________________\n",
      " Layer (type)                Output Shape              Param #   \n",
      "=================================================================\n",
      " particles (InputLayer)      [(None, 28)]              0         \n",
      "                                                                 \n",
      " dense_1 (Dense)             (None, 128)               3712      \n",
      "                                                                 \n",
      " dense_2 (Dense)             (None, 128)               16512     \n",
      "                                                                 \n",
      " dense_3 (Dense)             (None, 128)               16512     \n",
      "                                                                 \n",
      " dense_4 (Dense)             (None, 128)               16512     \n",
      "                                                                 \n",
      " predictions (Dense)         (None, 1)                 129       \n",
      "                                                                 \n",
      "=================================================================\n",
      "Total params: 53,377\n",
      "Trainable params: 53,377\n",
      "Non-trainable params: 0\n",
      "_________________________________________________________________\n"
     ]
    },
    {
     "name": "stderr",
     "output_type": "stream",
     "text": [
      "/home/donertas/.local/lib/python3.8/site-packages/keras/optimizer_v2/nadam.py:73: UserWarning: The `lr` argument is deprecated, use `learning_rate` instead.\n",
      "  super(Nadam, self).__init__(name, **kwargs)\n"
     ]
    }
   ],
   "source": [
    "model.compile(\n",
    "    #optimizer=keras.optimizers.RMSprop(),\n",
    "    optimizer=keras.optimizers.Nadam(lr=parameters['lr']),  # Optimizer\n",
    "    # Loss function to minimize\n",
    "    loss=keras.losses.BinaryCrossentropy(),\n",
    "    # List of metrics to monitor\n",
    "    metrics=[keras.metrics.BinaryAccuracy(),\n",
    "             tf.keras.metrics.AUC(),\n",
    "             tf.keras.metrics.Precision(),\n",
    "             tf.keras.metrics.Recall()],\n",
    ")\n",
    "\n",
    "model.summary()\n",
    "\n",
    "# Callbacks #\n",
    "from tensorflow.keras.callbacks import EarlyStopping, ReduceLROnPlateau\n",
    "early_stopping = EarlyStopping(monitor = 'val_loss',\n",
    "                               min_delta = 0, \n",
    "                               patience = 50,\n",
    "                               verbose=2,\n",
    "                               mode='min')\n",
    "# Stop the learning when val_loss stops increasing \n",
    "# https://keras.io/api/callbacks/early_stopping/\n",
    "\n",
    "reduce_plateau = ReduceLROnPlateau(monitor = 'val_loss',\n",
    "                                   factor = 0.1,\n",
    "                                   min_delta = 0, \n",
    "                                   patience = 10,\n",
    "                                   verbose=2,\n",
    "                                   mode='min')\n",
    "# reduce LR if not improvement for some time \n",
    "# https://keras.io/api/callbacks/reduce_lr_on_plateau/\n",
    "from history import LossHistory, PlotHistory\n",
    "loss_history = LossHistory()\n",
    "# Custom record of the history to add debug plots \n",
    "\n",
    "X_val = X_train[-3000:]\n",
    "y_val = y_train[-3000:]\n",
    "w_val = w_train[-3000:]\n",
    "X_train = X_train[:-3000]\n",
    "y_train = y_train[:-3000]\n",
    "w_train = w_train[:-3000]"
   ]
  },
  {
   "cell_type": "code",
   "execution_count": 20,
   "id": "f5baa6a5",
   "metadata": {},
   "outputs": [
    {
     "name": "stdout",
     "output_type": "stream",
     "text": [
      "         Eta_ph1   Phi_ph1  E_mGG_ph1  pT_mGG_ph1   Eta_ph2   Phi_ph2  \\\n",
      "337459 -1.103109 -1.057868   1.232613    0.736910 -1.976905  1.710266   \n",
      "28451  -0.171368  0.624096   0.472621    0.465765 -1.313808  3.100382   \n",
      "9105    0.749502 -0.215321   0.690801    0.533736 -0.629576 -1.429791   \n",
      "10620  -0.270585 -1.906157   0.846999    0.816911  0.496753  0.184791   \n",
      "85725   1.592854  0.643091   2.728069    1.065422  2.978626  1.455885   \n",
      "...          ...       ...        ...         ...       ...       ...   \n",
      "433400 -2.547885  1.962408   4.539210    0.706036 -2.481055 -1.960084   \n",
      "204314  0.071859 -2.741496   1.457814    1.454058  0.343796 -0.291246   \n",
      "85335   1.895604  1.772279   3.045546    0.894854  2.634764  0.635695   \n",
      "18542   0.978028 -1.520714   0.954699    0.629073  0.424565  2.194018   \n",
      "108019  0.768048 -1.690428   2.121697    1.619942  1.020622 -0.557923   \n",
      "\n",
      "        E_mGG_ph2  pT_mGG_ph2  Electron_E  Electron_pT  ...     pT_jet1  \\\n",
      "337459   1.067920    0.290241   52.299816    26.043039  ...  151.240326   \n",
      "28451    0.851879    0.427103  126.112442   112.982719  ...  181.409119   \n",
      "9105     0.640306    0.531456  135.660446    75.877968  ...  125.998718   \n",
      "10620    0.381555    0.338877  127.824295    98.592659  ...    0.000000   \n",
      "85725    3.219719    0.326682  211.267471    23.854853  ...  206.183777   \n",
      "...           ...         ...         ...          ...  ...         ...   \n",
      "433400   2.488963    0.413534  143.807739    36.007374  ...   48.684422   \n",
      "204314   0.201587    0.190234   53.882542    45.187466  ...   86.346985   \n",
      "85335    4.524724    0.645847  174.225082    85.340469  ...   42.664104   \n",
      "18542    0.434353    0.397945   32.317818    22.499929  ...   97.756485   \n",
      "108019   0.796247    0.507926   72.329376    71.214012  ...   58.010418   \n",
      "\n",
      "        Eta_jet1  Phi_jet1       E_jet2    pT_jet2  Eta_jet2  Phi_jet2  \\\n",
      "337459 -1.206963 -2.436706    61.558586  59.456528 -0.217492  1.276803   \n",
      "28451  -0.691899  0.729663     0.000000   0.000000  0.000000  0.000000   \n",
      "9105    2.673370  1.897501   134.054779  51.160828  1.616566 -1.563490   \n",
      "10620   0.000000  0.000000     0.000000   0.000000  0.000000  0.000000   \n",
      "85725   1.593810 -2.233456   101.766792  68.115402  0.949147 -1.857277   \n",
      "...          ...       ...          ...        ...       ...       ...   \n",
      "433400 -1.571781 -0.130215    36.783985  31.082985 -0.586030  0.403185   \n",
      "204314 -0.391516  0.613457  2300.638428  40.811478 -4.725047  2.458701   \n",
      "85335   1.555543  2.873327    39.046230  37.210957 -0.284901 -0.925345   \n",
      "18542  -0.110224  2.107026   125.537766  85.259644  0.916972  1.285712   \n",
      "108019 -1.369321  1.899703     0.000000   0.000000  0.000000  0.000000   \n",
      "\n",
      "          InvM_jet   InvM_jet2         met  \n",
      "337459  207.970169    0.000000  130.631592  \n",
      "28451     0.000000    0.000000  297.133484  \n",
      "9105    182.784027    0.000000  125.501961  \n",
      "10620     0.000000    0.000000   85.267990  \n",
      "85725    95.067413    0.000000   89.167053  \n",
      "...            ...         ...         ...  \n",
      "433400   45.610634    0.000000   71.654991  \n",
      "204314  522.905334  491.852631  144.614655  \n",
      "85335   113.450874    0.000000  123.248154  \n",
      "18542   127.565216  183.302902   91.610130  \n",
      "108019    0.000000    0.000000  151.779541  \n",
      "\n",
      "[756218 rows x 28 columns]\n"
     ]
    }
   ],
   "source": [
    "print(X_train)"
   ]
  },
  {
   "cell_type": "code",
   "execution_count": 21,
   "id": "bfa63501",
   "metadata": {},
   "outputs": [
    {
     "name": "stdout",
     "output_type": "stream",
     "text": [
      "Epoch 1/200\n",
      "1513/1513 - 7s - loss: 3.7919 - binary_accuracy: 0.5304 - auc: 0.5227 - precision: 0.5072 - recall: 0.6748 - val_loss: 0.9648 - val_binary_accuracy: 0.5747 - val_auc: 0.6930 - val_precision: 0.6343 - val_recall: 0.2229 - lr: 0.0010 - 7s/epoch - 5ms/step\n",
      "Epoch 2/200\n",
      "1513/1513 - 4s - loss: 1.3190 - binary_accuracy: 0.5222 - auc: 0.5198 - precision: 0.5008 - recall: 0.6460 - val_loss: 0.3635 - val_binary_accuracy: 0.5190 - val_auc: 0.5370 - val_precision: 0.4916 - val_recall: 0.7062 - lr: 0.0010 - 4s/epoch - 3ms/step\n",
      "Epoch 3/200\n",
      "1513/1513 - 4s - loss: 0.6999 - binary_accuracy: 0.5441 - auc: 0.5451 - precision: 0.5179 - recall: 0.6903 - val_loss: 0.3763 - val_binary_accuracy: 0.4613 - val_auc: 0.4120 - val_precision: 0.4610 - val_recall: 0.8673 - lr: 0.0010 - 4s/epoch - 3ms/step\n",
      "Epoch 4/200\n",
      "1513/1513 - 5s - loss: 1.0198 - binary_accuracy: 0.5349 - auc: 0.5314 - precision: 0.5107 - recall: 0.6796 - val_loss: 0.5379 - val_binary_accuracy: 0.5123 - val_auc: 0.5194 - val_precision: 0.4824 - val_recall: 0.5266 - lr: 0.0010 - 5s/epoch - 4ms/step\n",
      "Epoch 5/200\n",
      "1513/1513 - 6s - loss: 0.7173 - binary_accuracy: 0.5316 - auc: 0.5213 - precision: 0.5082 - recall: 0.6665 - val_loss: 0.3556 - val_binary_accuracy: 0.5317 - val_auc: 0.5374 - val_precision: 0.5009 - val_recall: 0.7963 - lr: 0.0010 - 6s/epoch - 4ms/step\n",
      "Epoch 6/200\n",
      "1513/1513 - 6s - loss: 0.6498 - binary_accuracy: 0.5449 - auc: 0.5486 - precision: 0.5195 - recall: 0.6588 - val_loss: 0.3253 - val_binary_accuracy: 0.5210 - val_auc: 0.5235 - val_precision: 0.4932 - val_recall: 0.7168 - lr: 0.0010 - 6s/epoch - 4ms/step\n",
      "Epoch 7/200\n",
      "1513/1513 - 6s - loss: 0.6151 - binary_accuracy: 0.5421 - auc: 0.5493 - precision: 0.5171 - recall: 0.6580 - val_loss: 0.3453 - val_binary_accuracy: 0.5207 - val_auc: 0.5281 - val_precision: 0.4912 - val_recall: 0.5777 - lr: 0.0010 - 6s/epoch - 4ms/step\n",
      "Epoch 8/200\n",
      "1513/1513 - 6s - loss: 0.6443 - binary_accuracy: 0.5501 - auc: 0.5527 - precision: 0.5226 - recall: 0.6968 - val_loss: 0.3182 - val_binary_accuracy: 0.4977 - val_auc: 0.4853 - val_precision: 0.4762 - val_recall: 0.6955 - lr: 0.0010 - 6s/epoch - 4ms/step\n",
      "Epoch 9/200\n",
      "1513/1513 - 7s - loss: 0.5798 - binary_accuracy: 0.5556 - auc: 0.5587 - precision: 0.5265 - recall: 0.7137 - val_loss: 0.4122 - val_binary_accuracy: 0.5737 - val_auc: 0.6066 - val_precision: 0.5456 - val_recall: 0.5522 - lr: 0.0010 - 7s/epoch - 5ms/step\n",
      "Epoch 10/200\n",
      "1513/1513 - 6s - loss: 0.5853 - binary_accuracy: 0.5720 - auc: 0.5837 - precision: 0.5414 - recall: 0.6925 - val_loss: 0.3185 - val_binary_accuracy: 0.5453 - val_auc: 0.5430 - val_precision: 0.5113 - val_recall: 0.7239 - lr: 0.0010 - 6s/epoch - 4ms/step\n",
      "Epoch 11/200\n",
      "1513/1513 - 6s - loss: 0.5951 - binary_accuracy: 0.5498 - auc: 0.5491 - precision: 0.5213 - recall: 0.7282 - val_loss: 0.3111 - val_binary_accuracy: 0.5453 - val_auc: 0.5784 - val_precision: 0.5140 - val_recall: 0.5877 - lr: 0.0010 - 6s/epoch - 4ms/step\n",
      "Epoch 12/200\n",
      "1513/1513 - 6s - loss: 0.5816 - binary_accuracy: 0.5522 - auc: 0.5589 - precision: 0.5259 - recall: 0.6570 - val_loss: 0.2997 - val_binary_accuracy: 0.5370 - val_auc: 0.5244 - val_precision: 0.5041 - val_recall: 0.8666 - lr: 0.0010 - 6s/epoch - 4ms/step\n",
      "Epoch 13/200\n",
      "1513/1513 - 6s - loss: 0.5559 - binary_accuracy: 0.5653 - auc: 0.5691 - precision: 0.5351 - recall: 0.7023 - val_loss: 0.2740 - val_binary_accuracy: 0.5973 - val_auc: 0.6086 - val_precision: 0.5576 - val_recall: 0.6906 - lr: 0.0010 - 6s/epoch - 4ms/step\n",
      "Epoch 14/200\n",
      "1513/1513 - 6s - loss: 0.5897 - binary_accuracy: 0.5685 - auc: 0.5843 - precision: 0.5380 - recall: 0.6987 - val_loss: 0.3167 - val_binary_accuracy: 0.5880 - val_auc: 0.6053 - val_precision: 0.5441 - val_recall: 0.7573 - lr: 0.0010 - 6s/epoch - 4ms/step\n",
      "Epoch 15/200\n",
      "1513/1513 - 6s - loss: 0.7249 - binary_accuracy: 0.5603 - auc: 0.5703 - precision: 0.5285 - recall: 0.7578 - val_loss: 0.3224 - val_binary_accuracy: 0.5273 - val_auc: 0.5271 - val_precision: 0.4978 - val_recall: 0.7346 - lr: 0.0010 - 6s/epoch - 4ms/step\n",
      "Epoch 16/200\n",
      "1513/1513 - 5s - loss: 0.5415 - binary_accuracy: 0.5723 - auc: 0.5763 - precision: 0.5407 - recall: 0.7084 - val_loss: 0.3249 - val_binary_accuracy: 0.6240 - val_auc: 0.6370 - val_precision: 0.6143 - val_recall: 0.5358 - lr: 0.0010 - 5s/epoch - 3ms/step\n",
      "Epoch 17/200\n",
      "1513/1513 - 6s - loss: 0.5265 - binary_accuracy: 0.5916 - auc: 0.6071 - precision: 0.5608 - recall: 0.6770 - val_loss: 0.2499 - val_binary_accuracy: 0.5613 - val_auc: 0.5844 - val_precision: 0.5258 - val_recall: 0.6721 - lr: 0.0010 - 6s/epoch - 4ms/step\n",
      "Epoch 18/200\n",
      "1513/1513 - 6s - loss: 0.5217 - binary_accuracy: 0.5750 - auc: 0.5910 - precision: 0.5482 - recall: 0.6379 - val_loss: 0.2268 - val_binary_accuracy: 0.5413 - val_auc: 0.5933 - val_precision: 0.5070 - val_recall: 0.8488 - lr: 0.0010 - 6s/epoch - 4ms/step\n",
      "Epoch 19/200\n",
      "1513/1513 - 6s - loss: 0.5037 - binary_accuracy: 0.5880 - auc: 0.6185 - precision: 0.5534 - recall: 0.7231 - val_loss: 0.2636 - val_binary_accuracy: 0.5863 - val_auc: 0.6272 - val_precision: 0.5477 - val_recall: 0.6842 - lr: 0.0010 - 6s/epoch - 4ms/step\n",
      "Epoch 20/200\n",
      "1513/1513 - 5s - loss: 0.4972 - binary_accuracy: 0.5893 - auc: 0.6165 - precision: 0.5557 - recall: 0.7090 - val_loss: 0.2499 - val_binary_accuracy: 0.6743 - val_auc: 0.7048 - val_precision: 0.6371 - val_recall: 0.7126 - lr: 0.0010 - 5s/epoch - 4ms/step\n",
      "Epoch 21/200\n",
      "1513/1513 - 6s - loss: 0.5592 - binary_accuracy: 0.5813 - auc: 0.6407 - precision: 0.6037 - recall: 0.3655 - val_loss: 0.5044 - val_binary_accuracy: 0.5303 - val_auc: 0.5836 - val_precision: 0.0000e+00 - val_recall: 0.0000e+00 - lr: 0.0010 - 6s/epoch - 4ms/step\n",
      "Epoch 22/200\n",
      "1513/1513 - 6s - loss: 0.6208 - binary_accuracy: 0.5499 - auc: 0.5878 - precision: 0.5386 - recall: 0.4180 - val_loss: 0.3833 - val_binary_accuracy: 0.5477 - val_auc: 0.5656 - val_precision: 0.5112 - val_recall: 0.8417 - lr: 0.0010 - 6s/epoch - 4ms/step\n",
      "Epoch 23/200\n",
      "1513/1513 - 6s - loss: 0.5835 - binary_accuracy: 0.5763 - auc: 0.5930 - precision: 0.5378 - recall: 0.8192 - val_loss: 0.4287 - val_binary_accuracy: 0.5947 - val_auc: 0.6149 - val_precision: 0.5429 - val_recall: 0.8666 - lr: 0.0010 - 6s/epoch - 4ms/step\n",
      "Epoch 24/200\n",
      "1513/1513 - 6s - loss: 0.5738 - binary_accuracy: 0.5736 - auc: 0.6025 - precision: 0.5354 - recall: 0.8257 - val_loss: 0.3687 - val_binary_accuracy: 0.6313 - val_auc: 0.6787 - val_precision: 0.5766 - val_recall: 0.8098 - lr: 0.0010 - 6s/epoch - 4ms/step\n",
      "Epoch 25/200\n",
      "1513/1513 - 7s - loss: 0.5483 - binary_accuracy: 0.5811 - auc: 0.6023 - precision: 0.5400 - recall: 0.8443 - val_loss: 0.3500 - val_binary_accuracy: 0.5777 - val_auc: 0.6109 - val_precision: 0.5332 - val_recall: 0.8084 - lr: 0.0010 - 7s/epoch - 4ms/step\n",
      "Epoch 26/200\n",
      "1513/1513 - 6s - loss: 0.5386 - binary_accuracy: 0.5701 - auc: 0.5892 - precision: 0.5318 - recall: 0.8536 - val_loss: 0.3356 - val_binary_accuracy: 0.6270 - val_auc: 0.6723 - val_precision: 0.5685 - val_recall: 0.8538 - lr: 0.0010 - 6s/epoch - 4ms/step\n",
      "Epoch 27/200\n",
      "1513/1513 - 6s - loss: 0.5246 - binary_accuracy: 0.5774 - auc: 0.6053 - precision: 0.5377 - recall: 0.8361 - val_loss: 0.2999 - val_binary_accuracy: 0.5583 - val_auc: 0.6308 - val_precision: 0.5192 - val_recall: 0.8070 - lr: 0.0010 - 6s/epoch - 4ms/step\n",
      "Epoch 28/200\n",
      "\n",
      "Epoch 00028: ReduceLROnPlateau reducing learning rate to 0.00010000000474974513.\n",
      "1513/1513 - 5s - loss: 0.4956 - binary_accuracy: 0.5754 - auc: 0.6223 - precision: 0.5357 - recall: 0.8489 - val_loss: 0.2463 - val_binary_accuracy: 0.5117 - val_auc: 0.6133 - val_precision: 0.4892 - val_recall: 0.9021 - lr: 0.0010 - 5s/epoch - 3ms/step\n",
      "Epoch 29/200\n",
      "1513/1513 - 7s - loss: 0.4597 - binary_accuracy: 0.5845 - auc: 0.6547 - precision: 0.5405 - recall: 0.8822 - val_loss: 0.2615 - val_binary_accuracy: 0.5837 - val_auc: 0.6651 - val_precision: 0.5359 - val_recall: 0.8481 - lr: 1.0000e-04 - 7s/epoch - 4ms/step\n",
      "Epoch 30/200\n",
      "1513/1513 - 6s - loss: 0.4280 - binary_accuracy: 0.5981 - auc: 0.6640 - precision: 0.5515 - recall: 0.8603 - val_loss: 0.2382 - val_binary_accuracy: 0.5927 - val_auc: 0.6837 - val_precision: 0.5408 - val_recall: 0.8801 - lr: 1.0000e-04 - 6s/epoch - 4ms/step\n",
      "Epoch 31/200\n",
      "1513/1513 - 6s - loss: 0.4208 - binary_accuracy: 0.5962 - auc: 0.6685 - precision: 0.5498 - recall: 0.8639 - val_loss: 0.2328 - val_binary_accuracy: 0.5840 - val_auc: 0.6732 - val_precision: 0.5350 - val_recall: 0.8722 - lr: 1.0000e-04 - 6s/epoch - 4ms/step\n"
     ]
    },
    {
     "name": "stdout",
     "output_type": "stream",
     "text": [
      "Epoch 32/200\n",
      "1513/1513 - 6s - loss: 0.4126 - binary_accuracy: 0.5952 - auc: 0.6737 - precision: 0.5487 - recall: 0.8706 - val_loss: 0.2517 - val_binary_accuracy: 0.5903 - val_auc: 0.6724 - val_precision: 0.5411 - val_recall: 0.8417 - lr: 1.0000e-04 - 6s/epoch - 4ms/step\n",
      "Epoch 33/200\n",
      "1513/1513 - 6s - loss: 0.4068 - binary_accuracy: 0.5947 - auc: 0.6736 - precision: 0.5484 - recall: 0.8693 - val_loss: 0.2324 - val_binary_accuracy: 0.5670 - val_auc: 0.6810 - val_precision: 0.5237 - val_recall: 0.8623 - lr: 1.0000e-04 - 6s/epoch - 4ms/step\n",
      "Epoch 34/200\n",
      "1513/1513 - 6s - loss: 0.4005 - binary_accuracy: 0.5894 - auc: 0.6778 - precision: 0.5443 - recall: 0.8744 - val_loss: 0.2441 - val_binary_accuracy: 0.5897 - val_auc: 0.6775 - val_precision: 0.5401 - val_recall: 0.8510 - lr: 1.0000e-04 - 6s/epoch - 4ms/step\n",
      "Epoch 35/200\n",
      "1513/1513 - 6s - loss: 0.4023 - binary_accuracy: 0.5930 - auc: 0.6832 - precision: 0.5469 - recall: 0.8750 - val_loss: 0.2243 - val_binary_accuracy: 0.5753 - val_auc: 0.6811 - val_precision: 0.5293 - val_recall: 0.8652 - lr: 1.0000e-04 - 6s/epoch - 4ms/step\n",
      "Epoch 36/200\n",
      "1513/1513 - 5s - loss: 0.3903 - binary_accuracy: 0.5877 - auc: 0.6788 - precision: 0.5428 - recall: 0.8790 - val_loss: 0.2202 - val_binary_accuracy: 0.5937 - val_auc: 0.6958 - val_precision: 0.5421 - val_recall: 0.8673 - lr: 1.0000e-04 - 5s/epoch - 3ms/step\n",
      "Epoch 37/200\n",
      "1513/1513 - 6s - loss: 0.3846 - binary_accuracy: 0.5869 - auc: 0.6883 - precision: 0.5422 - recall: 0.8807 - val_loss: 0.1991 - val_binary_accuracy: 0.5680 - val_auc: 0.6852 - val_precision: 0.5237 - val_recall: 0.8879 - lr: 1.0000e-04 - 6s/epoch - 4ms/step\n",
      "Epoch 38/200\n",
      "1513/1513 - 6s - loss: 0.3847 - binary_accuracy: 0.5884 - auc: 0.6980 - precision: 0.5434 - recall: 0.8781 - val_loss: 0.2104 - val_binary_accuracy: 0.5747 - val_auc: 0.6936 - val_precision: 0.5285 - val_recall: 0.8751 - lr: 1.0000e-04 - 6s/epoch - 4ms/step\n",
      "Epoch 39/200\n",
      "1513/1513 - 6s - loss: 0.3810 - binary_accuracy: 0.5902 - auc: 0.6989 - precision: 0.5444 - recall: 0.8829 - val_loss: 0.2050 - val_binary_accuracy: 0.5703 - val_auc: 0.7016 - val_precision: 0.5250 - val_recall: 0.8935 - lr: 1.0000e-04 - 6s/epoch - 4ms/step\n",
      "Epoch 40/200\n",
      "1513/1513 - 6s - loss: 0.3705 - binary_accuracy: 0.5885 - auc: 0.6958 - precision: 0.5431 - recall: 0.8863 - val_loss: 0.1864 - val_binary_accuracy: 0.5570 - val_auc: 0.6939 - val_precision: 0.5160 - val_recall: 0.9134 - lr: 1.0000e-04 - 6s/epoch - 4ms/step\n",
      "Epoch 41/200\n",
      "1513/1513 - 6s - loss: 0.3645 - binary_accuracy: 0.5935 - auc: 0.7043 - precision: 0.5464 - recall: 0.8893 - val_loss: 0.2355 - val_binary_accuracy: 0.5987 - val_auc: 0.7279 - val_precision: 0.5468 - val_recall: 0.8502 - lr: 1.0000e-04 - 6s/epoch - 4ms/step\n",
      "Epoch 42/200\n",
      "1513/1513 - 6s - loss: 0.3595 - binary_accuracy: 0.5871 - auc: 0.7060 - precision: 0.5418 - recall: 0.8903 - val_loss: 0.1943 - val_binary_accuracy: 0.5823 - val_auc: 0.7348 - val_precision: 0.5330 - val_recall: 0.8943 - lr: 1.0000e-04 - 6s/epoch - 4ms/step\n",
      "Epoch 43/200\n",
      "1513/1513 - 6s - loss: 0.3604 - binary_accuracy: 0.5969 - auc: 0.7152 - precision: 0.5490 - recall: 0.8861 - val_loss: 0.1930 - val_binary_accuracy: 0.5840 - val_auc: 0.7165 - val_precision: 0.5344 - val_recall: 0.8879 - lr: 1.0000e-04 - 6s/epoch - 4ms/step\n",
      "Epoch 44/200\n",
      "1513/1513 - 6s - loss: 0.3575 - binary_accuracy: 0.5962 - auc: 0.7184 - precision: 0.5485 - recall: 0.8848 - val_loss: 0.1946 - val_binary_accuracy: 0.6083 - val_auc: 0.7289 - val_precision: 0.5512 - val_recall: 0.8943 - lr: 1.0000e-04 - 6s/epoch - 4ms/step\n",
      "Epoch 45/200\n",
      "1513/1513 - 6s - loss: 0.3479 - binary_accuracy: 0.5982 - auc: 0.7201 - precision: 0.5497 - recall: 0.8879 - val_loss: 0.1919 - val_binary_accuracy: 0.5783 - val_auc: 0.7328 - val_precision: 0.5298 - val_recall: 0.9077 - lr: 1.0000e-04 - 6s/epoch - 4ms/step\n",
      "Epoch 46/200\n",
      "1513/1513 - 6s - loss: 0.3465 - binary_accuracy: 0.5948 - auc: 0.7212 - precision: 0.5472 - recall: 0.8906 - val_loss: 0.1940 - val_binary_accuracy: 0.5837 - val_auc: 0.7383 - val_precision: 0.5338 - val_recall: 0.8978 - lr: 1.0000e-04 - 6s/epoch - 4ms/step\n",
      "Epoch 47/200\n",
      "1513/1513 - 6s - loss: 0.3428 - binary_accuracy: 0.5993 - auc: 0.7265 - precision: 0.5505 - recall: 0.8891 - val_loss: 0.1946 - val_binary_accuracy: 0.5723 - val_auc: 0.7236 - val_precision: 0.5262 - val_recall: 0.8985 - lr: 1.0000e-04 - 6s/epoch - 4ms/step\n",
      "Epoch 48/200\n",
      "1513/1513 - 6s - loss: 0.3378 - binary_accuracy: 0.5929 - auc: 0.7157 - precision: 0.5458 - recall: 0.8929 - val_loss: 0.1961 - val_binary_accuracy: 0.6000 - val_auc: 0.7317 - val_precision: 0.5456 - val_recall: 0.8872 - lr: 1.0000e-04 - 6s/epoch - 4ms/step\n",
      "Epoch 49/200\n",
      "1513/1513 - 7s - loss: 0.3292 - binary_accuracy: 0.5902 - auc: 0.7172 - precision: 0.5438 - recall: 0.8946 - val_loss: 0.1814 - val_binary_accuracy: 0.5683 - val_auc: 0.7263 - val_precision: 0.5232 - val_recall: 0.9120 - lr: 1.0000e-04 - 7s/epoch - 4ms/step\n",
      "Epoch 50/200\n",
      "1513/1513 - 6s - loss: 0.3241 - binary_accuracy: 0.5870 - auc: 0.7252 - precision: 0.5414 - recall: 0.8983 - val_loss: 0.1790 - val_binary_accuracy: 0.5573 - val_auc: 0.7377 - val_precision: 0.5162 - val_recall: 0.9177 - lr: 1.0000e-04 - 6s/epoch - 4ms/step\n",
      "Epoch 51/200\n",
      "1513/1513 - 6s - loss: 0.3288 - binary_accuracy: 0.5860 - auc: 0.7268 - precision: 0.5408 - recall: 0.8980 - val_loss: 0.2142 - val_binary_accuracy: 0.5863 - val_auc: 0.7522 - val_precision: 0.5361 - val_recall: 0.8843 - lr: 1.0000e-04 - 6s/epoch - 4ms/step\n",
      "Epoch 52/200\n",
      "1513/1513 - 6s - loss: 0.3209 - binary_accuracy: 0.5843 - auc: 0.7267 - precision: 0.5394 - recall: 0.9017 - val_loss: 0.1753 - val_binary_accuracy: 0.5553 - val_auc: 0.7426 - val_precision: 0.5149 - val_recall: 0.9198 - lr: 1.0000e-04 - 6s/epoch - 4ms/step\n",
      "Epoch 53/200\n",
      "1513/1513 - 6s - loss: 0.3195 - binary_accuracy: 0.5820 - auc: 0.7274 - precision: 0.5376 - recall: 0.9064 - val_loss: 0.1848 - val_binary_accuracy: 0.5763 - val_auc: 0.7535 - val_precision: 0.5289 - val_recall: 0.8950 - lr: 1.0000e-04 - 6s/epoch - 4ms/step\n",
      "Epoch 54/200\n",
      "1513/1513 - 6s - loss: 0.3111 - binary_accuracy: 0.5792 - auc: 0.7362 - precision: 0.5356 - recall: 0.9111 - val_loss: 0.1861 - val_binary_accuracy: 0.5883 - val_auc: 0.7319 - val_precision: 0.5364 - val_recall: 0.9099 - lr: 1.0000e-04 - 6s/epoch - 4ms/step\n",
      "Epoch 55/200\n",
      "1513/1513 - 6s - loss: 0.3117 - binary_accuracy: 0.5839 - auc: 0.7257 - precision: 0.5389 - recall: 0.9063 - val_loss: 0.1857 - val_binary_accuracy: 0.5777 - val_auc: 0.7547 - val_precision: 0.5297 - val_recall: 0.8992 - lr: 1.0000e-04 - 6s/epoch - 4ms/step\n",
      "Epoch 56/200\n",
      "1513/1513 - 7s - loss: 0.4190 - binary_accuracy: 0.5817 - auc: 0.7251 - precision: 0.5372 - recall: 0.9111 - val_loss: 0.2228 - val_binary_accuracy: 0.5800 - val_auc: 0.7177 - val_precision: 0.5312 - val_recall: 0.9006 - lr: 1.0000e-04 - 7s/epoch - 4ms/step\n",
      "Epoch 57/200\n",
      "1513/1513 - 6s - loss: 0.2906 - binary_accuracy: 0.5813 - auc: 0.7296 - precision: 0.5368 - recall: 0.9160 - val_loss: 0.2013 - val_binary_accuracy: 0.5860 - val_auc: 0.7343 - val_precision: 0.5360 - val_recall: 0.8822 - lr: 1.0000e-04 - 6s/epoch - 4ms/step\n",
      "Epoch 58/200\n",
      "1513/1513 - 6s - loss: 0.3077 - binary_accuracy: 0.5804 - auc: 0.7210 - precision: 0.5362 - recall: 0.9142 - val_loss: 0.2109 - val_binary_accuracy: 0.5660 - val_auc: 0.7140 - val_precision: 0.5218 - val_recall: 0.9099 - lr: 1.0000e-04 - 6s/epoch - 4ms/step\n",
      "Epoch 59/200\n",
      "1513/1513 - 6s - loss: 0.2764 - binary_accuracy: 0.5771 - auc: 0.7273 - precision: 0.5340 - recall: 0.9178 - val_loss: 0.1783 - val_binary_accuracy: 0.5670 - val_auc: 0.7223 - val_precision: 0.5222 - val_recall: 0.9170 - lr: 1.0000e-04 - 6s/epoch - 4ms/step\n",
      "Epoch 60/200\n",
      "1513/1513 - 7s - loss: 0.2613 - binary_accuracy: 0.5764 - auc: 0.7329 - precision: 0.5335 - recall: 0.9175 - val_loss: 0.1756 - val_binary_accuracy: 0.5660 - val_auc: 0.7349 - val_precision: 0.5215 - val_recall: 0.9219 - lr: 1.0000e-04 - 7s/epoch - 4ms/step\n",
      "Epoch 61/200\n",
      "1513/1513 - 5s - loss: 0.2961 - binary_accuracy: 0.5759 - auc: 0.7273 - precision: 0.5330 - recall: 0.9219 - val_loss: 0.2015 - val_binary_accuracy: 0.5913 - val_auc: 0.7541 - val_precision: 0.5395 - val_recall: 0.8864 - lr: 1.0000e-04 - 5s/epoch - 4ms/step\n",
      "Epoch 62/200\n",
      "\n",
      "Epoch 00062: ReduceLROnPlateau reducing learning rate to 1.0000000474974514e-05.\n",
      "1513/1513 - 5s - loss: 0.2588 - binary_accuracy: 0.5775 - auc: 0.7357 - precision: 0.5341 - recall: 0.9195 - val_loss: 0.1842 - val_binary_accuracy: 0.5770 - val_auc: 0.7430 - val_precision: 0.5291 - val_recall: 0.9028 - lr: 1.0000e-04 - 5s/epoch - 4ms/step\n"
     ]
    },
    {
     "name": "stdout",
     "output_type": "stream",
     "text": [
      "Epoch 63/200\n",
      "1513/1513 - 7s - loss: 0.2441 - binary_accuracy: 0.5792 - auc: 0.7380 - precision: 0.5350 - recall: 0.9254 - val_loss: 0.1686 - val_binary_accuracy: 0.5617 - val_auc: 0.7375 - val_precision: 0.5186 - val_recall: 0.9283 - lr: 1.0000e-05 - 7s/epoch - 4ms/step\n",
      "Epoch 64/200\n",
      "1513/1513 - 6s - loss: 0.2426 - binary_accuracy: 0.5755 - auc: 0.7405 - precision: 0.5325 - recall: 0.9288 - val_loss: 0.1724 - val_binary_accuracy: 0.5673 - val_auc: 0.7389 - val_precision: 0.5223 - val_recall: 0.9219 - lr: 1.0000e-05 - 6s/epoch - 4ms/step\n",
      "Epoch 65/200\n",
      "1513/1513 - 6s - loss: 0.2410 - binary_accuracy: 0.5769 - auc: 0.7416 - precision: 0.5334 - recall: 0.9280 - val_loss: 0.1687 - val_binary_accuracy: 0.5613 - val_auc: 0.7302 - val_precision: 0.5184 - val_recall: 0.9290 - lr: 1.0000e-05 - 6s/epoch - 4ms/step\n",
      "Epoch 66/200\n",
      "1513/1513 - 6s - loss: 0.2404 - binary_accuracy: 0.5753 - auc: 0.7403 - precision: 0.5323 - recall: 0.9292 - val_loss: 0.1721 - val_binary_accuracy: 0.5657 - val_auc: 0.7386 - val_precision: 0.5212 - val_recall: 0.9248 - lr: 1.0000e-05 - 6s/epoch - 4ms/step\n",
      "Epoch 67/200\n",
      "1513/1513 - 6s - loss: 0.2394 - binary_accuracy: 0.5757 - auc: 0.7430 - precision: 0.5325 - recall: 0.9299 - val_loss: 0.1723 - val_binary_accuracy: 0.5670 - val_auc: 0.7334 - val_precision: 0.5221 - val_recall: 0.9233 - lr: 1.0000e-05 - 6s/epoch - 4ms/step\n",
      "Epoch 68/200\n",
      "1513/1513 - 6s - loss: 0.2388 - binary_accuracy: 0.5758 - auc: 0.7437 - precision: 0.5327 - recall: 0.9294 - val_loss: 0.1714 - val_binary_accuracy: 0.5640 - val_auc: 0.7409 - val_precision: 0.5201 - val_recall: 0.9255 - lr: 1.0000e-05 - 6s/epoch - 4ms/step\n",
      "Epoch 69/200\n",
      "1513/1513 - 6s - loss: 0.2379 - binary_accuracy: 0.5755 - auc: 0.7423 - precision: 0.5325 - recall: 0.9300 - val_loss: 0.1676 - val_binary_accuracy: 0.5590 - val_auc: 0.7365 - val_precision: 0.5170 - val_recall: 0.9304 - lr: 1.0000e-05 - 6s/epoch - 4ms/step\n",
      "Epoch 70/200\n",
      "1513/1513 - 5s - loss: 0.2374 - binary_accuracy: 0.5755 - auc: 0.7433 - precision: 0.5324 - recall: 0.9308 - val_loss: 0.1711 - val_binary_accuracy: 0.5640 - val_auc: 0.7392 - val_precision: 0.5201 - val_recall: 0.9269 - lr: 1.0000e-05 - 5s/epoch - 4ms/step\n",
      "Epoch 71/200\n",
      "1513/1513 - 6s - loss: 0.2368 - binary_accuracy: 0.5760 - auc: 0.7446 - precision: 0.5328 - recall: 0.9300 - val_loss: 0.1701 - val_binary_accuracy: 0.5667 - val_auc: 0.7426 - val_precision: 0.5217 - val_recall: 0.9297 - lr: 1.0000e-05 - 6s/epoch - 4ms/step\n",
      "Epoch 72/200\n",
      "1513/1513 - 6s - loss: 0.2365 - binary_accuracy: 0.5760 - auc: 0.7440 - precision: 0.5327 - recall: 0.9311 - val_loss: 0.1670 - val_binary_accuracy: 0.5610 - val_auc: 0.7346 - val_precision: 0.5181 - val_recall: 0.9340 - lr: 1.0000e-05 - 6s/epoch - 4ms/step\n",
      "Epoch 73/200\n",
      "1513/1513 - 6s - loss: 0.2359 - binary_accuracy: 0.5750 - auc: 0.7438 - precision: 0.5321 - recall: 0.9321 - val_loss: 0.1710 - val_binary_accuracy: 0.5630 - val_auc: 0.7341 - val_precision: 0.5194 - val_recall: 0.9290 - lr: 1.0000e-05 - 6s/epoch - 4ms/step\n",
      "Epoch 74/200\n",
      "1513/1513 - 6s - loss: 0.2354 - binary_accuracy: 0.5755 - auc: 0.7460 - precision: 0.5323 - recall: 0.9323 - val_loss: 0.1729 - val_binary_accuracy: 0.5650 - val_auc: 0.7420 - val_precision: 0.5208 - val_recall: 0.9241 - lr: 1.0000e-05 - 6s/epoch - 4ms/step\n",
      "Epoch 75/200\n",
      "1513/1513 - 6s - loss: 0.2347 - binary_accuracy: 0.5744 - auc: 0.7444 - precision: 0.5316 - recall: 0.9324 - val_loss: 0.1739 - val_binary_accuracy: 0.5703 - val_auc: 0.7456 - val_precision: 0.5241 - val_recall: 0.9248 - lr: 1.0000e-05 - 6s/epoch - 4ms/step\n",
      "Epoch 76/200\n",
      "1513/1513 - 5s - loss: 0.2345 - binary_accuracy: 0.5753 - auc: 0.7467 - precision: 0.5322 - recall: 0.9326 - val_loss: 0.1732 - val_binary_accuracy: 0.5673 - val_auc: 0.7451 - val_precision: 0.5222 - val_recall: 0.9255 - lr: 1.0000e-05 - 5s/epoch - 4ms/step\n",
      "Epoch 77/200\n",
      "1513/1513 - 7s - loss: 0.2340 - binary_accuracy: 0.5757 - auc: 0.7471 - precision: 0.5324 - recall: 0.9335 - val_loss: 0.1742 - val_binary_accuracy: 0.5670 - val_auc: 0.7387 - val_precision: 0.5221 - val_recall: 0.9212 - lr: 1.0000e-05 - 7s/epoch - 4ms/step\n",
      "Epoch 78/200\n",
      "1513/1513 - 6s - loss: 0.2339 - binary_accuracy: 0.5752 - auc: 0.7485 - precision: 0.5322 - recall: 0.9314 - val_loss: 0.1746 - val_binary_accuracy: 0.5650 - val_auc: 0.7466 - val_precision: 0.5208 - val_recall: 0.9262 - lr: 1.0000e-05 - 6s/epoch - 4ms/step\n",
      "Epoch 79/200\n",
      "1513/1513 - 7s - loss: 0.2330 - binary_accuracy: 0.5742 - auc: 0.7478 - precision: 0.5315 - recall: 0.9330 - val_loss: 0.1733 - val_binary_accuracy: 0.5643 - val_auc: 0.7452 - val_precision: 0.5203 - val_recall: 0.9269 - lr: 1.0000e-05 - 7s/epoch - 4ms/step\n",
      "Epoch 80/200\n",
      "1513/1513 - 7s - loss: 0.2328 - binary_accuracy: 0.5745 - auc: 0.7473 - precision: 0.5317 - recall: 0.9328 - val_loss: 0.1737 - val_binary_accuracy: 0.5610 - val_auc: 0.7389 - val_precision: 0.5183 - val_recall: 0.9262 - lr: 1.0000e-05 - 7s/epoch - 4ms/step\n",
      "Epoch 81/200\n",
      "1513/1513 - 5s - loss: 0.2323 - binary_accuracy: 0.5733 - auc: 0.7456 - precision: 0.5310 - recall: 0.9326 - val_loss: 0.1711 - val_binary_accuracy: 0.5670 - val_auc: 0.7524 - val_precision: 0.5219 - val_recall: 0.9290 - lr: 1.0000e-05 - 5s/epoch - 4ms/step\n",
      "Epoch 82/200\n",
      "\n",
      "Epoch 00082: ReduceLROnPlateau reducing learning rate to 1.0000000656873453e-06.\n",
      "1513/1513 - 6s - loss: 0.2324 - binary_accuracy: 0.5753 - auc: 0.7493 - precision: 0.5322 - recall: 0.9341 - val_loss: 0.1759 - val_binary_accuracy: 0.5637 - val_auc: 0.7443 - val_precision: 0.5200 - val_recall: 0.9248 - lr: 1.0000e-05 - 6s/epoch - 4ms/step\n",
      "Epoch 83/200\n",
      "1513/1513 - 6s - loss: 0.2303 - binary_accuracy: 0.5748 - auc: 0.7490 - precision: 0.5319 - recall: 0.9335 - val_loss: 0.1752 - val_binary_accuracy: 0.5627 - val_auc: 0.7417 - val_precision: 0.5193 - val_recall: 0.9283 - lr: 1.0000e-06 - 6s/epoch - 4ms/step\n",
      "Epoch 84/200\n",
      "1513/1513 - 6s - loss: 0.2301 - binary_accuracy: 0.5747 - auc: 0.7481 - precision: 0.5318 - recall: 0.9339 - val_loss: 0.1752 - val_binary_accuracy: 0.5617 - val_auc: 0.7411 - val_precision: 0.5186 - val_recall: 0.9283 - lr: 1.0000e-06 - 6s/epoch - 4ms/step\n",
      "Epoch 85/200\n",
      "1513/1513 - 6s - loss: 0.2300 - binary_accuracy: 0.5741 - auc: 0.7476 - precision: 0.5314 - recall: 0.9346 - val_loss: 0.1751 - val_binary_accuracy: 0.5613 - val_auc: 0.7407 - val_precision: 0.5184 - val_recall: 0.9283 - lr: 1.0000e-06 - 6s/epoch - 4ms/step\n",
      "Epoch 86/200\n",
      "1513/1513 - 6s - loss: 0.2299 - binary_accuracy: 0.5742 - auc: 0.7482 - precision: 0.5314 - recall: 0.9351 - val_loss: 0.1752 - val_binary_accuracy: 0.5617 - val_auc: 0.7415 - val_precision: 0.5186 - val_recall: 0.9283 - lr: 1.0000e-06 - 6s/epoch - 4ms/step\n",
      "Epoch 87/200\n",
      "1513/1513 - 6s - loss: 0.2299 - binary_accuracy: 0.5741 - auc: 0.7486 - precision: 0.5314 - recall: 0.9349 - val_loss: 0.1754 - val_binary_accuracy: 0.5623 - val_auc: 0.7417 - val_precision: 0.5190 - val_recall: 0.9283 - lr: 1.0000e-06 - 6s/epoch - 4ms/step\n",
      "Epoch 88/200\n",
      "1513/1513 - 6s - loss: 0.2298 - binary_accuracy: 0.5743 - auc: 0.7484 - precision: 0.5315 - recall: 0.9348 - val_loss: 0.1754 - val_binary_accuracy: 0.5620 - val_auc: 0.7416 - val_precision: 0.5188 - val_recall: 0.9283 - lr: 1.0000e-06 - 6s/epoch - 4ms/step\n",
      "Epoch 89/200\n",
      "1513/1513 - 6s - loss: 0.2297 - binary_accuracy: 0.5742 - auc: 0.7488 - precision: 0.5314 - recall: 0.9349 - val_loss: 0.1756 - val_binary_accuracy: 0.5617 - val_auc: 0.7416 - val_precision: 0.5186 - val_recall: 0.9283 - lr: 1.0000e-06 - 6s/epoch - 4ms/step\n",
      "Epoch 90/200\n",
      "1513/1513 - 6s - loss: 0.2297 - binary_accuracy: 0.5741 - auc: 0.7490 - precision: 0.5313 - recall: 0.9354 - val_loss: 0.1757 - val_binary_accuracy: 0.5623 - val_auc: 0.7417 - val_precision: 0.5191 - val_recall: 0.9269 - lr: 1.0000e-06 - 6s/epoch - 4ms/step\n",
      "Epoch 91/200\n",
      "1513/1513 - 6s - loss: 0.2296 - binary_accuracy: 0.5745 - auc: 0.7485 - precision: 0.5316 - recall: 0.9344 - val_loss: 0.1755 - val_binary_accuracy: 0.5617 - val_auc: 0.7417 - val_precision: 0.5187 - val_recall: 0.9276 - lr: 1.0000e-06 - 6s/epoch - 4ms/step\n",
      "Epoch 92/200\n",
      "\n",
      "Epoch 00092: ReduceLROnPlateau reducing learning rate to 1.0000001111620805e-07.\n",
      "1513/1513 - 7s - loss: 0.2296 - binary_accuracy: 0.5744 - auc: 0.7491 - precision: 0.5316 - recall: 0.9346 - val_loss: 0.1748 - val_binary_accuracy: 0.5613 - val_auc: 0.7421 - val_precision: 0.5184 - val_recall: 0.9283 - lr: 1.0000e-06 - 7s/epoch - 4ms/step\n"
     ]
    },
    {
     "name": "stdout",
     "output_type": "stream",
     "text": [
      "Epoch 93/200\n",
      "1513/1513 - 7s - loss: 0.2294 - binary_accuracy: 0.5741 - auc: 0.7493 - precision: 0.5314 - recall: 0.9350 - val_loss: 0.1749 - val_binary_accuracy: 0.5613 - val_auc: 0.7420 - val_precision: 0.5184 - val_recall: 0.9283 - lr: 1.0000e-07 - 7s/epoch - 4ms/step\n",
      "Epoch 94/200\n",
      "1513/1513 - 6s - loss: 0.2294 - binary_accuracy: 0.5742 - auc: 0.7493 - precision: 0.5315 - recall: 0.9350 - val_loss: 0.1749 - val_binary_accuracy: 0.5613 - val_auc: 0.7420 - val_precision: 0.5184 - val_recall: 0.9283 - lr: 1.0000e-07 - 6s/epoch - 4ms/step\n",
      "Epoch 95/200\n",
      "1513/1513 - 6s - loss: 0.2294 - binary_accuracy: 0.5742 - auc: 0.7491 - precision: 0.5314 - recall: 0.9349 - val_loss: 0.1750 - val_binary_accuracy: 0.5613 - val_auc: 0.7419 - val_precision: 0.5184 - val_recall: 0.9283 - lr: 1.0000e-07 - 6s/epoch - 4ms/step\n",
      "Epoch 96/200\n",
      "1513/1513 - 6s - loss: 0.2293 - binary_accuracy: 0.5743 - auc: 0.7490 - precision: 0.5315 - recall: 0.9348 - val_loss: 0.1751 - val_binary_accuracy: 0.5613 - val_auc: 0.7419 - val_precision: 0.5184 - val_recall: 0.9283 - lr: 1.0000e-07 - 6s/epoch - 4ms/step\n",
      "Epoch 97/200\n",
      "1513/1513 - 6s - loss: 0.2293 - binary_accuracy: 0.5742 - auc: 0.7489 - precision: 0.5314 - recall: 0.9350 - val_loss: 0.1751 - val_binary_accuracy: 0.5613 - val_auc: 0.7417 - val_precision: 0.5184 - val_recall: 0.9283 - lr: 1.0000e-07 - 6s/epoch - 4ms/step\n",
      "Epoch 98/200\n",
      "1513/1513 - 6s - loss: 0.2293 - binary_accuracy: 0.5742 - auc: 0.7488 - precision: 0.5314 - recall: 0.9350 - val_loss: 0.1751 - val_binary_accuracy: 0.5613 - val_auc: 0.7417 - val_precision: 0.5184 - val_recall: 0.9283 - lr: 1.0000e-07 - 6s/epoch - 4ms/step\n",
      "Epoch 99/200\n",
      "1513/1513 - 6s - loss: 0.2293 - binary_accuracy: 0.5741 - auc: 0.7488 - precision: 0.5314 - recall: 0.9350 - val_loss: 0.1752 - val_binary_accuracy: 0.5613 - val_auc: 0.7417 - val_precision: 0.5184 - val_recall: 0.9283 - lr: 1.0000e-07 - 6s/epoch - 4ms/step\n",
      "Epoch 100/200\n",
      "1513/1513 - 6s - loss: 0.2293 - binary_accuracy: 0.5742 - auc: 0.7488 - precision: 0.5314 - recall: 0.9350 - val_loss: 0.1752 - val_binary_accuracy: 0.5613 - val_auc: 0.7416 - val_precision: 0.5184 - val_recall: 0.9283 - lr: 1.0000e-07 - 6s/epoch - 4ms/step\n",
      "Epoch 101/200\n",
      "1513/1513 - 6s - loss: 0.2293 - binary_accuracy: 0.5742 - auc: 0.7487 - precision: 0.5315 - recall: 0.9349 - val_loss: 0.1752 - val_binary_accuracy: 0.5610 - val_auc: 0.7416 - val_precision: 0.5182 - val_recall: 0.9283 - lr: 1.0000e-07 - 6s/epoch - 4ms/step\n",
      "Epoch 102/200\n",
      "\n",
      "Epoch 00102: ReduceLROnPlateau reducing learning rate to 1.000000082740371e-08.\n",
      "1513/1513 - 6s - loss: 0.2293 - binary_accuracy: 0.5742 - auc: 0.7487 - precision: 0.5314 - recall: 0.9350 - val_loss: 0.1752 - val_binary_accuracy: 0.5610 - val_auc: 0.7416 - val_precision: 0.5182 - val_recall: 0.9283 - lr: 1.0000e-07 - 6s/epoch - 4ms/step\n",
      "Epoch 103/200\n",
      "1513/1513 - 6s - loss: 0.2293 - binary_accuracy: 0.5742 - auc: 0.7487 - precision: 0.5314 - recall: 0.9350 - val_loss: 0.1752 - val_binary_accuracy: 0.5613 - val_auc: 0.7416 - val_precision: 0.5184 - val_recall: 0.9283 - lr: 1.0000e-08 - 6s/epoch - 4ms/step\n",
      "Epoch 104/200\n",
      "1513/1513 - 6s - loss: 0.2293 - binary_accuracy: 0.5742 - auc: 0.7487 - precision: 0.5314 - recall: 0.9350 - val_loss: 0.1753 - val_binary_accuracy: 0.5613 - val_auc: 0.7416 - val_precision: 0.5184 - val_recall: 0.9283 - lr: 1.0000e-08 - 6s/epoch - 4ms/step\n",
      "Epoch 105/200\n",
      "1513/1513 - 6s - loss: 0.2293 - binary_accuracy: 0.5742 - auc: 0.7487 - precision: 0.5314 - recall: 0.9349 - val_loss: 0.1753 - val_binary_accuracy: 0.5613 - val_auc: 0.7416 - val_precision: 0.5184 - val_recall: 0.9283 - lr: 1.0000e-08 - 6s/epoch - 4ms/step\n",
      "Epoch 106/200\n",
      "1513/1513 - 6s - loss: 0.2293 - binary_accuracy: 0.5742 - auc: 0.7487 - precision: 0.5315 - recall: 0.9349 - val_loss: 0.1753 - val_binary_accuracy: 0.5617 - val_auc: 0.7417 - val_precision: 0.5186 - val_recall: 0.9283 - lr: 1.0000e-08 - 6s/epoch - 4ms/step\n",
      "Epoch 107/200\n",
      "1513/1513 - 6s - loss: 0.2293 - binary_accuracy: 0.5742 - auc: 0.7488 - precision: 0.5315 - recall: 0.9348 - val_loss: 0.1753 - val_binary_accuracy: 0.5617 - val_auc: 0.7417 - val_precision: 0.5186 - val_recall: 0.9283 - lr: 1.0000e-08 - 6s/epoch - 4ms/step\n",
      "Epoch 108/200\n",
      "1513/1513 - 6s - loss: 0.2293 - binary_accuracy: 0.5743 - auc: 0.7488 - precision: 0.5315 - recall: 0.9348 - val_loss: 0.1753 - val_binary_accuracy: 0.5617 - val_auc: 0.7417 - val_precision: 0.5186 - val_recall: 0.9283 - lr: 1.0000e-08 - 6s/epoch - 4ms/step\n",
      "Epoch 109/200\n",
      "1513/1513 - 7s - loss: 0.2293 - binary_accuracy: 0.5743 - auc: 0.7488 - precision: 0.5315 - recall: 0.9348 - val_loss: 0.1753 - val_binary_accuracy: 0.5617 - val_auc: 0.7418 - val_precision: 0.5186 - val_recall: 0.9283 - lr: 1.0000e-08 - 7s/epoch - 4ms/step\n",
      "Epoch 110/200\n",
      "1513/1513 - 6s - loss: 0.2293 - binary_accuracy: 0.5743 - auc: 0.7488 - precision: 0.5315 - recall: 0.9348 - val_loss: 0.1753 - val_binary_accuracy: 0.5617 - val_auc: 0.7417 - val_precision: 0.5186 - val_recall: 0.9283 - lr: 1.0000e-08 - 6s/epoch - 4ms/step\n",
      "Epoch 111/200\n",
      "1513/1513 - 6s - loss: 0.2293 - binary_accuracy: 0.5743 - auc: 0.7488 - precision: 0.5315 - recall: 0.9347 - val_loss: 0.1753 - val_binary_accuracy: 0.5617 - val_auc: 0.7417 - val_precision: 0.5186 - val_recall: 0.9283 - lr: 1.0000e-08 - 6s/epoch - 4ms/step\n",
      "Epoch 112/200\n",
      "\n",
      "Epoch 00112: ReduceLROnPlateau reducing learning rate to 1.000000082740371e-09.\n",
      "1513/1513 - 6s - loss: 0.2293 - binary_accuracy: 0.5744 - auc: 0.7488 - precision: 0.5316 - recall: 0.9347 - val_loss: 0.1753 - val_binary_accuracy: 0.5620 - val_auc: 0.7417 - val_precision: 0.5188 - val_recall: 0.9283 - lr: 1.0000e-08 - 6s/epoch - 4ms/step\n",
      "Epoch 113/200\n",
      "1513/1513 - 6s - loss: 0.2293 - binary_accuracy: 0.5744 - auc: 0.7488 - precision: 0.5316 - recall: 0.9347 - val_loss: 0.1753 - val_binary_accuracy: 0.5620 - val_auc: 0.7417 - val_precision: 0.5188 - val_recall: 0.9283 - lr: 1.0000e-09 - 6s/epoch - 4ms/step\n",
      "Epoch 114/200\n",
      "1513/1513 - 6s - loss: 0.2293 - binary_accuracy: 0.5744 - auc: 0.7488 - precision: 0.5316 - recall: 0.9347 - val_loss: 0.1753 - val_binary_accuracy: 0.5620 - val_auc: 0.7417 - val_precision: 0.5188 - val_recall: 0.9283 - lr: 1.0000e-09 - 6s/epoch - 4ms/step\n",
      "Epoch 115/200\n",
      "1513/1513 - 6s - loss: 0.2293 - binary_accuracy: 0.5744 - auc: 0.7488 - precision: 0.5316 - recall: 0.9346 - val_loss: 0.1753 - val_binary_accuracy: 0.5620 - val_auc: 0.7417 - val_precision: 0.5188 - val_recall: 0.9283 - lr: 1.0000e-09 - 6s/epoch - 4ms/step\n",
      "Epoch 116/200\n",
      "1513/1513 - 6s - loss: 0.2293 - binary_accuracy: 0.5744 - auc: 0.7488 - precision: 0.5316 - recall: 0.9346 - val_loss: 0.1753 - val_binary_accuracy: 0.5620 - val_auc: 0.7417 - val_precision: 0.5188 - val_recall: 0.9283 - lr: 1.0000e-09 - 6s/epoch - 4ms/step\n",
      "Epoch 117/200\n",
      "1513/1513 - 7s - loss: 0.2293 - binary_accuracy: 0.5744 - auc: 0.7488 - precision: 0.5316 - recall: 0.9346 - val_loss: 0.1753 - val_binary_accuracy: 0.5620 - val_auc: 0.7417 - val_precision: 0.5188 - val_recall: 0.9283 - lr: 1.0000e-09 - 7s/epoch - 4ms/step\n",
      "Epoch 118/200\n",
      "1513/1513 - 6s - loss: 0.2293 - binary_accuracy: 0.5744 - auc: 0.7488 - precision: 0.5316 - recall: 0.9346 - val_loss: 0.1753 - val_binary_accuracy: 0.5620 - val_auc: 0.7417 - val_precision: 0.5188 - val_recall: 0.9283 - lr: 1.0000e-09 - 6s/epoch - 4ms/step\n",
      "Epoch 119/200\n",
      "1513/1513 - 6s - loss: 0.2293 - binary_accuracy: 0.5744 - auc: 0.7488 - precision: 0.5316 - recall: 0.9346 - val_loss: 0.1754 - val_binary_accuracy: 0.5620 - val_auc: 0.7417 - val_precision: 0.5188 - val_recall: 0.9283 - lr: 1.0000e-09 - 6s/epoch - 4ms/step\n",
      "Epoch 120/200\n",
      "1513/1513 - 6s - loss: 0.2293 - binary_accuracy: 0.5744 - auc: 0.7488 - precision: 0.5316 - recall: 0.9346 - val_loss: 0.1754 - val_binary_accuracy: 0.5620 - val_auc: 0.7417 - val_precision: 0.5188 - val_recall: 0.9283 - lr: 1.0000e-09 - 6s/epoch - 4ms/step\n",
      "Epoch 121/200\n",
      "1513/1513 - 6s - loss: 0.2293 - binary_accuracy: 0.5744 - auc: 0.7488 - precision: 0.5316 - recall: 0.9346 - val_loss: 0.1754 - val_binary_accuracy: 0.5620 - val_auc: 0.7417 - val_precision: 0.5188 - val_recall: 0.9283 - lr: 1.0000e-09 - 6s/epoch - 4ms/step\n",
      "Epoch 122/200\n",
      "\n",
      "Epoch 00122: ReduceLROnPlateau reducing learning rate to 1.000000082740371e-10.\n",
      "1513/1513 - 6s - loss: 0.2293 - binary_accuracy: 0.5744 - auc: 0.7488 - precision: 0.5316 - recall: 0.9346 - val_loss: 0.1754 - val_binary_accuracy: 0.5620 - val_auc: 0.7417 - val_precision: 0.5188 - val_recall: 0.9283 - lr: 1.0000e-09 - 6s/epoch - 4ms/step\n"
     ]
    },
    {
     "name": "stdout",
     "output_type": "stream",
     "text": [
      "Epoch 00122: early stopping\n"
     ]
    }
   ],
   "source": [
    "history = model.fit(\n",
    "    X_train,\n",
    "    y_train,\n",
    "    verbose=2,\n",
    "    batch_size=parameters['batch_size'],\n",
    "    epochs=parameters['epochs'],\n",
    "    sample_weight=w_train,\n",
    "    # We pass some validation for\n",
    "    # monitoring validation loss and metrics\n",
    "    # at the end of each epoch\n",
    "    validation_data=(X_val, y_val,w_val),\n",
    "    callbacks = [early_stopping,reduce_plateau,loss_history],\n",
    ")\n"
   ]
  },
  {
   "cell_type": "code",
   "execution_count": 22,
   "id": "94334845",
   "metadata": {},
   "outputs": [
    {
     "name": "stdout",
     "output_type": "stream",
     "text": [
      "Curves saved as Loss_OGHYKYIJIY.png\n"
     ]
    },
    {
     "data": {
      "image/png": "[encoded data removed]",
      "text/plain": [
       "<Figure size 432x288 with 1 Axes>"
      ]
     },
     "metadata": {
      "needs_background": "light"
     },
     "output_type": "display_data"
    },
    {
     "data": {
      "image/png": "[encoded data removed]",
      "text/plain": [
       "<Figure size 864x864 with 17 Axes>"
      ]
     },
     "metadata": {
      "needs_background": "light"
     },
     "output_type": "display_data"
    }
   ],
   "source": [
    "from IPython import embed\n",
    "import matplotlib.pyplot as plt\n",
    "\n",
    "fig = plt.figure()\n",
    "plt.plot(history.history['loss'],color='m',label='Training loss')\n",
    "plt.plot(history.history['val_loss'],color='b',label='Validation loss')\n",
    "plt.xlabel('Epoch')\n",
    "plt.ylabel('Loss function')\n",
    "plt.legend(loc='upper right')\n",
    "fig.savefig('training_validation.pdf')\n",
    "\n",
    "PlotHistory(loss_history,params=parameters)\n",
    "# Params is a dict of parameters with name and values\n",
    "# used for plotting\n"
   ]
  },
  {
   "cell_type": "code",
   "execution_count": 23,
   "id": "1f10f696",
   "metadata": {},
   "outputs": [
    {
     "data": {
      "image/png": "[encoded data removed]",
      "text/plain": [
       "<Figure size 432x288 with 1 Axes>"
      ]
     },
     "metadata": {
      "needs_background": "light"
     },
     "output_type": "display_data"
    }
   ],
   "source": [
    "prediction = model.predict(X_test)\n",
    "from sklearn.metrics import roc_curve\n",
    "fpr_keras, tpr_keras, thresholds_keras = roc_curve(y_test, prediction,sample_weight=w_test)\n",
    "\n",
    "from sklearn.metrics import auc\n",
    "auc_keras = auc(fpr_keras, tpr_keras)\n",
    "\n",
    "from IPython import embed\n",
    "import matplotlib.pyplot as plt\n",
    "\n",
    "fig = plt.figure()\n",
    "plt.plot([0, 1], [0, 1], 'k--')\n",
    "plt.plot(fpr_keras, tpr_keras, label='Keras (area = {:.3f})'.format(auc_keras))\n",
    "#plt.plot(fpr_rf, tpr_rf, label='XGBoost (area = {:.3f})'.format(auc_rf))\n",
    "plt.xlabel('False positive rate')\n",
    "plt.ylabel('True positive rate')\n",
    "plt.title('ROC curve')\n",
    "plt.legend(loc='best')\n",
    "fig.savefig(\"ROC_curve.pdf\")\n",
    "plt.show()\n"
   ]
  },
  {
   "cell_type": "code",
   "execution_count": 24,
   "id": "38e8e583",
   "metadata": {},
   "outputs": [
    {
     "data": {
      "image/png": "[encoded data removed]",
      "text/plain": [
       "<Figure size 432x288 with 1 Axes>"
      ]
     },
     "metadata": {
      "needs_background": "light"
     },
     "output_type": "display_data"
    }
   ],
   "source": [
    "import matplotlib.pyplot as plt\n",
    "fig = plt.figure()\n",
    "plt.hist(prediction[y_test==0],histtype=(\"step\"),bins=100)\n",
    "plt.hist(prediction[y_test==1],histtype=(\"step\"),bins=100)\n",
    "plt.yscale('log') \n",
    "fig.savefig(\"prediction.pdf\", dpi = 300)"
   ]
  },
  {
   "cell_type": "code",
   "execution_count": null,
   "id": "86da4315",
   "metadata": {},
   "outputs": [],
   "source": [
    "# evaluate the model\n",
    "scores = model.evaluate(X_test, y_test, sample_weight=w_test, verbose=2)\n",
    "print(\"%s: %.2f%%\" % (model.metrics_names[1], scores[1]*100))"
   ]
  },
  {
   "cell_type": "code",
   "execution_count": null,
   "id": "051f1247",
   "metadata": {},
   "outputs": [],
   "source": [
    "# save model and architecture to single file\n",
    "model.save(\"model_dnn_threesignal\")\n",
    "print(\"Saved model to disk\")"
   ]
  },
  {
   "cell_type": "code",
   "execution_count": null,
   "id": "89de2650",
   "metadata": {},
   "outputs": [],
   "source": []
  }
 ],
 "metadata": {
  "kernelspec": {
   "display_name": "Python 3 (ipykernel)",
   "language": "python",
   "name": "python3"
  },
  "language_info": {
   "codemirror_mode": {
    "name": "ipython",
    "version": 3
   },
   "file_extension": ".py",
   "mimetype": "text/x-python",
   "name": "python",
   "nbconvert_exporter": "python",
   "pygments_lexer": "ipython3",
   "version": "3.8.10"
  }
 },
 "nbformat": 4,
 "nbformat_minor": 5
}
