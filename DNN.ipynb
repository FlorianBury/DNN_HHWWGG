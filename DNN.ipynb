{
 "cells": [
  {
   "cell_type": "code",
   "execution_count": 1,
   "id": "a0123230",
   "metadata": {},
   "outputs": [
    {
     "name": "stderr",
     "output_type": "stream",
     "text": [
      "2021-11-23 17:01:30.401178: W tensorflow/stream_executor/platform/default/dso_loader.cc:64] Could not load dynamic library 'libcudart.so.11.0'; dlerror: libcudart.so.11.0: cannot open shared object file: No such file or directory\n",
      "2021-11-23 17:01:30.401200: I tensorflow/stream_executor/cuda/cudart_stub.cc:29] Ignore above cudart dlerror if you do not have a GPU set up on your machine.\n"
     ]
    }
   ],
   "source": [
    "import pyarrow.parquet as pq\n",
    "from sklearn.model_selection import train_test_split\n",
    "import tensorflow as tf\n",
    "from tensorflow import keras\n",
    "from tensorflow.keras import layers"
   ]
  },
  {
   "cell_type": "code",
   "execution_count": 2,
   "id": "16348b5d",
   "metadata": {},
   "outputs": [],
   "source": [
    "skim = pq.read_table(\"Skim.parquet\")"
   ]
  },
  {
   "cell_type": "code",
   "execution_count": 3,
   "id": "f1106b59",
   "metadata": {},
   "outputs": [],
   "source": [
    "df = skim.to_pandas()"
   ]
  },
  {
   "cell_type": "code",
   "execution_count": 4,
   "id": "8c27db3b",
   "metadata": {},
   "outputs": [
    {
     "name": "stdout",
     "output_type": "stream",
     "text": [
      "          weight   Eta_ph1   Phi_ph1  E_mGG_ph1  pT_mGG_ph1   Eta_ph2  \\\n",
      "0       0.000025 -1.084328 -2.974333   1.170820    0.710539 -1.437929   \n",
      "1       0.000025  1.151401  2.699523   1.979170    1.137842  1.603054   \n",
      "2       0.000025  0.967856 -2.416084   1.669004    1.108166  0.739856   \n",
      "3       0.000025  0.786207  1.345999   1.321819    0.997364  1.138380   \n",
      "4       0.000025  0.928688 -1.035375   2.569062    1.755869  0.060377   \n",
      "...          ...       ...       ...        ...         ...       ...   \n",
      "35143  18.784267  0.840179  2.400271   0.883476    0.642898 -0.600093   \n",
      "35144  18.784267  0.053832  2.337113   0.497539    0.496819 -0.916470   \n",
      "35145 -18.784267 -0.356669 -2.433177   1.043352    0.980332  0.485482   \n",
      "35146  18.784267 -0.886677  2.579901   0.695736    0.490115  0.451536   \n",
      "35147  18.784267 -0.637846 -0.242948   0.772736    0.638406 -0.202392   \n",
      "\n",
      "        Phi_ph2  E_mGG_ph2  pT_mGG_ph2  Electron_E  ...     pT_jet1  Eta_jet1  \\\n",
      "0      1.772228   1.521367    0.683855    0.000000  ...   45.506969 -1.498560   \n",
      "1      1.725826   2.097534    0.811509  233.906647  ...   64.265007 -1.394348   \n",
      "2      2.725014   0.950876    0.739171    0.000000  ...   36.230801  0.130337   \n",
      "3      2.672149   1.051608    0.611037  132.109650  ...  105.993179  0.462802   \n",
      "4      0.110630   0.288411    0.287886  154.754089  ...  111.142471 -0.383013   \n",
      "...         ...        ...         ...         ...  ...         ...       ...   \n",
      "35143 -1.504753   0.312355    0.263474    0.000000  ...  119.488731 -1.456162   \n",
      "35144 -1.062198   0.589489    0.406492    0.000000  ...   54.967987  1.213467   \n",
      "35145  1.024297   0.245564    0.219218  159.119843  ...    0.000000  0.000000   \n",
      "35146 -0.773943   0.373470    0.338384  132.031891  ...    0.000000  0.000000   \n",
      "35147  1.528199   0.617059    0.604633    0.000000  ...   41.053059 -0.042986   \n",
      "\n",
      "       Phi_jet1      E_jet2    pT_jet2  Eta_jet2  Phi_jet2    InvM_jet  \\\n",
      "0     -0.943286    0.000000   0.000000  0.000000  0.000000    0.000000   \n",
      "1     -2.594233   44.835041  37.006805  0.610907 -1.165494  133.033234   \n",
      "2      0.932678   31.994902  30.639593  0.208677  0.275378   24.227276   \n",
      "3     -0.472748  281.854462  55.556519  2.307049 -1.748341  189.715744   \n",
      "4      1.736346   39.170322  32.952698  0.602253 -2.239052  127.666473   \n",
      "...         ...         ...        ...       ...       ...         ...   \n",
      "35143  0.083502  193.080276  75.588493  1.590222  2.559736  452.784210   \n",
      "35144  0.226983    0.000000   0.000000  0.000000  0.000000    0.000000   \n",
      "35145  0.000000    0.000000   0.000000  0.000000  0.000000    0.000000   \n",
      "35146  0.000000    0.000000   0.000000  0.000000  0.000000    0.000000   \n",
      "35147 -1.685917    0.000000   0.000000  0.000000  0.000000    0.000000   \n",
      "\n",
      "       InvM_jet2                                            process  \n",
      "0       0.000000  GluGluToHHTo2G2Qlnu_node_cHHH1_TuneCP5_14TeV-p...  \n",
      "1       0.000000  GluGluToHHTo2G2Qlnu_node_cHHH1_TuneCP5_14TeV-p...  \n",
      "2       0.000000  GluGluToHHTo2G2Qlnu_node_cHHH1_TuneCP5_14TeV-p...  \n",
      "3      58.964767  GluGluToHHTo2G2Qlnu_node_cHHH1_TuneCP5_14TeV-p...  \n",
      "4       0.000000  GluGluToHHTo2G2Qlnu_node_cHHH1_TuneCP5_14TeV-p...  \n",
      "...          ...                                                ...  \n",
      "35143   0.000000  ZGTo2LG_TuneCUETP8M1_14TeV-amcatnloFXFX-pythia...  \n",
      "35144   0.000000  ZGTo2LG_TuneCUETP8M1_14TeV-amcatnloFXFX-pythia...  \n",
      "35145   0.000000  ZGTo2LG_TuneCUETP8M1_14TeV-amcatnloFXFX-pythia...  \n",
      "35146   0.000000  ZGTo2LG_TuneCUETP8M1_14TeV-amcatnloFXFX-pythia...  \n",
      "35147   0.000000  ZGTo2LG_TuneCUETP8M1_14TeV-amcatnloFXFX-pythia...  \n",
      "\n",
      "[2371926 rows x 29 columns]\n"
     ]
    }
   ],
   "source": [
    "print(df)"
   ]
  },
  {
   "cell_type": "code",
   "execution_count": 5,
   "id": "9d30264b",
   "metadata": {},
   "outputs": [],
   "source": [
    "df[\"label\"] = 0"
   ]
  },
  {
   "cell_type": "code",
   "execution_count": 6,
   "id": "6ca5fa4e",
   "metadata": {},
   "outputs": [
    {
     "name": "stdout",
     "output_type": "stream",
     "text": [
      "          weight   Eta_ph1   Phi_ph1  E_mGG_ph1  pT_mGG_ph1   Eta_ph2  \\\n",
      "0       0.000025 -1.084328 -2.974333   1.170820    0.710539 -1.437929   \n",
      "1       0.000025  1.151401  2.699523   1.979170    1.137842  1.603054   \n",
      "2       0.000025  0.967856 -2.416084   1.669004    1.108166  0.739856   \n",
      "3       0.000025  0.786207  1.345999   1.321819    0.997364  1.138380   \n",
      "4       0.000025  0.928688 -1.035375   2.569062    1.755869  0.060377   \n",
      "...          ...       ...       ...        ...         ...       ...   \n",
      "35143  18.784267  0.840179  2.400271   0.883476    0.642898 -0.600093   \n",
      "35144  18.784267  0.053832  2.337113   0.497539    0.496819 -0.916470   \n",
      "35145 -18.784267 -0.356669 -2.433177   1.043352    0.980332  0.485482   \n",
      "35146  18.784267 -0.886677  2.579901   0.695736    0.490115  0.451536   \n",
      "35147  18.784267 -0.637846 -0.242948   0.772736    0.638406 -0.202392   \n",
      "\n",
      "        Phi_ph2  E_mGG_ph2  pT_mGG_ph2  Electron_E  ...  Eta_jet1  Phi_jet1  \\\n",
      "0      1.772228   1.521367    0.683855    0.000000  ... -1.498560 -0.943286   \n",
      "1      1.725826   2.097534    0.811509  233.906647  ... -1.394348 -2.594233   \n",
      "2      2.725014   0.950876    0.739171    0.000000  ...  0.130337  0.932678   \n",
      "3      2.672149   1.051608    0.611037  132.109650  ...  0.462802 -0.472748   \n",
      "4      0.110630   0.288411    0.287886  154.754089  ... -0.383013  1.736346   \n",
      "...         ...        ...         ...         ...  ...       ...       ...   \n",
      "35143 -1.504753   0.312355    0.263474    0.000000  ... -1.456162  0.083502   \n",
      "35144 -1.062198   0.589489    0.406492    0.000000  ...  1.213467  0.226983   \n",
      "35145  1.024297   0.245564    0.219218  159.119843  ...  0.000000  0.000000   \n",
      "35146 -0.773943   0.373470    0.338384  132.031891  ...  0.000000  0.000000   \n",
      "35147  1.528199   0.617059    0.604633    0.000000  ... -0.042986 -1.685917   \n",
      "\n",
      "           E_jet2    pT_jet2  Eta_jet2  Phi_jet2    InvM_jet  InvM_jet2  \\\n",
      "0        0.000000   0.000000  0.000000  0.000000    0.000000   0.000000   \n",
      "1       44.835041  37.006805  0.610907 -1.165494  133.033234   0.000000   \n",
      "2       31.994902  30.639593  0.208677  0.275378   24.227276   0.000000   \n",
      "3      281.854462  55.556519  2.307049 -1.748341  189.715744  58.964767   \n",
      "4       39.170322  32.952698  0.602253 -2.239052  127.666473   0.000000   \n",
      "...           ...        ...       ...       ...         ...        ...   \n",
      "35143  193.080276  75.588493  1.590222  2.559736  452.784210   0.000000   \n",
      "35144    0.000000   0.000000  0.000000  0.000000    0.000000   0.000000   \n",
      "35145    0.000000   0.000000  0.000000  0.000000    0.000000   0.000000   \n",
      "35146    0.000000   0.000000  0.000000  0.000000    0.000000   0.000000   \n",
      "35147    0.000000   0.000000  0.000000  0.000000    0.000000   0.000000   \n",
      "\n",
      "                                                 process  label  \n",
      "0      GluGluToHHTo2G2Qlnu_node_cHHH1_TuneCP5_14TeV-p...      0  \n",
      "1      GluGluToHHTo2G2Qlnu_node_cHHH1_TuneCP5_14TeV-p...      0  \n",
      "2      GluGluToHHTo2G2Qlnu_node_cHHH1_TuneCP5_14TeV-p...      0  \n",
      "3      GluGluToHHTo2G2Qlnu_node_cHHH1_TuneCP5_14TeV-p...      0  \n",
      "4      GluGluToHHTo2G2Qlnu_node_cHHH1_TuneCP5_14TeV-p...      0  \n",
      "...                                                  ...    ...  \n",
      "35143  ZGTo2LG_TuneCUETP8M1_14TeV-amcatnloFXFX-pythia...      0  \n",
      "35144  ZGTo2LG_TuneCUETP8M1_14TeV-amcatnloFXFX-pythia...      0  \n",
      "35145  ZGTo2LG_TuneCUETP8M1_14TeV-amcatnloFXFX-pythia...      0  \n",
      "35146  ZGTo2LG_TuneCUETP8M1_14TeV-amcatnloFXFX-pythia...      0  \n",
      "35147  ZGTo2LG_TuneCUETP8M1_14TeV-amcatnloFXFX-pythia...      0  \n",
      "\n",
      "[2371926 rows x 30 columns]\n"
     ]
    }
   ],
   "source": [
    "print(df)"
   ]
  },
  {
   "cell_type": "code",
   "execution_count": 7,
   "id": "57147667",
   "metadata": {},
   "outputs": [],
   "source": [
    "df.loc[df.process.str.contains(\"HHH\"), ['label']] = 1"
   ]
  },
  {
   "cell_type": "code",
   "execution_count": 8,
   "id": "12b641a7",
   "metadata": {},
   "outputs": [
    {
     "name": "stdout",
     "output_type": "stream",
     "text": [
      "          weight   Eta_ph1   Phi_ph1  E_mGG_ph1  pT_mGG_ph1   Eta_ph2  \\\n",
      "0       0.000025 -1.084328 -2.974333   1.170820    0.710539 -1.437929   \n",
      "1       0.000025  1.151401  2.699523   1.979170    1.137842  1.603054   \n",
      "2       0.000025  0.967856 -2.416084   1.669004    1.108166  0.739856   \n",
      "3       0.000025  0.786207  1.345999   1.321819    0.997364  1.138380   \n",
      "4       0.000025  0.928688 -1.035375   2.569062    1.755869  0.060377   \n",
      "...          ...       ...       ...        ...         ...       ...   \n",
      "35143  18.784267  0.840179  2.400271   0.883476    0.642898 -0.600093   \n",
      "35144  18.784267  0.053832  2.337113   0.497539    0.496819 -0.916470   \n",
      "35145 -18.784267 -0.356669 -2.433177   1.043352    0.980332  0.485482   \n",
      "35146  18.784267 -0.886677  2.579901   0.695736    0.490115  0.451536   \n",
      "35147  18.784267 -0.637846 -0.242948   0.772736    0.638406 -0.202392   \n",
      "\n",
      "        Phi_ph2  E_mGG_ph2  pT_mGG_ph2  Electron_E  ...  Eta_jet1  Phi_jet1  \\\n",
      "0      1.772228   1.521367    0.683855    0.000000  ... -1.498560 -0.943286   \n",
      "1      1.725826   2.097534    0.811509  233.906647  ... -1.394348 -2.594233   \n",
      "2      2.725014   0.950876    0.739171    0.000000  ...  0.130337  0.932678   \n",
      "3      2.672149   1.051608    0.611037  132.109650  ...  0.462802 -0.472748   \n",
      "4      0.110630   0.288411    0.287886  154.754089  ... -0.383013  1.736346   \n",
      "...         ...        ...         ...         ...  ...       ...       ...   \n",
      "35143 -1.504753   0.312355    0.263474    0.000000  ... -1.456162  0.083502   \n",
      "35144 -1.062198   0.589489    0.406492    0.000000  ...  1.213467  0.226983   \n",
      "35145  1.024297   0.245564    0.219218  159.119843  ...  0.000000  0.000000   \n",
      "35146 -0.773943   0.373470    0.338384  132.031891  ...  0.000000  0.000000   \n",
      "35147  1.528199   0.617059    0.604633    0.000000  ... -0.042986 -1.685917   \n",
      "\n",
      "           E_jet2    pT_jet2  Eta_jet2  Phi_jet2    InvM_jet  InvM_jet2  \\\n",
      "0        0.000000   0.000000  0.000000  0.000000    0.000000   0.000000   \n",
      "1       44.835041  37.006805  0.610907 -1.165494  133.033234   0.000000   \n",
      "2       31.994902  30.639593  0.208677  0.275378   24.227276   0.000000   \n",
      "3      281.854462  55.556519  2.307049 -1.748341  189.715744  58.964767   \n",
      "4       39.170322  32.952698  0.602253 -2.239052  127.666473   0.000000   \n",
      "...           ...        ...       ...       ...         ...        ...   \n",
      "35143  193.080276  75.588493  1.590222  2.559736  452.784210   0.000000   \n",
      "35144    0.000000   0.000000  0.000000  0.000000    0.000000   0.000000   \n",
      "35145    0.000000   0.000000  0.000000  0.000000    0.000000   0.000000   \n",
      "35146    0.000000   0.000000  0.000000  0.000000    0.000000   0.000000   \n",
      "35147    0.000000   0.000000  0.000000  0.000000    0.000000   0.000000   \n",
      "\n",
      "                                                 process  label  \n",
      "0      GluGluToHHTo2G2Qlnu_node_cHHH1_TuneCP5_14TeV-p...      1  \n",
      "1      GluGluToHHTo2G2Qlnu_node_cHHH1_TuneCP5_14TeV-p...      1  \n",
      "2      GluGluToHHTo2G2Qlnu_node_cHHH1_TuneCP5_14TeV-p...      1  \n",
      "3      GluGluToHHTo2G2Qlnu_node_cHHH1_TuneCP5_14TeV-p...      1  \n",
      "4      GluGluToHHTo2G2Qlnu_node_cHHH1_TuneCP5_14TeV-p...      1  \n",
      "...                                                  ...    ...  \n",
      "35143  ZGTo2LG_TuneCUETP8M1_14TeV-amcatnloFXFX-pythia...      0  \n",
      "35144  ZGTo2LG_TuneCUETP8M1_14TeV-amcatnloFXFX-pythia...      0  \n",
      "35145  ZGTo2LG_TuneCUETP8M1_14TeV-amcatnloFXFX-pythia...      0  \n",
      "35146  ZGTo2LG_TuneCUETP8M1_14TeV-amcatnloFXFX-pythia...      0  \n",
      "35147  ZGTo2LG_TuneCUETP8M1_14TeV-amcatnloFXFX-pythia...      0  \n",
      "\n",
      "[2371926 rows x 30 columns]\n"
     ]
    }
   ],
   "source": [
    "print(df)"
   ]
  },
  {
   "cell_type": "code",
   "execution_count": 9,
   "id": "ed4a97fe",
   "metadata": {},
   "outputs": [],
   "source": [
    "input_vars=[\"Eta_ph1\",\"Phi_ph1\",\"E_mGG_ph1\",\"pT_mGG_ph1\",\"Eta_ph2\",\"Phi_ph2\",\"E_mGG_ph2\",\"pT_mGG_ph2\",\"Electron_E\",\"Electron_pT\",\"Electron_Eta\",\"Electron_Phi\",\"Muon_E\",\"Muon_pT\",\"Muon_Eta\",\"Muon_Phi\",\"nJets\",\"E_jet1\",\"pT_jet1\",\"Eta_jet1\",\"Phi_jet1\",\"E_jet2\",\"pT_jet2\",\"Eta_jet2\",\"Phi_jet2\",\"InvM_jet\",\"InvM_jet2\" ]"
   ]
  },
  {
   "cell_type": "code",
   "execution_count": 10,
   "id": "fb4f4837",
   "metadata": {},
   "outputs": [
    {
     "name": "stdout",
     "output_type": "stream",
     "text": [
      "        Eta_ph1   Phi_ph1  E_mGG_ph1  pT_mGG_ph1   Eta_ph2   Phi_ph2  \\\n",
      "0     -1.084328 -2.974333   1.170820    0.710539 -1.437929  1.772228   \n",
      "1      1.151401  2.699523   1.979170    1.137842  1.603054  1.725826   \n",
      "2      0.967856 -2.416084   1.669004    1.108166  0.739856  2.725014   \n",
      "3      0.786207  1.345999   1.321819    0.997364  1.138380  2.672149   \n",
      "4      0.928688 -1.035375   2.569062    1.755869  0.060377  0.110630   \n",
      "...         ...       ...        ...         ...       ...       ...   \n",
      "35143  0.840179  2.400271   0.883476    0.642898 -0.600093 -1.504753   \n",
      "35144  0.053832  2.337113   0.497539    0.496819 -0.916470 -1.062198   \n",
      "35145 -0.356669 -2.433177   1.043352    0.980332  0.485482  1.024297   \n",
      "35146 -0.886677  2.579901   0.695736    0.490115  0.451536 -0.773943   \n",
      "35147 -0.637846 -0.242948   0.772736    0.638406 -0.202392  1.528199   \n",
      "\n",
      "       E_mGG_ph2  pT_mGG_ph2  Electron_E  Electron_pT  ...      E_jet1  \\\n",
      "0       1.521367    0.683855    0.000000     0.000000  ...  106.965286   \n",
      "1       2.097534    0.811509  233.906647   116.614990  ...  137.890839   \n",
      "2       0.950876    0.739171    0.000000     0.000000  ...   36.714069   \n",
      "3       1.051608    0.611037  132.109650    27.780046  ...  119.048553   \n",
      "4       0.288411    0.287886  154.754089    49.135639  ...  119.961601   \n",
      "...          ...         ...         ...          ...  ...         ...   \n",
      "35143   0.312355    0.263474    0.000000     0.000000  ...  270.575409   \n",
      "35144   0.589489    0.406492    0.000000     0.000000  ...  101.059082   \n",
      "35145   0.245564    0.219218  159.119843   108.144073  ...    0.000000   \n",
      "35146   0.373470    0.338384  132.031891   131.941864  ...    0.000000   \n",
      "35147   0.617059    0.604633    0.000000     0.000000  ...   41.957207   \n",
      "\n",
      "          pT_jet1  Eta_jet1  Phi_jet1      E_jet2    pT_jet2  Eta_jet2  \\\n",
      "0       45.506969 -1.498560 -0.943286    0.000000   0.000000  0.000000   \n",
      "1       64.265007 -1.394348 -2.594233   44.835041  37.006805  0.610907   \n",
      "2       36.230801  0.130337  0.932678   31.994902  30.639593  0.208677   \n",
      "3      105.993179  0.462802 -0.472748  281.854462  55.556519  2.307049   \n",
      "4      111.142471 -0.383013  1.736346   39.170322  32.952698  0.602253   \n",
      "...           ...       ...       ...         ...        ...       ...   \n",
      "35143  119.488731 -1.456162  0.083502  193.080276  75.588493  1.590222   \n",
      "35144   54.967987  1.213467  0.226983    0.000000   0.000000  0.000000   \n",
      "35145    0.000000  0.000000  0.000000    0.000000   0.000000  0.000000   \n",
      "35146    0.000000  0.000000  0.000000    0.000000   0.000000  0.000000   \n",
      "35147   41.053059 -0.042986 -1.685917    0.000000   0.000000  0.000000   \n",
      "\n",
      "       Phi_jet2    InvM_jet  InvM_jet2  \n",
      "0      0.000000    0.000000   0.000000  \n",
      "1     -1.165494  133.033234   0.000000  \n",
      "2      0.275378   24.227276   0.000000  \n",
      "3     -1.748341  189.715744  58.964767  \n",
      "4     -2.239052  127.666473   0.000000  \n",
      "...         ...         ...        ...  \n",
      "35143  2.559736  452.784210   0.000000  \n",
      "35144  0.000000    0.000000   0.000000  \n",
      "35145  0.000000    0.000000   0.000000  \n",
      "35146  0.000000    0.000000   0.000000  \n",
      "35147  0.000000    0.000000   0.000000  \n",
      "\n",
      "[2371926 rows x 27 columns]\n"
     ]
    }
   ],
   "source": [
    "print(df[input_vars])"
   ]
  },
  {
   "cell_type": "code",
   "execution_count": 14,
   "id": "b2d3b075",
   "metadata": {},
   "outputs": [],
   "source": [
    "df_clean = df[input_vars].copy()\n",
    "df_clean[\"label\"] = df.loc[:,\"label\"]\n",
    "df_clean.to_csv(\"dataframe_HHWWgg.csv\")\n"
   ]
  },
  {
   "cell_type": "code",
   "execution_count": 15,
   "id": "6fe45642",
   "metadata": {},
   "outputs": [],
   "source": [
    "X_train, X_test, y_train, y_test = train_test_split(df[input_vars], df.label, \n",
    "                                                    test_size=0.33, random_state=42)"
   ]
  },
  {
   "cell_type": "code",
   "execution_count": 16,
   "id": "6bc055e3",
   "metadata": {},
   "outputs": [
    {
     "name": "stdout",
     "output_type": "stream",
     "text": [
      "          Eta_ph1   Phi_ph1  E_mGG_ph1  pT_mGG_ph1   Eta_ph2   Phi_ph2  \\\n",
      "4679     0.634377 -0.499179   0.659750    0.546125  0.275845  2.774763   \n",
      "241600   0.429487 -2.601583   0.798719    0.730320  2.031048 -3.007747   \n",
      "620205   1.369698  1.109080   1.653669    0.789652  0.522571 -2.983441   \n",
      "1263992  1.271340 -0.908488   1.475363    0.767203  1.755248  2.141865   \n",
      "432563  -0.923438  2.112059   1.027170    0.704728 -0.907636 -0.279159   \n",
      "...           ...       ...        ...         ...       ...       ...   \n",
      "110268  -2.009449  2.612750   1.996753    0.525927  0.102184  2.718325   \n",
      "930514  -0.400803  0.474996   1.214496    1.123075 -0.707095  1.531702   \n",
      "19552    1.377207  3.101519   0.571454    0.271082 -1.484963  2.958537   \n",
      "97818   -0.835856  2.844183   0.767458    0.560129 -0.731319 -0.795591   \n",
      "87844   -2.200770 -1.449984   4.228550    0.925013 -1.768163  1.205236   \n",
      "\n",
      "         E_mGG_ph2  pT_mGG_ph2  Electron_E  Electron_pT  ...      E_jet1  \\\n",
      "4679      0.462302    0.445255    0.000000     0.000000  ...    0.000000   \n",
      "241600    1.596398    0.411800    0.000000     0.000000  ...  367.625580   \n",
      "620205    0.367857    0.322773   21.562237    21.034546  ...  765.128906   \n",
      "1263992   0.917814    0.308108  209.130630    73.850616  ...   99.389633   \n",
      "432563    0.590426    0.409743    0.000000     0.000000  ...  129.846619   \n",
      "...            ...         ...         ...          ...  ...         ...   \n",
      "110268    0.298932    0.297378    0.000000     0.000000  ...    0.000000   \n",
      "930514    1.010237    0.801404    0.000000     0.000000  ...  544.093201   \n",
      "19552     0.549574    0.236818  114.183540    66.338737  ...    0.000000   \n",
      "97818     0.606283    0.473826    0.000000     0.000000  ...    0.000000   \n",
      "87844     0.823569    0.273124    0.000000     0.000000  ...   42.720432   \n",
      "\n",
      "            pT_jet1  Eta_jet1  Phi_jet1      E_jet2     pT_jet2  Eta_jet2  \\\n",
      "4679       0.000000  0.000000  0.000000    0.000000    0.000000  0.000000   \n",
      "241600   125.300674  1.738854  0.041802   74.015846   43.750233  1.116042   \n",
      "620205   136.609024  2.407954 -1.115098  574.768738  114.022308  2.300449   \n",
      "1263992   93.411995 -0.336920  0.964313   99.372894   64.736526  0.986536   \n",
      "432563    90.364998 -0.899870  2.789151   38.700836   33.301075 -0.549750   \n",
      "...             ...       ...       ...         ...         ...       ...   \n",
      "110268     0.000000  0.000000  0.000000    0.000000    0.000000  0.000000   \n",
      "930514   113.194046 -2.251937 -1.903307  191.345322   92.491539 -1.352819   \n",
      "19552      0.000000  0.000000  0.000000    0.000000    0.000000  0.000000   \n",
      "97818      0.000000  0.000000  0.000000    0.000000    0.000000  0.000000   \n",
      "87844     31.218018  0.823216  0.025118    0.000000    0.000000  0.000000   \n",
      "\n",
      "         Phi_jet2    InvM_jet   InvM_jet2  \n",
      "4679     0.000000    0.000000    0.000000  \n",
      "241600   1.839433  125.551598    0.000000  \n",
      "620205   2.805408  232.444351   78.998619  \n",
      "1263992 -2.657597  188.401443  114.538170  \n",
      "432563   1.496177   70.295906   38.302223  \n",
      "...           ...         ...         ...  \n",
      "110268   0.000000    0.000000    0.000000  \n",
      "930514  -1.140266  125.551285    0.000000  \n",
      "19552    0.000000    0.000000    0.000000  \n",
      "97818    0.000000    0.000000    0.000000  \n",
      "87844    0.000000    0.000000    0.000000  \n",
      "\n",
      "[1589190 rows x 27 columns]\n"
     ]
    }
   ],
   "source": [
    "print(X_train)"
   ]
  },
  {
   "cell_type": "code",
   "execution_count": 17,
   "id": "9a2ee770",
   "metadata": {},
   "outputs": [
    {
     "name": "stdout",
     "output_type": "stream",
     "text": [
      "          Eta_ph1   Phi_ph1  E_mGG_ph1  pT_mGG_ph1   Eta_ph2   Phi_ph2  \\\n",
      "1010628  0.083072  1.755365   1.436245    1.431303 -0.675643  0.924694   \n",
      "34087   -2.339646  1.258837   2.960326    0.565275 -0.996654 -2.048956   \n",
      "186768   2.006927 -1.234941   3.079467    0.813081  0.929087 -2.660279   \n",
      "117724   1.145452 -3.102760   0.845905    0.488688 -0.499405  1.212202   \n",
      "339864  -0.480081  1.226471   0.631833    0.565414  0.111381 -2.971822   \n",
      "...           ...       ...        ...         ...       ...       ...   \n",
      "2611     0.007983  2.573929   0.573402    0.573384 -0.747341 -0.477956   \n",
      "405056   0.237674 -2.552902   2.072067    2.014889  0.890221 -2.338493   \n",
      "59822   -2.406210  2.172845   2.820567    0.504483 -0.861537  0.485459   \n",
      "796258   0.035370  1.086025   0.696687    0.696252 -0.338622 -0.744989   \n",
      "572079  -0.582793 -2.776103   0.724027    0.616358  0.808433 -0.077441   \n",
      "\n",
      "         E_mGG_ph2  pT_mGG_ph2  Electron_E  Electron_pT  ...      E_jet1  \\\n",
      "1010628   0.688656    0.556686  190.350876    32.103821  ...  171.028198   \n",
      "34087     0.449018    0.291729   86.294510    25.252754  ...    0.000000   \n",
      "186768    0.602259    0.411504  153.800995    34.318733  ...  259.725800   \n",
      "117724    0.375251    0.332871    0.000000     0.000000  ...  527.926697   \n",
      "339864    0.532233    0.528949    0.000000     0.000000  ...   49.645874   \n",
      "...            ...         ...         ...          ...  ...         ...   \n",
      "2611      0.491091    0.379954    0.000000     0.000000  ...    0.000000   \n",
      "405056    1.450489    1.019234    0.000000     0.000000  ...  148.118362   \n",
      "59822     0.538633    0.386213  107.955521    70.023933  ...  240.089081   \n",
      "796258    0.572043    0.540744  116.500290    37.313736  ...   93.902863   \n",
      "572079    0.359166    0.267043   52.304516    45.837650  ...   81.538643   \n",
      "\n",
      "            pT_jet1  Eta_jet1  Phi_jet1      E_jet2    pT_jet2  Eta_jet2  \\\n",
      "1010628   63.533333  1.646647  1.541630   54.989838  45.916527  0.602641   \n",
      "34087      0.000000  0.000000  0.000000    0.000000   0.000000  0.000000   \n",
      "186768    96.975800 -1.641281  1.124601  290.656250  73.824677  2.046562   \n",
      "117724   109.161209 -2.258182 -0.485663   45.682762  36.113472  0.699989   \n",
      "339864    31.033159 -1.042497  2.298716    0.000000   0.000000  0.000000   \n",
      "...             ...       ...       ...         ...        ...       ...   \n",
      "2611       0.000000  0.000000  0.000000    0.000000   0.000000  0.000000   \n",
      "405056   147.146790  0.074175  0.425622  280.972321  58.093960  2.258194   \n",
      "59822    207.426254 -0.544554 -2.008787   69.022377  63.056576 -0.423367   \n",
      "796258    70.352287  0.776251 -0.994461  105.647560  49.976028  1.369725   \n",
      "572079    79.008972 -0.171136 -3.053290   71.849205  68.522293 -0.280271   \n",
      "\n",
      "         Phi_jet2    InvM_jet   InvM_jet2  \n",
      "1010628 -1.858543  123.265579    0.000000  \n",
      "34087    0.000000    0.000000    0.000000  \n",
      "186768   2.051370  527.126038  210.873672  \n",
      "117724  -2.184647  278.736420    0.000000  \n",
      "339864   0.000000    0.000000    0.000000  \n",
      "...           ...         ...         ...  \n",
      "2611     0.000000    0.000000    0.000000  \n",
      "405056  -2.870855  307.137085    0.000000  \n",
      "59822   -0.516872  158.541168    0.000000  \n",
      "796258   2.867663  120.358330  182.875198  \n",
      "572079   0.839171  139.335205  104.760330  \n",
      "\n",
      "[782736 rows x 27 columns]\n"
     ]
    }
   ],
   "source": [
    "print(X_test)"
   ]
  },
  {
   "cell_type": "code",
   "execution_count": 18,
   "id": "8a3c62ed",
   "metadata": {},
   "outputs": [
    {
     "name": "stderr",
     "output_type": "stream",
     "text": [
      "2021-11-23 17:06:16.976001: W tensorflow/stream_executor/platform/default/dso_loader.cc:64] Could not load dynamic library 'libcuda.so.1'; dlerror: libcuda.so.1: cannot open shared object file: No such file or directory\n",
      "2021-11-23 17:06:16.976053: W tensorflow/stream_executor/cuda/cuda_driver.cc:269] failed call to cuInit: UNKNOWN ERROR (303)\n",
      "2021-11-23 17:06:16.976086: I tensorflow/stream_executor/cuda/cuda_diagnostics.cc:156] kernel driver does not appear to be running on this host (1S0): /proc/driver/nvidia/version does not exist\n",
      "2021-11-23 17:06:16.977131: I tensorflow/core/platform/cpu_feature_guard.cc:151] This TensorFlow binary is optimized with oneAPI Deep Neural Network Library (oneDNN) to use the following CPU instructions in performance-critical operations:  AVX2 FMA\n",
      "To enable them in other operations, rebuild TensorFlow with the appropriate compiler flags.\n"
     ]
    }
   ],
   "source": [
    "inputs = keras.Input(shape=(len(input_vars),), name=\"particles\")\n",
    "x = layers.Dense(64, activation=\"relu\", name=\"dense_1\")(inputs)\n",
    "x = layers.Dense(64, activation=\"relu\", name=\"dense_2\")(x)\n",
    "outputs = layers.Dense(1, activation=\"sigmoid\", name=\"predictions\")(x)\n",
    "\n",
    "model = keras.Model(inputs=inputs, outputs=outputs)"
   ]
  },
  {
   "cell_type": "code",
   "execution_count": 19,
   "id": "40426231",
   "metadata": {},
   "outputs": [],
   "source": [
    "model.compile(\n",
    "    optimizer=keras.optimizers.RMSprop(),  # Optimizer\n",
    "    # Loss function to minimize\n",
    "    loss=keras.losses.BinaryCrossentropy(),\n",
    "    # List of metrics to monitor\n",
    "    metrics=[keras.metrics.BinaryAccuracy()],\n",
    ")"
   ]
  },
  {
   "cell_type": "code",
   "execution_count": 20,
   "id": "de58eccd",
   "metadata": {},
   "outputs": [],
   "source": [
    "X_val = X_train[-3000:]\n",
    "y_val = y_train[-3000:]\n",
    "X_train = X_train[:-3000]\n",
    "y_train = y_train[:-3000]"
   ]
  },
  {
   "cell_type": "code",
   "execution_count": 21,
   "id": "f5baa6a5",
   "metadata": {},
   "outputs": [
    {
     "name": "stdout",
     "output_type": "stream",
     "text": [
      "          Eta_ph1   Phi_ph1  E_mGG_ph1  pT_mGG_ph1   Eta_ph2   Phi_ph2  \\\n",
      "4679     0.634377 -0.499179   0.659750    0.546125  0.275845  2.774763   \n",
      "241600   0.429487 -2.601583   0.798719    0.730320  2.031048 -3.007747   \n",
      "620205   1.369698  1.109080   1.653669    0.789652  0.522571 -2.983441   \n",
      "1263992  1.271340 -0.908488   1.475363    0.767203  1.755248  2.141865   \n",
      "432563  -0.923438  2.112059   1.027170    0.704728 -0.907636 -0.279159   \n",
      "...           ...       ...        ...         ...       ...       ...   \n",
      "1131062  1.670547  2.647815   5.120059    1.860751  1.770081 -2.669773   \n",
      "532086  -0.312885  2.565743   0.667585    0.636190 -1.421781 -1.439988   \n",
      "86694    0.994331  0.066347   1.094928    0.712638  0.691225 -2.149711   \n",
      "595868   2.177066 -1.311236   5.241989    1.173523  1.809512 -2.357152   \n",
      "408465   1.194880  2.046280   2.005702    1.112455  0.578601  0.241719   \n",
      "\n",
      "         E_mGG_ph2  pT_mGG_ph2  Electron_E  Electron_pT  ...       E_jet1  \\\n",
      "4679      0.462302    0.445255    0.000000     0.000000  ...     0.000000   \n",
      "241600    1.596398    0.411800    0.000000     0.000000  ...   367.625580   \n",
      "620205    0.367857    0.322773   21.562237    21.034546  ...   765.128906   \n",
      "1263992   0.917814    0.308108  209.130630    73.850616  ...    99.389633   \n",
      "432563    0.590426    0.409743    0.000000     0.000000  ...   129.846619   \n",
      "...            ...         ...         ...          ...  ...          ...   \n",
      "1131062   1.861623    0.616264    0.000000     0.000000  ...   935.369263   \n",
      "532086    0.739756    0.337343    0.000000     0.000000  ...    86.214836   \n",
      "86694     0.531659    0.425817   15.155576    14.771703  ...    65.006271   \n",
      "595868    2.355373    0.751172   61.544136    33.712540  ...   176.561523   \n",
      "408465    0.369013    0.314827  128.874268    22.425417  ...  1457.795776   \n",
      "\n",
      "            pT_jet1  Eta_jet1  Phi_jet1      E_jet2     pT_jet2  Eta_jet2  \\\n",
      "4679       0.000000  0.000000  0.000000    0.000000    0.000000  0.000000   \n",
      "241600   125.300674  1.738854  0.041802   74.015846   43.750233  1.116042   \n",
      "620205   136.609024  2.407954 -1.115098  574.768738  114.022308  2.300449   \n",
      "1263992   93.411995 -0.336920  0.964313   99.372894   64.736526  0.986536   \n",
      "432563    90.364998 -0.899870  2.789151   38.700836   33.301075 -0.549750   \n",
      "...             ...       ...       ...         ...         ...       ...   \n",
      "1131062  211.324020  2.166912  0.524676  163.190384   78.305740  1.363359   \n",
      "532086    84.833694 -0.165361  2.186135  104.369576   73.950539  0.866905   \n",
      "86694     59.141109  0.436174 -0.474230    0.000000    0.000000  0.000000   \n",
      "595868   100.711884  1.157965  1.815249   49.796097   36.498806  0.815030   \n",
      "408465   262.260193  2.400044 -2.959830  724.220398  247.727005  1.735185   \n",
      "\n",
      "         Phi_jet2    InvM_jet   InvM_jet2  \n",
      "4679     0.000000    0.000000    0.000000  \n",
      "241600   1.839433  125.551598    0.000000  \n",
      "620205   2.805408  232.444351   78.998619  \n",
      "1263992 -2.657597  188.401443  114.538170  \n",
      "432563   1.496177   70.295906   38.302223  \n",
      "...           ...         ...         ...  \n",
      "1131062 -0.732904  189.649353    0.000000  \n",
      "532086  -0.536856  178.088715    0.000000  \n",
      "86694    0.000000    0.000000    0.000000  \n",
      "595868  -2.017528  117.776535    0.000000  \n",
      "408465  -0.533741  509.619965  176.130981  \n",
      "\n",
      "[1586190 rows x 27 columns]\n"
     ]
    }
   ],
   "source": [
    "print(X_train)"
   ]
  },
  {
   "cell_type": "code",
   "execution_count": 22,
   "id": "bfa63501",
   "metadata": {},
   "outputs": [
    {
     "name": "stderr",
     "output_type": "stream",
     "text": [
      "2021-11-23 17:07:14.590880: W tensorflow/core/framework/cpu_allocator_impl.cc:82] Allocation of 342617040 exceeds 10% of free system memory.\n"
     ]
    },
    {
     "name": "stdout",
     "output_type": "stream",
     "text": [
      "Epoch 1/10\n",
      "12393/12393 [==============================] - 15s 1ms/step - loss: 0.4403 - binary_accuracy: 0.8117 - val_loss: 0.3777 - val_binary_accuracy: 0.8373\n",
      "Epoch 2/10\n",
      "12393/12393 [==============================] - 14s 1ms/step - loss: 0.3650 - binary_accuracy: 0.8378 - val_loss: 0.3576 - val_binary_accuracy: 0.8403\n",
      "Epoch 3/10\n",
      "12393/12393 [==============================] - 14s 1ms/step - loss: 0.3571 - binary_accuracy: 0.8418 - val_loss: 0.3501 - val_binary_accuracy: 0.8467\n",
      "Epoch 4/10\n",
      "12393/12393 [==============================] - 14s 1ms/step - loss: 0.3533 - binary_accuracy: 0.8439 - val_loss: 0.3773 - val_binary_accuracy: 0.8380\n",
      "Epoch 5/10\n",
      "12393/12393 [==============================] - 14s 1ms/step - loss: 0.3497 - binary_accuracy: 0.8456 - val_loss: 0.3413 - val_binary_accuracy: 0.8503\n",
      "Epoch 6/10\n",
      "12393/12393 [==============================] - 15s 1ms/step - loss: 0.3466 - binary_accuracy: 0.8481 - val_loss: 0.3598 - val_binary_accuracy: 0.8487\n",
      "Epoch 7/10\n",
      "12393/12393 [==============================] - 14s 1ms/step - loss: 0.3433 - binary_accuracy: 0.8507 - val_loss: 0.3450 - val_binary_accuracy: 0.8460\n",
      "Epoch 8/10\n",
      "12393/12393 [==============================] - 14s 1ms/step - loss: 0.3413 - binary_accuracy: 0.8525 - val_loss: 0.3484 - val_binary_accuracy: 0.8527\n",
      "Epoch 9/10\n",
      "12393/12393 [==============================] - 14s 1ms/step - loss: 0.3401 - binary_accuracy: 0.8533 - val_loss: 0.3325 - val_binary_accuracy: 0.8563\n",
      "Epoch 10/10\n",
      "12393/12393 [==============================] - 14s 1ms/step - loss: 0.3394 - binary_accuracy: 0.8539 - val_loss: 0.3287 - val_binary_accuracy: 0.8600\n"
     ]
    }
   ],
   "source": [
    "history = model.fit(\n",
    "    X_train,\n",
    "    y_train,\n",
    "    batch_size=128,\n",
    "    epochs=10,\n",
    "    # We pass some validation for\n",
    "    # monitoring validation loss and metrics\n",
    "    # at the end of each epoch\n",
    "    validation_data=(X_val, y_val),\n",
    ")"
   ]
  },
  {
   "cell_type": "code",
   "execution_count": 23,
   "id": "94334845",
   "metadata": {},
   "outputs": [
    {
     "data": {
      "image/png": "[encoded data removed]",
      "text/plain": [
       "<Figure size 432x288 with 1 Axes>"
      ]
     },
     "metadata": {
      "needs_background": "light"
     },
     "output_type": "display_data"
    }
   ],
   "source": [
    "import matplotlib.pyplot as plt\n",
    "plt.plot(history.history['loss'],color='m',label='Training loss')\n",
    "plt.plot(history.history['val_loss'],color='b',label='Validation loss')\n",
    "plt.xlabel('Epoch')\n",
    "plt.ylabel('Loss function')\n",
    "plt.legend(loc='upper right')\n",
    "#plt.savefig('plots/2016_training_validation.pdf')\n",
    "plt.show()"
   ]
  },
  {
   "cell_type": "code",
   "execution_count": 24,
   "id": "1f10f696",
   "metadata": {},
   "outputs": [
    {
     "name": "stderr",
     "output_type": "stream",
     "text": [
      "2021-11-23 17:10:45.668382: W tensorflow/core/framework/cpu_allocator_impl.cc:82] Allocation of 169070976 exceeds 10% of free system memory.\n"
     ]
    },
    {
     "name": "stdout",
     "output_type": "stream",
     "text": [
      "[[0.35648388]\n",
      " [0.02290025]\n",
      " [0.15881765]\n",
      " ...\n",
      " [0.01607022]\n",
      " [0.09567147]\n",
      " [0.0035032 ]]\n"
     ]
    },
    {
     "data": {
      "image/png": "[encoded data removed]",
      "text/plain": [
       "<Figure size 432x288 with 1 Axes>"
      ]
     },
     "metadata": {
      "needs_background": "light"
     },
     "output_type": "display_data"
    }
   ],
   "source": [
    "prediction = model.predict(X_test)\n",
    "from sklearn.metrics import roc_curve\n",
    "#y_pred_keras = keras_model.predict(X_test).ravel()\n",
    "fpr_keras, tpr_keras, thresholds_keras = roc_curve(y_test, prediction)\n",
    "\n",
    "from sklearn.metrics import auc\n",
    "auc_keras = auc(fpr_keras, tpr_keras)\n",
    "\n",
    "print(prediction)\n",
    "\n",
    "plt.figure(1)\n",
    "plt.plot([0, 1], [0, 1], 'k--')\n",
    "plt.plot(fpr_keras, tpr_keras, label='Keras (area = {:.3f})'.format(auc_keras))\n",
    "#plt.plot(fpr_rf, tpr_rf, label='XGBoost (area = {:.3f})'.format(auc_rf))\n",
    "plt.xlabel('False positive rate')\n",
    "plt.ylabel('True positive rate')\n",
    "plt.title('ROC curve')\n",
    "plt.legend(loc='best')\n",
    "plt.show()"
   ]
  },
  {
   "cell_type": "code",
   "execution_count": 25,
   "id": "38e8e583",
   "metadata": {},
   "outputs": [
    {
     "data": {
      "image/png": "[encoded data removed]",
      "text/plain": [
       "<Figure size 432x288 with 1 Axes>"
      ]
     },
     "metadata": {
      "needs_background": "light"
     },
     "output_type": "display_data"
    }
   ],
   "source": [
    "plt.hist(prediction[y_test==0],histtype=(\"step\"));\n",
    "plt.hist(prediction[y_test==1],histtype=(\"step\"));\n",
    "plt.yscale('log') "
   ]
  },
  {
   "cell_type": "code",
   "execution_count": 26,
   "id": "86da4315",
   "metadata": {},
   "outputs": [
    {
     "name": "stderr",
     "output_type": "stream",
     "text": [
      "2021-11-23 17:11:31.265052: W tensorflow/core/framework/cpu_allocator_impl.cc:82] Allocation of 169070976 exceeds 10% of free system memory.\n"
     ]
    },
    {
     "name": "stdout",
     "output_type": "stream",
     "text": [
      "24461/24461 - 14s - loss: 0.3359 - binary_accuracy: 0.8558 - 14s/epoch - 564us/step\n",
      "binary_accuracy: 85.58%\n"
     ]
    }
   ],
   "source": [
    "# evaluate the model\n",
    "scores = model.evaluate(X_test, y_test, verbose=2)\n",
    "print(\"%s: %.2f%%\" % (model.metrics_names[1], scores[1]*100))"
   ]
  },
  {
   "cell_type": "code",
   "execution_count": 27,
   "id": "051f1247",
   "metadata": {},
   "outputs": [
    {
     "name": "stderr",
     "output_type": "stream",
     "text": [
      "2021-11-23 17:12:14.624745: W tensorflow/python/util/util.cc:368] Sets are not currently considered sequences, but this may change in the future, so consider avoiding using them.\n"
     ]
    },
    {
     "name": "stdout",
     "output_type": "stream",
     "text": [
      "INFO:tensorflow:Assets written to: model_dnn/assets\n",
      "Saved model to disk\n"
     ]
    }
   ],
   "source": [
    "# save model and architecture to single file\n",
    "model.save(\"model_dnn\")\n",
    "print(\"Saved model to disk\")"
   ]
  },
  {
   "cell_type": "code",
   "execution_count": null,
   "id": "89de2650",
   "metadata": {},
   "outputs": [],
   "source": []
  }
 ],
 "metadata": {
  "kernelspec": {
   "display_name": "Python 3 (ipykernel)",
   "language": "python",
   "name": "python3"
  },
  "language_info": {
   "codemirror_mode": {
    "name": "ipython",
    "version": 3
   },
   "file_extension": ".py",
   "mimetype": "text/x-python",
   "name": "python",
   "nbconvert_exporter": "python",
   "pygments_lexer": "ipython3",
   "version": "3.8.10"
  }
 },
 "nbformat": 4,
 "nbformat_minor": 5
}
