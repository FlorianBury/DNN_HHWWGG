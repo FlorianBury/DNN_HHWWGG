{
 "cells": [
  {
   "cell_type": "code",
   "execution_count": 1,
   "id": "a0123230",
   "metadata": {},
   "outputs": [
    {
     "name": "stderr",
     "output_type": "stream",
     "text": [
      "2021-12-02 18:32:26.089468: W tensorflow/stream_executor/platform/default/dso_loader.cc:64] Could not load dynamic library 'libcudart.so.11.0'; dlerror: libcudart.so.11.0: cannot open shared object file: No such file or directory\n",
      "2021-12-02 18:32:26.089490: I tensorflow/stream_executor/cuda/cudart_stub.cc:29] Ignore above cudart dlerror if you do not have a GPU set up on your machine.\n"
     ]
    }
   ],
   "source": [
    "import pyarrow.parquet as pq\n",
    "import pandas as pd\n",
    "from sklearn.model_selection import train_test_split\n",
    "import tensorflow as tf\n",
    "from tensorflow import keras\n",
    "from tensorflow.keras import layers\n",
    "from tensorflow.keras.callbacks import EarlyStopping, ReduceLROnPlateau"
   ]
  },
  {
   "cell_type": "code",
   "execution_count": 2,
   "id": "16348b5d",
   "metadata": {},
   "outputs": [],
   "source": [
    "df = pd.read_parquet(\"Skim_neweta.parquet\")"
   ]
  },
  {
   "cell_type": "code",
   "execution_count": 3,
   "id": "9d30264b",
   "metadata": {},
   "outputs": [],
   "source": [
    "df[\"label\"] = 0\n",
    "df = df[df['weight']>0]"
   ]
  },
  {
   "cell_type": "code",
   "execution_count": 4,
   "id": "6ca5fa4e",
   "metadata": {},
   "outputs": [
    {
     "name": "stdout",
     "output_type": "stream",
     "text": [
      "        weight   Eta_ph1   Phi_ph1  E_mGG_ph1  pT_mGG_ph1   Eta_ph2   Phi_ph2  \\\n",
      "0     0.000025 -2.393572 -2.922358   2.951623    0.534528 -2.449574  0.575581   \n",
      "1     0.000025  1.871283  1.047394   2.573060    0.773788  0.890115 -2.034852   \n",
      "2     0.000025  2.091786 -1.589172   3.478898    0.846155  1.033298  2.798018   \n",
      "3     0.000025  0.276418  0.034514   0.957748    0.922289  1.291733  2.735958   \n",
      "4     0.000025 -0.222354  0.316651   2.682673    2.617695  0.326127  0.229977   \n",
      "...        ...       ...       ...        ...         ...       ...       ...   \n",
      "3691  0.784736  1.767487 -2.685603   2.533158    0.840620  2.022784  1.191282   \n",
      "3692  0.784736 -0.761641 -1.350025   1.366371    1.047554 -2.588544 -0.412600   \n",
      "3693  0.784736  0.137637  2.189009   0.688119    0.681652  1.682014  0.102387   \n",
      "3694  0.784736  0.118838 -2.689873   0.456992    0.453784 -2.057512  0.021551   \n",
      "3695  0.784736  1.119464  2.110899   1.128419    0.665800  1.023254 -1.432882   \n",
      "\n",
      "      E_mGG_ph2  pT_mGG_ph2  Electron_E  ...  Phi_jet1      E_jet2    pT_jet2  \\\n",
      "0      2.815203    0.482479   32.269810  ...  2.665205   38.627937  36.823357   \n",
      "1      0.364962    0.256472    0.000000  ... -1.665297   63.172352  50.032013   \n",
      "2      0.483689    0.305538    0.000000  ...  2.198083    0.000000   0.000000   \n",
      "3      0.430226    0.219846   34.023560  ... -2.330503    0.000000   0.000000   \n",
      "4      1.273944    1.209074    0.000000  ... -2.819101  216.464661  44.926739   \n",
      "...         ...         ...         ...  ...       ...         ...        ...   \n",
      "3691   1.289162    0.335212  254.808578  ... -0.630228  241.989395  44.082573   \n",
      "3692   1.230583    0.183868    0.000000  ...  1.693608   96.135178  93.528877   \n",
      "3693   0.693299    0.249282    0.000000  ... -1.638354    0.000000   0.000000   \n",
      "3694   0.815643    0.205084   28.214743  ... -2.759224   97.275917  40.329193   \n",
      "3695   0.612859    0.390151   88.095543  ... -2.722576   55.291466  43.830177   \n",
      "\n",
      "      Eta_jet2  Phi_jet2    InvM_jet  InvM_jet2         met  \\\n",
      "0    -0.242533 -2.739480   56.101810   0.000000   24.312021   \n",
      "1    -0.691587  1.763133  179.932816   0.000000   85.148727   \n",
      "2     0.000000  0.000000    0.000000   0.000000   78.107925   \n",
      "3     0.000000  0.000000    0.000000   0.000000   72.548462   \n",
      "4    -2.252025 -2.532822  245.127274   0.000000  314.191620   \n",
      "...        ...       ...         ...        ...         ...   \n",
      "3691  2.387387  0.118789   75.661255  31.397030   51.954830   \n",
      "3692 -0.133721  2.792945  116.899719  94.383568  204.080811   \n",
      "3693  0.000000  0.000000    0.000000   0.000000   47.090668   \n",
      "3694  1.525718  0.986804  137.895782   0.000000   20.564157   \n",
      "3695  0.700582  1.807223   72.767754   0.000000   50.374668   \n",
      "\n",
      "                                                process  label  \n",
      "0     GluGluToHHTo2G2Qlnu_node_cHHH1_TuneCP5_14TeV-p...      0  \n",
      "1     GluGluToHHTo2G2Qlnu_node_cHHH1_TuneCP5_14TeV-p...      0  \n",
      "2     GluGluToHHTo2G2Qlnu_node_cHHH1_TuneCP5_14TeV-p...      0  \n",
      "3     GluGluToHHTo2G2Qlnu_node_cHHH1_TuneCP5_14TeV-p...      0  \n",
      "4     GluGluToHHTo2G2Qlnu_node_cHHH1_TuneCP5_14TeV-p...      0  \n",
      "...                                                 ...    ...  \n",
      "3691  TTGamma_SingleLeptFromTbar_TuneCUETP8M2T4_14Te...      0  \n",
      "3692  TTGamma_SingleLeptFromTbar_TuneCUETP8M2T4_14Te...      0  \n",
      "3693  TTGamma_SingleLeptFromTbar_TuneCUETP8M2T4_14Te...      0  \n",
      "3694  TTGamma_SingleLeptFromTbar_TuneCUETP8M2T4_14Te...      0  \n",
      "3695  TTGamma_SingleLeptFromTbar_TuneCUETP8M2T4_14Te...      0  \n",
      "\n",
      "[267349 rows x 31 columns]\n"
     ]
    }
   ],
   "source": [
    "print(df)"
   ]
  },
  {
   "cell_type": "code",
   "execution_count": 5,
   "id": "57147667",
   "metadata": {},
   "outputs": [],
   "source": [
    "df.loc[df.process.str.contains(\"HHH\"), ['label']] = 1"
   ]
  },
  {
   "cell_type": "code",
   "execution_count": 6,
   "id": "8aa03dbe",
   "metadata": {},
   "outputs": [],
   "source": [
    "batch_size = 128\n",
    "\n",
    "\n",
    "def checkBatches(df):\n",
    "    N_checks = 1000\n",
    "    sum_sig = 0.\n",
    "    N_sig = 0\n",
    "    sum_back = 0.\n",
    "    N_back = 0\n",
    "    for i in range(N_checks):\n",
    "        rnd_df = df.sample(batch_size)\n",
    "        sum_sig  += rnd_df[rnd_df['label']==1]['weight'].sum()\n",
    "        sum_back += rnd_df[rnd_df['label']==0]['weight'].sum()\n",
    "        N_sig    += rnd_df[rnd_df['label']==1].shape[0]\n",
    "        N_back   += rnd_df[rnd_df['label']==0].shape[0]\n",
    "    sum_sig  /= N_checks\n",
    "    sum_back /= N_checks\n",
    "    N_sig    /= N_checks\n",
    "    N_back   /= N_checks\n",
    "\n",
    "    print (f'On average, per batch the total learning weight is\\n\\t... signal     : {sum_sig:12.6f} [{N_sig} events] \\n\\t... background : {sum_back:12.6f} [{N_back} events]')\n",
    "\n"
   ]
  },
  {
   "cell_type": "code",
   "execution_count": 7,
   "id": "3daa75df",
   "metadata": {},
   "outputs": [
    {
     "name": "stdout",
     "output_type": "stream",
     "text": [
      "On average, per batch the total learning weight is\n",
      "\t... signal     :     0.000778 [30.514 events] \n",
      "\t... background :  5481.374905 [97.486 events]\n"
     ]
    }
   ],
   "source": [
    "checkBatches(df)"
   ]
  },
  {
   "cell_type": "code",
   "execution_count": 8,
   "id": "12b641a7",
   "metadata": {},
   "outputs": [
    {
     "name": "stdout",
     "output_type": "stream",
     "text": [
      "        weight   Eta_ph1   Phi_ph1  E_mGG_ph1  pT_mGG_ph1   Eta_ph2   Phi_ph2  \\\n",
      "0     0.000025 -2.393572 -2.922358   2.951623    0.534528 -2.449574  0.575581   \n",
      "1     0.000025  1.871283  1.047394   2.573060    0.773788  0.890115 -2.034852   \n",
      "2     0.000025  2.091786 -1.589172   3.478898    0.846155  1.033298  2.798018   \n",
      "3     0.000025  0.276418  0.034514   0.957748    0.922289  1.291733  2.735958   \n",
      "4     0.000025 -0.222354  0.316651   2.682673    2.617695  0.326127  0.229977   \n",
      "...        ...       ...       ...        ...         ...       ...       ...   \n",
      "3691  0.784736  1.767487 -2.685603   2.533158    0.840620  2.022784  1.191282   \n",
      "3692  0.784736 -0.761641 -1.350025   1.366371    1.047554 -2.588544 -0.412600   \n",
      "3693  0.784736  0.137637  2.189009   0.688119    0.681652  1.682014  0.102387   \n",
      "3694  0.784736  0.118838 -2.689873   0.456992    0.453784 -2.057512  0.021551   \n",
      "3695  0.784736  1.119464  2.110899   1.128419    0.665800  1.023254 -1.432882   \n",
      "\n",
      "      E_mGG_ph2  pT_mGG_ph2  Electron_E  ...  Phi_jet1      E_jet2    pT_jet2  \\\n",
      "0      2.815203    0.482479   32.269810  ...  2.665205   38.627937  36.823357   \n",
      "1      0.364962    0.256472    0.000000  ... -1.665297   63.172352  50.032013   \n",
      "2      0.483689    0.305538    0.000000  ...  2.198083    0.000000   0.000000   \n",
      "3      0.430226    0.219846   34.023560  ... -2.330503    0.000000   0.000000   \n",
      "4      1.273944    1.209074    0.000000  ... -2.819101  216.464661  44.926739   \n",
      "...         ...         ...         ...  ...       ...         ...        ...   \n",
      "3691   1.289162    0.335212  254.808578  ... -0.630228  241.989395  44.082573   \n",
      "3692   1.230583    0.183868    0.000000  ...  1.693608   96.135178  93.528877   \n",
      "3693   0.693299    0.249282    0.000000  ... -1.638354    0.000000   0.000000   \n",
      "3694   0.815643    0.205084   28.214743  ... -2.759224   97.275917  40.329193   \n",
      "3695   0.612859    0.390151   88.095543  ... -2.722576   55.291466  43.830177   \n",
      "\n",
      "      Eta_jet2  Phi_jet2    InvM_jet  InvM_jet2         met  \\\n",
      "0    -0.242533 -2.739480   56.101810   0.000000   24.312021   \n",
      "1    -0.691587  1.763133  179.932816   0.000000   85.148727   \n",
      "2     0.000000  0.000000    0.000000   0.000000   78.107925   \n",
      "3     0.000000  0.000000    0.000000   0.000000   72.548462   \n",
      "4    -2.252025 -2.532822  245.127274   0.000000  314.191620   \n",
      "...        ...       ...         ...        ...         ...   \n",
      "3691  2.387387  0.118789   75.661255  31.397030   51.954830   \n",
      "3692 -0.133721  2.792945  116.899719  94.383568  204.080811   \n",
      "3693  0.000000  0.000000    0.000000   0.000000   47.090668   \n",
      "3694  1.525718  0.986804  137.895782   0.000000   20.564157   \n",
      "3695  0.700582  1.807223   72.767754   0.000000   50.374668   \n",
      "\n",
      "                                                process  label  \n",
      "0     GluGluToHHTo2G2Qlnu_node_cHHH1_TuneCP5_14TeV-p...      1  \n",
      "1     GluGluToHHTo2G2Qlnu_node_cHHH1_TuneCP5_14TeV-p...      1  \n",
      "2     GluGluToHHTo2G2Qlnu_node_cHHH1_TuneCP5_14TeV-p...      1  \n",
      "3     GluGluToHHTo2G2Qlnu_node_cHHH1_TuneCP5_14TeV-p...      1  \n",
      "4     GluGluToHHTo2G2Qlnu_node_cHHH1_TuneCP5_14TeV-p...      1  \n",
      "...                                                 ...    ...  \n",
      "3691  TTGamma_SingleLeptFromTbar_TuneCUETP8M2T4_14Te...      0  \n",
      "3692  TTGamma_SingleLeptFromTbar_TuneCUETP8M2T4_14Te...      0  \n",
      "3693  TTGamma_SingleLeptFromTbar_TuneCUETP8M2T4_14Te...      0  \n",
      "3694  TTGamma_SingleLeptFromTbar_TuneCUETP8M2T4_14Te...      0  \n",
      "3695  TTGamma_SingleLeptFromTbar_TuneCUETP8M2T4_14Te...      0  \n",
      "\n",
      "[267349 rows x 31 columns]\n"
     ]
    }
   ],
   "source": [
    "print(df)"
   ]
  },
  {
   "cell_type": "code",
   "execution_count": 9,
   "id": "9e6a34ce",
   "metadata": {},
   "outputs": [
    {
     "name": "stdout",
     "output_type": "stream",
     "text": [
      "Sum of learning weight for signal     =         1.62564\n",
      "Sum of learning weight for background =  11460936.00000\n",
      "After equalization\n",
      "Sum of learning weight for signal     =    133674.53125\n",
      "Sum of learning weight for background =    133674.51562\n",
      "Average learning weight = 1.0\n",
      "\n",
      "Now let us try again with batches\n"
     ]
    }
   ],
   "source": [
    "print (f\"Sum of learning weight for signal     = {df[df['label']==1]['weight'].sum():15.5f}\")\n",
    "print (f\"Sum of learning weight for background = {df[df['label']==0]['weight'].sum():15.5f}\")\n",
    "df.loc[df['label']==1,'weight'] *= df.shape[0]/2 / df[df['label']==1]['weight'].sum() \n",
    "df.loc[df['label']==0,'weight'] *= df.shape[0]/2 / df[df['label']==0]['weight'].sum()\n",
    "# We divide by their sum, and multiply by the number of events\n",
    "#   First part is so that the sum of weights of the signal is now == to the background ones\n",
    "#   The second part is because if the weights are super small, the loss will be small\n",
    "#       In practice the magnitude does not matter, only relative difference, but it is easier\n",
    "#       to check the learning when the loss variations are not far in the decimals\n",
    "#       -> like that the average unit weight is 1\n",
    "print (\"After equalization\")\n",
    "print (f\"Sum of learning weight for signal     = {df[df['label']==1]['weight'].sum():15.5f}\")\n",
    "print (f\"Sum of learning weight for background = {df[df['label']==0]['weight'].sum():15.5f}\")\n",
    "\n",
    "print (f'Average learning weight = {df[\"weight\"].mean()}')\n",
    "\n",
    "print ('\\nNow let us try again with batches')"
   ]
  },
  {
   "cell_type": "code",
   "execution_count": 10,
   "id": "03f230a9",
   "metadata": {},
   "outputs": [
    {
     "name": "stdout",
     "output_type": "stream",
     "text": [
      "On average, per batch the total learning weight is\n",
      "\t... signal     :    64.191895 [30.617 events] \n",
      "\t... background :    64.494543 [97.383 events]\n"
     ]
    }
   ],
   "source": [
    "checkBatches(df)"
   ]
  },
  {
   "cell_type": "code",
   "execution_count": 11,
   "id": "ed4a97fe",
   "metadata": {},
   "outputs": [],
   "source": [
    "input_vars=[\"Eta_ph1\",\"Phi_ph1\",\"E_mGG_ph1\",\"pT_mGG_ph1\",\"Eta_ph2\",\"Phi_ph2\",\"E_mGG_ph2\",\"pT_mGG_ph2\",\"Electron_E\",\"Electron_pT\",\"Electron_Eta\",\"Electron_Phi\",\"Muon_E\",\"Muon_pT\",\"Muon_Eta\",\"Muon_Phi\",\"nJets\",\"E_jet1\",\"pT_jet1\",\"Eta_jet1\",\"Phi_jet1\",\"E_jet2\",\"pT_jet2\",\"Eta_jet2\",\"Phi_jet2\",\"InvM_jet\",\"InvM_jet2\", \"met\"]"
   ]
  },
  {
   "cell_type": "code",
   "execution_count": 12,
   "id": "fb4f4837",
   "metadata": {},
   "outputs": [
    {
     "name": "stdout",
     "output_type": "stream",
     "text": [
      "       Eta_ph1   Phi_ph1  E_mGG_ph1  pT_mGG_ph1   Eta_ph2   Phi_ph2  \\\n",
      "0    -2.393572 -2.922358   2.951623    0.534528 -2.449574  0.575581   \n",
      "1     1.871283  1.047394   2.573060    0.773788  0.890115 -2.034852   \n",
      "2     2.091786 -1.589172   3.478898    0.846155  1.033298  2.798018   \n",
      "3     0.276418  0.034514   0.957748    0.922289  1.291733  2.735958   \n",
      "4    -0.222354  0.316651   2.682673    2.617695  0.326127  0.229977   \n",
      "...        ...       ...        ...         ...       ...       ...   \n",
      "3691  1.767487 -2.685603   2.533158    0.840620  2.022784  1.191282   \n",
      "3692 -0.761641 -1.350025   1.366371    1.047554 -2.588544 -0.412600   \n",
      "3693  0.137637  2.189009   0.688119    0.681652  1.682014  0.102387   \n",
      "3694  0.118838 -2.689873   0.456992    0.453784 -2.057512  0.021551   \n",
      "3695  1.119464  2.110899   1.128419    0.665800  1.023254 -1.432882   \n",
      "\n",
      "      E_mGG_ph2  pT_mGG_ph2  Electron_E  Electron_pT  ...     pT_jet1  \\\n",
      "0      2.815203    0.482479   32.269810    30.670956  ...   75.722549   \n",
      "1      0.364962    0.256472    0.000000     0.000000  ...  152.659454   \n",
      "2      0.483689    0.305538    0.000000     0.000000  ...   35.002209   \n",
      "3      0.430226    0.219846   34.023560    33.640869  ...   34.346485   \n",
      "4      1.273944    1.209074    0.000000     0.000000  ...  306.477936   \n",
      "...         ...         ...         ...          ...  ...         ...   \n",
      "3691   1.289162    0.335212  254.808578    32.371708  ...   69.485191   \n",
      "3692   1.230583    0.183868    0.000000     0.000000  ...  122.305954   \n",
      "3693   0.693299    0.249282    0.000000     0.000000  ...   47.824558   \n",
      "3694   0.815643    0.205084   28.214743    28.194620  ...  111.142715   \n",
      "3695   0.612859    0.390151   88.095543    23.435448  ...   45.873276   \n",
      "\n",
      "      Eta_jet1  Phi_jet1      E_jet2    pT_jet2  Eta_jet2  Phi_jet2  \\\n",
      "0    -0.779769  2.665205   38.627937  36.823357 -0.242533 -2.739480   \n",
      "1    -0.190269 -1.665297   63.172352  50.032013 -0.691587  1.763133   \n",
      "2     0.436127  2.198083    0.000000   0.000000  0.000000  0.000000   \n",
      "3     1.111015 -2.330503    0.000000   0.000000  0.000000  0.000000   \n",
      "4    -0.452895 -2.819101  216.464661  44.926739 -2.252025 -2.532822   \n",
      "...        ...       ...         ...        ...       ...       ...   \n",
      "3691  1.322532 -0.630228  241.989395  44.082573  2.387387  0.118789   \n",
      "3692 -0.111716  1.693608   96.135178  93.528877 -0.133721  2.792945   \n",
      "3693  2.096721 -1.638354    0.000000   0.000000  0.000000  0.000000   \n",
      "3694  0.836695 -2.759224   97.275917  40.329193  1.525718  0.986804   \n",
      "3695  1.110637 -2.722576   55.291466  43.830177  0.700582  1.807223   \n",
      "\n",
      "        InvM_jet  InvM_jet2         met  \n",
      "0      56.101810   0.000000   24.312021  \n",
      "1     179.932816   0.000000   85.148727  \n",
      "2       0.000000   0.000000   78.107925  \n",
      "3       0.000000   0.000000   72.548462  \n",
      "4     245.127274   0.000000  314.191620  \n",
      "...          ...        ...         ...  \n",
      "3691   75.661255  31.397030   51.954830  \n",
      "3692  116.899719  94.383568  204.080811  \n",
      "3693    0.000000   0.000000   47.090668  \n",
      "3694  137.895782   0.000000   20.564157  \n",
      "3695   72.767754   0.000000   50.374668  \n",
      "\n",
      "[267349 rows x 28 columns]\n"
     ]
    }
   ],
   "source": [
    "print(df[input_vars])"
   ]
  },
  {
   "cell_type": "code",
   "execution_count": 13,
   "id": "b2d3b075",
   "metadata": {},
   "outputs": [],
   "source": [
    "df_clean = df[input_vars].copy()\n",
    "df_clean[\"label\"] = df.loc[:,\"label\"]\n",
    "df_clean.to_csv(\"dataframe_HHWWgg.csv\")\n"
   ]
  },
  {
   "cell_type": "code",
   "execution_count": 14,
   "id": "6fe45642",
   "metadata": {},
   "outputs": [],
   "source": [
    "X_train, X_test, y_train, y_test,w_train, w_test = train_test_split(df[input_vars], df.label, df.weight, \n",
    "                                                    test_size=0.33, random_state=42)"
   ]
  },
  {
   "cell_type": "code",
   "execution_count": 15,
   "id": "6bc055e3",
   "metadata": {},
   "outputs": [
    {
     "name": "stdout",
     "output_type": "stream",
     "text": [
      "         Eta_ph1   Phi_ph1  E_mGG_ph1  pT_mGG_ph1   Eta_ph2   Phi_ph2  \\\n",
      "35231  -1.945764 -3.062029   2.268816    0.635358 -0.550223 -2.298545   \n",
      "8868   -1.820626 -0.043045   2.502725    0.789796 -2.617009 -2.681274   \n",
      "71095   0.099085 -0.838356   0.544916    0.542252  0.862605  2.181485   \n",
      "114269  1.282274 -2.663917   3.101353    1.597716  0.192350 -2.408060   \n",
      "36454   1.539533 -1.002441   1.515589    0.621539  1.482318  1.691988   \n",
      "...          ...       ...        ...         ...       ...       ...   \n",
      "81876   0.373729 -2.581681   0.944210    0.881901  0.192384 -0.985424   \n",
      "46     -2.201052 -2.005043   2.970534    0.649638 -1.052876  1.749613   \n",
      "99997  -1.264996 -1.493569   0.969339    0.506802  0.020675  2.340647   \n",
      "122596  0.644087 -2.541043   1.332074    1.096632 -0.388746  2.307051   \n",
      "85023   1.311740  2.135893   2.354585    1.182620  0.749861 -0.459073   \n",
      "\n",
      "        E_mGG_ph2  pT_mGG_ph2  Electron_E  Electron_pT  ...     pT_jet1  \\\n",
      "35231    0.640226    0.554198    0.000000     0.000000  ...   83.606064   \n",
      "8868     1.971765    0.286433  773.391602    80.813171  ...    0.000000   \n",
      "71095    0.559900    0.401163    0.000000     0.000000  ...   75.784050   \n",
      "114269   0.463508    0.455063   27.864887    24.984995  ...  556.113647   \n",
      "36454    0.978511    0.422660    0.000000     0.000000  ...  144.692123   \n",
      "...           ...         ...         ...          ...  ...         ...   \n",
      "81876    0.554234    0.544133    0.000000     0.000000  ...  173.369873   \n",
      "46       0.484643    0.301506    0.000000     0.000000  ...  154.009842   \n",
      "99997    0.363277    0.363200    0.000000     0.000000  ...  136.878113   \n",
      "122596   0.339154    0.315047    0.000000     0.000000  ...   93.147652   \n",
      "85023    0.271449    0.209683    0.000000     0.000000  ...   73.303368   \n",
      "\n",
      "        Eta_jet1  Phi_jet1      E_jet2     pT_jet2  Eta_jet2  Phi_jet2  \\\n",
      "35231  -0.112491  0.161448   69.023933   54.281269 -0.709579  0.511211   \n",
      "8868    0.000000  0.000000    0.000000    0.000000  0.000000  0.000000   \n",
      "71095   0.274927  1.784086  119.397682   53.945679 -1.427389  1.026386   \n",
      "114269  0.175302  0.205339  224.753677  136.866638  1.079329  2.129951   \n",
      "36454   1.157493 -2.845321  148.758911  107.020920 -0.851328 -2.241839   \n",
      "...          ...       ...         ...         ...       ...       ...   \n",
      "81876  -1.347656  1.874572    0.000000    0.000000  0.000000  0.000000   \n",
      "46     -1.286960  1.198890  238.848923   79.367477 -1.764281 -1.262017   \n",
      "99997   0.348023 -2.587010  343.773773   69.506279  2.280963 -0.561904   \n",
      "122596 -0.767671 -0.064645   68.012184   40.841583 -1.088126  0.496537   \n",
      "85023   0.971416  0.769034  160.880844   72.135490 -1.430760 -2.309058   \n",
      "\n",
      "          InvM_jet   InvM_jet2         met  \n",
      "35231    49.431580    0.000000  151.322891  \n",
      "8868      0.000000    0.000000   44.672638  \n",
      "71095   134.076111  105.544197   23.825314  \n",
      "114269  526.446960  267.889221  491.845062  \n",
      "36454   304.451813  251.643875   87.559296  \n",
      "...            ...         ...         ...  \n",
      "81876     0.000000    0.000000  103.681885  \n",
      "46      216.445786  179.642120  153.522247  \n",
      "99997   275.932526  473.262939   32.222164  \n",
      "122596   42.455700   67.679123  175.877991  \n",
      "85023   265.383087  246.601517  177.082138  \n",
      "\n",
      "[179123 rows x 28 columns]\n"
     ]
    }
   ],
   "source": [
    "print(X_train)"
   ]
  },
  {
   "cell_type": "code",
   "execution_count": 16,
   "id": "9a2ee770",
   "metadata": {},
   "outputs": [
    {
     "name": "stdout",
     "output_type": "stream",
     "text": [
      "         Eta_ph1   Phi_ph1  E_mGG_ph1  pT_mGG_ph1   Eta_ph2   Phi_ph2  \\\n",
      "3329    1.087376  0.904130   0.406792    0.246274 -1.648648 -3.020724   \n",
      "2789    0.358049 -0.526940   0.437181    0.410581 -1.190133  2.006132   \n",
      "15599  -1.195990 -2.027550   1.659136    0.919384 -1.642366  2.936179   \n",
      "64363   1.061911 -2.731441   1.322440    0.816904  0.518941 -1.094325   \n",
      "4149    1.903018 -1.843503   7.791508    2.273160  2.293625 -0.882963   \n",
      "...          ...       ...        ...         ...       ...       ...   \n",
      "2479   -0.581940  2.039370   0.636352    0.541964  0.964338 -2.795501   \n",
      "126114 -1.491346  0.421756   3.139447    1.345052 -0.678817 -1.530567   \n",
      "21718   1.412178  2.301200   1.858807    0.854919  0.758501  0.108824   \n",
      "102035  0.152458 -2.928749   1.387487    1.371517 -0.176697  1.881357   \n",
      "139654  0.053975  1.505935   0.673873    0.672893  0.499380 -1.281240   \n",
      "\n",
      "        E_mGG_ph2  pT_mGG_ph2  Electron_E  Electron_pT  ...     pT_jet1  \\\n",
      "3329     0.647501    0.240160    0.000000     0.000000  ...  434.393799   \n",
      "2789     0.667109    0.371472    0.000000     0.000000  ...    0.000000   \n",
      "15599    1.709787    0.637873  127.398689    24.559685  ...   89.342964   \n",
      "64363    0.572025    0.502791    0.000000     0.000000  ...   66.744049   \n",
      "4149     2.183855    0.436261    0.000000     0.000000  ...  145.958740   \n",
      "...           ...         ...         ...          ...  ...         ...   \n",
      "2479     0.594440    0.395728    0.000000     0.000000  ...   33.038197   \n",
      "126114   0.267703    0.215997    0.000000     0.000000  ...  239.394653   \n",
      "21718    0.422088    0.324254    0.000000     0.000000  ...   51.062843   \n",
      "102035   0.386862    0.380900   23.559048    21.616928  ...   65.540916   \n",
      "139654   0.410878    0.364479    0.000000     0.000000  ...   60.001617   \n",
      "\n",
      "        Eta_jet1  Phi_jet1      E_jet2     pT_jet2  Eta_jet2  Phi_jet2  \\\n",
      "3329    1.160454 -0.489044  128.336868  123.414856  0.266568  1.541263   \n",
      "2789    0.000000  0.000000    0.000000    0.000000  0.000000  0.000000   \n",
      "15599  -0.443463  0.484381  203.213715   63.245960  1.834188 -1.035969   \n",
      "64363   0.988399 -0.156877  232.775848   60.349110  2.024391  3.066293   \n",
      "4149   -0.649256  1.952372  200.343628   44.130253  2.193229  1.392625   \n",
      "...          ...       ...         ...         ...       ...       ...   \n",
      "2479    0.458707  0.955341    0.000000    0.000000  0.000000  0.000000   \n",
      "126114  0.343030 -2.549559   92.793999   89.001511 -0.246450  0.487000   \n",
      "21718   2.158765  2.677582  140.015030   47.716187  1.738095 -1.144728   \n",
      "102035  1.980296 -1.717803   53.699234   51.977627  0.219383  1.295581   \n",
      "139654  0.546583  1.035873   46.815998   42.515751 -0.418053  0.187834   \n",
      "\n",
      "          InvM_jet   InvM_jet2         met  \n",
      "3329    449.378052  187.196609   34.275425  \n",
      "2789      0.000000    0.000000  229.460999  \n",
      "15599   235.775009  390.184631  143.185242  \n",
      "64363   146.037125   97.472954  149.678680  \n",
      "4149    316.557465   83.080673  191.821701  \n",
      "...            ...         ...         ...  \n",
      "2479      0.000000    0.000000  530.363159  \n",
      "126114  310.200104  131.515274  357.781952  \n",
      "21718    96.202705    0.000000   73.606377  \n",
      "102035  165.708817  127.582863   41.601730  \n",
      "139654   66.976601    0.000000   89.243523  \n",
      "\n",
      "[88226 rows x 28 columns]\n"
     ]
    }
   ],
   "source": [
    "print(X_test)"
   ]
  },
  {
   "cell_type": "code",
   "execution_count": 38,
   "id": "c056f457",
   "metadata": {},
   "outputs": [],
   "source": [
    "parameters = {\n",
    "    'epochs'                : 100,\n",
    "    'lr'                    : 0.001,\n",
    "    'batch_size'            : 128,\n",
    "    'n_layers'              : 4,\n",
    "    'n_neurons'             : 128,\n",
    "    'hidden_activation'     : 'relu',\n",
    "    'output_activation'     : 'sigmoid',\n",
    "}"
   ]
  },
  {
   "cell_type": "code",
   "execution_count": 39,
   "id": "8a3c62ed",
   "metadata": {},
   "outputs": [],
   "source": [
    "inputs = keras.Input(shape=(len(input_vars),), name=\"particles\")\n",
    "x = layers.Dense(parameters['n_neurons'], activation=parameters['hidden_activation'], name=f\"dense_1\")(inputs)\n",
    "for i in range(1,parameters['n_layers']):\n",
    "    x = layers.Dense(parameters['n_neurons'], activation=parameters['hidden_activation'], name=f\"dense_{i+1}\")(x)\n",
    "outputs = layers.Dense(1, activation=parameters['output_activation'], name=\"predictions\")(x)\n",
    "\n",
    "model = keras.Model(inputs=inputs, outputs=outputs)"
   ]
  },
  {
   "cell_type": "code",
   "execution_count": 40,
   "id": "40426231",
   "metadata": {},
   "outputs": [
    {
     "name": "stdout",
     "output_type": "stream",
     "text": [
      "Model: \"model_2\"\n",
      "_________________________________________________________________\n",
      " Layer (type)                Output Shape              Param #   \n",
      "=================================================================\n",
      " particles (InputLayer)      [(None, 28)]              0         \n",
      "                                                                 \n",
      " dense_1 (Dense)             (None, 128)               3712      \n",
      "                                                                 \n",
      " dense_2 (Dense)             (None, 128)               16512     \n",
      "                                                                 \n",
      " dense_3 (Dense)             (None, 128)               16512     \n",
      "                                                                 \n",
      " dense_4 (Dense)             (None, 128)               16512     \n",
      "                                                                 \n",
      " predictions (Dense)         (None, 1)                 129       \n",
      "                                                                 \n",
      "=================================================================\n",
      "Total params: 53,377\n",
      "Trainable params: 53,377\n",
      "Non-trainable params: 0\n",
      "_________________________________________________________________\n"
     ]
    },
    {
     "name": "stderr",
     "output_type": "stream",
     "text": [
      "/home/donertas/.local/lib/python3.8/site-packages/keras/optimizer_v2/adam.py:105: UserWarning: The `lr` argument is deprecated, use `learning_rate` instead.\n",
      "  super(Adam, self).__init__(name, **kwargs)\n"
     ]
    }
   ],
   "source": [
    "model.compile(\n",
    "    optimizer=keras.optimizers.Adam(lr=parameters['lr']),  # Optimizer\n",
    "    # Loss function to minimize\n",
    "    loss=keras.losses.BinaryCrossentropy(),\n",
    "    # List of metrics to monitor\n",
    "    metrics=[keras.metrics.BinaryAccuracy(),\n",
    "             tf.keras.metrics.AUC(),\n",
    "             tf.keras.metrics.Precision(),\n",
    "             tf.keras.metrics.Recall()],\n",
    ")\n",
    "\n",
    "model.summary()\n",
    "\n",
    "# Callbacks #\n",
    "from tensorflow.keras.callbacks import EarlyStopping, ReduceLROnPlateau\n",
    "early_stopping = EarlyStopping(monitor = 'val_loss',\n",
    "                               min_delta = 0, \n",
    "                               patience = 50,\n",
    "                               verbose=2,\n",
    "                               mode='min')\n",
    "# Stop the learning when val_loss stops increasing \n",
    "# https://keras.io/api/callbacks/early_stopping/\n",
    "\n",
    "reduce_plateau = ReduceLROnPlateau(monitor = 'val_loss',\n",
    "                                   factor = 0.1,\n",
    "                                   min_delta = 0, \n",
    "                                   patience = 10,\n",
    "                                   verbose=2,\n",
    "                                   mode='min')\n",
    "# reduce LR if not improvement for some time \n",
    "# https://keras.io/api/callbacks/reduce_lr_on_plateau/\n",
    "from history import LossHistory, PlotHistory\n",
    "loss_history = LossHistory()\n",
    "# Custom record of the history to add debug plots \n",
    "\n",
    "X_val = X_train[-3000:]\n",
    "y_val = y_train[-3000:]\n",
    "w_val = w_train[-3000:]\n",
    "X_train = X_train[:-3000]\n",
    "y_train = y_train[:-3000]\n",
    "w_train = w_train[:-3000]"
   ]
  },
  {
   "cell_type": "code",
   "execution_count": 41,
   "id": "de58eccd",
   "metadata": {},
   "outputs": [],
   "source": [
    "X_val = X_train[-3000:]\n",
    "y_val = y_train[-3000:]\n",
    "w_val = w_train[-3000:]\n",
    "X_train = X_train[:-3000]\n",
    "y_train = y_train[:-3000]\n",
    "w_train = w_train[:-3000]\n",
    "\n",
    "from history import LossHistory, PlotHistory\n",
    "loss_history = LossHistory()\n",
    "# Custom record of the history to add debug plots \n"
   ]
  },
  {
   "cell_type": "code",
   "execution_count": 42,
   "id": "f5baa6a5",
   "metadata": {},
   "outputs": [
    {
     "name": "stdout",
     "output_type": "stream",
     "text": [
      "         Eta_ph1   Phi_ph1  E_mGG_ph1  pT_mGG_ph1   Eta_ph2   Phi_ph2  \\\n",
      "35231  -1.945764 -3.062029   2.268816    0.635358 -0.550223 -2.298545   \n",
      "8868   -1.820626 -0.043045   2.502725    0.789796 -2.617009 -2.681274   \n",
      "71095   0.099085 -0.838356   0.544916    0.542252  0.862605  2.181485   \n",
      "114269  1.282274 -2.663917   3.101353    1.597716  0.192350 -2.408060   \n",
      "36454   1.539533 -1.002441   1.515589    0.621539  1.482318  1.691988   \n",
      "...          ...       ...        ...         ...       ...       ...   \n",
      "88536   1.508294 -1.724887   2.547627    1.074880  1.595690  2.271260   \n",
      "18108  -1.797871 -2.109140   1.656472    0.534136 -1.977367  0.707362   \n",
      "1479   -1.922351 -0.857781   3.719852    1.065360 -1.206948  2.422850   \n",
      "111474 -1.358094 -0.896931   2.183258    1.053207 -2.125977  1.534581   \n",
      "46305   1.312004 -0.904001   2.279804    1.144800  1.928850 -1.693511   \n",
      "\n",
      "        E_mGG_ph2  pT_mGG_ph2  Electron_E  Electron_pT  ...     pT_jet1  \\\n",
      "35231    0.640226    0.554198    0.000000     0.000000  ...   83.606064   \n",
      "8868     1.971765    0.286433  773.391602    80.813171  ...    0.000000   \n",
      "71095    0.559900    0.401163    0.000000     0.000000  ...   75.784050   \n",
      "114269   0.463508    0.455063   27.864887    24.984995  ...  556.113647   \n",
      "36454    0.978511    0.422660    0.000000     0.000000  ...  144.692123   \n",
      "...           ...         ...         ...          ...  ...         ...   \n",
      "88536    0.719236    0.280158  186.875015    36.301785  ...   79.347153   \n",
      "18108    1.754684    0.476678   67.254700    31.013914  ...    0.000000   \n",
      "1479     0.378642    0.207909  375.631439    56.058620  ...  293.141083   \n",
      "111474   0.975742    0.229576    0.000000     0.000000  ...   39.828987   \n",
      "46305    3.117892    0.887415  172.456177    35.102726  ...   93.318024   \n",
      "\n",
      "        Eta_jet1  Phi_jet1      E_jet2     pT_jet2  Eta_jet2  Phi_jet2  \\\n",
      "35231  -0.112491  0.161448   69.023933   54.281269 -0.709579  0.511211   \n",
      "8868    0.000000  0.000000    0.000000    0.000000  0.000000  0.000000   \n",
      "71095   0.274927  1.784086  119.397682   53.945679 -1.427389  1.026386   \n",
      "114269  0.175302  0.205339  224.753677  136.866638  1.079329  2.129951   \n",
      "36454   1.157493 -2.845321  148.758911  107.020920 -0.851328 -2.241839   \n",
      "...          ...       ...         ...         ...       ...       ...   \n",
      "88536  -0.676874  1.724862  203.724533   58.651176 -1.916744  0.699022   \n",
      "18108   0.000000  0.000000    0.000000    0.000000  0.000000  0.000000   \n",
      "1479    1.259139 -0.368176  373.500580   75.102898  2.286541 -0.930617   \n",
      "111474 -0.051996  2.125153   83.427040   37.572941 -1.425084  1.306094   \n",
      "46305  -1.817385 -2.889480  229.401871   39.140751  2.454078  1.953615   \n",
      "\n",
      "          InvM_jet   InvM_jet2         met  \n",
      "35231    49.431580    0.000000  151.322891  \n",
      "8868      0.000000    0.000000   44.672638  \n",
      "71095   134.076111  105.544197   23.825314  \n",
      "114269  526.446960  267.889221  491.845062  \n",
      "36454   304.451813  251.643875   87.559296  \n",
      "...            ...         ...         ...  \n",
      "88536   112.345589   91.214630   58.567711  \n",
      "18108     0.000000    0.000000   16.253139  \n",
      "1479    185.531326  161.717438  103.088501  \n",
      "111474   66.766861    0.000000   46.454498  \n",
      "46305   510.757935   95.818985  189.378036  \n",
      "\n",
      "[161123 rows x 28 columns]\n"
     ]
    }
   ],
   "source": [
    "print(X_train)"
   ]
  },
  {
   "cell_type": "code",
   "execution_count": 58,
   "id": "bfa63501",
   "metadata": {},
   "outputs": [
    {
     "name": "stdout",
     "output_type": "stream",
     "text": [
      "Epoch 1/100\n",
      "1259/1259 - 2s - loss: 0.1214 - binary_accuracy: 0.4436 - auc_2: 0.7623 - precision_2: 0.2965 - recall_2: 0.9685 - val_loss: 0.1488 - val_binary_accuracy: 0.4430 - val_auc_2: 0.7566 - val_precision_2: 0.2980 - val_recall_2: 0.9507 - lr: 1.0000e-10 - 2s/epoch - 2ms/step\n",
      "Epoch 2/100\n",
      "1259/1259 - 2s - loss: 0.1214 - binary_accuracy: 0.4436 - auc_2: 0.7623 - precision_2: 0.2965 - recall_2: 0.9685 - val_loss: 0.1488 - val_binary_accuracy: 0.4430 - val_auc_2: 0.7566 - val_precision_2: 0.2980 - val_recall_2: 0.9507 - lr: 1.0000e-10 - 2s/epoch - 2ms/step\n",
      "Epoch 3/100\n",
      "1259/1259 - 2s - loss: 0.1214 - binary_accuracy: 0.4436 - auc_2: 0.7623 - precision_2: 0.2965 - recall_2: 0.9685 - val_loss: 0.1488 - val_binary_accuracy: 0.4430 - val_auc_2: 0.7566 - val_precision_2: 0.2980 - val_recall_2: 0.9507 - lr: 1.0000e-10 - 2s/epoch - 2ms/step\n",
      "Epoch 4/100\n",
      "1259/1259 - 2s - loss: 0.1214 - binary_accuracy: 0.4436 - auc_2: 0.7623 - precision_2: 0.2965 - recall_2: 0.9685 - val_loss: 0.1488 - val_binary_accuracy: 0.4430 - val_auc_2: 0.7566 - val_precision_2: 0.2980 - val_recall_2: 0.9507 - lr: 1.0000e-10 - 2s/epoch - 2ms/step\n",
      "Epoch 5/100\n",
      "1259/1259 - 2s - loss: 0.1214 - binary_accuracy: 0.4436 - auc_2: 0.7623 - precision_2: 0.2965 - recall_2: 0.9685 - val_loss: 0.1488 - val_binary_accuracy: 0.4430 - val_auc_2: 0.7566 - val_precision_2: 0.2980 - val_recall_2: 0.9507 - lr: 1.0000e-10 - 2s/epoch - 2ms/step\n",
      "Epoch 6/100\n",
      "1259/1259 - 2s - loss: 0.1214 - binary_accuracy: 0.4436 - auc_2: 0.7623 - precision_2: 0.2965 - recall_2: 0.9685 - val_loss: 0.1488 - val_binary_accuracy: 0.4430 - val_auc_2: 0.7566 - val_precision_2: 0.2980 - val_recall_2: 0.9507 - lr: 1.0000e-10 - 2s/epoch - 2ms/step\n",
      "Epoch 7/100\n",
      "1259/1259 - 3s - loss: 0.1214 - binary_accuracy: 0.4436 - auc_2: 0.7623 - precision_2: 0.2965 - recall_2: 0.9685 - val_loss: 0.1488 - val_binary_accuracy: 0.4430 - val_auc_2: 0.7566 - val_precision_2: 0.2980 - val_recall_2: 0.9507 - lr: 1.0000e-10 - 3s/epoch - 2ms/step\n",
      "Epoch 8/100\n",
      "1259/1259 - 3s - loss: 0.1214 - binary_accuracy: 0.4436 - auc_2: 0.7623 - precision_2: 0.2965 - recall_2: 0.9685 - val_loss: 0.1488 - val_binary_accuracy: 0.4430 - val_auc_2: 0.7566 - val_precision_2: 0.2980 - val_recall_2: 0.9507 - lr: 1.0000e-10 - 3s/epoch - 2ms/step\n",
      "Epoch 9/100\n",
      "1259/1259 - 3s - loss: 0.1214 - binary_accuracy: 0.4436 - auc_2: 0.7623 - precision_2: 0.2965 - recall_2: 0.9685 - val_loss: 0.1488 - val_binary_accuracy: 0.4430 - val_auc_2: 0.7566 - val_precision_2: 0.2980 - val_recall_2: 0.9507 - lr: 1.0000e-10 - 3s/epoch - 2ms/step\n",
      "Epoch 10/100\n",
      "1259/1259 - 3s - loss: 0.1214 - binary_accuracy: 0.4436 - auc_2: 0.7623 - precision_2: 0.2965 - recall_2: 0.9685 - val_loss: 0.1488 - val_binary_accuracy: 0.4430 - val_auc_2: 0.7566 - val_precision_2: 0.2980 - val_recall_2: 0.9507 - lr: 1.0000e-10 - 3s/epoch - 2ms/step\n",
      "Epoch 11/100\n",
      "\n",
      "Epoch 00011: ReduceLROnPlateau reducing learning rate to 1.000000082740371e-11.\n",
      "1259/1259 - 3s - loss: 0.1214 - binary_accuracy: 0.4436 - auc_2: 0.7623 - precision_2: 0.2965 - recall_2: 0.9685 - val_loss: 0.1488 - val_binary_accuracy: 0.4430 - val_auc_2: 0.7566 - val_precision_2: 0.2980 - val_recall_2: 0.9507 - lr: 1.0000e-10 - 3s/epoch - 2ms/step\n",
      "Epoch 12/100\n",
      "1259/1259 - 3s - loss: 0.1214 - binary_accuracy: 0.4436 - auc_2: 0.7623 - precision_2: 0.2965 - recall_2: 0.9685 - val_loss: 0.1488 - val_binary_accuracy: 0.4430 - val_auc_2: 0.7566 - val_precision_2: 0.2980 - val_recall_2: 0.9507 - lr: 1.0000e-11 - 3s/epoch - 2ms/step\n",
      "Epoch 13/100\n",
      "1259/1259 - 3s - loss: 0.1214 - binary_accuracy: 0.4436 - auc_2: 0.7623 - precision_2: 0.2965 - recall_2: 0.9685 - val_loss: 0.1488 - val_binary_accuracy: 0.4430 - val_auc_2: 0.7566 - val_precision_2: 0.2980 - val_recall_2: 0.9507 - lr: 1.0000e-11 - 3s/epoch - 2ms/step\n",
      "Epoch 14/100\n",
      "1259/1259 - 3s - loss: 0.1214 - binary_accuracy: 0.4436 - auc_2: 0.7623 - precision_2: 0.2965 - recall_2: 0.9685 - val_loss: 0.1488 - val_binary_accuracy: 0.4430 - val_auc_2: 0.7566 - val_precision_2: 0.2980 - val_recall_2: 0.9507 - lr: 1.0000e-11 - 3s/epoch - 2ms/step\n",
      "Epoch 15/100\n",
      "1259/1259 - 3s - loss: 0.1214 - binary_accuracy: 0.4436 - auc_2: 0.7623 - precision_2: 0.2965 - recall_2: 0.9685 - val_loss: 0.1488 - val_binary_accuracy: 0.4430 - val_auc_2: 0.7566 - val_precision_2: 0.2980 - val_recall_2: 0.9507 - lr: 1.0000e-11 - 3s/epoch - 2ms/step\n",
      "Epoch 16/100\n",
      "1259/1259 - 3s - loss: 0.1214 - binary_accuracy: 0.4436 - auc_2: 0.7623 - precision_2: 0.2965 - recall_2: 0.9685 - val_loss: 0.1488 - val_binary_accuracy: 0.4430 - val_auc_2: 0.7566 - val_precision_2: 0.2980 - val_recall_2: 0.9507 - lr: 1.0000e-11 - 3s/epoch - 2ms/step\n",
      "Epoch 17/100\n",
      "1259/1259 - 3s - loss: 0.1214 - binary_accuracy: 0.4436 - auc_2: 0.7623 - precision_2: 0.2965 - recall_2: 0.9685 - val_loss: 0.1488 - val_binary_accuracy: 0.4430 - val_auc_2: 0.7566 - val_precision_2: 0.2980 - val_recall_2: 0.9507 - lr: 1.0000e-11 - 3s/epoch - 2ms/step\n",
      "Epoch 18/100\n",
      "1259/1259 - 3s - loss: 0.1214 - binary_accuracy: 0.4436 - auc_2: 0.7623 - precision_2: 0.2965 - recall_2: 0.9685 - val_loss: 0.1488 - val_binary_accuracy: 0.4430 - val_auc_2: 0.7566 - val_precision_2: 0.2980 - val_recall_2: 0.9507 - lr: 1.0000e-11 - 3s/epoch - 2ms/step\n",
      "Epoch 19/100\n",
      "1259/1259 - 3s - loss: 0.1214 - binary_accuracy: 0.4436 - auc_2: 0.7623 - precision_2: 0.2965 - recall_2: 0.9685 - val_loss: 0.1488 - val_binary_accuracy: 0.4430 - val_auc_2: 0.7566 - val_precision_2: 0.2980 - val_recall_2: 0.9507 - lr: 1.0000e-11 - 3s/epoch - 2ms/step\n",
      "Epoch 20/100\n",
      "1259/1259 - 3s - loss: 0.1214 - binary_accuracy: 0.4436 - auc_2: 0.7623 - precision_2: 0.2965 - recall_2: 0.9685 - val_loss: 0.1488 - val_binary_accuracy: 0.4430 - val_auc_2: 0.7566 - val_precision_2: 0.2980 - val_recall_2: 0.9507 - lr: 1.0000e-11 - 3s/epoch - 2ms/step\n",
      "Epoch 21/100\n",
      "\n",
      "Epoch 00021: ReduceLROnPlateau reducing learning rate to 1.000000082740371e-12.\n",
      "1259/1259 - 3s - loss: 0.1214 - binary_accuracy: 0.4436 - auc_2: 0.7623 - precision_2: 0.2965 - recall_2: 0.9685 - val_loss: 0.1488 - val_binary_accuracy: 0.4430 - val_auc_2: 0.7566 - val_precision_2: 0.2980 - val_recall_2: 0.9507 - lr: 1.0000e-11 - 3s/epoch - 2ms/step\n",
      "Epoch 22/100\n",
      "1259/1259 - 3s - loss: 0.1214 - binary_accuracy: 0.4436 - auc_2: 0.7623 - precision_2: 0.2965 - recall_2: 0.9685 - val_loss: 0.1488 - val_binary_accuracy: 0.4430 - val_auc_2: 0.7566 - val_precision_2: 0.2980 - val_recall_2: 0.9507 - lr: 1.0000e-12 - 3s/epoch - 2ms/step\n",
      "Epoch 23/100\n",
      "1259/1259 - 3s - loss: 0.1214 - binary_accuracy: 0.4436 - auc_2: 0.7623 - precision_2: 0.2965 - recall_2: 0.9685 - val_loss: 0.1488 - val_binary_accuracy: 0.4430 - val_auc_2: 0.7566 - val_precision_2: 0.2980 - val_recall_2: 0.9507 - lr: 1.0000e-12 - 3s/epoch - 2ms/step\n",
      "Epoch 24/100\n",
      "1259/1259 - 3s - loss: 0.1214 - binary_accuracy: 0.4436 - auc_2: 0.7623 - precision_2: 0.2965 - recall_2: 0.9685 - val_loss: 0.1488 - val_binary_accuracy: 0.4430 - val_auc_2: 0.7566 - val_precision_2: 0.2980 - val_recall_2: 0.9507 - lr: 1.0000e-12 - 3s/epoch - 2ms/step\n",
      "Epoch 25/100\n",
      "1259/1259 - 3s - loss: 0.1214 - binary_accuracy: 0.4436 - auc_2: 0.7623 - precision_2: 0.2965 - recall_2: 0.9685 - val_loss: 0.1488 - val_binary_accuracy: 0.4430 - val_auc_2: 0.7566 - val_precision_2: 0.2980 - val_recall_2: 0.9507 - lr: 1.0000e-12 - 3s/epoch - 2ms/step\n",
      "Epoch 26/100\n",
      "1259/1259 - 3s - loss: 0.1214 - binary_accuracy: 0.4436 - auc_2: 0.7623 - precision_2: 0.2965 - recall_2: 0.9685 - val_loss: 0.1488 - val_binary_accuracy: 0.4430 - val_auc_2: 0.7566 - val_precision_2: 0.2980 - val_recall_2: 0.9507 - lr: 1.0000e-12 - 3s/epoch - 2ms/step\n",
      "Epoch 27/100\n",
      "1259/1259 - 3s - loss: 0.1214 - binary_accuracy: 0.4436 - auc_2: 0.7623 - precision_2: 0.2965 - recall_2: 0.9685 - val_loss: 0.1488 - val_binary_accuracy: 0.4430 - val_auc_2: 0.7566 - val_precision_2: 0.2980 - val_recall_2: 0.9507 - lr: 1.0000e-12 - 3s/epoch - 2ms/step\n",
      "Epoch 28/100\n",
      "1259/1259 - 3s - loss: 0.1214 - binary_accuracy: 0.4436 - auc_2: 0.7623 - precision_2: 0.2965 - recall_2: 0.9685 - val_loss: 0.1488 - val_binary_accuracy: 0.4430 - val_auc_2: 0.7566 - val_precision_2: 0.2980 - val_recall_2: 0.9507 - lr: 1.0000e-12 - 3s/epoch - 2ms/step\n",
      "Epoch 29/100\n",
      "1259/1259 - 3s - loss: 0.1214 - binary_accuracy: 0.4436 - auc_2: 0.7623 - precision_2: 0.2965 - recall_2: 0.9685 - val_loss: 0.1488 - val_binary_accuracy: 0.4430 - val_auc_2: 0.7566 - val_precision_2: 0.2980 - val_recall_2: 0.9507 - lr: 1.0000e-12 - 3s/epoch - 2ms/step\n"
     ]
    },
    {
     "name": "stdout",
     "output_type": "stream",
     "text": [
      "Epoch 30/100\n",
      "1259/1259 - 3s - loss: 0.1214 - binary_accuracy: 0.4436 - auc_2: 0.7623 - precision_2: 0.2965 - recall_2: 0.9685 - val_loss: 0.1488 - val_binary_accuracy: 0.4430 - val_auc_2: 0.7566 - val_precision_2: 0.2980 - val_recall_2: 0.9507 - lr: 1.0000e-12 - 3s/epoch - 2ms/step\n",
      "Epoch 31/100\n",
      "\n",
      "Epoch 00031: ReduceLROnPlateau reducing learning rate to 1.0000001044244145e-13.\n",
      "1259/1259 - 3s - loss: 0.1214 - binary_accuracy: 0.4436 - auc_2: 0.7623 - precision_2: 0.2965 - recall_2: 0.9685 - val_loss: 0.1488 - val_binary_accuracy: 0.4430 - val_auc_2: 0.7566 - val_precision_2: 0.2980 - val_recall_2: 0.9507 - lr: 1.0000e-12 - 3s/epoch - 2ms/step\n",
      "Epoch 32/100\n",
      "1259/1259 - 3s - loss: 0.1214 - binary_accuracy: 0.4436 - auc_2: 0.7623 - precision_2: 0.2965 - recall_2: 0.9685 - val_loss: 0.1488 - val_binary_accuracy: 0.4430 - val_auc_2: 0.7566 - val_precision_2: 0.2980 - val_recall_2: 0.9507 - lr: 1.0000e-13 - 3s/epoch - 2ms/step\n",
      "Epoch 33/100\n",
      "1259/1259 - 3s - loss: 0.1214 - binary_accuracy: 0.4436 - auc_2: 0.7623 - precision_2: 0.2965 - recall_2: 0.9685 - val_loss: 0.1488 - val_binary_accuracy: 0.4430 - val_auc_2: 0.7566 - val_precision_2: 0.2980 - val_recall_2: 0.9507 - lr: 1.0000e-13 - 3s/epoch - 2ms/step\n",
      "Epoch 34/100\n",
      "1259/1259 - 3s - loss: 0.1214 - binary_accuracy: 0.4436 - auc_2: 0.7623 - precision_2: 0.2965 - recall_2: 0.9685 - val_loss: 0.1488 - val_binary_accuracy: 0.4430 - val_auc_2: 0.7566 - val_precision_2: 0.2980 - val_recall_2: 0.9507 - lr: 1.0000e-13 - 3s/epoch - 2ms/step\n",
      "Epoch 35/100\n",
      "1259/1259 - 3s - loss: 0.1214 - binary_accuracy: 0.4436 - auc_2: 0.7623 - precision_2: 0.2965 - recall_2: 0.9685 - val_loss: 0.1488 - val_binary_accuracy: 0.4430 - val_auc_2: 0.7566 - val_precision_2: 0.2980 - val_recall_2: 0.9507 - lr: 1.0000e-13 - 3s/epoch - 2ms/step\n",
      "Epoch 36/100\n",
      "1259/1259 - 3s - loss: 0.1214 - binary_accuracy: 0.4436 - auc_2: 0.7623 - precision_2: 0.2965 - recall_2: 0.9685 - val_loss: 0.1488 - val_binary_accuracy: 0.4430 - val_auc_2: 0.7566 - val_precision_2: 0.2980 - val_recall_2: 0.9507 - lr: 1.0000e-13 - 3s/epoch - 2ms/step\n",
      "Epoch 37/100\n",
      "1259/1259 - 3s - loss: 0.1214 - binary_accuracy: 0.4436 - auc_2: 0.7623 - precision_2: 0.2965 - recall_2: 0.9685 - val_loss: 0.1488 - val_binary_accuracy: 0.4430 - val_auc_2: 0.7566 - val_precision_2: 0.2980 - val_recall_2: 0.9507 - lr: 1.0000e-13 - 3s/epoch - 2ms/step\n",
      "Epoch 38/100\n",
      "1259/1259 - 3s - loss: 0.1214 - binary_accuracy: 0.4436 - auc_2: 0.7623 - precision_2: 0.2965 - recall_2: 0.9685 - val_loss: 0.1488 - val_binary_accuracy: 0.4430 - val_auc_2: 0.7566 - val_precision_2: 0.2980 - val_recall_2: 0.9507 - lr: 1.0000e-13 - 3s/epoch - 2ms/step\n",
      "Epoch 39/100\n",
      "1259/1259 - 3s - loss: 0.1214 - binary_accuracy: 0.4436 - auc_2: 0.7623 - precision_2: 0.2965 - recall_2: 0.9685 - val_loss: 0.1488 - val_binary_accuracy: 0.4430 - val_auc_2: 0.7566 - val_precision_2: 0.2980 - val_recall_2: 0.9507 - lr: 1.0000e-13 - 3s/epoch - 2ms/step\n",
      "Epoch 40/100\n",
      "1259/1259 - 3s - loss: 0.1214 - binary_accuracy: 0.4436 - auc_2: 0.7623 - precision_2: 0.2965 - recall_2: 0.9685 - val_loss: 0.1488 - val_binary_accuracy: 0.4430 - val_auc_2: 0.7566 - val_precision_2: 0.2980 - val_recall_2: 0.9507 - lr: 1.0000e-13 - 3s/epoch - 2ms/step\n",
      "Epoch 41/100\n",
      "\n",
      "Epoch 00041: ReduceLROnPlateau reducing learning rate to 1.0000001179769417e-14.\n",
      "1259/1259 - 3s - loss: 0.1214 - binary_accuracy: 0.4436 - auc_2: 0.7623 - precision_2: 0.2965 - recall_2: 0.9685 - val_loss: 0.1488 - val_binary_accuracy: 0.4430 - val_auc_2: 0.7566 - val_precision_2: 0.2980 - val_recall_2: 0.9507 - lr: 1.0000e-13 - 3s/epoch - 2ms/step\n",
      "Epoch 42/100\n",
      "1259/1259 - 3s - loss: 0.1214 - binary_accuracy: 0.4436 - auc_2: 0.7623 - precision_2: 0.2965 - recall_2: 0.9685 - val_loss: 0.1488 - val_binary_accuracy: 0.4430 - val_auc_2: 0.7566 - val_precision_2: 0.2980 - val_recall_2: 0.9507 - lr: 1.0000e-14 - 3s/epoch - 2ms/step\n",
      "Epoch 43/100\n",
      "1259/1259 - 3s - loss: 0.1214 - binary_accuracy: 0.4436 - auc_2: 0.7623 - precision_2: 0.2965 - recall_2: 0.9685 - val_loss: 0.1488 - val_binary_accuracy: 0.4430 - val_auc_2: 0.7566 - val_precision_2: 0.2980 - val_recall_2: 0.9507 - lr: 1.0000e-14 - 3s/epoch - 2ms/step\n",
      "Epoch 44/100\n",
      "1259/1259 - 3s - loss: 0.1214 - binary_accuracy: 0.4436 - auc_2: 0.7623 - precision_2: 0.2965 - recall_2: 0.9685 - val_loss: 0.1488 - val_binary_accuracy: 0.4430 - val_auc_2: 0.7566 - val_precision_2: 0.2980 - val_recall_2: 0.9507 - lr: 1.0000e-14 - 3s/epoch - 2ms/step\n",
      "Epoch 45/100\n",
      "1259/1259 - 3s - loss: 0.1214 - binary_accuracy: 0.4436 - auc_2: 0.7623 - precision_2: 0.2965 - recall_2: 0.9685 - val_loss: 0.1488 - val_binary_accuracy: 0.4430 - val_auc_2: 0.7566 - val_precision_2: 0.2980 - val_recall_2: 0.9507 - lr: 1.0000e-14 - 3s/epoch - 2ms/step\n",
      "Epoch 46/100\n",
      "1259/1259 - 3s - loss: 0.1214 - binary_accuracy: 0.4436 - auc_2: 0.7623 - precision_2: 0.2965 - recall_2: 0.9685 - val_loss: 0.1488 - val_binary_accuracy: 0.4430 - val_auc_2: 0.7566 - val_precision_2: 0.2980 - val_recall_2: 0.9507 - lr: 1.0000e-14 - 3s/epoch - 2ms/step\n",
      "Epoch 47/100\n",
      "1259/1259 - 3s - loss: 0.1214 - binary_accuracy: 0.4436 - auc_2: 0.7623 - precision_2: 0.2965 - recall_2: 0.9685 - val_loss: 0.1488 - val_binary_accuracy: 0.4430 - val_auc_2: 0.7566 - val_precision_2: 0.2980 - val_recall_2: 0.9507 - lr: 1.0000e-14 - 3s/epoch - 2ms/step\n",
      "Epoch 48/100\n",
      "1259/1259 - 3s - loss: 0.1214 - binary_accuracy: 0.4436 - auc_2: 0.7623 - precision_2: 0.2965 - recall_2: 0.9685 - val_loss: 0.1488 - val_binary_accuracy: 0.4430 - val_auc_2: 0.7566 - val_precision_2: 0.2980 - val_recall_2: 0.9507 - lr: 1.0000e-14 - 3s/epoch - 2ms/step\n",
      "Epoch 49/100\n",
      "1259/1259 - 3s - loss: 0.1214 - binary_accuracy: 0.4436 - auc_2: 0.7623 - precision_2: 0.2965 - recall_2: 0.9685 - val_loss: 0.1488 - val_binary_accuracy: 0.4430 - val_auc_2: 0.7566 - val_precision_2: 0.2980 - val_recall_2: 0.9507 - lr: 1.0000e-14 - 3s/epoch - 2ms/step\n",
      "Epoch 50/100\n",
      "1259/1259 - 3s - loss: 0.1214 - binary_accuracy: 0.4436 - auc_2: 0.7623 - precision_2: 0.2965 - recall_2: 0.9685 - val_loss: 0.1488 - val_binary_accuracy: 0.4430 - val_auc_2: 0.7566 - val_precision_2: 0.2980 - val_recall_2: 0.9507 - lr: 1.0000e-14 - 3s/epoch - 2ms/step\n",
      "Epoch 51/100\n",
      "\n",
      "Epoch 00051: ReduceLROnPlateau reducing learning rate to 1.0000001518582595e-15.\n",
      "1259/1259 - 3s - loss: 0.1214 - binary_accuracy: 0.4436 - auc_2: 0.7623 - precision_2: 0.2965 - recall_2: 0.9685 - val_loss: 0.1488 - val_binary_accuracy: 0.4430 - val_auc_2: 0.7566 - val_precision_2: 0.2980 - val_recall_2: 0.9507 - lr: 1.0000e-14 - 3s/epoch - 2ms/step\n",
      "Epoch 00051: early stopping\n"
     ]
    }
   ],
   "source": [
    "history = model.fit(\n",
    "    X_train,\n",
    "    y_train,\n",
    "    verbose=2,\n",
    "    batch_size=parameters['batch_size'],\n",
    "    epochs=parameters['epochs'],\n",
    "    sample_weight=w_train,\n",
    "    # We pass some validation for\n",
    "    # monitoring validation loss and metrics\n",
    "    # at the end of each epoch\n",
    "    validation_data=(X_val, y_val,w_val),\n",
    "    callbacks = [early_stopping,reduce_plateau,loss_history],\n",
    ")\n"
   ]
  },
  {
   "cell_type": "code",
   "execution_count": 64,
   "id": "94334845",
   "metadata": {},
   "outputs": [
    {
     "name": "stdout",
     "output_type": "stream",
     "text": [
      "Curves saved as Loss_HFECYSYCSU.png\n"
     ]
    },
    {
     "data": {
      "image/png": "[encoded data removed]",
      "text/plain": [
       "<Figure size 864x864 with 17 Axes>"
      ]
     },
     "metadata": {
      "needs_background": "light"
     },
     "output_type": "display_data"
    }
   ],
   "source": [
    "#fig = plt.figure()\n",
    "#plt.plot(history.history['loss'],color='m',label='Training loss')\n",
    "#plt.plot(history.history['val_loss'],color='b',label='Validation loss')\n",
    "#plt.xlabel('Epoch')\n",
    "#plt.ylabel('Loss function')\n",
    "#plt.legend(loc='upper right')\n",
    "#fig.savefig('training_validation.pdf')\n",
    "\n",
    "PlotHistory(loss_history,params=parameters)\n",
    "# Params is a dict of parameters with name and values\n",
    "# used for plotting\n"
   ]
  },
  {
   "cell_type": "code",
   "execution_count": 65,
   "id": "1f10f696",
   "metadata": {},
   "outputs": [
    {
     "data": {
      "image/png": "[encoded data removed]",
      "text/plain": [
       "<Figure size 432x288 with 1 Axes>"
      ]
     },
     "metadata": {
      "needs_background": "light"
     },
     "output_type": "display_data"
    }
   ],
   "source": [
    "prediction = model.predict(X_test)\n",
    "from sklearn.metrics import roc_curve\n",
    "fpr_keras, tpr_keras, thresholds_keras = roc_curve(y_test, prediction,sample_weight=w_test)\n",
    "\n",
    "from sklearn.metrics import auc\n",
    "auc_keras = auc(fpr_keras, tpr_keras)\n",
    "\n",
    "from IPython import embed\n",
    "import matplotlib.pyplot as plt\n",
    "\n",
    "fig = plt.figure()\n",
    "plt.plot([0, 1], [0, 1], 'k--')\n",
    "plt.plot(fpr_keras, tpr_keras, label='Keras (area = {:.3f})'.format(auc_keras))\n",
    "#plt.plot(fpr_rf, tpr_rf, label='XGBoost (area = {:.3f})'.format(auc_rf))\n",
    "plt.xlabel('False positive rate')\n",
    "plt.ylabel('True positive rate')\n",
    "plt.title('ROC curve')\n",
    "plt.legend(loc='best')\n",
    "fig.savefig(\"ROC_curve.pdf\")\n",
    "plt.show()\n"
   ]
  },
  {
   "cell_type": "code",
   "execution_count": 61,
   "id": "38e8e583",
   "metadata": {},
   "outputs": [
    {
     "data": {
      "image/png": "[encoded data removed]",
      "text/plain": [
       "<Figure size 432x288 with 1 Axes>"
      ]
     },
     "metadata": {
      "needs_background": "light"
     },
     "output_type": "display_data"
    }
   ],
   "source": [
    "import matplotlib.pyplot as plt\n",
    "fig = plt.figure()\n",
    "plt.hist(prediction[y_test==0],histtype=(\"step\"),bins=100)\n",
    "plt.hist(prediction[y_test==1],histtype=(\"step\"),bins=100)\n",
    "plt.yscale('log') \n",
    "fig.savefig(\"prediction.pdf\", dpi = 300)"
   ]
  },
  {
   "cell_type": "code",
   "execution_count": 62,
   "id": "86da4315",
   "metadata": {},
   "outputs": [
    {
     "name": "stdout",
     "output_type": "stream",
     "text": [
      "2758/2758 - 2s - loss: 0.4237 - binary_accuracy: 0.4346 - auc_2: 0.7482 - precision_2: 0.2897 - recall_2: 0.9533 - 2s/epoch - 696us/step\n",
      "binary_accuracy: 43.46%\n"
     ]
    }
   ],
   "source": [
    "# evaluate the model\n",
    "scores = model.evaluate(X_test, y_test, sample_weight=w_test, verbose=2)\n",
    "print(\"%s: %.2f%%\" % (model.metrics_names[1], scores[1]*100))"
   ]
  },
  {
   "cell_type": "code",
   "execution_count": 63,
   "id": "051f1247",
   "metadata": {},
   "outputs": [
    {
     "name": "stdout",
     "output_type": "stream",
     "text": [
      "INFO:tensorflow:Assets written to: model_dnn_neweta/assets\n",
      "Saved model to disk\n"
     ]
    }
   ],
   "source": [
    "# save model and architecture to single file\n",
    "model.save(\"model_dnn_neweta\")\n",
    "print(\"Saved model to disk\")"
   ]
  },
  {
   "cell_type": "code",
   "execution_count": null,
   "id": "89de2650",
   "metadata": {},
   "outputs": [],
   "source": []
  }
 ],
 "metadata": {
  "kernelspec": {
   "display_name": "Python 3 (ipykernel)",
   "language": "python",
   "name": "python3"
  },
  "language_info": {
   "codemirror_mode": {
    "name": "ipython",
    "version": 3
   },
   "file_extension": ".py",
   "mimetype": "text/x-python",
   "name": "python",
   "nbconvert_exporter": "python",
   "pygments_lexer": "ipython3",
   "version": "3.8.10"
  }
 },
 "nbformat": 4,
 "nbformat_minor": 5
}
