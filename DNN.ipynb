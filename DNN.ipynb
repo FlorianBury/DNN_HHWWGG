{
 "cells": [
  {
   "cell_type": "code",
   "execution_count": 1127,
   "id": "a0123230",
   "metadata": {},
   "outputs": [],
   "source": [
    "import pyarrow.parquet as pq\n",
    "import pandas as pd\n",
    "from sklearn.model_selection import train_test_split\n",
    "import tensorflow as tf\n",
    "from tensorflow import keras\n",
    "from tensorflow.keras import layers\n",
    "from tensorflow.keras.callbacks import EarlyStopping, ReduceLROnPlateau"
   ]
  },
  {
   "cell_type": "code",
   "execution_count": 1128,
   "id": "16348b5d",
   "metadata": {},
   "outputs": [],
   "source": [
    "df = pd.read_parquet(\"Skim_10_11.parquet\")"
   ]
  },
  {
   "cell_type": "code",
   "execution_count": 1129,
   "id": "9d30264b",
   "metadata": {},
   "outputs": [],
   "source": [
    "df[\"label\"] = 0\n",
    "df = df[df['weight']>0 ]"
   ]
  },
  {
   "cell_type": "code",
   "execution_count": 1130,
   "id": "6ca5fa4e",
   "metadata": {},
   "outputs": [
    {
     "name": "stdout",
     "output_type": "stream",
     "text": [
      "       weight   Eta_ph1   Phi_ph1  E_mGG_ph1  pT_mGG_ph1   Eta_ph2   Phi_ph2  \\\n",
      "0    0.000025  1.151401  2.699523   1.979170    1.137842  1.603054  1.725826   \n",
      "1    0.000025 -2.393572 -2.922358   2.951623    0.534528 -2.449574  0.575581   \n",
      "2    0.000025  0.276418  0.034514   0.957748    0.922289  1.291733  2.735958   \n",
      "3    0.000025  1.962913 -3.129909   4.803318    1.323140  2.307431 -2.418910   \n",
      "4    0.000025 -1.630125 -1.711777   1.767290    0.666849 -0.139589 -1.830953   \n",
      "..        ...       ...       ...        ...         ...       ...       ...   \n",
      "687  0.784736  0.892076 -0.133293   0.600080    0.421109 -1.847214 -0.196785   \n",
      "688  0.784736  2.357798  0.196086   8.277598    1.552687  2.074468 -2.216101   \n",
      "689  0.784736  0.037749  2.375303   0.662115    0.661643  1.665867  2.953054   \n",
      "690  0.784736  2.519501  1.856302   4.363004    0.697919  1.706206 -0.204428   \n",
      "691  0.784736 -1.269456  1.293445   1.083464    0.564319  0.837923 -0.183357   \n",
      "\n",
      "     E_mGG_ph2  pT_mGG_ph2  Electron_E  ...  Phi_jet1      E_jet2     pT_jet2  \\\n",
      "0     2.097534    0.811509  233.906647  ... -2.594233   44.835041   37.006805   \n",
      "1     2.815203    0.482479   32.269810  ... -0.436967  100.323441   75.722549   \n",
      "2     0.430226    0.219846   34.023560  ... -2.330503    0.000000    0.000000   \n",
      "3     6.344330    1.250349  332.936218  ... -1.736475  192.055786   60.769295   \n",
      "4     0.565238    0.559776  169.928329  ...  1.727315    0.000000    0.000000   \n",
      "..         ...         ...         ...  ...       ...         ...         ...   \n",
      "687   0.569781    0.175322   71.656563  ... -1.707201   79.524689   74.730217   \n",
      "688   0.728969    0.180306   49.031582  ...  2.802295  499.206116  103.387428   \n",
      "689   1.145351    0.418066  275.250183  ... -1.208215  345.710449  327.405151   \n",
      "690   1.119852    0.393650  427.721771  ...  0.297851  138.282822   53.301929   \n",
      "691   0.297948    0.217150  132.363144  ...  1.879067  179.886734   97.304092   \n",
      "\n",
      "     Eta_jet2  Phi_jet2    InvM_jet   InvM_jet2         met  \\\n",
      "0    0.610907 -1.165494  133.033234    0.000000  174.566574   \n",
      "1   -0.779769  2.665205  266.227875   56.101810   24.312021   \n",
      "2    0.000000  0.000000    0.000000    0.000000   72.548462   \n",
      "3    1.816601  0.932047  515.230896    0.000000  202.983826   \n",
      "4    0.000000  0.000000    0.000000    0.000000  165.096100   \n",
      "..        ...       ...         ...         ...         ...   \n",
      "687  0.338591  2.234660  153.683609  105.329735    5.168395   \n",
      "688  2.256733  2.821515  279.572388  133.586121   32.854595   \n",
      "689 -0.293512  1.089631  905.507751  182.131790  114.806938   \n",
      "690  1.606628  2.027815   87.137062    0.000000   20.384768   \n",
      "691 -1.219673 -2.578638  216.408539  120.819717   62.389122   \n",
      "\n",
      "                                               process  label  \n",
      "0    GluGluToHHTo2G2Qlnu_node_cHHH1_TuneCP5_14TeV-p...      0  \n",
      "1    GluGluToHHTo2G2Qlnu_node_cHHH1_TuneCP5_14TeV-p...      0  \n",
      "2    GluGluToHHTo2G2Qlnu_node_cHHH1_TuneCP5_14TeV-p...      0  \n",
      "3    GluGluToHHTo2G2Qlnu_node_cHHH1_TuneCP5_14TeV-p...      0  \n",
      "4    GluGluToHHTo2G2Qlnu_node_cHHH1_TuneCP5_14TeV-p...      0  \n",
      "..                                                 ...    ...  \n",
      "687  TTGamma_SingleLeptFromTbar_TuneCUETP8M2T4_14Te...      0  \n",
      "688  TTGamma_SingleLeptFromTbar_TuneCUETP8M2T4_14Te...      0  \n",
      "689  TTGamma_SingleLeptFromTbar_TuneCUETP8M2T4_14Te...      0  \n",
      "690  TTGamma_SingleLeptFromTbar_TuneCUETP8M2T4_14Te...      0  \n",
      "691  TTGamma_SingleLeptFromTbar_TuneCUETP8M2T4_14Te...      0  \n",
      "\n",
      "[330535 rows x 31 columns]\n"
     ]
    }
   ],
   "source": [
    "print(df)"
   ]
  },
  {
   "cell_type": "code",
   "execution_count": 1131,
   "id": "1377139f",
   "metadata": {},
   "outputs": [],
   "source": [
    "df = df[~df.process.str.contains(\"QCD\")]\n",
    "#df = df[~df.process.str.contains(\"GluGluHToGG\")]\n",
    "#df = df[~df.process.str.contains(\"VBFToGG\")]\n",
    "#df = df[~df.process.str.contains(\"TTWJets\")]\n",
    "#df = df[~df.process.str.contains(\"TTGG_0Jets_\")]\n",
    "#df = df[~df.process.str.contains(\"TTGamma\")]\n",
    "#df = df[~df.process.str.contains(\"WW_Tune\")]\n",
    "#df = df[~df.process.str.contains(\"THQ_ctc\")]\n",
    "#df = df[~df.process.str.contains(\"W1Jets\")]\n",
    "#df = df[~df.process.str.contains(\"W2Jets\")]\n",
    "#df = df[~df.process.str.contains(\"W3Jets\")]\n",
    "\n",
    "\n",
    "\n",
    "#df.to_csv(\"dataframe_HHWWgg_withoutDY.csv\")"
   ]
  },
  {
   "cell_type": "code",
   "execution_count": 1132,
   "id": "57147667",
   "metadata": {},
   "outputs": [],
   "source": [
    "df.loc[df.process.str.contains(\"HHH\"), ['label']] = 1"
   ]
  },
  {
   "cell_type": "code",
   "execution_count": 1133,
   "id": "8aa03dbe",
   "metadata": {},
   "outputs": [],
   "source": [
    "batch_size = 128\n",
    "\n",
    "\n",
    "def checkBatches(df):\n",
    "    N_checks = 1000\n",
    "    sum_sig = 0.\n",
    "    N_sig = 0\n",
    "    sum_back = 0.\n",
    "    N_back = 0\n",
    "    for i in range(N_checks):\n",
    "        rnd_df = df.sample(batch_size)\n",
    "        sum_sig  += rnd_df[rnd_df['label']==1]['weight'].sum()\n",
    "        sum_back += rnd_df[rnd_df['label']==0]['weight'].sum()\n",
    "        N_sig    += rnd_df[rnd_df['label']==1].shape[0]\n",
    "        N_back   += rnd_df[rnd_df['label']==0].shape[0]\n",
    "    sum_sig  /= N_checks\n",
    "    sum_back /= N_checks\n",
    "    N_sig    /= N_checks\n",
    "    N_back   /= N_checks\n",
    "\n",
    "    print (f'On average, per batch the total learning weight is\\n\\t... signal     : {sum_sig:12.6f} [{N_sig} events] \\n\\t... background : {sum_back:12.6f} [{N_back} events]')\n",
    "\n"
   ]
  },
  {
   "cell_type": "code",
   "execution_count": 1134,
   "id": "3daa75df",
   "metadata": {},
   "outputs": [
    {
     "name": "stdout",
     "output_type": "stream",
     "text": [
      "On average, per batch the total learning weight is\n",
      "\t... signal     :     0.000906 [35.525 events] \n",
      "\t... background :   112.156941 [92.475 events]\n"
     ]
    }
   ],
   "source": [
    "checkBatches(df)"
   ]
  },
  {
   "cell_type": "code",
   "execution_count": 1135,
   "id": "12b641a7",
   "metadata": {},
   "outputs": [
    {
     "name": "stdout",
     "output_type": "stream",
     "text": [
      "       weight   Eta_ph1   Phi_ph1  E_mGG_ph1  pT_mGG_ph1   Eta_ph2   Phi_ph2  \\\n",
      "0    0.000025  1.151401  2.699523   1.979170    1.137842  1.603054  1.725826   \n",
      "1    0.000025 -2.393572 -2.922358   2.951623    0.534528 -2.449574  0.575581   \n",
      "2    0.000025  0.276418  0.034514   0.957748    0.922289  1.291733  2.735958   \n",
      "3    0.000025  1.962913 -3.129909   4.803318    1.323140  2.307431 -2.418910   \n",
      "4    0.000025 -1.630125 -1.711777   1.767290    0.666849 -0.139589 -1.830953   \n",
      "..        ...       ...       ...        ...         ...       ...       ...   \n",
      "687  0.784736  0.892076 -0.133293   0.600080    0.421109 -1.847214 -0.196785   \n",
      "688  0.784736  2.357798  0.196086   8.277598    1.552687  2.074468 -2.216101   \n",
      "689  0.784736  0.037749  2.375303   0.662115    0.661643  1.665867  2.953054   \n",
      "690  0.784736  2.519501  1.856302   4.363004    0.697919  1.706206 -0.204428   \n",
      "691  0.784736 -1.269456  1.293445   1.083464    0.564319  0.837923 -0.183357   \n",
      "\n",
      "     E_mGG_ph2  pT_mGG_ph2  Electron_E  ...  Phi_jet1      E_jet2     pT_jet2  \\\n",
      "0     2.097534    0.811509  233.906647  ... -2.594233   44.835041   37.006805   \n",
      "1     2.815203    0.482479   32.269810  ... -0.436967  100.323441   75.722549   \n",
      "2     0.430226    0.219846   34.023560  ... -2.330503    0.000000    0.000000   \n",
      "3     6.344330    1.250349  332.936218  ... -1.736475  192.055786   60.769295   \n",
      "4     0.565238    0.559776  169.928329  ...  1.727315    0.000000    0.000000   \n",
      "..         ...         ...         ...  ...       ...         ...         ...   \n",
      "687   0.569781    0.175322   71.656563  ... -1.707201   79.524689   74.730217   \n",
      "688   0.728969    0.180306   49.031582  ...  2.802295  499.206116  103.387428   \n",
      "689   1.145351    0.418066  275.250183  ... -1.208215  345.710449  327.405151   \n",
      "690   1.119852    0.393650  427.721771  ...  0.297851  138.282822   53.301929   \n",
      "691   0.297948    0.217150  132.363144  ...  1.879067  179.886734   97.304092   \n",
      "\n",
      "     Eta_jet2  Phi_jet2    InvM_jet   InvM_jet2         met  \\\n",
      "0    0.610907 -1.165494  133.033234    0.000000  174.566574   \n",
      "1   -0.779769  2.665205  266.227875   56.101810   24.312021   \n",
      "2    0.000000  0.000000    0.000000    0.000000   72.548462   \n",
      "3    1.816601  0.932047  515.230896    0.000000  202.983826   \n",
      "4    0.000000  0.000000    0.000000    0.000000  165.096100   \n",
      "..        ...       ...         ...         ...         ...   \n",
      "687  0.338591  2.234660  153.683609  105.329735    5.168395   \n",
      "688  2.256733  2.821515  279.572388  133.586121   32.854595   \n",
      "689 -0.293512  1.089631  905.507751  182.131790  114.806938   \n",
      "690  1.606628  2.027815   87.137062    0.000000   20.384768   \n",
      "691 -1.219673 -2.578638  216.408539  120.819717   62.389122   \n",
      "\n",
      "                                               process  label  \n",
      "0    GluGluToHHTo2G2Qlnu_node_cHHH1_TuneCP5_14TeV-p...      1  \n",
      "1    GluGluToHHTo2G2Qlnu_node_cHHH1_TuneCP5_14TeV-p...      1  \n",
      "2    GluGluToHHTo2G2Qlnu_node_cHHH1_TuneCP5_14TeV-p...      1  \n",
      "3    GluGluToHHTo2G2Qlnu_node_cHHH1_TuneCP5_14TeV-p...      1  \n",
      "4    GluGluToHHTo2G2Qlnu_node_cHHH1_TuneCP5_14TeV-p...      1  \n",
      "..                                                 ...    ...  \n",
      "687  TTGamma_SingleLeptFromTbar_TuneCUETP8M2T4_14Te...      0  \n",
      "688  TTGamma_SingleLeptFromTbar_TuneCUETP8M2T4_14Te...      0  \n",
      "689  TTGamma_SingleLeptFromTbar_TuneCUETP8M2T4_14Te...      0  \n",
      "690  TTGamma_SingleLeptFromTbar_TuneCUETP8M2T4_14Te...      0  \n",
      "691  TTGamma_SingleLeptFromTbar_TuneCUETP8M2T4_14Te...      0  \n",
      "\n",
      "[330204 rows x 31 columns]\n"
     ]
    }
   ],
   "source": [
    "print(df)"
   ]
  },
  {
   "cell_type": "code",
   "execution_count": 1136,
   "id": "d6dac58f",
   "metadata": {},
   "outputs": [
    {
     "data": {
      "image/png": "[encoded data removed]",
      "text/plain": [
       "<Figure size 432x288 with 1 Axes>"
      ]
     },
     "metadata": {
      "needs_background": "light"
     },
     "output_type": "display_data"
    }
   ],
   "source": [
    "import seaborn as sns\n",
    "import matplotlib.pyplot as plt\n",
    "import numpy as np\n",
    "\n",
    "fig = plt.figure()\n",
    "plt.hist(df.loc[df['label']==0,'weight'],bins=100,label='Bkg')\n",
    "plt.yscale('log') \n",
    "plt.ylabel('event weights')\n",
    "#plt.ylabel('')\n",
    "#plt.title('dnn_score')\n",
    "plt.legend(loc='upper center')\n",
    "fig.savefig(\"event_weights_B.pdf\", dpi = 300)\n",
    "\n"
   ]
  },
  {
   "cell_type": "code",
   "execution_count": 1137,
   "id": "9e6a34ce",
   "metadata": {},
   "outputs": [
    {
     "name": "stdout",
     "output_type": "stream",
     "text": [
      "2.3459592\n",
      "289708.8\n",
      "Sum of learning weight for signal     =         2.34596\n",
      "Sum of learning weight for background =    289708.81250\n",
      "After equalization\n",
      "Sum of learning weight for signal     =    165102.07812\n",
      "Sum of learning weight for background =    165102.00000\n",
      "Average learning weight = 1.000000238418579\n",
      "\n",
      "Now let us try again with batches\n",
      "On average, per batch the total learning weight is\n",
      "\t... signal     :    63.857497 [35.568 events] \n",
      "\t... background :    62.937811 [92.432 events]\n"
     ]
    }
   ],
   "source": [
    "HHsum_weighted = df[df['label']==1]['weight'].sum()\n",
    "print(HHsum_weighted)\n",
    "HHsum_unweighted = 614702.0\n",
    "bckgsum_weighted = df[df['label']==0]['weight'].sum() \n",
    "print(bckgsum_weighted)\n",
    "classweight_Target = HHsum_unweighted\n",
    "\n",
    "print (f\"Sum of learning weight for signal     = {df[df['label']==1]['weight'].sum():15.5f}\")\n",
    "print (f\"Sum of learning weight for background = {df[df['label']==0]['weight'].sum():15.5f}\")\n",
    "df.loc[df['label']==1,'weight'] *= df.shape[0]/2 / df[df['label']==1]['weight'].sum() \n",
    "df.loc[df['label']==0,'weight'] *= df.shape[0]/2 / df[df['label']==0]['weight'].sum()\n",
    "# We divide by their sum, and multiply by the number of events\n",
    "#   First part is so that the sum of weights of the signal is now == to the background ones\n",
    "#   The second part is because if the weights are super small, the loss will be small\n",
    "#       In practice the magnitude does not matter, only relative difference, but it is easier\n",
    "#       to check the learning when the loss variations are not far in the decimals\n",
    "#       -> like that the average unit weight is 1\n",
    "\n",
    "#df.loc[df['label']==1, 'classweight'] = classweight_Target/HHsum_weighted\n",
    "#df.loc[df['label']==0, 'classweight'] = (classweight_Target/bckgsum_weighted)\n",
    "\n",
    "#df[\"trainingweights\"] = df.loc[:,'classweight']*df.loc[:,'weight']\n",
    "print (\"After equalization\")\n",
    "print (f\"Sum of learning weight for signal     = {df[df['label']==1]['weight'].sum():15.5f}\")\n",
    "print (f\"Sum of learning weight for background = {df[df['label']==0]['weight'].sum():15.5f}\")\n",
    "\n",
    "#print (f\"Sum of learning weight for signal     = {df[df['label']==1]['trainingweights'].sum():15.5f}\")\n",
    "#print (f\"Sum of learning weight for background = {df[df['label']==0]['trainingweights'].sum():15.5f}\")\n",
    "\n",
    "#print (f'Average learning weight = {df[\"trainingweights\"].mean()}')\n",
    "print (f'Average learning weight = {df[\"weight\"].mean()}')\n",
    "\n",
    "print ('\\nNow let us try again with batches')\n",
    "checkBatches(df)"
   ]
  },
  {
   "cell_type": "code",
   "execution_count": 1099,
   "id": "03f230a9",
   "metadata": {},
   "outputs": [
    {
     "name": "stdout",
     "output_type": "stream",
     "text": [
      "On average, per batch the total learning weight is\n",
      "\t... signal     :   237.220263 [35.496 events] \n",
      "\t... background :   244.912028 [92.504 events]\n"
     ]
    }
   ],
   "source": [
    "batch_size = 128\n",
    "\n",
    "\n",
    "def checkBatches_X(df):\n",
    "    N_checks = 1000\n",
    "    sum_sig = 0.\n",
    "    N_sig = 0\n",
    "    sum_back = 0.\n",
    "    N_back = 0\n",
    "    for i in range(N_checks):\n",
    "        rnd_df = df.sample(batch_size)\n",
    "        sum_sig  += rnd_df[rnd_df['label']==1]['trainingweights'].sum()\n",
    "        sum_back += rnd_df[rnd_df['label']==0]['trainingweights'].sum()\n",
    "        N_sig    += rnd_df[rnd_df['label']==1].shape[0]\n",
    "        N_back   += rnd_df[rnd_df['label']==0].shape[0]\n",
    "    sum_sig  /= N_checks\n",
    "    sum_back /= N_checks\n",
    "    N_sig    /= N_checks\n",
    "    N_back   /= N_checks\n",
    "\n",
    "    print (f'On average, per batch the total learning weight is\\n\\t... signal     : {sum_sig:12.6f} [{N_sig} events] \\n\\t... background : {sum_back:12.6f} [{N_back} events]')\n",
    "\n",
    "\n",
    "checkBatches_X(df)"
   ]
  },
  {
   "cell_type": "code",
   "execution_count": 1138,
   "id": "c3dd988a",
   "metadata": {},
   "outputs": [
    {
     "data": {
      "image/png": "[encoded data removed]",
      "text/plain": [
       "<Figure size 432x288 with 1 Axes>"
      ]
     },
     "metadata": {
      "needs_background": "light"
     },
     "output_type": "display_data"
    }
   ],
   "source": [
    "import matplotlib.pyplot as plt\n",
    "fig = plt.figure()\n",
    "plt.hist(df.loc[df['label']==0,'weight'],bins=100,label='Bkg')\n",
    "plt.yscale('log') \n",
    "plt.xlabel('event weights')\n",
    "#plt.ylabel('')\n",
    "#plt.title('dnn_score')\n",
    "plt.legend(loc='upper center')\n",
    "fig.savefig(\"event_weights_A.pdf\", dpi = 300)"
   ]
  },
  {
   "cell_type": "code",
   "execution_count": 1139,
   "id": "ed4a97fe",
   "metadata": {},
   "outputs": [],
   "source": [
    "input_vars=[\"Eta_ph1\",\n",
    "            \"Phi_ph1\",\n",
    "            \"E_mGG_ph1\",\n",
    "            \"pT_mGG_ph1\",\n",
    "            \"Eta_ph2\",\n",
    "            \"Phi_ph2\",\n",
    "            \"E_mGG_ph2\",\n",
    "            \"pT_mGG_ph2\",\n",
    "            \"Electron_E\",\n",
    "            \"Electron_pT\",\n",
    "            \"Electron_Eta\",\n",
    "            \"Electron_Phi\",\n",
    "            \"Muon_E\",\n",
    "            \"Muon_pT\",\n",
    "            \"Muon_Eta\",\n",
    "            \"Muon_Phi\",\n",
    "            \"nJets\",\n",
    "            \"E_jet1\",\n",
    "            \"pT_jet1\",\n",
    "            \"Eta_jet1\",\n",
    "            \"Phi_jet1\",\n",
    "            \"E_jet2\",\n",
    "            \"pT_jet2\",\n",
    "            \"Eta_jet2\",\n",
    "            \"Phi_jet2\",\n",
    "            \"InvM_jet\",\n",
    "            \"InvM_jet2\",\n",
    "            \"met\"]"
   ]
  },
  {
   "cell_type": "code",
   "execution_count": 1140,
   "id": "fb4f4837",
   "metadata": {},
   "outputs": [
    {
     "name": "stdout",
     "output_type": "stream",
     "text": [
      "      Eta_ph1   Phi_ph1  E_mGG_ph1  pT_mGG_ph1   Eta_ph2   Phi_ph2  E_mGG_ph2  \\\n",
      "0    1.151401  2.699523   1.979170    1.137842  1.603054  1.725826   2.097534   \n",
      "1   -2.393572 -2.922358   2.951623    0.534528 -2.449574  0.575581   2.815203   \n",
      "2    0.276418  0.034514   0.957748    0.922289  1.291733  2.735958   0.430226   \n",
      "3    1.962913 -3.129909   4.803318    1.323140  2.307431 -2.418910   6.344330   \n",
      "4   -1.630125 -1.711777   1.767290    0.666849 -0.139589 -1.830953   0.565238   \n",
      "..        ...       ...        ...         ...       ...       ...        ...   \n",
      "687  0.892076 -0.133293   0.600080    0.421109 -1.847214 -0.196785   0.569781   \n",
      "688  2.357798  0.196086   8.277598    1.552687  2.074468 -2.216101   0.728969   \n",
      "689  0.037749  2.375303   0.662115    0.661643  1.665867  2.953054   1.145351   \n",
      "690  2.519501  1.856302   4.363004    0.697919  1.706206 -0.204428   1.119852   \n",
      "691 -1.269456  1.293445   1.083464    0.564319  0.837923 -0.183357   0.297948   \n",
      "\n",
      "     pT_mGG_ph2  Electron_E  Electron_pT  ...     pT_jet1  Eta_jet1  Phi_jet1  \\\n",
      "0      0.811509  233.906647   116.614990  ...   64.265007 -1.394348 -2.594233   \n",
      "1      0.482479   32.269810    30.670956  ...  146.669479  0.630254 -0.436967   \n",
      "2      0.219846   34.023560    33.640869  ...   34.346485  1.111015 -2.330503   \n",
      "3      1.250349  332.936218   151.077805  ...  189.575546 -1.235626 -1.736475   \n",
      "4      0.559776  169.928329    89.939613  ...   77.541840 -0.679341  1.727315   \n",
      "..          ...         ...          ...  ...         ...       ...       ...   \n",
      "687    0.175322   71.656563    67.722389  ...   85.101959 -0.186109 -1.707201   \n",
      "688    0.180306   49.031582    37.910179  ...  150.076294  0.344025  2.802295   \n",
      "689    0.418066  275.250183   155.361603  ...  717.470947  0.042718 -1.208215   \n",
      "690    0.393650  427.721771    99.744095  ...   60.189316  1.518103  0.297851   \n",
      "691    0.217150  132.363144   121.819656  ...  186.968506 -1.120784  1.879067   \n",
      "\n",
      "         E_jet2     pT_jet2  Eta_jet2  Phi_jet2    InvM_jet   InvM_jet2  \\\n",
      "0     44.835041   37.006805  0.610907 -1.165494  133.033234    0.000000   \n",
      "1    100.323441   75.722549 -0.779769  2.665205  266.227875   56.101810   \n",
      "2      0.000000    0.000000  0.000000  0.000000    0.000000    0.000000   \n",
      "3    192.055786   60.769295  1.816601  0.932047  515.230896    0.000000   \n",
      "4      0.000000    0.000000  0.000000  0.000000    0.000000    0.000000   \n",
      "..          ...         ...       ...       ...         ...         ...   \n",
      "687   79.524689   74.730217  0.338591  2.234660  153.683609  105.329735   \n",
      "688  499.206116  103.387428  2.256733  2.821515  279.572388  133.586121   \n",
      "689  345.710449  327.405151 -0.293512  1.089631  905.507751  182.131790   \n",
      "690  138.282822   53.301929  1.606628  2.027815   87.137062    0.000000   \n",
      "691  179.886734   97.304092 -1.219673 -2.578638  216.408539  120.819717   \n",
      "\n",
      "            met  \n",
      "0    174.566574  \n",
      "1     24.312021  \n",
      "2     72.548462  \n",
      "3    202.983826  \n",
      "4    165.096100  \n",
      "..          ...  \n",
      "687    5.168395  \n",
      "688   32.854595  \n",
      "689  114.806938  \n",
      "690   20.384768  \n",
      "691   62.389122  \n",
      "\n",
      "[330204 rows x 28 columns]\n"
     ]
    }
   ],
   "source": [
    "print(df[input_vars])"
   ]
  },
  {
   "cell_type": "code",
   "execution_count": 1141,
   "id": "b2d3b075",
   "metadata": {},
   "outputs": [
    {
     "name": "stdout",
     "output_type": "stream",
     "text": [
      "       weight   Eta_ph1   Phi_ph1  E_mGG_ph1  pT_mGG_ph1   Eta_ph2   Phi_ph2  \\\n",
      "0    1.793197  1.151401  2.699523   1.979170    1.137842  1.603054  1.725826   \n",
      "1    1.793197 -2.393572 -2.922358   2.951623    0.534528 -2.449574  0.575581   \n",
      "2    1.793197  0.276418  0.034514   0.957748    0.922289  1.291733  2.735958   \n",
      "3    1.793197  1.962913 -3.129909   4.803318    1.323140  2.307431 -2.418910   \n",
      "4    1.793197 -1.630125 -1.711777   1.767290    0.666849 -0.139589 -1.830953   \n",
      "..        ...       ...       ...        ...         ...       ...       ...   \n",
      "687  0.447212  0.892076 -0.133293   0.600080    0.421109 -1.847214 -0.196785   \n",
      "688  0.447212  2.357798  0.196086   8.277598    1.552687  2.074468 -2.216101   \n",
      "689  0.447212  0.037749  2.375303   0.662115    0.661643  1.665867  2.953054   \n",
      "690  0.447212  2.519501  1.856302   4.363004    0.697919  1.706206 -0.204428   \n",
      "691  0.447212 -1.269456  1.293445   1.083464    0.564319  0.837923 -0.183357   \n",
      "\n",
      "     E_mGG_ph2  pT_mGG_ph2  Electron_E  ...  Phi_jet1      E_jet2     pT_jet2  \\\n",
      "0     2.097534    0.811509  233.906647  ... -2.594233   44.835041   37.006805   \n",
      "1     2.815203    0.482479   32.269810  ... -0.436967  100.323441   75.722549   \n",
      "2     0.430226    0.219846   34.023560  ... -2.330503    0.000000    0.000000   \n",
      "3     6.344330    1.250349  332.936218  ... -1.736475  192.055786   60.769295   \n",
      "4     0.565238    0.559776  169.928329  ...  1.727315    0.000000    0.000000   \n",
      "..         ...         ...         ...  ...       ...         ...         ...   \n",
      "687   0.569781    0.175322   71.656563  ... -1.707201   79.524689   74.730217   \n",
      "688   0.728969    0.180306   49.031582  ...  2.802295  499.206116  103.387428   \n",
      "689   1.145351    0.418066  275.250183  ... -1.208215  345.710449  327.405151   \n",
      "690   1.119852    0.393650  427.721771  ...  0.297851  138.282822   53.301929   \n",
      "691   0.297948    0.217150  132.363144  ...  1.879067  179.886734   97.304092   \n",
      "\n",
      "     Eta_jet2  Phi_jet2    InvM_jet   InvM_jet2         met  \\\n",
      "0    0.610907 -1.165494  133.033234    0.000000  174.566574   \n",
      "1   -0.779769  2.665205  266.227875   56.101810   24.312021   \n",
      "2    0.000000  0.000000    0.000000    0.000000   72.548462   \n",
      "3    1.816601  0.932047  515.230896    0.000000  202.983826   \n",
      "4    0.000000  0.000000    0.000000    0.000000  165.096100   \n",
      "..        ...       ...         ...         ...         ...   \n",
      "687  0.338591  2.234660  153.683609  105.329735    5.168395   \n",
      "688  2.256733  2.821515  279.572388  133.586121   32.854595   \n",
      "689 -0.293512  1.089631  905.507751  182.131790  114.806938   \n",
      "690  1.606628  2.027815   87.137062    0.000000   20.384768   \n",
      "691 -1.219673 -2.578638  216.408539  120.819717   62.389122   \n",
      "\n",
      "                                               process  label  \n",
      "0    GluGluToHHTo2G2Qlnu_node_cHHH1_TuneCP5_14TeV-p...      1  \n",
      "1    GluGluToHHTo2G2Qlnu_node_cHHH1_TuneCP5_14TeV-p...      1  \n",
      "2    GluGluToHHTo2G2Qlnu_node_cHHH1_TuneCP5_14TeV-p...      1  \n",
      "3    GluGluToHHTo2G2Qlnu_node_cHHH1_TuneCP5_14TeV-p...      1  \n",
      "4    GluGluToHHTo2G2Qlnu_node_cHHH1_TuneCP5_14TeV-p...      1  \n",
      "..                                                 ...    ...  \n",
      "687  TTGamma_SingleLeptFromTbar_TuneCUETP8M2T4_14Te...      0  \n",
      "688  TTGamma_SingleLeptFromTbar_TuneCUETP8M2T4_14Te...      0  \n",
      "689  TTGamma_SingleLeptFromTbar_TuneCUETP8M2T4_14Te...      0  \n",
      "690  TTGamma_SingleLeptFromTbar_TuneCUETP8M2T4_14Te...      0  \n",
      "691  TTGamma_SingleLeptFromTbar_TuneCUETP8M2T4_14Te...      0  \n",
      "\n",
      "[330204 rows x 31 columns]\n"
     ]
    }
   ],
   "source": [
    "#df_clean = df[input_vars].copy()\n",
    "#df_clean[\"label\"] = df.loc[:,\"label\"]\n",
    "#df_clean.to_csv(\"dataframe_HHWWgg.csv\")\n",
    "print(df)"
   ]
  },
  {
   "cell_type": "code",
   "execution_count": null,
   "id": "6fe45642",
   "metadata": {},
   "outputs": [],
   "source": [
    "X_train, X_test, y_train, y_test,w_train, w_test = train_test_split(df[input_vars], df.label, df.weight, \n",
    "                                                    test_size=0.50, random_state=42)\n",
    "#X_train, X_test, y_train, y_test = train_test_split(df[input_vars], df.label, test_size=0.50, random_state=42)"
   ]
  },
  {
   "cell_type": "code",
   "execution_count": null,
   "id": "6bc055e3",
   "metadata": {},
   "outputs": [],
   "source": [
    "print(X_train)"
   ]
  },
  {
   "cell_type": "code",
   "execution_count": null,
   "id": "9a2ee770",
   "metadata": {},
   "outputs": [],
   "source": [
    "print(X_test)"
   ]
  },
  {
   "cell_type": "code",
   "execution_count": null,
   "id": "f8eb9bdd",
   "metadata": {},
   "outputs": [],
   "source": [
    "parameters = {\n",
    "    'epochs'                : 100,\n",
    "    'lr'                    : 0.001,\n",
    "    'batch_size'            : 128,\n",
    "    'n_layers'              : 4,\n",
    "    'n_neurons'             : 128,\n",
    "    'hidden_activation'     : 'relu',\n",
    "    'output_activation'     : 'sigmoid',\n",
    "}"
   ]
  },
  {
   "cell_type": "code",
   "execution_count": null,
   "id": "8a3c62ed",
   "metadata": {},
   "outputs": [],
   "source": [
    "inputs = keras.Input(shape=(len(input_vars),), name=\"particles\")\n",
    "x = layers.Dense(parameters['n_neurons'], activation=parameters['hidden_activation'], name=f\"dense_1\")(inputs)\n",
    "for i in range(1,parameters['n_layers']):\n",
    "    x = layers.Dense(parameters['n_neurons'], activation=parameters['hidden_activation'], name=f\"dense_{i+1}\")(x)\n",
    "outputs = layers.Dense(1, activation=parameters['output_activation'], name=\"predictions\")(x)\n",
    "\n",
    "model = keras.Model(inputs=inputs, outputs=outputs)"
   ]
  },
  {
   "cell_type": "code",
   "execution_count": null,
   "id": "40426231",
   "metadata": {},
   "outputs": [],
   "source": [
    "model.compile(\n",
    "    optimizer=keras.optimizers.RMSprop(),\n",
    "    #optimizer=keras.optimizers.Adam(lr=parameters['lr']),  # Optimizer\n",
    "    # Loss function to minimize\n",
    "    loss=keras.losses.BinaryCrossentropy(),\n",
    "    # List of metrics to monitor\n",
    "    metrics=[keras.metrics.BinaryAccuracy(),\n",
    "             tf.keras.metrics.AUC(),\n",
    "             tf.keras.metrics.Precision(),\n",
    "             tf.keras.metrics.Recall()],\n",
    ")\n",
    "\n",
    "model.summary()\n"
   ]
  },
  {
   "cell_type": "code",
   "execution_count": null,
   "id": "f5baa6a5",
   "metadata": {},
   "outputs": [],
   "source": [
    "print(X_train)"
   ]
  },
  {
   "cell_type": "code",
   "execution_count": null,
   "id": "bfa63501",
   "metadata": {},
   "outputs": [],
   "source": [
    "# Callbacks #\n",
    "early_stopping = EarlyStopping(monitor = 'val_loss',\n",
    "                               min_delta = 0.01, \n",
    "                               patience = 100,\n",
    "                               verbose=1,\n",
    "                               mode='min')\n",
    "# Stop the learning when val_loss stops increasing \n",
    "# https://keras.io/api/callbacks/early_stopping/\n",
    "\n",
    "reduce_plateau = ReduceLROnPlateau(monitor = 'val_loss',\n",
    "                                   factor = 0.1,\n",
    "                                   min_delta = 0, \n",
    "                                   patience = 10,\n",
    "                                   verbose=2,\n",
    "                                   mode='min')\n",
    "# reduce LR if not improvement for some time \n",
    "# https://keras.io/api/callbacks/reduce_lr_on_plateau/\n",
    "from history import LossHistory, PlotHistory\n",
    "loss_history = LossHistory()\n",
    "\n",
    "history = model.fit(\n",
    "    X_train,\n",
    "    y_train,\n",
    "    verbose=2,\n",
    "    batch_size=parameters['batch_size'],\n",
    "    epochs=parameters['epochs'],\n",
    "    sample_weight=w_train,\n",
    "    # We pass some validation for\n",
    "    # monitoring validation loss and metrics\n",
    "    # at the end of each epoch\n",
    "    validation_data=(X_test, y_test,w_test),\n",
    "    #validation_data=(X_test, y_test),\n",
    "    callbacks = [early_stopping, reduce_plateau, loss_history],\n",
    ")\n"
   ]
  },
  {
   "cell_type": "code",
   "execution_count": null,
   "id": "94334845",
   "metadata": {},
   "outputs": [],
   "source": [
    "from IPython import embed\n",
    "import matplotlib.pyplot as plt\n",
    "\n",
    "fig = plt.figure()\n",
    "plt.plot(history.history['loss'],color='m',label='Training loss')\n",
    "plt.plot(history.history['val_loss'],color='b',label='Validation loss')\n",
    "plt.xlabel('Epoch')\n",
    "plt.ylabel('Loss function')\n",
    "plt.legend(loc='upper right')\n",
    "fig.savefig('training_validation.pdf')\n",
    "\n",
    "PlotHistory(loss_history,params=parameters)\n",
    "# Params is a dict of parameters with name and values\n",
    "# used for plotting\n"
   ]
  },
  {
   "cell_type": "code",
   "execution_count": null,
   "id": "1f10f696",
   "metadata": {},
   "outputs": [],
   "source": [
    "prediction = model.predict(X_test)\n",
    "from sklearn.metrics import roc_curve\n",
    "fpr_keras, tpr_keras, thresholds_keras = roc_curve(y_test, prediction,sample_weight=w_test)\n",
    "#fpr_keras, tpr_keras, thresholds_keras = roc_curve(y_test, prediction)\n",
    "\n",
    "from sklearn.metrics import auc\n",
    "auc_keras = auc(fpr_keras, tpr_keras)\n",
    "\n",
    "from IPython import embed\n",
    "import matplotlib.pyplot as plt\n",
    "\n",
    "fig = plt.figure()\n",
    "plt.plot([0, 1], [0, 1], 'k--')\n",
    "plt.plot(fpr_keras, tpr_keras, label='Keras (area = {:.3f})'.format(auc_keras))\n",
    "#plt.plot(fpr_rf, tpr_rf, label='XGBoost (area = {:.3f})'.format(auc_rf))\n",
    "plt.xlabel('False positive rate')\n",
    "plt.ylabel('True positive rate')\n",
    "plt.title('ROC curve')\n",
    "plt.legend(loc='best')\n",
    "fig.savefig(\"ROC_curve.pdf\")\n",
    "plt.show()\n",
    "print(tpr_keras)\n",
    "print(fpr_keras)\n",
    "print(thresholds_keras)\n",
    "optimal_idx = np.argmax(tpr_keras - fpr_keras)\n",
    "optimal_threshold = thresholds_keras[optimal_idx]\n",
    "print(\"Threshold value is:\", optimal_threshold)\n"
   ]
  },
  {
   "cell_type": "code",
   "execution_count": null,
   "id": "38e8e583",
   "metadata": {},
   "outputs": [],
   "source": [
    "import matplotlib.pyplot as plt\n",
    "fig = plt.figure()\n",
    "plt.hist(prediction[y_test==0],weights=w_test[y_test==0],histtype=(\"step\"),bins=100,label='Bkg')\n",
    "plt.hist(prediction[y_test==1],weights=w_test[y_test==1],histtype=(\"step\"),bins=100,label='HH \\u2192 WW \\u03B3 \\u03B3 ')\n",
    "plt.yscale('log') \n",
    "plt.xlabel('dnn_score')\n",
    "#plt.ylabel('')\n",
    "#plt.title('dnn_score')\n",
    "plt.legend(loc='upper center')\n",
    "fig.savefig(\"prediction.pdf\", dpi = 300)"
   ]
  },
  {
   "cell_type": "code",
   "execution_count": null,
   "id": "86da4315",
   "metadata": {},
   "outputs": [],
   "source": [
    "# evaluate the model\n",
    "scores = model.evaluate(X_test, y_test, sample_weight=w_test, verbose=2)\n",
    "#scores = model.evaluate(X_test, y_test, verbose=2)\n",
    "print(\"%s: %.2f%%\" % (model.metrics_names[1], scores[1]*100))"
   ]
  },
  {
   "cell_type": "code",
   "execution_count": null,
   "id": "051f1247",
   "metadata": {},
   "outputs": [],
   "source": [
    "# save model and architecture to single file\n",
    "model.save(\"model_dnn_10_11\")\n",
    "print(\"Saved model to disk\")"
   ]
  },
  {
   "cell_type": "code",
   "execution_count": null,
   "id": "89de2650",
   "metadata": {},
   "outputs": [],
   "source": []
  },
  {
   "cell_type": "code",
   "execution_count": null,
   "id": "90b4e573",
   "metadata": {},
   "outputs": [],
   "source": []
  }
 ],
 "metadata": {
  "kernelspec": {
   "display_name": "Python 3 (ipykernel)",
   "language": "python",
   "name": "python3"
  },
  "language_info": {
   "codemirror_mode": {
    "name": "ipython",
    "version": 3
   },
   "file_extension": ".py",
   "mimetype": "text/x-python",
   "name": "python",
   "nbconvert_exporter": "python",
   "pygments_lexer": "ipython3",
   "version": "3.8.10"
  }
 },
 "nbformat": 4,
 "nbformat_minor": 5
}
