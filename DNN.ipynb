{
 "cells": [
  {
   "cell_type": "code",
   "execution_count": 2,
   "id": "a0123230",
   "metadata": {},
   "outputs": [
    {
     "name": "stderr",
     "output_type": "stream",
     "text": [
      "2021-12-02 13:37:40.302071: W tensorflow/stream_executor/platform/default/dso_loader.cc:64] Could not load dynamic library 'libcudart.so.11.0'; dlerror: libcudart.so.11.0: cannot open shared object file: No such file or directory\n",
      "2021-12-02 13:37:40.302093: I tensorflow/stream_executor/cuda/cudart_stub.cc:29] Ignore above cudart dlerror if you do not have a GPU set up on your machine.\n"
     ]
    }
   ],
   "source": [
    "import pyarrow.parquet as pq\n",
    "from sklearn.model_selection import train_test_split\n",
    "import tensorflow as tf\n",
    "from tensorflow import keras\n",
    "from tensorflow.keras import layers"
   ]
  },
  {
   "cell_type": "code",
   "execution_count": 3,
   "id": "16348b5d",
   "metadata": {},
   "outputs": [],
   "source": [
    "skim = pq.read_table(\"Skim_neweta.parquet\")"
   ]
  },
  {
   "cell_type": "code",
   "execution_count": 4,
   "id": "f1106b59",
   "metadata": {},
   "outputs": [],
   "source": [
    "df = skim.to_pandas()"
   ]
  },
  {
   "cell_type": "code",
   "execution_count": 5,
   "id": "8c27db3b",
   "metadata": {},
   "outputs": [
    {
     "name": "stdout",
     "output_type": "stream",
     "text": [
      "        weight   Eta_ph1   Phi_ph1  E_mGG_ph1  pT_mGG_ph1   Eta_ph2   Phi_ph2  \\\n",
      "0     0.000025 -2.393572 -2.922358   2.951623    0.534528 -2.449574  0.575581   \n",
      "1     0.000025  1.871283  1.047394   2.573060    0.773788  0.890115 -2.034852   \n",
      "2     0.000025  2.091786 -1.589172   3.478898    0.846155  1.033298  2.798018   \n",
      "3     0.000025  0.276418  0.034514   0.957748    0.922289  1.291733  2.735958   \n",
      "4     0.000025 -0.222354  0.316651   2.682673    2.617695  0.326127  0.229977   \n",
      "...        ...       ...       ...        ...         ...       ...       ...   \n",
      "3691  0.784736  1.767487 -2.685603   2.533158    0.840620  2.022784  1.191282   \n",
      "3692  0.784736 -0.761641 -1.350025   1.366371    1.047554 -2.588544 -0.412600   \n",
      "3693  0.784736  0.137637  2.189009   0.688119    0.681652  1.682014  0.102387   \n",
      "3694  0.784736  0.118838 -2.689873   0.456992    0.453784 -2.057512  0.021551   \n",
      "3695  0.784736  1.119464  2.110899   1.128419    0.665800  1.023254 -1.432882   \n",
      "\n",
      "      E_mGG_ph2  pT_mGG_ph2  Electron_E  ...  Eta_jet1  Phi_jet1      E_jet2  \\\n",
      "0      2.815203    0.482479   32.269810  ... -0.779769  2.665205   38.627937   \n",
      "1      0.364962    0.256472    0.000000  ... -0.190269 -1.665297   63.172352   \n",
      "2      0.483689    0.305538    0.000000  ...  0.436127  2.198083    0.000000   \n",
      "3      0.430226    0.219846   34.023560  ...  1.111015 -2.330503    0.000000   \n",
      "4      1.273944    1.209074    0.000000  ... -0.452895 -2.819101  216.464661   \n",
      "...         ...         ...         ...  ...       ...       ...         ...   \n",
      "3691   1.289162    0.335212  254.808578  ...  1.322532 -0.630228  241.989395   \n",
      "3692   1.230583    0.183868    0.000000  ... -0.111716  1.693608   96.135178   \n",
      "3693   0.693299    0.249282    0.000000  ...  2.096721 -1.638354    0.000000   \n",
      "3694   0.815643    0.205084   28.214743  ...  0.836695 -2.759224   97.275917   \n",
      "3695   0.612859    0.390151   88.095543  ...  1.110637 -2.722576   55.291466   \n",
      "\n",
      "        pT_jet2  Eta_jet2  Phi_jet2    InvM_jet  InvM_jet2         met  \\\n",
      "0     36.823357 -0.242533 -2.739480   56.101810   0.000000   24.312021   \n",
      "1     50.032013 -0.691587  1.763133  179.932816   0.000000   85.148727   \n",
      "2      0.000000  0.000000  0.000000    0.000000   0.000000   78.107925   \n",
      "3      0.000000  0.000000  0.000000    0.000000   0.000000   72.548462   \n",
      "4     44.926739 -2.252025 -2.532822  245.127274   0.000000  314.191620   \n",
      "...         ...       ...       ...         ...        ...         ...   \n",
      "3691  44.082573  2.387387  0.118789   75.661255  31.397030   51.954830   \n",
      "3692  93.528877 -0.133721  2.792945  116.899719  94.383568  204.080811   \n",
      "3693   0.000000  0.000000  0.000000    0.000000   0.000000   47.090668   \n",
      "3694  40.329193  1.525718  0.986804  137.895782   0.000000   20.564157   \n",
      "3695  43.830177  0.700582  1.807223   72.767754   0.000000   50.374668   \n",
      "\n",
      "                                                process  \n",
      "0     GluGluToHHTo2G2Qlnu_node_cHHH1_TuneCP5_14TeV-p...  \n",
      "1     GluGluToHHTo2G2Qlnu_node_cHHH1_TuneCP5_14TeV-p...  \n",
      "2     GluGluToHHTo2G2Qlnu_node_cHHH1_TuneCP5_14TeV-p...  \n",
      "3     GluGluToHHTo2G2Qlnu_node_cHHH1_TuneCP5_14TeV-p...  \n",
      "4     GluGluToHHTo2G2Qlnu_node_cHHH1_TuneCP5_14TeV-p...  \n",
      "...                                                 ...  \n",
      "3691  TTGamma_SingleLeptFromTbar_TuneCUETP8M2T4_14Te...  \n",
      "3692  TTGamma_SingleLeptFromTbar_TuneCUETP8M2T4_14Te...  \n",
      "3693  TTGamma_SingleLeptFromTbar_TuneCUETP8M2T4_14Te...  \n",
      "3694  TTGamma_SingleLeptFromTbar_TuneCUETP8M2T4_14Te...  \n",
      "3695  TTGamma_SingleLeptFromTbar_TuneCUETP8M2T4_14Te...  \n",
      "\n",
      "[335509 rows x 30 columns]\n"
     ]
    }
   ],
   "source": [
    "print(df)"
   ]
  },
  {
   "cell_type": "code",
   "execution_count": 6,
   "id": "9d30264b",
   "metadata": {},
   "outputs": [],
   "source": [
    "df[\"label\"] = 0"
   ]
  },
  {
   "cell_type": "code",
   "execution_count": 7,
   "id": "6ca5fa4e",
   "metadata": {},
   "outputs": [
    {
     "name": "stdout",
     "output_type": "stream",
     "text": [
      "        weight   Eta_ph1   Phi_ph1  E_mGG_ph1  pT_mGG_ph1   Eta_ph2   Phi_ph2  \\\n",
      "0     0.000025 -2.393572 -2.922358   2.951623    0.534528 -2.449574  0.575581   \n",
      "1     0.000025  1.871283  1.047394   2.573060    0.773788  0.890115 -2.034852   \n",
      "2     0.000025  2.091786 -1.589172   3.478898    0.846155  1.033298  2.798018   \n",
      "3     0.000025  0.276418  0.034514   0.957748    0.922289  1.291733  2.735958   \n",
      "4     0.000025 -0.222354  0.316651   2.682673    2.617695  0.326127  0.229977   \n",
      "...        ...       ...       ...        ...         ...       ...       ...   \n",
      "3691  0.784736  1.767487 -2.685603   2.533158    0.840620  2.022784  1.191282   \n",
      "3692  0.784736 -0.761641 -1.350025   1.366371    1.047554 -2.588544 -0.412600   \n",
      "3693  0.784736  0.137637  2.189009   0.688119    0.681652  1.682014  0.102387   \n",
      "3694  0.784736  0.118838 -2.689873   0.456992    0.453784 -2.057512  0.021551   \n",
      "3695  0.784736  1.119464  2.110899   1.128419    0.665800  1.023254 -1.432882   \n",
      "\n",
      "      E_mGG_ph2  pT_mGG_ph2  Electron_E  ...  Phi_jet1      E_jet2    pT_jet2  \\\n",
      "0      2.815203    0.482479   32.269810  ...  2.665205   38.627937  36.823357   \n",
      "1      0.364962    0.256472    0.000000  ... -1.665297   63.172352  50.032013   \n",
      "2      0.483689    0.305538    0.000000  ...  2.198083    0.000000   0.000000   \n",
      "3      0.430226    0.219846   34.023560  ... -2.330503    0.000000   0.000000   \n",
      "4      1.273944    1.209074    0.000000  ... -2.819101  216.464661  44.926739   \n",
      "...         ...         ...         ...  ...       ...         ...        ...   \n",
      "3691   1.289162    0.335212  254.808578  ... -0.630228  241.989395  44.082573   \n",
      "3692   1.230583    0.183868    0.000000  ...  1.693608   96.135178  93.528877   \n",
      "3693   0.693299    0.249282    0.000000  ... -1.638354    0.000000   0.000000   \n",
      "3694   0.815643    0.205084   28.214743  ... -2.759224   97.275917  40.329193   \n",
      "3695   0.612859    0.390151   88.095543  ... -2.722576   55.291466  43.830177   \n",
      "\n",
      "      Eta_jet2  Phi_jet2    InvM_jet  InvM_jet2         met  \\\n",
      "0    -0.242533 -2.739480   56.101810   0.000000   24.312021   \n",
      "1    -0.691587  1.763133  179.932816   0.000000   85.148727   \n",
      "2     0.000000  0.000000    0.000000   0.000000   78.107925   \n",
      "3     0.000000  0.000000    0.000000   0.000000   72.548462   \n",
      "4    -2.252025 -2.532822  245.127274   0.000000  314.191620   \n",
      "...        ...       ...         ...        ...         ...   \n",
      "3691  2.387387  0.118789   75.661255  31.397030   51.954830   \n",
      "3692 -0.133721  2.792945  116.899719  94.383568  204.080811   \n",
      "3693  0.000000  0.000000    0.000000   0.000000   47.090668   \n",
      "3694  1.525718  0.986804  137.895782   0.000000   20.564157   \n",
      "3695  0.700582  1.807223   72.767754   0.000000   50.374668   \n",
      "\n",
      "                                                process  label  \n",
      "0     GluGluToHHTo2G2Qlnu_node_cHHH1_TuneCP5_14TeV-p...      0  \n",
      "1     GluGluToHHTo2G2Qlnu_node_cHHH1_TuneCP5_14TeV-p...      0  \n",
      "2     GluGluToHHTo2G2Qlnu_node_cHHH1_TuneCP5_14TeV-p...      0  \n",
      "3     GluGluToHHTo2G2Qlnu_node_cHHH1_TuneCP5_14TeV-p...      0  \n",
      "4     GluGluToHHTo2G2Qlnu_node_cHHH1_TuneCP5_14TeV-p...      0  \n",
      "...                                                 ...    ...  \n",
      "3691  TTGamma_SingleLeptFromTbar_TuneCUETP8M2T4_14Te...      0  \n",
      "3692  TTGamma_SingleLeptFromTbar_TuneCUETP8M2T4_14Te...      0  \n",
      "3693  TTGamma_SingleLeptFromTbar_TuneCUETP8M2T4_14Te...      0  \n",
      "3694  TTGamma_SingleLeptFromTbar_TuneCUETP8M2T4_14Te...      0  \n",
      "3695  TTGamma_SingleLeptFromTbar_TuneCUETP8M2T4_14Te...      0  \n",
      "\n",
      "[335509 rows x 31 columns]\n"
     ]
    }
   ],
   "source": [
    "print(df)"
   ]
  },
  {
   "cell_type": "code",
   "execution_count": 8,
   "id": "57147667",
   "metadata": {},
   "outputs": [],
   "source": [
    "df.loc[df.process.str.contains(\"HHH\"), ['label']] = 1"
   ]
  },
  {
   "cell_type": "code",
   "execution_count": 9,
   "id": "12b641a7",
   "metadata": {},
   "outputs": [
    {
     "name": "stdout",
     "output_type": "stream",
     "text": [
      "        weight   Eta_ph1   Phi_ph1  E_mGG_ph1  pT_mGG_ph1   Eta_ph2   Phi_ph2  \\\n",
      "0     0.000025 -2.393572 -2.922358   2.951623    0.534528 -2.449574  0.575581   \n",
      "1     0.000025  1.871283  1.047394   2.573060    0.773788  0.890115 -2.034852   \n",
      "2     0.000025  2.091786 -1.589172   3.478898    0.846155  1.033298  2.798018   \n",
      "3     0.000025  0.276418  0.034514   0.957748    0.922289  1.291733  2.735958   \n",
      "4     0.000025 -0.222354  0.316651   2.682673    2.617695  0.326127  0.229977   \n",
      "...        ...       ...       ...        ...         ...       ...       ...   \n",
      "3691  0.784736  1.767487 -2.685603   2.533158    0.840620  2.022784  1.191282   \n",
      "3692  0.784736 -0.761641 -1.350025   1.366371    1.047554 -2.588544 -0.412600   \n",
      "3693  0.784736  0.137637  2.189009   0.688119    0.681652  1.682014  0.102387   \n",
      "3694  0.784736  0.118838 -2.689873   0.456992    0.453784 -2.057512  0.021551   \n",
      "3695  0.784736  1.119464  2.110899   1.128419    0.665800  1.023254 -1.432882   \n",
      "\n",
      "      E_mGG_ph2  pT_mGG_ph2  Electron_E  ...  Phi_jet1      E_jet2    pT_jet2  \\\n",
      "0      2.815203    0.482479   32.269810  ...  2.665205   38.627937  36.823357   \n",
      "1      0.364962    0.256472    0.000000  ... -1.665297   63.172352  50.032013   \n",
      "2      0.483689    0.305538    0.000000  ...  2.198083    0.000000   0.000000   \n",
      "3      0.430226    0.219846   34.023560  ... -2.330503    0.000000   0.000000   \n",
      "4      1.273944    1.209074    0.000000  ... -2.819101  216.464661  44.926739   \n",
      "...         ...         ...         ...  ...       ...         ...        ...   \n",
      "3691   1.289162    0.335212  254.808578  ... -0.630228  241.989395  44.082573   \n",
      "3692   1.230583    0.183868    0.000000  ...  1.693608   96.135178  93.528877   \n",
      "3693   0.693299    0.249282    0.000000  ... -1.638354    0.000000   0.000000   \n",
      "3694   0.815643    0.205084   28.214743  ... -2.759224   97.275917  40.329193   \n",
      "3695   0.612859    0.390151   88.095543  ... -2.722576   55.291466  43.830177   \n",
      "\n",
      "      Eta_jet2  Phi_jet2    InvM_jet  InvM_jet2         met  \\\n",
      "0    -0.242533 -2.739480   56.101810   0.000000   24.312021   \n",
      "1    -0.691587  1.763133  179.932816   0.000000   85.148727   \n",
      "2     0.000000  0.000000    0.000000   0.000000   78.107925   \n",
      "3     0.000000  0.000000    0.000000   0.000000   72.548462   \n",
      "4    -2.252025 -2.532822  245.127274   0.000000  314.191620   \n",
      "...        ...       ...         ...        ...         ...   \n",
      "3691  2.387387  0.118789   75.661255  31.397030   51.954830   \n",
      "3692 -0.133721  2.792945  116.899719  94.383568  204.080811   \n",
      "3693  0.000000  0.000000    0.000000   0.000000   47.090668   \n",
      "3694  1.525718  0.986804  137.895782   0.000000   20.564157   \n",
      "3695  0.700582  1.807223   72.767754   0.000000   50.374668   \n",
      "\n",
      "                                                process  label  \n",
      "0     GluGluToHHTo2G2Qlnu_node_cHHH1_TuneCP5_14TeV-p...      1  \n",
      "1     GluGluToHHTo2G2Qlnu_node_cHHH1_TuneCP5_14TeV-p...      1  \n",
      "2     GluGluToHHTo2G2Qlnu_node_cHHH1_TuneCP5_14TeV-p...      1  \n",
      "3     GluGluToHHTo2G2Qlnu_node_cHHH1_TuneCP5_14TeV-p...      1  \n",
      "4     GluGluToHHTo2G2Qlnu_node_cHHH1_TuneCP5_14TeV-p...      1  \n",
      "...                                                 ...    ...  \n",
      "3691  TTGamma_SingleLeptFromTbar_TuneCUETP8M2T4_14Te...      0  \n",
      "3692  TTGamma_SingleLeptFromTbar_TuneCUETP8M2T4_14Te...      0  \n",
      "3693  TTGamma_SingleLeptFromTbar_TuneCUETP8M2T4_14Te...      0  \n",
      "3694  TTGamma_SingleLeptFromTbar_TuneCUETP8M2T4_14Te...      0  \n",
      "3695  TTGamma_SingleLeptFromTbar_TuneCUETP8M2T4_14Te...      0  \n",
      "\n",
      "[335509 rows x 31 columns]\n"
     ]
    }
   ],
   "source": [
    "print(df)"
   ]
  },
  {
   "cell_type": "code",
   "execution_count": 10,
   "id": "ed4a97fe",
   "metadata": {},
   "outputs": [],
   "source": [
    "input_vars=[\"Eta_ph1\",\"Phi_ph1\",\"E_mGG_ph1\",\"pT_mGG_ph1\",\"Eta_ph2\",\"Phi_ph2\",\"E_mGG_ph2\",\"pT_mGG_ph2\",\"Electron_E\",\"Electron_pT\",\"Electron_Eta\",\"Electron_Phi\",\"Muon_E\",\"Muon_pT\",\"Muon_Eta\",\"Muon_Phi\",\"nJets\",\"E_jet1\",\"pT_jet1\",\"Eta_jet1\",\"Phi_jet1\",\"E_jet2\",\"pT_jet2\",\"Eta_jet2\",\"Phi_jet2\",\"InvM_jet\",\"InvM_jet2\", \"met\"]"
   ]
  },
  {
   "cell_type": "code",
   "execution_count": 11,
   "id": "fb4f4837",
   "metadata": {},
   "outputs": [
    {
     "name": "stdout",
     "output_type": "stream",
     "text": [
      "       Eta_ph1   Phi_ph1  E_mGG_ph1  pT_mGG_ph1   Eta_ph2   Phi_ph2  \\\n",
      "0    -2.393572 -2.922358   2.951623    0.534528 -2.449574  0.575581   \n",
      "1     1.871283  1.047394   2.573060    0.773788  0.890115 -2.034852   \n",
      "2     2.091786 -1.589172   3.478898    0.846155  1.033298  2.798018   \n",
      "3     0.276418  0.034514   0.957748    0.922289  1.291733  2.735958   \n",
      "4    -0.222354  0.316651   2.682673    2.617695  0.326127  0.229977   \n",
      "...        ...       ...        ...         ...       ...       ...   \n",
      "3691  1.767487 -2.685603   2.533158    0.840620  2.022784  1.191282   \n",
      "3692 -0.761641 -1.350025   1.366371    1.047554 -2.588544 -0.412600   \n",
      "3693  0.137637  2.189009   0.688119    0.681652  1.682014  0.102387   \n",
      "3694  0.118838 -2.689873   0.456992    0.453784 -2.057512  0.021551   \n",
      "3695  1.119464  2.110899   1.128419    0.665800  1.023254 -1.432882   \n",
      "\n",
      "      E_mGG_ph2  pT_mGG_ph2  Electron_E  Electron_pT  ...     pT_jet1  \\\n",
      "0      2.815203    0.482479   32.269810    30.670956  ...   75.722549   \n",
      "1      0.364962    0.256472    0.000000     0.000000  ...  152.659454   \n",
      "2      0.483689    0.305538    0.000000     0.000000  ...   35.002209   \n",
      "3      0.430226    0.219846   34.023560    33.640869  ...   34.346485   \n",
      "4      1.273944    1.209074    0.000000     0.000000  ...  306.477936   \n",
      "...         ...         ...         ...          ...  ...         ...   \n",
      "3691   1.289162    0.335212  254.808578    32.371708  ...   69.485191   \n",
      "3692   1.230583    0.183868    0.000000     0.000000  ...  122.305954   \n",
      "3693   0.693299    0.249282    0.000000     0.000000  ...   47.824558   \n",
      "3694   0.815643    0.205084   28.214743    28.194620  ...  111.142715   \n",
      "3695   0.612859    0.390151   88.095543    23.435448  ...   45.873276   \n",
      "\n",
      "      Eta_jet1  Phi_jet1      E_jet2    pT_jet2  Eta_jet2  Phi_jet2  \\\n",
      "0    -0.779769  2.665205   38.627937  36.823357 -0.242533 -2.739480   \n",
      "1    -0.190269 -1.665297   63.172352  50.032013 -0.691587  1.763133   \n",
      "2     0.436127  2.198083    0.000000   0.000000  0.000000  0.000000   \n",
      "3     1.111015 -2.330503    0.000000   0.000000  0.000000  0.000000   \n",
      "4    -0.452895 -2.819101  216.464661  44.926739 -2.252025 -2.532822   \n",
      "...        ...       ...         ...        ...       ...       ...   \n",
      "3691  1.322532 -0.630228  241.989395  44.082573  2.387387  0.118789   \n",
      "3692 -0.111716  1.693608   96.135178  93.528877 -0.133721  2.792945   \n",
      "3693  2.096721 -1.638354    0.000000   0.000000  0.000000  0.000000   \n",
      "3694  0.836695 -2.759224   97.275917  40.329193  1.525718  0.986804   \n",
      "3695  1.110637 -2.722576   55.291466  43.830177  0.700582  1.807223   \n",
      "\n",
      "        InvM_jet  InvM_jet2         met  \n",
      "0      56.101810   0.000000   24.312021  \n",
      "1     179.932816   0.000000   85.148727  \n",
      "2       0.000000   0.000000   78.107925  \n",
      "3       0.000000   0.000000   72.548462  \n",
      "4     245.127274   0.000000  314.191620  \n",
      "...          ...        ...         ...  \n",
      "3691   75.661255  31.397030   51.954830  \n",
      "3692  116.899719  94.383568  204.080811  \n",
      "3693    0.000000   0.000000   47.090668  \n",
      "3694  137.895782   0.000000   20.564157  \n",
      "3695   72.767754   0.000000   50.374668  \n",
      "\n",
      "[335509 rows x 28 columns]\n"
     ]
    }
   ],
   "source": [
    "print(df[input_vars])"
   ]
  },
  {
   "cell_type": "code",
   "execution_count": 12,
   "id": "b2d3b075",
   "metadata": {},
   "outputs": [],
   "source": [
    "df_clean = df[input_vars].copy()\n",
    "df_clean[\"label\"] = df.loc[:,\"label\"]\n",
    "df_clean.to_csv(\"dataframe_HHWWgg.csv\")\n"
   ]
  },
  {
   "cell_type": "code",
   "execution_count": 34,
   "id": "6fe45642",
   "metadata": {},
   "outputs": [],
   "source": [
    "X_train, X_test, y_train, y_test,w_train, w_test = train_test_split(df[input_vars], df.label, df.weight, \n",
    "                                                    test_size=0.33, random_state=42)"
   ]
  },
  {
   "cell_type": "code",
   "execution_count": 35,
   "id": "6bc055e3",
   "metadata": {},
   "outputs": [
    {
     "name": "stdout",
     "output_type": "stream",
     "text": [
      "        Eta_ph1   Phi_ph1  E_mGG_ph1  pT_mGG_ph1   Eta_ph2   Phi_ph2  \\\n",
      "34136  0.057177  0.345513   0.768055    0.766801 -0.826898  1.577488   \n",
      "7721  -2.569575 -1.486616   3.536711    0.538442 -2.733758  2.299979   \n",
      "92388  0.270710 -1.123389   0.576167    0.555681 -1.713670 -1.740383   \n",
      "26658 -0.332751 -1.438163   3.501870    3.316559  0.360015 -1.666789   \n",
      "60895  1.469115  2.982729   1.162908    0.508318  0.031838 -0.485319   \n",
      "...         ...       ...        ...         ...       ...       ...   \n",
      "49980  0.112235  1.455793   1.439577    1.430557 -0.652633  1.940947   \n",
      "8560   0.585558  1.438181   0.973537    0.827561  0.022277 -2.018127   \n",
      "62033  0.637464 -3.004317   1.043250    0.862080  0.982383  0.993843   \n",
      "76968  0.388067  0.935610   0.769792    0.715256  0.220403 -1.414086   \n",
      "52059  1.350768 -2.877273   2.051052    0.995794  2.114313 -0.926461   \n",
      "\n",
      "       E_mGG_ph2  pT_mGG_ph2  Electron_E  Electron_pT  ...     pT_jet1  \\\n",
      "34136   0.818760    0.601229    0.000000     0.000000  ...  295.022339   \n",
      "7721    3.958964    0.512302  447.031342    72.055771  ...   64.865280   \n",
      "92388   0.891818    0.311308   33.189693    28.158421  ...  226.983475   \n",
      "26658   0.582568    0.546751    0.000000     0.000000  ...  141.373505   \n",
      "60895   0.310396    0.310239    0.000000     0.000000  ...   90.832703   \n",
      "...          ...         ...         ...          ...  ...         ...   \n",
      "49980   1.009890    0.827350  317.140076    46.463551  ...  136.981232   \n",
      "8560    0.285905    0.285834    0.000000     0.000000  ...  149.415634   \n",
      "62033   0.514897    0.338166    0.000000     0.000000  ...  155.039307   \n",
      "76968   0.417165    0.407233    0.000000     0.000000  ...   95.049736   \n",
      "52059   1.258309    0.299433    0.000000     0.000000  ...   86.543945   \n",
      "\n",
      "       Eta_jet1  Phi_jet1      E_jet2     pT_jet2  Eta_jet2  Phi_jet2  \\\n",
      "34136 -0.100083 -2.685361  105.996223   98.424911 -0.387475  0.632522   \n",
      "7721  -2.409499  2.955694    0.000000    0.000000  0.000000  0.000000   \n",
      "92388 -1.388759  1.344601  155.907822  111.910034 -0.856820 -0.843615   \n",
      "26658  0.540137  1.688240  179.456894   75.885025  1.503648  1.324828   \n",
      "60895  0.820197  0.954477  141.552521   79.172417  1.180877  0.070569   \n",
      "...         ...       ...         ...         ...       ...       ...   \n",
      "49980  0.993140 -1.472938  135.769974   89.130020 -0.978730 -1.683818   \n",
      "8560  -2.055285 -1.212416  362.582489  102.487923 -1.933982 -0.194498   \n",
      "62033 -0.286188 -2.459316   57.540829   50.442581 -0.499543  0.530969   \n",
      "76968  0.208032  3.016046   80.448181   75.930092 -0.320807  1.115828   \n",
      "52059  0.755496  0.080786   32.647923   31.935377  0.167052 -1.332096   \n",
      "\n",
      "         InvM_jet   InvM_jet2         met  \n",
      "34136  346.114166  167.076141  259.344330  \n",
      "7721     0.000000    0.000000   39.438347  \n",
      "92388  296.670166  206.828400  170.642792  \n",
      "26658  112.573067   89.364159  238.908279  \n",
      "60895   82.581444  112.205688  194.508255  \n",
      "...           ...         ...         ...  \n",
      "49980  256.828400  199.835922  246.390366  \n",
      "8560   136.171768  385.529510  142.107819  \n",
      "62033  178.565857   69.599075  158.150208  \n",
      "76968  147.152527    0.000000   48.564438  \n",
      "52059   76.838722    0.000000  146.399933  \n",
      "\n",
      "[224791 rows x 28 columns]\n"
     ]
    }
   ],
   "source": [
    "print(X_train)"
   ]
  },
  {
   "cell_type": "code",
   "execution_count": 36,
   "id": "9a2ee770",
   "metadata": {},
   "outputs": [
    {
     "name": "stdout",
     "output_type": "stream",
     "text": [
      "         Eta_ph1   Phi_ph1  E_mGG_ph1  pT_mGG_ph1   Eta_ph2   Phi_ph2  \\\n",
      "6250   -1.072263  1.662017   0.727666    0.445844  0.396845 -0.778597   \n",
      "4144    2.358899  1.358941   2.655672    0.497605  1.753551 -2.306685   \n",
      "90774   0.151232  0.714887   1.115735    1.103096  0.415717 -1.148945   \n",
      "43295   0.986995 -0.956442   1.110630    0.726886  0.441631  2.434214   \n",
      "73023   0.726484  2.534710   1.577874    1.236868 -0.489011 -2.834955   \n",
      "...          ...       ...        ...         ...       ...       ...   \n",
      "24112   0.485446  2.117396   1.931196    1.724034  0.448685  2.706167   \n",
      "153413  1.450403 -2.403589   0.760150    0.337896 -1.284254 -3.039068   \n",
      "96072  -2.570435 -2.452506   2.789517    0.424326 -0.395019 -1.701105   \n",
      "2933    2.663880  0.381031   6.625505    0.918835  2.351120 -1.977981   \n",
      "2966   -0.457320 -0.687372   0.664367    0.600473 -0.334350  2.199187   \n",
      "\n",
      "        E_mGG_ph2  pT_mGG_ph2   Electron_E  Electron_pT  ...     pT_jet1  \\\n",
      "6250     0.396775    0.367459    42.441544    26.552862  ...  289.076874   \n",
      "4144     1.454442    0.489033   576.413513    57.948112  ...  105.859329   \n",
      "90774    0.372348    0.342338  1284.846924   204.714813  ...  120.962852   \n",
      "43295    0.356359    0.324224     0.000000     0.000000  ...  223.160217   \n",
      "73023    0.370761    0.330456     0.000000     0.000000  ...  103.319984   \n",
      "...           ...         ...          ...          ...  ...         ...   \n",
      "24112    1.891156    1.715553     0.000000     0.000000  ...   84.830177   \n",
      "153413   0.415192    0.213530    61.451874    36.151066  ...  162.629105   \n",
      "96072    0.340973    0.315996     0.000000     0.000000  ...    0.000000   \n",
      "2933     1.639028    0.309467     0.000000     0.000000  ...    0.000000   \n",
      "2966     0.445344    0.421561   422.216278    64.981110  ...  139.117172   \n",
      "\n",
      "        Eta_jet1  Phi_jet1      E_jet2     pT_jet2  Eta_jet2  Phi_jet2  \\\n",
      "6250   -0.260194 -1.092151   77.827835   76.853691 -0.119325  2.454995   \n",
      "4144    2.029965  1.917684  110.080582   50.780113  1.404918 -0.663195   \n",
      "90774   2.450992 -1.137498   70.116669   60.952610 -0.535322 -1.048222   \n",
      "43295  -1.724519  1.853058  311.404480  112.964554  1.671705 -1.311779   \n",
      "73023   1.167279 -1.226197   49.180237   46.190418  0.325409 -1.577645   \n",
      "...          ...       ...         ...         ...       ...       ...   \n",
      "24112  -1.578355 -0.925859  122.265778   67.112663  1.205300 -0.672168   \n",
      "153413 -0.084126  1.385168   56.907925   56.622120  0.067857  1.779480   \n",
      "96072   0.000000  0.000000    0.000000    0.000000  0.000000  0.000000   \n",
      "2933    0.000000  0.000000    0.000000    0.000000  0.000000  0.000000   \n",
      "2966   -0.121757  2.924992  312.353485   73.251053  2.129263  0.613841   \n",
      "\n",
      "          InvM_jet   InvM_jet2         met  \n",
      "6250    294.222839   96.883766   46.243141  \n",
      "4144    150.543701  150.680527   45.350494  \n",
      "90774   363.550903  134.084900   79.798737  \n",
      "43295   896.909607   58.526436    6.616417  \n",
      "73023    66.421417   80.684395  178.203445  \n",
      "...            ...         ...         ...  \n",
      "24112   285.941986    0.000000  234.380371  \n",
      "153413   42.704678    0.000000  154.558228  \n",
      "96072     0.000000    0.000000   39.732639  \n",
      "2933      0.000000    0.000000   45.845867  \n",
      "2966    334.742126  207.246292   51.834766  \n",
      "\n",
      "[110718 rows x 28 columns]\n"
     ]
    }
   ],
   "source": [
    "print(X_test)"
   ]
  },
  {
   "cell_type": "code",
   "execution_count": 32,
   "id": "8a3c62ed",
   "metadata": {},
   "outputs": [],
   "source": [
    "inputs = keras.Input(shape=(len(input_vars),), name=\"particles\")\n",
    "x = layers.Dense(64, activation=\"relu\", name=\"dense_1\")(inputs)\n",
    "x = layers.Dense(64, activation=\"relu\", name=\"dense_2\")(x)\n",
    "outputs = layers.Dense(1, activation=\"sigmoid\", name=\"predictions\")(x)\n",
    "\n",
    "model = keras.Model(inputs=inputs, outputs=outputs)"
   ]
  },
  {
   "cell_type": "code",
   "execution_count": 33,
   "id": "40426231",
   "metadata": {},
   "outputs": [],
   "source": [
    "model.compile(\n",
    "    optimizer=keras.optimizers.RMSprop(),  # Optimizer\n",
    "    # Loss function to minimize\n",
    "    loss=keras.losses.BinaryCrossentropy(),\n",
    "    # List of metrics to monitor\n",
    "    metrics=[keras.metrics.BinaryAccuracy()],\n",
    ")"
   ]
  },
  {
   "cell_type": "code",
   "execution_count": 46,
   "id": "de58eccd",
   "metadata": {},
   "outputs": [],
   "source": [
    "X_val = X_train[-3000:]\n",
    "y_val = y_train[-3000:]\n",
    "w_val = w_train[-3000:]\n",
    "X_train = X_train[:-3000]\n",
    "y_train = y_train[:-3000]\n",
    "w_train = w_train[:-3000]"
   ]
  },
  {
   "cell_type": "code",
   "execution_count": 47,
   "id": "f5baa6a5",
   "metadata": {},
   "outputs": [
    {
     "name": "stdout",
     "output_type": "stream",
     "text": [
      "         Eta_ph1   Phi_ph1  E_mGG_ph1  pT_mGG_ph1   Eta_ph2   Phi_ph2  \\\n",
      "34136   0.057177  0.345513   0.768055    0.766801 -0.826898  1.577488   \n",
      "7721   -2.569575 -1.486616   3.536711    0.538442 -2.733758  2.299979   \n",
      "92388   0.270710 -1.123389   0.576167    0.555681 -1.713670 -1.740383   \n",
      "26658  -0.332751 -1.438163   3.501870    3.316559  0.360015 -1.666789   \n",
      "60895   1.469115  2.982729   1.162908    0.508318  0.031838 -0.485319   \n",
      "...          ...       ...        ...         ...       ...       ...   \n",
      "139586  0.916275  2.373846   1.269876    0.875787  0.488028  0.727581   \n",
      "3704   -0.379656 -0.748872   0.620624    0.578433  0.999270  1.009912   \n",
      "20157   0.072576  0.196121   0.318718    0.317880 -2.232246 -1.344043   \n",
      "137892  0.474690 -0.021929   0.728349    0.653347 -0.948858 -0.547173   \n",
      "82856  -0.477069  2.396670   0.719896    0.645085  0.098753 -1.917348   \n",
      "\n",
      "        E_mGG_ph2  pT_mGG_ph2  Electron_E  Electron_pT  ...     pT_jet1  \\\n",
      "34136    0.818760    0.601229    0.000000     0.000000  ...  295.022339   \n",
      "7721     3.958964    0.512302  447.031342    72.055771  ...   64.865280   \n",
      "92388    0.891818    0.311308   33.189693    28.158421  ...  226.983475   \n",
      "26658    0.582568    0.546751    0.000000     0.000000  ...  141.373505   \n",
      "60895    0.310396    0.310239    0.000000     0.000000  ...   90.832703   \n",
      "...           ...         ...         ...          ...  ...         ...   \n",
      "139586   0.547934    0.488586    0.000000     0.000000  ...  121.798958   \n",
      "3704     0.580083    0.376134    0.000000     0.000000  ...  134.943359   \n",
      "20157    1.473980    0.312679    0.000000     0.000000  ...   54.339413   \n",
      "137892   0.853730    0.574914    0.000000     0.000000  ...   99.954140   \n",
      "82856    0.499812    0.497385    0.000000     0.000000  ...  150.182922   \n",
      "\n",
      "        Eta_jet1  Phi_jet1      E_jet2     pT_jet2  Eta_jet2  Phi_jet2  \\\n",
      "34136  -0.100083 -2.685361  105.996223   98.424911 -0.387475  0.632522   \n",
      "7721   -2.409499  2.955694    0.000000    0.000000  0.000000  0.000000   \n",
      "92388  -1.388759  1.344601  155.907822  111.910034 -0.856820 -0.843615   \n",
      "26658   0.540137  1.688240  179.456894   75.885025  1.503648  1.324828   \n",
      "60895   0.820197  0.954477  141.552521   79.172417  1.180877  0.070569   \n",
      "...          ...       ...         ...         ...       ...       ...   \n",
      "139586  0.457808  3.019979    0.000000    0.000000  0.000000  0.000000   \n",
      "3704   -0.975425 -0.482745   89.793259   89.113747  0.020331  1.928887   \n",
      "20157  -0.032340  2.091737  267.504517   48.651989  2.389086 -1.907654   \n",
      "137892 -2.051028  2.466800   91.323219   74.356071 -0.654668  0.309243   \n",
      "82856  -0.607238  3.009260  137.229706   72.547516 -1.250545  1.330232   \n",
      "\n",
      "          InvM_jet   InvM_jet2         met  \n",
      "34136   346.114166  167.076141  259.344330  \n",
      "7721      0.000000    0.000000   39.438347  \n",
      "92388   296.670166  206.828400  170.642792  \n",
      "26658   112.573067   89.364159  238.908279  \n",
      "60895    82.581444  112.205688  194.508255  \n",
      "...            ...         ...         ...  \n",
      "139586    0.000000    0.000000  112.462967  \n",
      "3704    235.643539  160.121445  288.127380  \n",
      "20157   184.183105    0.000000   49.159264  \n",
      "137892  202.110855    0.000000   99.134941  \n",
      "82856   171.302032  102.432602   96.115959  \n",
      "\n",
      "[212791 rows x 28 columns]\n"
     ]
    }
   ],
   "source": [
    "print(X_train)"
   ]
  },
  {
   "cell_type": "code",
   "execution_count": 48,
   "id": "bfa63501",
   "metadata": {},
   "outputs": [
    {
     "name": "stdout",
     "output_type": "stream",
     "text": [
      "Epoch 1/10\n",
      "1663/1663 [==============================] - 2s 1ms/step - loss: 1.7009e-04 - binary_accuracy: 0.8005 - val_loss: 454.1929 - val_binary_accuracy: 0.7987\n",
      "Epoch 2/10\n",
      "1663/1663 [==============================] - 2s 1ms/step - loss: 1.3812e-04 - binary_accuracy: 0.8005 - val_loss: 352.4904 - val_binary_accuracy: 0.7987\n",
      "Epoch 3/10\n",
      "1663/1663 [==============================] - 2s 1ms/step - loss: 6.4601e-04 - binary_accuracy: 0.8005 - val_loss: 397.8209 - val_binary_accuracy: 0.7987\n",
      "Epoch 4/10\n",
      "1663/1663 [==============================] - 2s 1ms/step - loss: 2.1852e-04 - binary_accuracy: 0.8005 - val_loss: 404.7775 - val_binary_accuracy: 0.7987\n",
      "Epoch 5/10\n",
      "1663/1663 [==============================] - 2s 1ms/step - loss: 9.4990e-04 - binary_accuracy: 0.8005 - val_loss: 417.6068 - val_binary_accuracy: 0.7987\n",
      "Epoch 6/10\n",
      "1663/1663 [==============================] - 2s 1ms/step - loss: 8.1902e-04 - binary_accuracy: 0.8005 - val_loss: 449.1705 - val_binary_accuracy: 0.7987\n",
      "Epoch 7/10\n",
      "1663/1663 [==============================] - 2s 1ms/step - loss: 1.2995e-04 - binary_accuracy: 0.8005 - val_loss: 484.2901 - val_binary_accuracy: 0.7987\n",
      "Epoch 8/10\n",
      "1663/1663 [==============================] - 2s 1ms/step - loss: 1.3485e-04 - binary_accuracy: 0.8005 - val_loss: 415.7212 - val_binary_accuracy: 0.7987\n",
      "Epoch 9/10\n",
      "1663/1663 [==============================] - 2s 1ms/step - loss: 1.6298e-04 - binary_accuracy: 0.8005 - val_loss: 387.4208 - val_binary_accuracy: 0.7987\n",
      "Epoch 10/10\n",
      "1663/1663 [==============================] - 2s 1ms/step - loss: 1.7873e-04 - binary_accuracy: 0.8005 - val_loss: 408.2468 - val_binary_accuracy: 0.7987\n"
     ]
    }
   ],
   "source": [
    "history = model.fit(\n",
    "    X_train,\n",
    "    y_train,\n",
    "    batch_size=128,\n",
    "    epochs=10,\n",
    "    sample_weight=w_train,\n",
    "    # We pass some validation for\n",
    "    # monitoring validation loss and metrics\n",
    "    # at the end of each epoch\n",
    "    validation_data=(X_val, y_val,w_val),\n",
    ")"
   ]
  },
  {
   "cell_type": "code",
   "execution_count": 49,
   "id": "94334845",
   "metadata": {},
   "outputs": [
    {
     "data": {
      "image/png": "[encoded data removed]",
      "text/plain": [
       "<Figure size 432x288 with 1 Axes>"
      ]
     },
     "metadata": {
      "needs_background": "light"
     },
     "output_type": "display_data"
    }
   ],
   "source": [
    "import matplotlib.pyplot as plt\n",
    "plt.plot(history.history['loss'],color='m',label='Training loss')\n",
    "plt.plot(history.history['val_loss'],color='b',label='Validation loss')\n",
    "plt.xlabel('Epoch')\n",
    "plt.ylabel('Loss function')\n",
    "plt.legend(loc='upper right')\n",
    "#plt.savefig('plots/2016_training_validation.pdf')\n",
    "plt.show()"
   ]
  },
  {
   "cell_type": "code",
   "execution_count": 41,
   "id": "1f10f696",
   "metadata": {},
   "outputs": [
    {
     "name": "stdout",
     "output_type": "stream",
     "text": [
      "[[8.2171427e-18]\n",
      " [1.5157635e-17]\n",
      " [2.4367376e-36]\n",
      " ...\n",
      " [3.1085342e-06]\n",
      " [2.7743101e-09]\n",
      " [1.7416067e-18]]\n"
     ]
    },
    {
     "data": {
      "image/png": "[encoded data removed]",
      "text/plain": [
       "<Figure size 432x288 with 1 Axes>"
      ]
     },
     "metadata": {
      "needs_background": "light"
     },
     "output_type": "display_data"
    }
   ],
   "source": [
    "prediction = model.predict(X_test)\n",
    "from sklearn.metrics import roc_curve\n",
    "#y_pred_keras = keras_model.predict(X_test).ravel()\n",
    "fpr_keras, tpr_keras, thresholds_keras = roc_curve(y_test, prediction)\n",
    "\n",
    "from sklearn.metrics import auc\n",
    "auc_keras = auc(fpr_keras, tpr_keras)\n",
    "\n",
    "print(prediction)\n",
    "\n",
    "plt.figure(1)\n",
    "plt.plot([0, 1], [0, 1], 'k--')\n",
    "plt.plot(fpr_keras, tpr_keras, label='Keras (area = {:.3f})'.format(auc_keras))\n",
    "#plt.plot(fpr_rf, tpr_rf, label='XGBoost (area = {:.3f})'.format(auc_rf))\n",
    "plt.xlabel('False positive rate')\n",
    "plt.ylabel('True positive rate')\n",
    "plt.title('ROC curve')\n",
    "plt.legend(loc='best')\n",
    "plt.savefig(\"ROC_curve.pdf\")\n",
    "plt.show()"
   ]
  },
  {
   "cell_type": "code",
   "execution_count": 46,
   "id": "38e8e583",
   "metadata": {},
   "outputs": [
    {
     "data": {
      "image/png": "[encoded data removed]",
      "text/plain": [
       "<Figure size 432x288 with 1 Axes>"
      ]
     },
     "metadata": {
      "needs_background": "light"
     },
     "output_type": "display_data"
    }
   ],
   "source": [
    "plt.hist(prediction[y_test==0],histtype=(\"step\"));\n",
    "plt.hist(prediction[y_test==1],histtype=(\"step\"));\n",
    "plt.yscale('log') \n",
    "plt.savefig(\"prediction.pdf\", dpi = 300)"
   ]
  },
  {
   "cell_type": "code",
   "execution_count": 47,
   "id": "86da4315",
   "metadata": {},
   "outputs": [
    {
     "name": "stdout",
     "output_type": "stream",
     "text": [
      "3460/3460 - 2s - loss: 0.3782 - binary_accuracy: 0.8355 - 2s/epoch - 459us/step\n",
      "binary_accuracy: 83.55%\n"
     ]
    }
   ],
   "source": [
    "# evaluate the model\n",
    "scores = model.evaluate(X_test, y_test, w_test, verbose=2)\n",
    "print(\"%s: %.2f%%\" % (model.metrics_names[1], scores[1]*100))"
   ]
  },
  {
   "cell_type": "code",
   "execution_count": 48,
   "id": "051f1247",
   "metadata": {},
   "outputs": [
    {
     "name": "stdout",
     "output_type": "stream",
     "text": [
      "INFO:tensorflow:Assets written to: model_dnn_neweta/assets\n",
      "Saved model to disk\n"
     ]
    }
   ],
   "source": [
    "# save model and architecture to single file\n",
    "model.save(\"model_dnn_neweta\")\n",
    "print(\"Saved model to disk\")"
   ]
  },
  {
   "cell_type": "code",
   "execution_count": null,
   "id": "89de2650",
   "metadata": {},
   "outputs": [],
   "source": []
  }
 ],
 "metadata": {
  "kernelspec": {
   "display_name": "Python 3 (ipykernel)",
   "language": "python",
   "name": "python3"
  },
  "language_info": {
   "codemirror_mode": {
    "name": "ipython",
    "version": 3
   },
   "file_extension": ".py",
   "mimetype": "text/x-python",
   "name": "python",
   "nbconvert_exporter": "python",
   "pygments_lexer": "ipython3",
   "version": "3.8.10"
  }
 },
 "nbformat": 4,
 "nbformat_minor": 5
}
