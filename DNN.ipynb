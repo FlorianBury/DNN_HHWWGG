{
 "cells": [
  {
   "cell_type": "code",
   "execution_count": 1,
   "id": "a0123230",
   "metadata": {},
   "outputs": [
    {
     "name": "stderr",
     "output_type": "stream",
     "text": [
      "2021-12-02 17:37:34.343970: W tensorflow/stream_executor/platform/default/dso_loader.cc:64] Could not load dynamic library 'libcudart.so.11.0'; dlerror: libcudart.so.11.0: cannot open shared object file: No such file or directory\n",
      "2021-12-02 17:37:34.343991: I tensorflow/stream_executor/cuda/cudart_stub.cc:29] Ignore above cudart dlerror if you do not have a GPU set up on your machine.\n"
     ]
    }
   ],
   "source": [
    "import pyarrow.parquet as pq\n",
    "import pandas as pd\n",
    "from sklearn.model_selection import train_test_split\n",
    "import tensorflow as tf\n",
    "from tensorflow import keras\n",
    "from tensorflow.keras import layers\n",
    "from tensorflow.keras.callbacks import EarlyStopping, ReduceLROnPlateau"
   ]
  },
  {
   "cell_type": "code",
   "execution_count": 2,
   "id": "9310136c",
   "metadata": {},
   "outputs": [],
   "source": [
    "early_stopping = EarlyStopping(monitor = 'val_loss',\n",
    "                               min_delta = 0,\n",
    "                               patience = 30,\n",
    "                               verbose=2,\n",
    "                               mode='min')\n",
    "# Stop the learning when val_loss stops increasing \n",
    "# https://keras.io/api/callbacks/early_stopping/\n",
    "\n",
    "reduce_plateau = ReduceLROnPlateau(monitor = 'val_loss',\n",
    "                                   factor = 0.1,\n",
    "                                   min_delta = 0,\n",
    "                                   patience = 10,\n",
    "                                   verbose=2,\n",
    "                                   mode='min')\n",
    "# reduce LR if not improvement for some time \n",
    "# https://keras.io/api/callbacks/reduce_lr_on_plateau/ "
   ]
  },
  {
   "cell_type": "code",
   "execution_count": 3,
   "id": "16348b5d",
   "metadata": {},
   "outputs": [],
   "source": [
    "df = pd.read_parquet(\"Skim_neweta.parquet\")"
   ]
  },
  {
   "cell_type": "code",
   "execution_count": 4,
   "id": "9d30264b",
   "metadata": {},
   "outputs": [],
   "source": [
    "df[\"label\"] = 0\n",
    "df = df[df['weight']>0]"
   ]
  },
  {
   "cell_type": "code",
   "execution_count": 5,
   "id": "6ca5fa4e",
   "metadata": {},
   "outputs": [
    {
     "name": "stdout",
     "output_type": "stream",
     "text": [
      "        weight   Eta_ph1   Phi_ph1  E_mGG_ph1  pT_mGG_ph1   Eta_ph2   Phi_ph2  \\\n",
      "0     0.000025 -2.393572 -2.922358   2.951623    0.534528 -2.449574  0.575581   \n",
      "1     0.000025  1.871283  1.047394   2.573060    0.773788  0.890115 -2.034852   \n",
      "2     0.000025  2.091786 -1.589172   3.478898    0.846155  1.033298  2.798018   \n",
      "3     0.000025  0.276418  0.034514   0.957748    0.922289  1.291733  2.735958   \n",
      "4     0.000025 -0.222354  0.316651   2.682673    2.617695  0.326127  0.229977   \n",
      "...        ...       ...       ...        ...         ...       ...       ...   \n",
      "3691  0.784736  1.767487 -2.685603   2.533158    0.840620  2.022784  1.191282   \n",
      "3692  0.784736 -0.761641 -1.350025   1.366371    1.047554 -2.588544 -0.412600   \n",
      "3693  0.784736  0.137637  2.189009   0.688119    0.681652  1.682014  0.102387   \n",
      "3694  0.784736  0.118838 -2.689873   0.456992    0.453784 -2.057512  0.021551   \n",
      "3695  0.784736  1.119464  2.110899   1.128419    0.665800  1.023254 -1.432882   \n",
      "\n",
      "      E_mGG_ph2  pT_mGG_ph2  Electron_E  ...  Phi_jet1      E_jet2    pT_jet2  \\\n",
      "0      2.815203    0.482479   32.269810  ...  2.665205   38.627937  36.823357   \n",
      "1      0.364962    0.256472    0.000000  ... -1.665297   63.172352  50.032013   \n",
      "2      0.483689    0.305538    0.000000  ...  2.198083    0.000000   0.000000   \n",
      "3      0.430226    0.219846   34.023560  ... -2.330503    0.000000   0.000000   \n",
      "4      1.273944    1.209074    0.000000  ... -2.819101  216.464661  44.926739   \n",
      "...         ...         ...         ...  ...       ...         ...        ...   \n",
      "3691   1.289162    0.335212  254.808578  ... -0.630228  241.989395  44.082573   \n",
      "3692   1.230583    0.183868    0.000000  ...  1.693608   96.135178  93.528877   \n",
      "3693   0.693299    0.249282    0.000000  ... -1.638354    0.000000   0.000000   \n",
      "3694   0.815643    0.205084   28.214743  ... -2.759224   97.275917  40.329193   \n",
      "3695   0.612859    0.390151   88.095543  ... -2.722576   55.291466  43.830177   \n",
      "\n",
      "      Eta_jet2  Phi_jet2    InvM_jet  InvM_jet2         met  \\\n",
      "0    -0.242533 -2.739480   56.101810   0.000000   24.312021   \n",
      "1    -0.691587  1.763133  179.932816   0.000000   85.148727   \n",
      "2     0.000000  0.000000    0.000000   0.000000   78.107925   \n",
      "3     0.000000  0.000000    0.000000   0.000000   72.548462   \n",
      "4    -2.252025 -2.532822  245.127274   0.000000  314.191620   \n",
      "...        ...       ...         ...        ...         ...   \n",
      "3691  2.387387  0.118789   75.661255  31.397030   51.954830   \n",
      "3692 -0.133721  2.792945  116.899719  94.383568  204.080811   \n",
      "3693  0.000000  0.000000    0.000000   0.000000   47.090668   \n",
      "3694  1.525718  0.986804  137.895782   0.000000   20.564157   \n",
      "3695  0.700582  1.807223   72.767754   0.000000   50.374668   \n",
      "\n",
      "                                                process  label  \n",
      "0     GluGluToHHTo2G2Qlnu_node_cHHH1_TuneCP5_14TeV-p...      0  \n",
      "1     GluGluToHHTo2G2Qlnu_node_cHHH1_TuneCP5_14TeV-p...      0  \n",
      "2     GluGluToHHTo2G2Qlnu_node_cHHH1_TuneCP5_14TeV-p...      0  \n",
      "3     GluGluToHHTo2G2Qlnu_node_cHHH1_TuneCP5_14TeV-p...      0  \n",
      "4     GluGluToHHTo2G2Qlnu_node_cHHH1_TuneCP5_14TeV-p...      0  \n",
      "...                                                 ...    ...  \n",
      "3691  TTGamma_SingleLeptFromTbar_TuneCUETP8M2T4_14Te...      0  \n",
      "3692  TTGamma_SingleLeptFromTbar_TuneCUETP8M2T4_14Te...      0  \n",
      "3693  TTGamma_SingleLeptFromTbar_TuneCUETP8M2T4_14Te...      0  \n",
      "3694  TTGamma_SingleLeptFromTbar_TuneCUETP8M2T4_14Te...      0  \n",
      "3695  TTGamma_SingleLeptFromTbar_TuneCUETP8M2T4_14Te...      0  \n",
      "\n",
      "[267349 rows x 31 columns]\n"
     ]
    }
   ],
   "source": [
    "print(df)"
   ]
  },
  {
   "cell_type": "code",
   "execution_count": 6,
   "id": "57147667",
   "metadata": {},
   "outputs": [],
   "source": [
    "df.loc[df.process.str.contains(\"HHH\"), ['label']] = 1"
   ]
  },
  {
   "cell_type": "code",
   "execution_count": 7,
   "id": "8aa03dbe",
   "metadata": {},
   "outputs": [],
   "source": [
    "batch_size = 128\n",
    "\n",
    "\n",
    "def checkBatches(df):\n",
    "    N_checks = 1000\n",
    "    sum_sig = 0.\n",
    "    N_sig = 0\n",
    "    sum_back = 0.\n",
    "    N_back = 0\n",
    "    for i in range(N_checks):\n",
    "        rnd_df = df.sample(batch_size)\n",
    "        sum_sig  += rnd_df[rnd_df['label']==1]['weight'].sum()\n",
    "        sum_back += rnd_df[rnd_df['label']==0]['weight'].sum()\n",
    "        N_sig    += rnd_df[rnd_df['label']==1].shape[0]\n",
    "        N_back   += rnd_df[rnd_df['label']==0].shape[0]\n",
    "    sum_sig  /= N_checks\n",
    "    sum_back /= N_checks\n",
    "    N_sig    /= N_checks\n",
    "    N_back   /= N_checks\n",
    "\n",
    "    print (f'On average, per batch the total learning weight is\\n\\t... signal     : {sum_sig:12.6f} [{N_sig} events] \\n\\t... background : {sum_back:12.6f} [{N_back} events]')\n",
    "\n"
   ]
  },
  {
   "cell_type": "code",
   "execution_count": 8,
   "id": "3daa75df",
   "metadata": {},
   "outputs": [
    {
     "name": "stdout",
     "output_type": "stream",
     "text": [
      "On average, per batch the total learning weight is\n",
      "\t... signal     :     0.000776 [30.416 events] \n",
      "\t... background :  5554.040672 [97.584 events]\n"
     ]
    }
   ],
   "source": [
    "checkBatches(df)"
   ]
  },
  {
   "cell_type": "code",
   "execution_count": 9,
   "id": "12b641a7",
   "metadata": {},
   "outputs": [
    {
     "name": "stdout",
     "output_type": "stream",
     "text": [
      "        weight   Eta_ph1   Phi_ph1  E_mGG_ph1  pT_mGG_ph1   Eta_ph2   Phi_ph2  \\\n",
      "0     0.000025 -2.393572 -2.922358   2.951623    0.534528 -2.449574  0.575581   \n",
      "1     0.000025  1.871283  1.047394   2.573060    0.773788  0.890115 -2.034852   \n",
      "2     0.000025  2.091786 -1.589172   3.478898    0.846155  1.033298  2.798018   \n",
      "3     0.000025  0.276418  0.034514   0.957748    0.922289  1.291733  2.735958   \n",
      "4     0.000025 -0.222354  0.316651   2.682673    2.617695  0.326127  0.229977   \n",
      "...        ...       ...       ...        ...         ...       ...       ...   \n",
      "3691  0.784736  1.767487 -2.685603   2.533158    0.840620  2.022784  1.191282   \n",
      "3692  0.784736 -0.761641 -1.350025   1.366371    1.047554 -2.588544 -0.412600   \n",
      "3693  0.784736  0.137637  2.189009   0.688119    0.681652  1.682014  0.102387   \n",
      "3694  0.784736  0.118838 -2.689873   0.456992    0.453784 -2.057512  0.021551   \n",
      "3695  0.784736  1.119464  2.110899   1.128419    0.665800  1.023254 -1.432882   \n",
      "\n",
      "      E_mGG_ph2  pT_mGG_ph2  Electron_E  ...  Phi_jet1      E_jet2    pT_jet2  \\\n",
      "0      2.815203    0.482479   32.269810  ...  2.665205   38.627937  36.823357   \n",
      "1      0.364962    0.256472    0.000000  ... -1.665297   63.172352  50.032013   \n",
      "2      0.483689    0.305538    0.000000  ...  2.198083    0.000000   0.000000   \n",
      "3      0.430226    0.219846   34.023560  ... -2.330503    0.000000   0.000000   \n",
      "4      1.273944    1.209074    0.000000  ... -2.819101  216.464661  44.926739   \n",
      "...         ...         ...         ...  ...       ...         ...        ...   \n",
      "3691   1.289162    0.335212  254.808578  ... -0.630228  241.989395  44.082573   \n",
      "3692   1.230583    0.183868    0.000000  ...  1.693608   96.135178  93.528877   \n",
      "3693   0.693299    0.249282    0.000000  ... -1.638354    0.000000   0.000000   \n",
      "3694   0.815643    0.205084   28.214743  ... -2.759224   97.275917  40.329193   \n",
      "3695   0.612859    0.390151   88.095543  ... -2.722576   55.291466  43.830177   \n",
      "\n",
      "      Eta_jet2  Phi_jet2    InvM_jet  InvM_jet2         met  \\\n",
      "0    -0.242533 -2.739480   56.101810   0.000000   24.312021   \n",
      "1    -0.691587  1.763133  179.932816   0.000000   85.148727   \n",
      "2     0.000000  0.000000    0.000000   0.000000   78.107925   \n",
      "3     0.000000  0.000000    0.000000   0.000000   72.548462   \n",
      "4    -2.252025 -2.532822  245.127274   0.000000  314.191620   \n",
      "...        ...       ...         ...        ...         ...   \n",
      "3691  2.387387  0.118789   75.661255  31.397030   51.954830   \n",
      "3692 -0.133721  2.792945  116.899719  94.383568  204.080811   \n",
      "3693  0.000000  0.000000    0.000000   0.000000   47.090668   \n",
      "3694  1.525718  0.986804  137.895782   0.000000   20.564157   \n",
      "3695  0.700582  1.807223   72.767754   0.000000   50.374668   \n",
      "\n",
      "                                                process  label  \n",
      "0     GluGluToHHTo2G2Qlnu_node_cHHH1_TuneCP5_14TeV-p...      1  \n",
      "1     GluGluToHHTo2G2Qlnu_node_cHHH1_TuneCP5_14TeV-p...      1  \n",
      "2     GluGluToHHTo2G2Qlnu_node_cHHH1_TuneCP5_14TeV-p...      1  \n",
      "3     GluGluToHHTo2G2Qlnu_node_cHHH1_TuneCP5_14TeV-p...      1  \n",
      "4     GluGluToHHTo2G2Qlnu_node_cHHH1_TuneCP5_14TeV-p...      1  \n",
      "...                                                 ...    ...  \n",
      "3691  TTGamma_SingleLeptFromTbar_TuneCUETP8M2T4_14Te...      0  \n",
      "3692  TTGamma_SingleLeptFromTbar_TuneCUETP8M2T4_14Te...      0  \n",
      "3693  TTGamma_SingleLeptFromTbar_TuneCUETP8M2T4_14Te...      0  \n",
      "3694  TTGamma_SingleLeptFromTbar_TuneCUETP8M2T4_14Te...      0  \n",
      "3695  TTGamma_SingleLeptFromTbar_TuneCUETP8M2T4_14Te...      0  \n",
      "\n",
      "[267349 rows x 31 columns]\n"
     ]
    }
   ],
   "source": [
    "print(df)"
   ]
  },
  {
   "cell_type": "code",
   "execution_count": 10,
   "id": "9e6a34ce",
   "metadata": {},
   "outputs": [
    {
     "name": "stdout",
     "output_type": "stream",
     "text": [
      "Sum of learning weight for signal     =         1.62564\n",
      "Sum of learning weight for background =  11460936.00000\n",
      "After equalization\n",
      "Sum of learning weight for signal     =    133674.53125\n",
      "Sum of learning weight for background =    133674.51562\n",
      "Average learning weight = 1.0\n",
      "\n",
      "Now let us try again with batches\n"
     ]
    }
   ],
   "source": [
    "print (f\"Sum of learning weight for signal     = {df[df['label']==1]['weight'].sum():15.5f}\")\n",
    "print (f\"Sum of learning weight for background = {df[df['label']==0]['weight'].sum():15.5f}\")\n",
    "df.loc[df['label']==1,'weight'] *= df.shape[0]/2 / df[df['label']==1]['weight'].sum() \n",
    "df.loc[df['label']==0,'weight'] *= df.shape[0]/2 / df[df['label']==0]['weight'].sum()\n",
    "# We divide by their sum, and multiply by the number of events\n",
    "#   First part is so that the sum of weights of the signal is now == to the background ones\n",
    "#   The second part is because if the weights are super small, the loss will be small\n",
    "#       In practice the magnitude does not matter, only relative difference, but it is easier\n",
    "#       to check the learning when the loss variations are not far in the decimals\n",
    "#       -> like that the average unit weight is 1\n",
    "print (\"After equalization\")\n",
    "print (f\"Sum of learning weight for signal     = {df[df['label']==1]['weight'].sum():15.5f}\")\n",
    "print (f\"Sum of learning weight for background = {df[df['label']==0]['weight'].sum():15.5f}\")\n",
    "\n",
    "print (f'Average learning weight = {df[\"weight\"].mean()}')\n",
    "\n",
    "print ('\\nNow let us try again with batches')"
   ]
  },
  {
   "cell_type": "code",
   "execution_count": 11,
   "id": "03f230a9",
   "metadata": {},
   "outputs": [
    {
     "name": "stdout",
     "output_type": "stream",
     "text": [
      "On average, per batch the total learning weight is\n",
      "\t... signal     :    64.027371 [30.536 events] \n",
      "\t... background :    71.817092 [97.464 events]\n"
     ]
    }
   ],
   "source": [
    "checkBatches(df)"
   ]
  },
  {
   "cell_type": "code",
   "execution_count": 12,
   "id": "ed4a97fe",
   "metadata": {},
   "outputs": [],
   "source": [
    "input_vars=[\"Eta_ph1\",\"Phi_ph1\",\"E_mGG_ph1\",\"pT_mGG_ph1\",\"Eta_ph2\",\"Phi_ph2\",\"E_mGG_ph2\",\"pT_mGG_ph2\",\"Electron_E\",\"Electron_pT\",\"Electron_Eta\",\"Electron_Phi\",\"Muon_E\",\"Muon_pT\",\"Muon_Eta\",\"Muon_Phi\",\"nJets\",\"E_jet1\",\"pT_jet1\",\"Eta_jet1\",\"Phi_jet1\",\"E_jet2\",\"pT_jet2\",\"Eta_jet2\",\"Phi_jet2\",\"InvM_jet\",\"InvM_jet2\", \"met\"]"
   ]
  },
  {
   "cell_type": "code",
   "execution_count": 13,
   "id": "fb4f4837",
   "metadata": {},
   "outputs": [
    {
     "name": "stdout",
     "output_type": "stream",
     "text": [
      "       Eta_ph1   Phi_ph1  E_mGG_ph1  pT_mGG_ph1   Eta_ph2   Phi_ph2  \\\n",
      "0    -2.393572 -2.922358   2.951623    0.534528 -2.449574  0.575581   \n",
      "1     1.871283  1.047394   2.573060    0.773788  0.890115 -2.034852   \n",
      "2     2.091786 -1.589172   3.478898    0.846155  1.033298  2.798018   \n",
      "3     0.276418  0.034514   0.957748    0.922289  1.291733  2.735958   \n",
      "4    -0.222354  0.316651   2.682673    2.617695  0.326127  0.229977   \n",
      "...        ...       ...        ...         ...       ...       ...   \n",
      "3691  1.767487 -2.685603   2.533158    0.840620  2.022784  1.191282   \n",
      "3692 -0.761641 -1.350025   1.366371    1.047554 -2.588544 -0.412600   \n",
      "3693  0.137637  2.189009   0.688119    0.681652  1.682014  0.102387   \n",
      "3694  0.118838 -2.689873   0.456992    0.453784 -2.057512  0.021551   \n",
      "3695  1.119464  2.110899   1.128419    0.665800  1.023254 -1.432882   \n",
      "\n",
      "      E_mGG_ph2  pT_mGG_ph2  Electron_E  Electron_pT  ...     pT_jet1  \\\n",
      "0      2.815203    0.482479   32.269810    30.670956  ...   75.722549   \n",
      "1      0.364962    0.256472    0.000000     0.000000  ...  152.659454   \n",
      "2      0.483689    0.305538    0.000000     0.000000  ...   35.002209   \n",
      "3      0.430226    0.219846   34.023560    33.640869  ...   34.346485   \n",
      "4      1.273944    1.209074    0.000000     0.000000  ...  306.477936   \n",
      "...         ...         ...         ...          ...  ...         ...   \n",
      "3691   1.289162    0.335212  254.808578    32.371708  ...   69.485191   \n",
      "3692   1.230583    0.183868    0.000000     0.000000  ...  122.305954   \n",
      "3693   0.693299    0.249282    0.000000     0.000000  ...   47.824558   \n",
      "3694   0.815643    0.205084   28.214743    28.194620  ...  111.142715   \n",
      "3695   0.612859    0.390151   88.095543    23.435448  ...   45.873276   \n",
      "\n",
      "      Eta_jet1  Phi_jet1      E_jet2    pT_jet2  Eta_jet2  Phi_jet2  \\\n",
      "0    -0.779769  2.665205   38.627937  36.823357 -0.242533 -2.739480   \n",
      "1    -0.190269 -1.665297   63.172352  50.032013 -0.691587  1.763133   \n",
      "2     0.436127  2.198083    0.000000   0.000000  0.000000  0.000000   \n",
      "3     1.111015 -2.330503    0.000000   0.000000  0.000000  0.000000   \n",
      "4    -0.452895 -2.819101  216.464661  44.926739 -2.252025 -2.532822   \n",
      "...        ...       ...         ...        ...       ...       ...   \n",
      "3691  1.322532 -0.630228  241.989395  44.082573  2.387387  0.118789   \n",
      "3692 -0.111716  1.693608   96.135178  93.528877 -0.133721  2.792945   \n",
      "3693  2.096721 -1.638354    0.000000   0.000000  0.000000  0.000000   \n",
      "3694  0.836695 -2.759224   97.275917  40.329193  1.525718  0.986804   \n",
      "3695  1.110637 -2.722576   55.291466  43.830177  0.700582  1.807223   \n",
      "\n",
      "        InvM_jet  InvM_jet2         met  \n",
      "0      56.101810   0.000000   24.312021  \n",
      "1     179.932816   0.000000   85.148727  \n",
      "2       0.000000   0.000000   78.107925  \n",
      "3       0.000000   0.000000   72.548462  \n",
      "4     245.127274   0.000000  314.191620  \n",
      "...          ...        ...         ...  \n",
      "3691   75.661255  31.397030   51.954830  \n",
      "3692  116.899719  94.383568  204.080811  \n",
      "3693    0.000000   0.000000   47.090668  \n",
      "3694  137.895782   0.000000   20.564157  \n",
      "3695   72.767754   0.000000   50.374668  \n",
      "\n",
      "[267349 rows x 28 columns]\n"
     ]
    }
   ],
   "source": [
    "print(df[input_vars])"
   ]
  },
  {
   "cell_type": "code",
   "execution_count": 14,
   "id": "b2d3b075",
   "metadata": {},
   "outputs": [],
   "source": [
    "df_clean = df[input_vars].copy()\n",
    "df_clean[\"label\"] = df.loc[:,\"label\"]\n",
    "df_clean.to_csv(\"dataframe_HHWWgg.csv\")\n"
   ]
  },
  {
   "cell_type": "code",
   "execution_count": 15,
   "id": "6fe45642",
   "metadata": {},
   "outputs": [],
   "source": [
    "X_train, X_test, y_train, y_test,w_train, w_test = train_test_split(df[input_vars], df.label, df.weight, \n",
    "                                                    test_size=0.33, random_state=42)"
   ]
  },
  {
   "cell_type": "code",
   "execution_count": 16,
   "id": "6bc055e3",
   "metadata": {},
   "outputs": [
    {
     "name": "stdout",
     "output_type": "stream",
     "text": [
      "         Eta_ph1   Phi_ph1  E_mGG_ph1  pT_mGG_ph1   Eta_ph2   Phi_ph2  \\\n",
      "35231  -1.945764 -3.062029   2.268816    0.635358 -0.550223 -2.298545   \n",
      "8868   -1.820626 -0.043045   2.502725    0.789796 -2.617009 -2.681274   \n",
      "71095   0.099085 -0.838356   0.544916    0.542252  0.862605  2.181485   \n",
      "114269  1.282274 -2.663917   3.101353    1.597716  0.192350 -2.408060   \n",
      "36454   1.539533 -1.002441   1.515589    0.621539  1.482318  1.691988   \n",
      "...          ...       ...        ...         ...       ...       ...   \n",
      "81876   0.373729 -2.581681   0.944210    0.881901  0.192384 -0.985424   \n",
      "46     -2.201052 -2.005043   2.970534    0.649638 -1.052876  1.749613   \n",
      "99997  -1.264996 -1.493569   0.969339    0.506802  0.020675  2.340647   \n",
      "122596  0.644087 -2.541043   1.332074    1.096632 -0.388746  2.307051   \n",
      "85023   1.311740  2.135893   2.354585    1.182620  0.749861 -0.459073   \n",
      "\n",
      "        E_mGG_ph2  pT_mGG_ph2  Electron_E  Electron_pT  ...     pT_jet1  \\\n",
      "35231    0.640226    0.554198    0.000000     0.000000  ...   83.606064   \n",
      "8868     1.971765    0.286433  773.391602    80.813171  ...    0.000000   \n",
      "71095    0.559900    0.401163    0.000000     0.000000  ...   75.784050   \n",
      "114269   0.463508    0.455063   27.864887    24.984995  ...  556.113647   \n",
      "36454    0.978511    0.422660    0.000000     0.000000  ...  144.692123   \n",
      "...           ...         ...         ...          ...  ...         ...   \n",
      "81876    0.554234    0.544133    0.000000     0.000000  ...  173.369873   \n",
      "46       0.484643    0.301506    0.000000     0.000000  ...  154.009842   \n",
      "99997    0.363277    0.363200    0.000000     0.000000  ...  136.878113   \n",
      "122596   0.339154    0.315047    0.000000     0.000000  ...   93.147652   \n",
      "85023    0.271449    0.209683    0.000000     0.000000  ...   73.303368   \n",
      "\n",
      "        Eta_jet1  Phi_jet1      E_jet2     pT_jet2  Eta_jet2  Phi_jet2  \\\n",
      "35231  -0.112491  0.161448   69.023933   54.281269 -0.709579  0.511211   \n",
      "8868    0.000000  0.000000    0.000000    0.000000  0.000000  0.000000   \n",
      "71095   0.274927  1.784086  119.397682   53.945679 -1.427389  1.026386   \n",
      "114269  0.175302  0.205339  224.753677  136.866638  1.079329  2.129951   \n",
      "36454   1.157493 -2.845321  148.758911  107.020920 -0.851328 -2.241839   \n",
      "...          ...       ...         ...         ...       ...       ...   \n",
      "81876  -1.347656  1.874572    0.000000    0.000000  0.000000  0.000000   \n",
      "46     -1.286960  1.198890  238.848923   79.367477 -1.764281 -1.262017   \n",
      "99997   0.348023 -2.587010  343.773773   69.506279  2.280963 -0.561904   \n",
      "122596 -0.767671 -0.064645   68.012184   40.841583 -1.088126  0.496537   \n",
      "85023   0.971416  0.769034  160.880844   72.135490 -1.430760 -2.309058   \n",
      "\n",
      "          InvM_jet   InvM_jet2         met  \n",
      "35231    49.431580    0.000000  151.322891  \n",
      "8868      0.000000    0.000000   44.672638  \n",
      "71095   134.076111  105.544197   23.825314  \n",
      "114269  526.446960  267.889221  491.845062  \n",
      "36454   304.451813  251.643875   87.559296  \n",
      "...            ...         ...         ...  \n",
      "81876     0.000000    0.000000  103.681885  \n",
      "46      216.445786  179.642120  153.522247  \n",
      "99997   275.932526  473.262939   32.222164  \n",
      "122596   42.455700   67.679123  175.877991  \n",
      "85023   265.383087  246.601517  177.082138  \n",
      "\n",
      "[179123 rows x 28 columns]\n"
     ]
    }
   ],
   "source": [
    "print(X_train)"
   ]
  },
  {
   "cell_type": "code",
   "execution_count": 17,
   "id": "9a2ee770",
   "metadata": {},
   "outputs": [
    {
     "name": "stdout",
     "output_type": "stream",
     "text": [
      "         Eta_ph1   Phi_ph1  E_mGG_ph1  pT_mGG_ph1   Eta_ph2   Phi_ph2  \\\n",
      "3329    1.087376  0.904130   0.406792    0.246274 -1.648648 -3.020724   \n",
      "2789    0.358049 -0.526940   0.437181    0.410581 -1.190133  2.006132   \n",
      "15599  -1.195990 -2.027550   1.659136    0.919384 -1.642366  2.936179   \n",
      "64363   1.061911 -2.731441   1.322440    0.816904  0.518941 -1.094325   \n",
      "4149    1.903018 -1.843503   7.791508    2.273160  2.293625 -0.882963   \n",
      "...          ...       ...        ...         ...       ...       ...   \n",
      "2479   -0.581940  2.039370   0.636352    0.541964  0.964338 -2.795501   \n",
      "126114 -1.491346  0.421756   3.139447    1.345052 -0.678817 -1.530567   \n",
      "21718   1.412178  2.301200   1.858807    0.854919  0.758501  0.108824   \n",
      "102035  0.152458 -2.928749   1.387487    1.371517 -0.176697  1.881357   \n",
      "139654  0.053975  1.505935   0.673873    0.672893  0.499380 -1.281240   \n",
      "\n",
      "        E_mGG_ph2  pT_mGG_ph2  Electron_E  Electron_pT  ...     pT_jet1  \\\n",
      "3329     0.647501    0.240160    0.000000     0.000000  ...  434.393799   \n",
      "2789     0.667109    0.371472    0.000000     0.000000  ...    0.000000   \n",
      "15599    1.709787    0.637873  127.398689    24.559685  ...   89.342964   \n",
      "64363    0.572025    0.502791    0.000000     0.000000  ...   66.744049   \n",
      "4149     2.183855    0.436261    0.000000     0.000000  ...  145.958740   \n",
      "...           ...         ...         ...          ...  ...         ...   \n",
      "2479     0.594440    0.395728    0.000000     0.000000  ...   33.038197   \n",
      "126114   0.267703    0.215997    0.000000     0.000000  ...  239.394653   \n",
      "21718    0.422088    0.324254    0.000000     0.000000  ...   51.062843   \n",
      "102035   0.386862    0.380900   23.559048    21.616928  ...   65.540916   \n",
      "139654   0.410878    0.364479    0.000000     0.000000  ...   60.001617   \n",
      "\n",
      "        Eta_jet1  Phi_jet1      E_jet2     pT_jet2  Eta_jet2  Phi_jet2  \\\n",
      "3329    1.160454 -0.489044  128.336868  123.414856  0.266568  1.541263   \n",
      "2789    0.000000  0.000000    0.000000    0.000000  0.000000  0.000000   \n",
      "15599  -0.443463  0.484381  203.213715   63.245960  1.834188 -1.035969   \n",
      "64363   0.988399 -0.156877  232.775848   60.349110  2.024391  3.066293   \n",
      "4149   -0.649256  1.952372  200.343628   44.130253  2.193229  1.392625   \n",
      "...          ...       ...         ...         ...       ...       ...   \n",
      "2479    0.458707  0.955341    0.000000    0.000000  0.000000  0.000000   \n",
      "126114  0.343030 -2.549559   92.793999   89.001511 -0.246450  0.487000   \n",
      "21718   2.158765  2.677582  140.015030   47.716187  1.738095 -1.144728   \n",
      "102035  1.980296 -1.717803   53.699234   51.977627  0.219383  1.295581   \n",
      "139654  0.546583  1.035873   46.815998   42.515751 -0.418053  0.187834   \n",
      "\n",
      "          InvM_jet   InvM_jet2         met  \n",
      "3329    449.378052  187.196609   34.275425  \n",
      "2789      0.000000    0.000000  229.460999  \n",
      "15599   235.775009  390.184631  143.185242  \n",
      "64363   146.037125   97.472954  149.678680  \n",
      "4149    316.557465   83.080673  191.821701  \n",
      "...            ...         ...         ...  \n",
      "2479      0.000000    0.000000  530.363159  \n",
      "126114  310.200104  131.515274  357.781952  \n",
      "21718    96.202705    0.000000   73.606377  \n",
      "102035  165.708817  127.582863   41.601730  \n",
      "139654   66.976601    0.000000   89.243523  \n",
      "\n",
      "[88226 rows x 28 columns]\n"
     ]
    }
   ],
   "source": [
    "print(X_test)"
   ]
  },
  {
   "cell_type": "code",
   "execution_count": 18,
   "id": "8a3c62ed",
   "metadata": {},
   "outputs": [
    {
     "name": "stderr",
     "output_type": "stream",
     "text": [
      "2021-12-02 17:38:17.192321: W tensorflow/stream_executor/platform/default/dso_loader.cc:64] Could not load dynamic library 'libcuda.so.1'; dlerror: libcuda.so.1: cannot open shared object file: No such file or directory\n",
      "2021-12-02 17:38:17.192356: W tensorflow/stream_executor/cuda/cuda_driver.cc:269] failed call to cuInit: UNKNOWN ERROR (303)\n",
      "2021-12-02 17:38:17.192381: I tensorflow/stream_executor/cuda/cuda_diagnostics.cc:156] kernel driver does not appear to be running on this host (1S0): /proc/driver/nvidia/version does not exist\n",
      "2021-12-02 17:38:17.192607: I tensorflow/core/platform/cpu_feature_guard.cc:151] This TensorFlow binary is optimized with oneAPI Deep Neural Network Library (oneDNN) to use the following CPU instructions in performance-critical operations:  AVX2 FMA\n",
      "To enable them in other operations, rebuild TensorFlow with the appropriate compiler flags.\n"
     ]
    }
   ],
   "source": [
    "inputs = keras.Input(shape=(len(input_vars),), name=\"particles\")\n",
    "x = layers.Dense(128, activation=\"relu\", name=\"dense_1\")(inputs)\n",
    "x = layers.Dense(128, activation=\"relu\", name=\"dense_2\")(x)\n",
    "x = layers.Dense(128, activation=\"relu\", name=\"dense_3\")(x)\n",
    "x = layers.Dense(128, activation=\"relu\", name=\"dense_4\")(x)\n",
    "outputs = layers.Dense(1, activation=\"sigmoid\", name=\"predictions\")(x)\n",
    "\n",
    "model = keras.Model(inputs=inputs, outputs=outputs)"
   ]
  },
  {
   "cell_type": "code",
   "execution_count": 24,
   "id": "40426231",
   "metadata": {},
   "outputs": [],
   "source": [
    "model.compile(\n",
    "    #optimizer=keras.optimizers.Adam(learning_rate=0.01),  # Optimizer\n",
    "    optimizer=keras.optimizers.RMSprop(),  # Optimizer\n",
    "    # Loss function to minimize\n",
    "    loss=keras.losses.BinaryCrossentropy(),\n",
    "    # List of metrics to monitor\n",
    "    metrics=[keras.metrics.BinaryAccuracy()],\n",
    ")"
   ]
  },
  {
   "cell_type": "code",
   "execution_count": 25,
   "id": "de58eccd",
   "metadata": {},
   "outputs": [],
   "source": [
    "X_val = X_train[-3000:]\n",
    "y_val = y_train[-3000:]\n",
    "w_val = w_train[-3000:]\n",
    "X_train = X_train[:-3000]\n",
    "y_train = y_train[:-3000]\n",
    "w_train = w_train[:-3000]"
   ]
  },
  {
   "cell_type": "code",
   "execution_count": 26,
   "id": "f5baa6a5",
   "metadata": {},
   "outputs": [
    {
     "name": "stdout",
     "output_type": "stream",
     "text": [
      "         Eta_ph1   Phi_ph1  E_mGG_ph1  pT_mGG_ph1   Eta_ph2   Phi_ph2  \\\n",
      "35231  -1.945764 -3.062029   2.268816    0.635358 -0.550223 -2.298545   \n",
      "8868   -1.820626 -0.043045   2.502725    0.789796 -2.617009 -2.681274   \n",
      "71095   0.099085 -0.838356   0.544916    0.542252  0.862605  2.181485   \n",
      "114269  1.282274 -2.663917   3.101353    1.597716  0.192350 -2.408060   \n",
      "36454   1.539533 -1.002441   1.515589    0.621539  1.482318  1.691988   \n",
      "...          ...       ...        ...         ...       ...       ...   \n",
      "10862   0.030158 -1.892077   0.667419    0.667116  1.283620  1.808410   \n",
      "80501   0.353667  1.010400   0.576383    0.542124  1.900531 -2.744256   \n",
      "99048  -1.091082 -1.429448   1.080760    0.652367 -1.070899  2.733089   \n",
      "100508  1.397039  1.498880   1.691922    0.788676  0.986889 -1.721251   \n",
      "3690    0.391979  1.737296   0.719422    0.667484 -0.224936 -1.742447   \n",
      "\n",
      "        E_mGG_ph2  pT_mGG_ph2  Electron_E  Electron_pT  ...     pT_jet1  \\\n",
      "35231    0.640226    0.554198    0.000000     0.000000  ...   83.606064   \n",
      "8868     1.971765    0.286433  773.391602    80.813171  ...    0.000000   \n",
      "71095    0.559900    0.401163    0.000000     0.000000  ...   75.784050   \n",
      "114269   0.463508    0.455063   27.864887    24.984995  ...  556.113647   \n",
      "36454    0.978511    0.422660    0.000000     0.000000  ...  144.692123   \n",
      "...           ...         ...         ...          ...  ...         ...   \n",
      "10862    0.531229    0.273356    0.000000     0.000000  ...    0.000000   \n",
      "80501    0.963658    0.281815  246.680649    30.215567  ...   58.562908   \n",
      "99048    0.820590    0.503321  478.446777    67.581467  ...   71.547493   \n",
      "100508   0.465172    0.304471    0.000000     0.000000  ...  129.852966   \n",
      "3690     0.358969    0.350075    0.000000     0.000000  ...   58.215012   \n",
      "\n",
      "        Eta_jet1  Phi_jet1      E_jet2     pT_jet2  Eta_jet2  Phi_jet2  \\\n",
      "35231  -0.112491  0.161448   69.023933   54.281269 -0.709579  0.511211   \n",
      "8868    0.000000  0.000000    0.000000    0.000000  0.000000  0.000000   \n",
      "71095   0.274927  1.784086  119.397682   53.945679 -1.427389  1.026386   \n",
      "114269  0.175302  0.205339  224.753677  136.866638  1.079329  2.129951   \n",
      "36454   1.157493 -2.845321  148.758911  107.020920 -0.851328 -2.241839   \n",
      "...          ...       ...         ...         ...       ...       ...   \n",
      "10862   0.000000  0.000000    0.000000    0.000000  0.000000  0.000000   \n",
      "80501   1.980207 -1.452909   44.878292   43.863441  0.147618 -1.480935   \n",
      "99048   1.189057  1.908354   46.672523   43.840614  0.332348  1.333099   \n",
      "100508 -1.773525  1.588314  107.978340   93.949921  0.538237  0.393093   \n",
      "3690   -0.371278 -0.860759   62.255180   34.809948  1.181700 -1.864469   \n",
      "\n",
      "          InvM_jet   InvM_jet2         met  \n",
      "35231    49.431580    0.000000  151.322891  \n",
      "8868      0.000000    0.000000   44.672638  \n",
      "71095   134.076111  105.544197   23.825314  \n",
      "114269  526.446960  267.889221  491.845062  \n",
      "36454   304.451813  251.643875   87.559296  \n",
      "...            ...         ...         ...  \n",
      "10862     0.000000    0.000000   18.904995  \n",
      "80501   107.974876   90.896225   63.045406  \n",
      "99048    60.756237    0.000000   61.380753  \n",
      "100508  340.102997  173.406616   54.151844  \n",
      "3690     89.444977    0.000000  135.109375  \n",
      "\n",
      "[173123 rows x 28 columns]\n"
     ]
    }
   ],
   "source": [
    "print(X_train)"
   ]
  },
  {
   "cell_type": "code",
   "execution_count": 27,
   "id": "bfa63501",
   "metadata": {},
   "outputs": [
    {
     "name": "stdout",
     "output_type": "stream",
     "text": [
      "Epoch 1/1000\n",
      "1353/1353 [==============================] - 3s 2ms/step - loss: 0.6713 - binary_accuracy: 0.2394 - val_loss: 0.7271 - val_binary_accuracy: 0.2300 - lr: 0.0010\n",
      "Epoch 2/1000\n",
      "1353/1353 [==============================] - 3s 2ms/step - loss: 0.6790 - binary_accuracy: 0.2394 - val_loss: 0.7422 - val_binary_accuracy: 0.2300 - lr: 0.0010\n",
      "Epoch 3/1000\n",
      "1353/1353 [==============================] - 2s 2ms/step - loss: 0.6872 - binary_accuracy: 0.2394 - val_loss: 0.7544 - val_binary_accuracy: 0.2300 - lr: 0.0010\n",
      "Epoch 4/1000\n",
      "1353/1353 [==============================] - 2s 2ms/step - loss: 0.6910 - binary_accuracy: 0.2394 - val_loss: 0.7649 - val_binary_accuracy: 0.2300 - lr: 0.0010\n",
      "Epoch 5/1000\n",
      "1353/1353 [==============================] - 2s 2ms/step - loss: 0.7019 - binary_accuracy: 0.2394 - val_loss: 0.7706 - val_binary_accuracy: 0.2300 - lr: 0.0010\n",
      "Epoch 6/1000\n",
      "1353/1353 [==============================] - 3s 2ms/step - loss: 0.7026 - binary_accuracy: 0.2394 - val_loss: 0.7700 - val_binary_accuracy: 0.2300 - lr: 0.0010\n",
      "Epoch 7/1000\n",
      "1353/1353 [==============================] - 3s 2ms/step - loss: 0.7042 - binary_accuracy: 0.2394 - val_loss: 0.7756 - val_binary_accuracy: 0.2300 - lr: 0.0010\n",
      "Epoch 8/1000\n",
      "1353/1353 [==============================] - 3s 2ms/step - loss: 0.7051 - binary_accuracy: 0.2394 - val_loss: 0.7833 - val_binary_accuracy: 0.2300 - lr: 0.0010\n",
      "Epoch 9/1000\n",
      "1353/1353 [==============================] - 3s 2ms/step - loss: 0.7100 - binary_accuracy: 0.2394 - val_loss: 0.7833 - val_binary_accuracy: 0.2300 - lr: 0.0010\n",
      "Epoch 10/1000\n",
      "1353/1353 [==============================] - 3s 2ms/step - loss: 0.7156 - binary_accuracy: 0.2394 - val_loss: 0.7874 - val_binary_accuracy: 0.2300 - lr: 0.0010\n",
      "Epoch 11/1000\n",
      "1346/1353 [============================>.] - ETA: 0s - loss: 0.7128 - binary_accuracy: 0.2392\n",
      "Epoch 00011: ReduceLROnPlateau reducing learning rate to 0.00010000000474974513.\n",
      "1353/1353 [==============================] - 3s 2ms/step - loss: 0.7109 - binary_accuracy: 0.2394 - val_loss: 0.7835 - val_binary_accuracy: 0.2300 - lr: 0.0010\n",
      "Epoch 12/1000\n",
      "1353/1353 [==============================] - 3s 2ms/step - loss: 0.7106 - binary_accuracy: 0.2394 - val_loss: 0.7839 - val_binary_accuracy: 0.2300 - lr: 1.0000e-04\n",
      "Epoch 13/1000\n",
      "1353/1353 [==============================] - 3s 2ms/step - loss: 0.7104 - binary_accuracy: 0.2394 - val_loss: 0.7847 - val_binary_accuracy: 0.2300 - lr: 1.0000e-04\n",
      "Epoch 14/1000\n",
      "1353/1353 [==============================] - 3s 2ms/step - loss: 0.7113 - binary_accuracy: 0.2394 - val_loss: 0.7845 - val_binary_accuracy: 0.2300 - lr: 1.0000e-04\n",
      "Epoch 15/1000\n",
      "1353/1353 [==============================] - 3s 2ms/step - loss: 0.7108 - binary_accuracy: 0.2394 - val_loss: 0.7847 - val_binary_accuracy: 0.2300 - lr: 1.0000e-04\n",
      "Epoch 16/1000\n",
      "1353/1353 [==============================] - 2s 2ms/step - loss: 0.7113 - binary_accuracy: 0.2394 - val_loss: 0.7849 - val_binary_accuracy: 0.2300 - lr: 1.0000e-04\n",
      "Epoch 17/1000\n",
      "1353/1353 [==============================] - 3s 2ms/step - loss: 0.7118 - binary_accuracy: 0.2394 - val_loss: 0.7854 - val_binary_accuracy: 0.2300 - lr: 1.0000e-04\n",
      "Epoch 18/1000\n",
      "1353/1353 [==============================] - 3s 2ms/step - loss: 0.7117 - binary_accuracy: 0.2394 - val_loss: 0.7849 - val_binary_accuracy: 0.2300 - lr: 1.0000e-04\n",
      "Epoch 19/1000\n",
      "1353/1353 [==============================] - 3s 2ms/step - loss: 0.7113 - binary_accuracy: 0.2394 - val_loss: 0.7850 - val_binary_accuracy: 0.2300 - lr: 1.0000e-04\n",
      "Epoch 20/1000\n",
      "1353/1353 [==============================] - 3s 2ms/step - loss: 0.7121 - binary_accuracy: 0.2394 - val_loss: 0.7862 - val_binary_accuracy: 0.2300 - lr: 1.0000e-04\n",
      "Epoch 21/1000\n",
      "1339/1353 [============================>.] - ETA: 0s - loss: 0.7136 - binary_accuracy: 0.2395\n",
      "Epoch 00021: ReduceLROnPlateau reducing learning rate to 1.0000000474974514e-05.\n",
      "1353/1353 [==============================] - 3s 2ms/step - loss: 0.7128 - binary_accuracy: 0.2394 - val_loss: 0.7868 - val_binary_accuracy: 0.2300 - lr: 1.0000e-04\n",
      "Epoch 22/1000\n",
      "1353/1353 [==============================] - 3s 2ms/step - loss: 0.7128 - binary_accuracy: 0.2394 - val_loss: 0.7867 - val_binary_accuracy: 0.2300 - lr: 1.0000e-05\n",
      "Epoch 23/1000\n",
      "1353/1353 [==============================] - 3s 2ms/step - loss: 0.7128 - binary_accuracy: 0.2394 - val_loss: 0.7868 - val_binary_accuracy: 0.2300 - lr: 1.0000e-05\n",
      "Epoch 24/1000\n",
      "1353/1353 [==============================] - 3s 2ms/step - loss: 0.7128 - binary_accuracy: 0.2394 - val_loss: 0.7868 - val_binary_accuracy: 0.2300 - lr: 1.0000e-05\n",
      "Epoch 25/1000\n",
      "1353/1353 [==============================] - 3s 2ms/step - loss: 0.7129 - binary_accuracy: 0.2394 - val_loss: 0.7868 - val_binary_accuracy: 0.2300 - lr: 1.0000e-05\n",
      "Epoch 26/1000\n",
      "1353/1353 [==============================] - 3s 2ms/step - loss: 0.7129 - binary_accuracy: 0.2394 - val_loss: 0.7868 - val_binary_accuracy: 0.2300 - lr: 1.0000e-05\n",
      "Epoch 27/1000\n",
      "1353/1353 [==============================] - 3s 2ms/step - loss: 0.7130 - binary_accuracy: 0.2394 - val_loss: 0.7869 - val_binary_accuracy: 0.2300 - lr: 1.0000e-05\n",
      "Epoch 28/1000\n",
      "1353/1353 [==============================] - 3s 2ms/step - loss: 0.7129 - binary_accuracy: 0.2394 - val_loss: 0.7870 - val_binary_accuracy: 0.2300 - lr: 1.0000e-05\n",
      "Epoch 29/1000\n",
      "1353/1353 [==============================] - 3s 2ms/step - loss: 0.7131 - binary_accuracy: 0.2394 - val_loss: 0.7870 - val_binary_accuracy: 0.2300 - lr: 1.0000e-05\n",
      "Epoch 30/1000\n",
      "1353/1353 [==============================] - 3s 2ms/step - loss: 0.7130 - binary_accuracy: 0.2394 - val_loss: 0.7871 - val_binary_accuracy: 0.2300 - lr: 1.0000e-05\n",
      "Epoch 31/1000\n",
      "1348/1353 [============================>.] - ETA: 0s - loss: 0.7144 - binary_accuracy: 0.2393\n",
      "Epoch 00031: ReduceLROnPlateau reducing learning rate to 1.0000000656873453e-06.\n",
      "1353/1353 [==============================] - 4s 3ms/step - loss: 0.7130 - binary_accuracy: 0.2394 - val_loss: 0.7871 - val_binary_accuracy: 0.2300 - lr: 1.0000e-05\n",
      "Epoch 00031: early stopping\n"
     ]
    }
   ],
   "source": [
    "history = model.fit(\n",
    "    X_train,\n",
    "    y_train,\n",
    "    batch_size=128,\n",
    "    epochs=1000,\n",
    "    sample_weight=w_train,\n",
    "    # We pass some validation for\n",
    "    # monitoring validation loss and metrics\n",
    "    # at the end of each epoch\n",
    "    validation_data=(X_val, y_val,w_val),\n",
    "    callbacks = [early_stopping,reduce_plateau],\n",
    ")"
   ]
  },
  {
   "cell_type": "code",
   "execution_count": 28,
   "id": "94334845",
   "metadata": {},
   "outputs": [
    {
     "data": {
      "image/png": "[encoded data removed]",
      "text/plain": [
       "<Figure size 432x288 with 1 Axes>"
      ]
     },
     "metadata": {
      "needs_background": "light"
     },
     "output_type": "display_data"
    }
   ],
   "source": [
    "import matplotlib.pyplot as plt\n",
    "plt.plot(history.history['loss'],color='m',label='Training loss')\n",
    "plt.plot(history.history['val_loss'],color='b',label='Validation loss')\n",
    "plt.xlabel('Epoch')\n",
    "plt.ylabel('Loss function')\n",
    "plt.legend(loc='upper right')\n",
    "plt.savefig('training_validation.pdf')\n",
    "plt.show()"
   ]
  },
  {
   "cell_type": "code",
   "execution_count": 29,
   "id": "1f10f696",
   "metadata": {},
   "outputs": [
    {
     "name": "stdout",
     "output_type": "stream",
     "text": [
      "[[0.664275]\n",
      " [0.664275]\n",
      " [0.664275]\n",
      " ...\n",
      " [0.664275]\n",
      " [0.664275]\n",
      " [0.664275]]\n",
      "[0. 1.]\n",
      "[0. 1.]\n",
      "[1.6642749 0.664275 ]\n"
     ]
    },
    {
     "data": {
      "image/png": "[encoded data removed]",
      "text/plain": [
       "<Figure size 432x288 with 1 Axes>"
      ]
     },
     "metadata": {
      "needs_background": "light"
     },
     "output_type": "display_data"
    }
   ],
   "source": [
    "prediction = model.predict(X_test)\n",
    "from sklearn.metrics import roc_curve\n",
    "#y_pred_keras = keras_model.predict(X_test).ravel()\n",
    "#idx = y_test > 0\n",
    "fpr_keras, tpr_keras, thresholds_keras = roc_curve(y_test, prediction,sample_weight=w_test)\n",
    "\n",
    "from sklearn.metrics import auc\n",
    "auc_keras = auc(fpr_keras, tpr_keras)\n",
    "\n",
    "print(prediction)\n",
    "print(fpr_keras)\n",
    "print(tpr_keras)\n",
    "print(thresholds_keras)\n",
    "plt.figure(1)\n",
    "plt.plot([0, 1], [0, 1], 'k--')\n",
    "plt.plot(fpr_keras, tpr_keras, label='Keras (area = {:.3f})'.format(auc_keras))\n",
    "#plt.plot(fpr_rf, tpr_rf, label='XGBoost (area = {:.3f})'.format(auc_rf))\n",
    "plt.xlabel('False positive rate')\n",
    "plt.ylabel('True positive rate')\n",
    "plt.title('ROC curve')\n",
    "plt.legend(loc='best')\n",
    "plt.savefig(\"ROC_curve.pdf\")\n",
    "plt.show()"
   ]
  },
  {
   "cell_type": "code",
   "execution_count": 25,
   "id": "38e8e583",
   "metadata": {},
   "outputs": [
    {
     "data": {
      "image/png": "[encoded data removed]",
      "text/plain": [
       "<Figure size 432x288 with 1 Axes>"
      ]
     },
     "metadata": {
      "needs_background": "light"
     },
     "output_type": "display_data"
    }
   ],
   "source": [
    "plt.hist(prediction[y_test==0],histtype=(\"step\"));\n",
    "plt.hist(prediction[y_test==1],histtype=(\"step\"));\n",
    "plt.yscale('log') \n",
    "plt.savefig(\"prediction.pdf\", dpi = 300)"
   ]
  },
  {
   "cell_type": "code",
   "execution_count": 47,
   "id": "86da4315",
   "metadata": {},
   "outputs": [
    {
     "name": "stdout",
     "output_type": "stream",
     "text": [
      "3460/3460 - 2s - loss: 0.3782 - binary_accuracy: 0.8355 - 2s/epoch - 459us/step\n",
      "binary_accuracy: 83.55%\n"
     ]
    }
   ],
   "source": [
    "# evaluate the model\n",
    "scores = model.evaluate(X_test, y_test, w_test, verbose=2)\n",
    "print(\"%s: %.2f%%\" % (model.metrics_names[1], scores[1]*100))"
   ]
  },
  {
   "cell_type": "code",
   "execution_count": 48,
   "id": "051f1247",
   "metadata": {},
   "outputs": [
    {
     "name": "stdout",
     "output_type": "stream",
     "text": [
      "INFO:tensorflow:Assets written to: model_dnn_neweta/assets\n",
      "Saved model to disk\n"
     ]
    }
   ],
   "source": [
    "# save model and architecture to single file\n",
    "model.save(\"model_dnn_neweta\")\n",
    "print(\"Saved model to disk\")"
   ]
  },
  {
   "cell_type": "code",
   "execution_count": null,
   "id": "89de2650",
   "metadata": {},
   "outputs": [],
   "source": []
  }
 ],
 "metadata": {
  "kernelspec": {
   "display_name": "Python 3 (ipykernel)",
   "language": "python",
   "name": "python3"
  },
  "language_info": {
   "codemirror_mode": {
    "name": "ipython",
    "version": 3
   },
   "file_extension": ".py",
   "mimetype": "text/x-python",
   "name": "python",
   "nbconvert_exporter": "python",
   "pygments_lexer": "ipython3",
   "version": "3.8.10"
  }
 },
 "nbformat": 4,
 "nbformat_minor": 5
}
