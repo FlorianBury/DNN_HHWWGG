{
 "cells": [
  {
   "cell_type": "code",
   "execution_count": 1,
   "id": "a0123230",
   "metadata": {},
   "outputs": [
    {
     "name": "stderr",
     "output_type": "stream",
     "text": [
      "2021-11-26 13:07:14.355887: W tensorflow/stream_executor/platform/default/dso_loader.cc:64] Could not load dynamic library 'libcudart.so.11.0'; dlerror: libcudart.so.11.0: cannot open shared object file: No such file or directory\n",
      "2021-11-26 13:07:14.355921: I tensorflow/stream_executor/cuda/cudart_stub.cc:29] Ignore above cudart dlerror if you do not have a GPU set up on your machine.\n"
     ]
    }
   ],
   "source": [
    "import pyarrow.parquet as pq\n",
    "from sklearn.model_selection import train_test_split\n",
    "import tensorflow as tf\n",
    "from tensorflow import keras\n",
    "from tensorflow.keras import layers"
   ]
  },
  {
   "cell_type": "code",
   "execution_count": 2,
   "id": "16348b5d",
   "metadata": {},
   "outputs": [],
   "source": [
    "skim = pq.read_table(\"Skim.parquet\")"
   ]
  },
  {
   "cell_type": "code",
   "execution_count": 3,
   "id": "f1106b59",
   "metadata": {},
   "outputs": [],
   "source": [
    "df = skim.to_pandas()"
   ]
  },
  {
   "cell_type": "code",
   "execution_count": 4,
   "id": "8c27db3b",
   "metadata": {},
   "outputs": [
    {
     "name": "stdout",
     "output_type": "stream",
     "text": [
      "         weight   Eta_ph1   Phi_ph1  E_mGG_ph1  pT_mGG_ph1   Eta_ph2  \\\n",
      "0      0.000025  1.151401  2.699523   1.979170    1.137842  1.603054   \n",
      "1      0.000025 -2.393572 -2.922358   2.951623    0.534528 -2.449574   \n",
      "2      0.000025 -0.010950 -2.823565   0.760817    0.760772 -1.469144   \n",
      "3      0.000025  1.871283  1.047394   2.573060    0.773788  0.890115   \n",
      "4      0.000025 -0.915309 -0.537407   1.380653    0.952852 -1.062086   \n",
      "...         ...       ...       ...        ...         ...       ...   \n",
      "17152  2.124138  0.584682 -2.738620   0.534506    0.454570 -0.581062   \n",
      "17153  2.124138  1.768515 -1.657488   1.534096    0.508591  1.258975   \n",
      "17154  2.124138  1.559572  2.944369   1.155720    0.465358 -0.729275   \n",
      "17155  2.124138  0.322797 -2.931800   0.664161    0.631000 -0.139907   \n",
      "17156  2.124138  0.656518 -2.012486   0.951118    0.777463  0.842254   \n",
      "\n",
      "        Phi_ph2  E_mGG_ph2  pT_mGG_ph2  Electron_E  ...     pT_jet1  Eta_jet1  \\\n",
      "0      1.725826   2.097534    0.811509  233.906647  ...   64.265007 -1.394348   \n",
      "1      0.575581   2.815203    0.482479   32.269810  ...   75.722549 -0.779769   \n",
      "2     -2.621348   1.169402    0.511143    0.000000  ...   77.007484  1.955092   \n",
      "3     -2.034852   0.364962    0.256472    0.000000  ...  152.659454 -0.190269   \n",
      "4      0.838546   1.039662    0.642137    0.000000  ...   56.283333  1.351168   \n",
      "...         ...        ...         ...         ...  ...         ...       ...   \n",
      "17152  0.319982   0.468306    0.399027    0.000000  ...   34.834938  0.444342   \n",
      "17153  1.448236   0.877453    0.461119    0.000000  ...    0.000000  0.000000   \n",
      "17154  0.099446   0.231200    0.180919    0.000000  ...  113.634628 -1.970028   \n",
      "17155  0.147806   0.379754    0.376067    0.000000  ...    0.000000  0.000000   \n",
      "17156  1.089979   0.438890    0.318922    0.000000  ...   57.810665  1.151088   \n",
      "\n",
      "       Phi_jet1      E_jet2    pT_jet2  Eta_jet2  Phi_jet2    InvM_jet  \\\n",
      "0     -2.594233   44.835041  37.006805  0.610907 -1.165494  133.033234   \n",
      "1      2.665205   38.627937  36.823357 -0.242533 -2.739480   56.101810   \n",
      "2     -0.537440   56.703339  51.287491 -0.442970 -0.163582  191.584824   \n",
      "3     -1.665297   63.172352  50.032013 -0.691587  1.763133  179.932816   \n",
      "4     -1.360240    0.000000   0.000000  0.000000  0.000000    0.000000   \n",
      "...         ...         ...        ...       ...       ...         ...   \n",
      "17152  2.460979    0.000000   0.000000  0.000000  0.000000    0.000000   \n",
      "17153  0.000000    0.000000   0.000000  0.000000  0.000000    0.000000   \n",
      "17154 -2.372512  218.869202  88.585213 -1.552939  0.586289  206.406235   \n",
      "17155  0.000000    0.000000   0.000000  0.000000  0.000000    0.000000   \n",
      "17156 -1.648577    0.000000   0.000000  0.000000  0.000000    0.000000   \n",
      "\n",
      "        InvM_jet2                                            process  \n",
      "0        0.000000  GluGluToHHTo2G2Qlnu_node_cHHH1_TuneCP5_14TeV-p...  \n",
      "1        0.000000  GluGluToHHTo2G2Qlnu_node_cHHH1_TuneCP5_14TeV-p...  \n",
      "2       43.304264  GluGluToHHTo2G2Qlnu_node_cHHH1_TuneCP5_14TeV-p...  \n",
      "3        0.000000  GluGluToHHTo2G2Qlnu_node_cHHH1_TuneCP5_14TeV-p...  \n",
      "4        0.000000  GluGluToHHTo2G2Qlnu_node_cHHH1_TuneCP5_14TeV-p...  \n",
      "...           ...                                                ...  \n",
      "17152    0.000000           WW_TuneCUETP8M1_14TeV-pythia8_200PU.root  \n",
      "17153    0.000000           WW_TuneCUETP8M1_14TeV-pythia8_200PU.root  \n",
      "17154  124.515846           WW_TuneCUETP8M1_14TeV-pythia8_200PU.root  \n",
      "17155    0.000000           WW_TuneCUETP8M1_14TeV-pythia8_200PU.root  \n",
      "17156    0.000000           WW_TuneCUETP8M1_14TeV-pythia8_200PU.root  \n",
      "\n",
      "[339318 rows x 29 columns]\n"
     ]
    }
   ],
   "source": [
    "print(df)"
   ]
  },
  {
   "cell_type": "code",
   "execution_count": 5,
   "id": "9d30264b",
   "metadata": {},
   "outputs": [],
   "source": [
    "df[\"label\"] = 0"
   ]
  },
  {
   "cell_type": "code",
   "execution_count": 6,
   "id": "6ca5fa4e",
   "metadata": {},
   "outputs": [
    {
     "name": "stdout",
     "output_type": "stream",
     "text": [
      "         weight   Eta_ph1   Phi_ph1  E_mGG_ph1  pT_mGG_ph1   Eta_ph2  \\\n",
      "0      0.000025  1.151401  2.699523   1.979170    1.137842  1.603054   \n",
      "1      0.000025 -2.393572 -2.922358   2.951623    0.534528 -2.449574   \n",
      "2      0.000025 -0.010950 -2.823565   0.760817    0.760772 -1.469144   \n",
      "3      0.000025  1.871283  1.047394   2.573060    0.773788  0.890115   \n",
      "4      0.000025 -0.915309 -0.537407   1.380653    0.952852 -1.062086   \n",
      "...         ...       ...       ...        ...         ...       ...   \n",
      "17152  2.124138  0.584682 -2.738620   0.534506    0.454570 -0.581062   \n",
      "17153  2.124138  1.768515 -1.657488   1.534096    0.508591  1.258975   \n",
      "17154  2.124138  1.559572  2.944369   1.155720    0.465358 -0.729275   \n",
      "17155  2.124138  0.322797 -2.931800   0.664161    0.631000 -0.139907   \n",
      "17156  2.124138  0.656518 -2.012486   0.951118    0.777463  0.842254   \n",
      "\n",
      "        Phi_ph2  E_mGG_ph2  pT_mGG_ph2  Electron_E  ...  Eta_jet1  Phi_jet1  \\\n",
      "0      1.725826   2.097534    0.811509  233.906647  ... -1.394348 -2.594233   \n",
      "1      0.575581   2.815203    0.482479   32.269810  ... -0.779769  2.665205   \n",
      "2     -2.621348   1.169402    0.511143    0.000000  ...  1.955092 -0.537440   \n",
      "3     -2.034852   0.364962    0.256472    0.000000  ... -0.190269 -1.665297   \n",
      "4      0.838546   1.039662    0.642137    0.000000  ...  1.351168 -1.360240   \n",
      "...         ...        ...         ...         ...  ...       ...       ...   \n",
      "17152  0.319982   0.468306    0.399027    0.000000  ...  0.444342  2.460979   \n",
      "17153  1.448236   0.877453    0.461119    0.000000  ...  0.000000  0.000000   \n",
      "17154  0.099446   0.231200    0.180919    0.000000  ... -1.970028 -2.372512   \n",
      "17155  0.147806   0.379754    0.376067    0.000000  ...  0.000000  0.000000   \n",
      "17156  1.089979   0.438890    0.318922    0.000000  ...  1.151088 -1.648577   \n",
      "\n",
      "           E_jet2    pT_jet2  Eta_jet2  Phi_jet2    InvM_jet   InvM_jet2  \\\n",
      "0       44.835041  37.006805  0.610907 -1.165494  133.033234    0.000000   \n",
      "1       38.627937  36.823357 -0.242533 -2.739480   56.101810    0.000000   \n",
      "2       56.703339  51.287491 -0.442970 -0.163582  191.584824   43.304264   \n",
      "3       63.172352  50.032013 -0.691587  1.763133  179.932816    0.000000   \n",
      "4        0.000000   0.000000  0.000000  0.000000    0.000000    0.000000   \n",
      "...           ...        ...       ...       ...         ...         ...   \n",
      "17152    0.000000   0.000000  0.000000  0.000000    0.000000    0.000000   \n",
      "17153    0.000000   0.000000  0.000000  0.000000    0.000000    0.000000   \n",
      "17154  218.869202  88.585213 -1.552939  0.586289  206.406235  124.515846   \n",
      "17155    0.000000   0.000000  0.000000  0.000000    0.000000    0.000000   \n",
      "17156    0.000000   0.000000  0.000000  0.000000    0.000000    0.000000   \n",
      "\n",
      "                                                 process  label  \n",
      "0      GluGluToHHTo2G2Qlnu_node_cHHH1_TuneCP5_14TeV-p...      0  \n",
      "1      GluGluToHHTo2G2Qlnu_node_cHHH1_TuneCP5_14TeV-p...      0  \n",
      "2      GluGluToHHTo2G2Qlnu_node_cHHH1_TuneCP5_14TeV-p...      0  \n",
      "3      GluGluToHHTo2G2Qlnu_node_cHHH1_TuneCP5_14TeV-p...      0  \n",
      "4      GluGluToHHTo2G2Qlnu_node_cHHH1_TuneCP5_14TeV-p...      0  \n",
      "...                                                  ...    ...  \n",
      "17152           WW_TuneCUETP8M1_14TeV-pythia8_200PU.root      0  \n",
      "17153           WW_TuneCUETP8M1_14TeV-pythia8_200PU.root      0  \n",
      "17154           WW_TuneCUETP8M1_14TeV-pythia8_200PU.root      0  \n",
      "17155           WW_TuneCUETP8M1_14TeV-pythia8_200PU.root      0  \n",
      "17156           WW_TuneCUETP8M1_14TeV-pythia8_200PU.root      0  \n",
      "\n",
      "[339318 rows x 30 columns]\n"
     ]
    }
   ],
   "source": [
    "print(df)"
   ]
  },
  {
   "cell_type": "code",
   "execution_count": 7,
   "id": "57147667",
   "metadata": {},
   "outputs": [],
   "source": [
    "df.loc[df.process.str.contains(\"HHH\"), ['label']] = 1"
   ]
  },
  {
   "cell_type": "code",
   "execution_count": 8,
   "id": "12b641a7",
   "metadata": {},
   "outputs": [
    {
     "name": "stdout",
     "output_type": "stream",
     "text": [
      "         weight   Eta_ph1   Phi_ph1  E_mGG_ph1  pT_mGG_ph1   Eta_ph2  \\\n",
      "0      0.000025  1.151401  2.699523   1.979170    1.137842  1.603054   \n",
      "1      0.000025 -2.393572 -2.922358   2.951623    0.534528 -2.449574   \n",
      "2      0.000025 -0.010950 -2.823565   0.760817    0.760772 -1.469144   \n",
      "3      0.000025  1.871283  1.047394   2.573060    0.773788  0.890115   \n",
      "4      0.000025 -0.915309 -0.537407   1.380653    0.952852 -1.062086   \n",
      "...         ...       ...       ...        ...         ...       ...   \n",
      "17152  2.124138  0.584682 -2.738620   0.534506    0.454570 -0.581062   \n",
      "17153  2.124138  1.768515 -1.657488   1.534096    0.508591  1.258975   \n",
      "17154  2.124138  1.559572  2.944369   1.155720    0.465358 -0.729275   \n",
      "17155  2.124138  0.322797 -2.931800   0.664161    0.631000 -0.139907   \n",
      "17156  2.124138  0.656518 -2.012486   0.951118    0.777463  0.842254   \n",
      "\n",
      "        Phi_ph2  E_mGG_ph2  pT_mGG_ph2  Electron_E  ...  Eta_jet1  Phi_jet1  \\\n",
      "0      1.725826   2.097534    0.811509  233.906647  ... -1.394348 -2.594233   \n",
      "1      0.575581   2.815203    0.482479   32.269810  ... -0.779769  2.665205   \n",
      "2     -2.621348   1.169402    0.511143    0.000000  ...  1.955092 -0.537440   \n",
      "3     -2.034852   0.364962    0.256472    0.000000  ... -0.190269 -1.665297   \n",
      "4      0.838546   1.039662    0.642137    0.000000  ...  1.351168 -1.360240   \n",
      "...         ...        ...         ...         ...  ...       ...       ...   \n",
      "17152  0.319982   0.468306    0.399027    0.000000  ...  0.444342  2.460979   \n",
      "17153  1.448236   0.877453    0.461119    0.000000  ...  0.000000  0.000000   \n",
      "17154  0.099446   0.231200    0.180919    0.000000  ... -1.970028 -2.372512   \n",
      "17155  0.147806   0.379754    0.376067    0.000000  ...  0.000000  0.000000   \n",
      "17156  1.089979   0.438890    0.318922    0.000000  ...  1.151088 -1.648577   \n",
      "\n",
      "           E_jet2    pT_jet2  Eta_jet2  Phi_jet2    InvM_jet   InvM_jet2  \\\n",
      "0       44.835041  37.006805  0.610907 -1.165494  133.033234    0.000000   \n",
      "1       38.627937  36.823357 -0.242533 -2.739480   56.101810    0.000000   \n",
      "2       56.703339  51.287491 -0.442970 -0.163582  191.584824   43.304264   \n",
      "3       63.172352  50.032013 -0.691587  1.763133  179.932816    0.000000   \n",
      "4        0.000000   0.000000  0.000000  0.000000    0.000000    0.000000   \n",
      "...           ...        ...       ...       ...         ...         ...   \n",
      "17152    0.000000   0.000000  0.000000  0.000000    0.000000    0.000000   \n",
      "17153    0.000000   0.000000  0.000000  0.000000    0.000000    0.000000   \n",
      "17154  218.869202  88.585213 -1.552939  0.586289  206.406235  124.515846   \n",
      "17155    0.000000   0.000000  0.000000  0.000000    0.000000    0.000000   \n",
      "17156    0.000000   0.000000  0.000000  0.000000    0.000000    0.000000   \n",
      "\n",
      "                                                 process  label  \n",
      "0      GluGluToHHTo2G2Qlnu_node_cHHH1_TuneCP5_14TeV-p...      1  \n",
      "1      GluGluToHHTo2G2Qlnu_node_cHHH1_TuneCP5_14TeV-p...      1  \n",
      "2      GluGluToHHTo2G2Qlnu_node_cHHH1_TuneCP5_14TeV-p...      1  \n",
      "3      GluGluToHHTo2G2Qlnu_node_cHHH1_TuneCP5_14TeV-p...      1  \n",
      "4      GluGluToHHTo2G2Qlnu_node_cHHH1_TuneCP5_14TeV-p...      1  \n",
      "...                                                  ...    ...  \n",
      "17152           WW_TuneCUETP8M1_14TeV-pythia8_200PU.root      0  \n",
      "17153           WW_TuneCUETP8M1_14TeV-pythia8_200PU.root      0  \n",
      "17154           WW_TuneCUETP8M1_14TeV-pythia8_200PU.root      0  \n",
      "17155           WW_TuneCUETP8M1_14TeV-pythia8_200PU.root      0  \n",
      "17156           WW_TuneCUETP8M1_14TeV-pythia8_200PU.root      0  \n",
      "\n",
      "[339318 rows x 30 columns]\n"
     ]
    }
   ],
   "source": [
    "print(df)"
   ]
  },
  {
   "cell_type": "code",
   "execution_count": 9,
   "id": "ed4a97fe",
   "metadata": {},
   "outputs": [],
   "source": [
    "input_vars=[\"Eta_ph1\",\"Phi_ph1\",\"E_mGG_ph1\",\"pT_mGG_ph1\",\"Eta_ph2\",\"Phi_ph2\",\"E_mGG_ph2\",\"pT_mGG_ph2\",\"Electron_E\",\"Electron_pT\",\"Electron_Eta\",\"Electron_Phi\",\"Muon_E\",\"Muon_pT\",\"Muon_Eta\",\"Muon_Phi\",\"nJets\",\"E_jet1\",\"pT_jet1\",\"Eta_jet1\",\"Phi_jet1\",\"E_jet2\",\"pT_jet2\",\"Eta_jet2\",\"Phi_jet2\",\"InvM_jet\",\"InvM_jet2\" ]"
   ]
  },
  {
   "cell_type": "code",
   "execution_count": 10,
   "id": "fb4f4837",
   "metadata": {},
   "outputs": [
    {
     "name": "stdout",
     "output_type": "stream",
     "text": [
      "        Eta_ph1   Phi_ph1  E_mGG_ph1  pT_mGG_ph1   Eta_ph2   Phi_ph2  \\\n",
      "0      1.151401  2.699523   1.979170    1.137842  1.603054  1.725826   \n",
      "1     -2.393572 -2.922358   2.951623    0.534528 -2.449574  0.575581   \n",
      "2     -0.010950 -2.823565   0.760817    0.760772 -1.469144 -2.621348   \n",
      "3      1.871283  1.047394   2.573060    0.773788  0.890115 -2.034852   \n",
      "4     -0.915309 -0.537407   1.380653    0.952852 -1.062086  0.838546   \n",
      "...         ...       ...        ...         ...       ...       ...   \n",
      "17152  0.584682 -2.738620   0.534506    0.454570 -0.581062  0.319982   \n",
      "17153  1.768515 -1.657488   1.534096    0.508591  1.258975  1.448236   \n",
      "17154  1.559572  2.944369   1.155720    0.465358 -0.729275  0.099446   \n",
      "17155  0.322797 -2.931800   0.664161    0.631000 -0.139907  0.147806   \n",
      "17156  0.656518 -2.012486   0.951118    0.777463  0.842254  1.089979   \n",
      "\n",
      "       E_mGG_ph2  pT_mGG_ph2  Electron_E  Electron_pT  ...      E_jet1  \\\n",
      "0       2.097534    0.811509  233.906647   116.614990  ...  137.890839   \n",
      "1       2.815203    0.482479   32.269810    30.670956  ...  100.323441   \n",
      "2       1.169402    0.511143    0.000000     0.000000  ...  277.531464   \n",
      "3       0.364962    0.256472    0.000000     0.000000  ...  155.858093   \n",
      "4       1.039662    0.642137    0.000000     0.000000  ...  116.456230   \n",
      "...          ...         ...         ...          ...  ...         ...   \n",
      "17152   0.468306    0.399027    0.000000     0.000000  ...   38.669384   \n",
      "17153   0.877453    0.461119    0.000000     0.000000  ...    0.000000   \n",
      "17154   0.231200    0.180919    0.000000     0.000000  ...  415.861847   \n",
      "17155   0.379754    0.376067    0.000000     0.000000  ...    0.000000   \n",
      "17156   0.438890    0.318922    0.000000     0.000000  ...  100.846344   \n",
      "\n",
      "          pT_jet1  Eta_jet1  Phi_jet1      E_jet2    pT_jet2  Eta_jet2  \\\n",
      "0       64.265007 -1.394348 -2.594233   44.835041  37.006805  0.610907   \n",
      "1       75.722549 -0.779769  2.665205   38.627937  36.823357 -0.242533   \n",
      "2       77.007484  1.955092 -0.537440   56.703339  51.287491 -0.442970   \n",
      "3      152.659454 -0.190269 -1.665297   63.172352  50.032013 -0.691587   \n",
      "4       56.283333  1.351168 -1.360240    0.000000   0.000000  0.000000   \n",
      "...           ...       ...       ...         ...        ...       ...   \n",
      "17152   34.834938  0.444342  2.460979    0.000000   0.000000  0.000000   \n",
      "17153    0.000000  0.000000  0.000000    0.000000   0.000000  0.000000   \n",
      "17154  113.634628 -1.970028 -2.372512  218.869202  88.585213 -1.552939   \n",
      "17155    0.000000  0.000000  0.000000    0.000000   0.000000  0.000000   \n",
      "17156   57.810665  1.151088 -1.648577    0.000000   0.000000  0.000000   \n",
      "\n",
      "       Phi_jet2    InvM_jet   InvM_jet2  \n",
      "0     -1.165494  133.033234    0.000000  \n",
      "1     -2.739480   56.101810    0.000000  \n",
      "2     -0.163582  191.584824   43.304264  \n",
      "3      1.763133  179.932816    0.000000  \n",
      "4      0.000000    0.000000    0.000000  \n",
      "...         ...         ...         ...  \n",
      "17152  0.000000    0.000000    0.000000  \n",
      "17153  0.000000    0.000000    0.000000  \n",
      "17154  0.586289  206.406235  124.515846  \n",
      "17155  0.000000    0.000000    0.000000  \n",
      "17156  0.000000    0.000000    0.000000  \n",
      "\n",
      "[339318 rows x 27 columns]\n"
     ]
    }
   ],
   "source": [
    "print(df[input_vars])"
   ]
  },
  {
   "cell_type": "code",
   "execution_count": 11,
   "id": "b2d3b075",
   "metadata": {},
   "outputs": [],
   "source": [
    "df_clean = df[input_vars].copy()\n",
    "df_clean[\"label\"] = df.loc[:,\"label\"]\n",
    "df_clean.to_csv(\"dataframe_HHWWgg.csv\")\n"
   ]
  },
  {
   "cell_type": "code",
   "execution_count": 12,
   "id": "6fe45642",
   "metadata": {},
   "outputs": [],
   "source": [
    "X_train, X_test, y_train, y_test = train_test_split(df[input_vars], df.label, \n",
    "                                                    test_size=0.33, random_state=42)"
   ]
  },
  {
   "cell_type": "code",
   "execution_count": 13,
   "id": "6bc055e3",
   "metadata": {},
   "outputs": [
    {
     "name": "stdout",
     "output_type": "stream",
     "text": [
      "         Eta_ph1   Phi_ph1  E_mGG_ph1  pT_mGG_ph1   Eta_ph2   Phi_ph2  \\\n",
      "137040  1.946211 -1.814785   2.948212    0.825261  2.369483  3.089034   \n",
      "4171   -0.877800 -0.832266   0.351937    0.249485  1.779025  2.213628   \n",
      "72315  -0.029143  2.507272   1.057403    1.056954 -0.546729  1.598538   \n",
      "125171  1.556867 -3.129845   2.164499    0.873710  1.471290  1.880348   \n",
      "275723  0.044455  1.187478   0.664493    0.663837  0.919653  2.937167   \n",
      "...          ...       ...        ...         ...       ...       ...   \n",
      "119879  0.297534  0.085858   1.014306    0.971008  0.893292  1.293659   \n",
      "259178  0.478522  0.278923   1.149519    1.029396 -0.415534 -1.705359   \n",
      "131932  1.429820 -1.667721   1.607828    0.727969  0.297623 -0.886778   \n",
      "146867 -1.633786 -2.092704   3.797675    1.428120 -0.979864  2.369559   \n",
      "121958 -0.374497  0.107727   1.393763    1.301430 -0.576653 -2.193389   \n",
      "\n",
      "        E_mGG_ph2  pT_mGG_ph2  Electron_E  Electron_pT  ...      E_jet1  \\\n",
      "137040   3.627645    0.672696  159.290375    88.283676  ...  100.375519   \n",
      "4171     0.748583    0.245724   28.865419    28.146881  ...    0.000000   \n",
      "72315    1.044650    0.905858    0.000000     0.000000  ...    0.000000   \n",
      "125171   1.846950    0.805741   75.326233    20.685928  ...   75.969955   \n",
      "275723   0.690289    0.474903   96.839561    32.947517  ...  116.526398   \n",
      "...           ...         ...         ...          ...  ...         ...   \n",
      "119879   0.887289    0.622121    0.000000     0.000000  ...   60.515930   \n",
      "259178   0.288856    0.265594    0.000000     0.000000  ...   67.985809   \n",
      "131932   0.715951    0.685371   48.031513    45.696774  ...    0.000000   \n",
      "146867   0.362187    0.238323  217.231964    41.488918  ...  171.584656   \n",
      "121958   0.266566    0.227655   43.521118    26.851162  ...   51.498032   \n",
      "\n",
      "          pT_jet1  Eta_jet1  Phi_jet1      E_jet2    pT_jet2  Eta_jet2  \\\n",
      "137040  64.696724  0.999277  0.793471    0.000000   0.000000  0.000000   \n",
      "4171     0.000000  0.000000  0.000000    0.000000   0.000000  0.000000   \n",
      "72315    0.000000  0.000000  0.000000    0.000000   0.000000  0.000000   \n",
      "125171  53.465015  0.875741 -0.863470    0.000000   0.000000  0.000000   \n",
      "275723  57.213192  1.337282 -1.077052   95.633575  43.657928  1.419324   \n",
      "...           ...       ...       ...         ...        ...       ...   \n",
      "119879  37.677567 -1.043838  0.709473   40.950771  32.446743  0.707019   \n",
      "259178  41.968014  1.055944  0.670531    0.000000   0.000000  0.000000   \n",
      "131932   0.000000  0.000000  0.000000    0.000000   0.000000  0.000000   \n",
      "146867  57.856667 -1.750186  0.930886  188.492264  51.370979 -1.972891   \n",
      "121958  50.891651 -0.064183  2.680271   62.105598  38.168217  1.063901   \n",
      "\n",
      "        Phi_jet2    InvM_jet  InvM_jet2  \n",
      "137040  0.000000    0.000000   0.000000  \n",
      "4171    0.000000    0.000000   0.000000  \n",
      "72315   0.000000    0.000000   0.000000  \n",
      "125171  0.000000    0.000000   0.000000  \n",
      "275723 -1.557621   25.570751   0.000000  \n",
      "...          ...         ...        ...  \n",
      "119879 -2.778289   98.185410   0.000000  \n",
      "259178  0.000000    0.000000   0.000000  \n",
      "131932  0.000000    0.000000   0.000000  \n",
      "146867  2.077941   61.939487  98.615456  \n",
      "121958 -0.649271  103.006241   0.000000  \n",
      "\n",
      "[227343 rows x 27 columns]\n"
     ]
    }
   ],
   "source": [
    "print(X_train)"
   ]
  },
  {
   "cell_type": "code",
   "execution_count": 14,
   "id": "9a2ee770",
   "metadata": {},
   "outputs": [
    {
     "name": "stdout",
     "output_type": "stream",
     "text": [
      "         Eta_ph1   Phi_ph1  E_mGG_ph1  pT_mGG_ph1   Eta_ph2   Phi_ph2  \\\n",
      "121126 -2.449554 -2.377528   7.983311    1.368234 -1.956931  1.844228   \n",
      "160409 -1.991517  0.795050   2.420583    0.648678 -0.800447 -1.363157   \n",
      "2261    0.094686  1.624229   0.501410    0.499171  2.205986  0.466304   \n",
      "69198  -1.144868  1.125008   1.195261    0.690844 -1.819964 -2.864105   \n",
      "227139 -0.644205 -0.917350   0.760011    0.625639  0.866247 -1.265670   \n",
      "...          ...       ...        ...         ...       ...       ...   \n",
      "97758  -0.103974 -0.224895   1.465126    1.457242 -0.539908 -2.158751   \n",
      "236182 -1.132990 -1.487194   1.188946    0.693871 -1.123002  1.106491   \n",
      "4820    1.558753  1.043660   2.109347    0.849979  1.846972  2.366458   \n",
      "55384  -0.149915 -1.026957   0.629855    0.622843  0.936602  1.425152   \n",
      "36330  -0.980607 -1.473044   1.032735    0.679172 -1.935802  2.865290   \n",
      "\n",
      "        E_mGG_ph2  pT_mGG_ph2  Electron_E  Electron_pT  ...      E_jet1  \\\n",
      "121126   0.826978    0.229116    0.000000     0.000000  ...  198.008881   \n",
      "160409   0.438537    0.327796  151.139297    38.564526  ...    0.000000   \n",
      "2261     1.214718    0.264375    0.000000     0.000000  ...  170.050522   \n",
      "69198    1.207264    0.381221  112.010956    64.900818  ...    0.000000   \n",
      "227139   0.779355    0.556982   28.298843    27.031195  ...    0.000000   \n",
      "...           ...         ...         ...          ...  ...         ...   \n",
      "97758    0.271652    0.236358    0.000000     0.000000  ...    0.000000   \n",
      "236182   0.660736    0.388740   13.487082    13.458445  ...   65.619049   \n",
      "4820     2.400066    0.738674    0.000000     0.000000  ...    0.000000   \n",
      "55384    0.487723    0.331417    0.000000     0.000000  ...  137.874786   \n",
      "36330    1.401927    0.396366   53.906200    12.376707  ...    0.000000   \n",
      "\n",
      "           pT_jet1  Eta_jet1  Phi_jet1     E_jet2   pT_jet2  Eta_jet2  \\\n",
      "121126   65.516655 -1.769914  1.109627  100.65567  57.20591  1.159941   \n",
      "160409    0.000000  0.000000  0.000000    0.00000   0.00000  0.000000   \n",
      "2261     75.311050  1.453982 -0.922121    0.00000   0.00000  0.000000   \n",
      "69198     0.000000  0.000000  0.000000    0.00000   0.00000  0.000000   \n",
      "227139    0.000000  0.000000  0.000000    0.00000   0.00000  0.000000   \n",
      "...            ...       ...       ...        ...       ...       ...   \n",
      "97758     0.000000  0.000000  0.000000    0.00000   0.00000  0.000000   \n",
      "236182   40.058483  1.071289  2.320714    0.00000   0.00000  0.000000   \n",
      "4820      0.000000  0.000000  0.000000    0.00000   0.00000  0.000000   \n",
      "55384   125.989601  0.422778 -2.760775    0.00000   0.00000  0.000000   \n",
      "36330     0.000000  0.000000  0.000000    0.00000   0.00000  0.000000   \n",
      "\n",
      "        Phi_jet2    InvM_jet  InvM_jet2  \n",
      "121126 -1.292706  276.159821        0.0  \n",
      "160409  0.000000    0.000000        0.0  \n",
      "2261    0.000000    0.000000        0.0  \n",
      "69198   0.000000    0.000000        0.0  \n",
      "227139  0.000000    0.000000        0.0  \n",
      "...          ...         ...        ...  \n",
      "97758   0.000000    0.000000        0.0  \n",
      "236182  0.000000    0.000000        0.0  \n",
      "4820    0.000000    0.000000        0.0  \n",
      "55384   0.000000    0.000000        0.0  \n",
      "36330   0.000000    0.000000        0.0  \n",
      "\n",
      "[111975 rows x 27 columns]\n"
     ]
    }
   ],
   "source": [
    "print(X_test)"
   ]
  },
  {
   "cell_type": "code",
   "execution_count": 15,
   "id": "8a3c62ed",
   "metadata": {},
   "outputs": [
    {
     "name": "stderr",
     "output_type": "stream",
     "text": [
      "2021-11-26 13:09:45.830045: W tensorflow/stream_executor/platform/default/dso_loader.cc:64] Could not load dynamic library 'libcuda.so.1'; dlerror: libcuda.so.1: cannot open shared object file: No such file or directory\n",
      "2021-11-26 13:09:45.830081: W tensorflow/stream_executor/cuda/cuda_driver.cc:269] failed call to cuInit: UNKNOWN ERROR (303)\n",
      "2021-11-26 13:09:45.830110: I tensorflow/stream_executor/cuda/cuda_diagnostics.cc:156] kernel driver does not appear to be running on this host (1S0): /proc/driver/nvidia/version does not exist\n",
      "2021-11-26 13:09:45.830450: I tensorflow/core/platform/cpu_feature_guard.cc:151] This TensorFlow binary is optimized with oneAPI Deep Neural Network Library (oneDNN) to use the following CPU instructions in performance-critical operations:  AVX2 FMA\n",
      "To enable them in other operations, rebuild TensorFlow with the appropriate compiler flags.\n"
     ]
    }
   ],
   "source": [
    "inputs = keras.Input(shape=(len(input_vars),), name=\"particles\")\n",
    "x = layers.Dense(64, activation=\"relu\", name=\"dense_1\")(inputs)\n",
    "x = layers.Dense(64, activation=\"relu\", name=\"dense_2\")(x)\n",
    "outputs = layers.Dense(1, activation=\"sigmoid\", name=\"predictions\")(x)\n",
    "\n",
    "model = keras.Model(inputs=inputs, outputs=outputs)"
   ]
  },
  {
   "cell_type": "code",
   "execution_count": 16,
   "id": "40426231",
   "metadata": {},
   "outputs": [],
   "source": [
    "model.compile(\n",
    "    optimizer=keras.optimizers.RMSprop(),  # Optimizer\n",
    "    # Loss function to minimize\n",
    "    loss=keras.losses.BinaryCrossentropy(),\n",
    "    # List of metrics to monitor\n",
    "    metrics=[keras.metrics.BinaryAccuracy()],\n",
    ")"
   ]
  },
  {
   "cell_type": "code",
   "execution_count": 17,
   "id": "de58eccd",
   "metadata": {},
   "outputs": [],
   "source": [
    "X_val = X_train[-3000:]\n",
    "y_val = y_train[-3000:]\n",
    "X_train = X_train[:-3000]\n",
    "y_train = y_train[:-3000]"
   ]
  },
  {
   "cell_type": "code",
   "execution_count": 18,
   "id": "f5baa6a5",
   "metadata": {},
   "outputs": [
    {
     "name": "stdout",
     "output_type": "stream",
     "text": [
      "         Eta_ph1   Phi_ph1  E_mGG_ph1  pT_mGG_ph1   Eta_ph2   Phi_ph2  \\\n",
      "137040  1.946211 -1.814785   2.948212    0.825261  2.369483  3.089034   \n",
      "4171   -0.877800 -0.832266   0.351937    0.249485  1.779025  2.213628   \n",
      "72315  -0.029143  2.507272   1.057403    1.056954 -0.546729  1.598538   \n",
      "125171  1.556867 -3.129845   2.164499    0.873710  1.471290  1.880348   \n",
      "275723  0.044455  1.187478   0.664493    0.663837  0.919653  2.937167   \n",
      "...          ...       ...        ...         ...       ...       ...   \n",
      "243236 -0.674916  0.569737   2.922033    2.363084 -0.944601 -0.258008   \n",
      "136535  0.905024  0.692563   0.609027    0.423447 -1.298370  0.287107   \n",
      "182024 -0.953191 -3.129864   0.829327    0.556692 -1.968687 -1.419089   \n",
      "5316   -0.389882 -2.366568   0.506648    0.470438  0.915131  0.632446   \n",
      "136554 -0.696973  1.661161   0.889458    0.709932 -1.356449 -0.868669   \n",
      "\n",
      "        E_mGG_ph2  pT_mGG_ph2  Electron_E  Electron_pT  ...      E_jet1  \\\n",
      "137040   3.627645    0.672696  159.290375    88.283676  ...  100.375519   \n",
      "4171     0.748583    0.245724   28.865419    28.146881  ...    0.000000   \n",
      "72315    1.044650    0.905858    0.000000     0.000000  ...    0.000000   \n",
      "125171   1.846950    0.805741   75.326233    20.685928  ...   75.969955   \n",
      "275723   0.690289    0.474903   96.839561    32.947517  ...  116.526398   \n",
      "...           ...         ...         ...          ...  ...         ...   \n",
      "243236   0.869928    0.587666   59.812931    21.762396  ...  387.337372   \n",
      "136535   0.634245    0.322255   27.486559    24.060377  ...  127.696259   \n",
      "182024   1.927517    0.528021   77.250725    77.197044  ...  651.576355   \n",
      "5316     0.518581    0.357942   27.714664    18.234529  ...    0.000000   \n",
      "136554   0.713213    0.344551  205.885376    68.842773  ...  275.549042   \n",
      "\n",
      "           pT_jet1  Eta_jet1  Phi_jet1      E_jet2    pT_jet2  Eta_jet2  \\\n",
      "137040   64.696724  0.999277  0.793471    0.000000   0.000000  0.000000   \n",
      "4171      0.000000  0.000000  0.000000    0.000000   0.000000  0.000000   \n",
      "72315     0.000000  0.000000  0.000000    0.000000   0.000000  0.000000   \n",
      "125171   53.465015  0.875741 -0.863470    0.000000   0.000000  0.000000   \n",
      "275723   57.213192  1.337282 -1.077052   95.633575  43.657928  1.419324   \n",
      "...            ...       ...       ...         ...        ...       ...   \n",
      "243236  271.099152 -0.894826 -2.782881   62.471844  31.402081 -1.306649   \n",
      "136535  115.222321 -0.455553 -2.780037   71.055832  41.493313  1.129032   \n",
      "182024  121.098930 -2.367130 -0.694662  214.755112  64.505928 -1.870188   \n",
      "5316      0.000000  0.000000  0.000000    0.000000   0.000000  0.000000   \n",
      "136554   79.622124  1.912136 -0.884895   97.513855  49.523479  1.298797   \n",
      "\n",
      "        Phi_jet2    InvM_jet  InvM_jet2  \n",
      "137040  0.000000    0.000000   0.000000  \n",
      "4171    0.000000    0.000000   0.000000  \n",
      "72315   0.000000    0.000000   0.000000  \n",
      "125171  0.000000    0.000000   0.000000  \n",
      "275723 -1.557621   25.570751   0.000000  \n",
      "...          ...         ...        ...  \n",
      "243236  1.395422  166.123657   0.000000  \n",
      "136535 -0.462986  176.029099   0.000000  \n",
      "182024  0.020687   81.785164  46.990482  \n",
      "5316    0.000000    0.000000   0.000000  \n",
      "136554 -1.414214   52.895313   0.000000  \n",
      "\n",
      "[224343 rows x 27 columns]\n"
     ]
    }
   ],
   "source": [
    "print(X_train)"
   ]
  },
  {
   "cell_type": "code",
   "execution_count": 19,
   "id": "bfa63501",
   "metadata": {},
   "outputs": [
    {
     "name": "stderr",
     "output_type": "stream",
     "text": [
      "2021-11-26 13:09:59.831496: W tensorflow/core/framework/cpu_allocator_impl.cc:82] Allocation of 48458088 exceeds 10% of free system memory.\n"
     ]
    },
    {
     "name": "stdout",
     "output_type": "stream",
     "text": [
      "Epoch 1/10\n",
      "1753/1753 [==============================] - 3s 1ms/step - loss: 0.6261 - binary_accuracy: 0.8188 - val_loss: 0.3936 - val_binary_accuracy: 0.8293\n",
      "Epoch 2/10\n",
      "1753/1753 [==============================] - 2s 1ms/step - loss: 0.3563 - binary_accuracy: 0.8571 - val_loss: 0.2874 - val_binary_accuracy: 0.8753\n",
      "Epoch 3/10\n",
      "1753/1753 [==============================] - 2s 1ms/step - loss: 0.3044 - binary_accuracy: 0.8742 - val_loss: 0.2647 - val_binary_accuracy: 0.8867\n",
      "Epoch 4/10\n",
      "1753/1753 [==============================] - 2s 1ms/step - loss: 0.2808 - binary_accuracy: 0.8833 - val_loss: 0.2663 - val_binary_accuracy: 0.8850\n",
      "Epoch 5/10\n",
      "1753/1753 [==============================] - 2s 1ms/step - loss: 0.2670 - binary_accuracy: 0.8876 - val_loss: 0.2431 - val_binary_accuracy: 0.9003\n",
      "Epoch 6/10\n",
      "1753/1753 [==============================] - 2s 1ms/step - loss: 0.2575 - binary_accuracy: 0.8915 - val_loss: 0.2321 - val_binary_accuracy: 0.9023\n",
      "Epoch 7/10\n",
      "1753/1753 [==============================] - 2s 1ms/step - loss: 0.2522 - binary_accuracy: 0.8934 - val_loss: 0.2280 - val_binary_accuracy: 0.9020\n",
      "Epoch 8/10\n",
      "1753/1753 [==============================] - 2s 1ms/step - loss: 0.2475 - binary_accuracy: 0.8951 - val_loss: 0.2398 - val_binary_accuracy: 0.8960\n",
      "Epoch 9/10\n",
      "1753/1753 [==============================] - 2s 1ms/step - loss: 0.2446 - binary_accuracy: 0.8961 - val_loss: 0.2309 - val_binary_accuracy: 0.8980\n",
      "Epoch 10/10\n",
      "1753/1753 [==============================] - 2s 1ms/step - loss: 0.2410 - binary_accuracy: 0.8978 - val_loss: 0.2327 - val_binary_accuracy: 0.9003\n"
     ]
    }
   ],
   "source": [
    "history = model.fit(\n",
    "    X_train,\n",
    "    y_train,\n",
    "    batch_size=128,\n",
    "    epochs=10,\n",
    "    # We pass some validation for\n",
    "    # monitoring validation loss and metrics\n",
    "    # at the end of each epoch\n",
    "    validation_data=(X_val, y_val),\n",
    ")"
   ]
  },
  {
   "cell_type": "code",
   "execution_count": 20,
   "id": "94334845",
   "metadata": {},
   "outputs": [
    {
     "data": {
      "image/png": "[encoded data removed]",
      "text/plain": [
       "<Figure size 432x288 with 1 Axes>"
      ]
     },
     "metadata": {
      "needs_background": "light"
     },
     "output_type": "display_data"
    }
   ],
   "source": [
    "import matplotlib.pyplot as plt\n",
    "plt.plot(history.history['loss'],color='m',label='Training loss')\n",
    "plt.plot(history.history['val_loss'],color='b',label='Validation loss')\n",
    "plt.xlabel('Epoch')\n",
    "plt.ylabel('Loss function')\n",
    "plt.legend(loc='upper right')\n",
    "#plt.savefig('plots/2016_training_validation.pdf')\n",
    "plt.show()"
   ]
  },
  {
   "cell_type": "code",
   "execution_count": 21,
   "id": "1f10f696",
   "metadata": {},
   "outputs": [
    {
     "name": "stdout",
     "output_type": "stream",
     "text": [
      "[[0.95558727]\n",
      " [0.48557672]\n",
      " [0.5372894 ]\n",
      " ...\n",
      " [0.9983971 ]\n",
      " [0.29774454]\n",
      " [0.45849827]]\n"
     ]
    },
    {
     "data": {
      "image/png": "[encoded data removed]",
      "text/plain": [
       "<Figure size 432x288 with 1 Axes>"
      ]
     },
     "metadata": {
      "needs_background": "light"
     },
     "output_type": "display_data"
    }
   ],
   "source": [
    "prediction = model.predict(X_test)\n",
    "from sklearn.metrics import roc_curve\n",
    "#y_pred_keras = keras_model.predict(X_test).ravel()\n",
    "fpr_keras, tpr_keras, thresholds_keras = roc_curve(y_test, prediction)\n",
    "\n",
    "from sklearn.metrics import auc\n",
    "auc_keras = auc(fpr_keras, tpr_keras)\n",
    "\n",
    "print(prediction)\n",
    "\n",
    "plt.figure(1)\n",
    "plt.plot([0, 1], [0, 1], 'k--')\n",
    "plt.plot(fpr_keras, tpr_keras, label='Keras (area = {:.3f})'.format(auc_keras))\n",
    "#plt.plot(fpr_rf, tpr_rf, label='XGBoost (area = {:.3f})'.format(auc_rf))\n",
    "plt.xlabel('False positive rate')\n",
    "plt.ylabel('True positive rate')\n",
    "plt.title('ROC curve')\n",
    "plt.legend(loc='best')\n",
    "plt.show()"
   ]
  },
  {
   "cell_type": "code",
   "execution_count": 22,
   "id": "38e8e583",
   "metadata": {},
   "outputs": [
    {
     "data": {
      "image/png": "[encoded data removed]",
      "text/plain": [
       "<Figure size 432x288 with 1 Axes>"
      ]
     },
     "metadata": {
      "needs_background": "light"
     },
     "output_type": "display_data"
    }
   ],
   "source": [
    "plt.hist(prediction[y_test==0],histtype=(\"step\"));\n",
    "plt.hist(prediction[y_test==1],histtype=(\"step\"));\n",
    "plt.yscale('log') "
   ]
  },
  {
   "cell_type": "code",
   "execution_count": 23,
   "id": "86da4315",
   "metadata": {},
   "outputs": [
    {
     "name": "stderr",
     "output_type": "stream",
     "text": [
      "2021-11-26 13:11:02.459511: W tensorflow/core/framework/cpu_allocator_impl.cc:82] Allocation of 24186600 exceeds 10% of free system memory.\n"
     ]
    },
    {
     "name": "stdout",
     "output_type": "stream",
     "text": [
      "3500/3500 - 2s - loss: 0.2359 - binary_accuracy: 0.9000 - 2s/epoch - 503us/step\n",
      "binary_accuracy: 90.00%\n"
     ]
    }
   ],
   "source": [
    "# evaluate the model\n",
    "scores = model.evaluate(X_test, y_test, verbose=2)\n",
    "print(\"%s: %.2f%%\" % (model.metrics_names[1], scores[1]*100))"
   ]
  },
  {
   "cell_type": "code",
   "execution_count": 24,
   "id": "051f1247",
   "metadata": {},
   "outputs": [
    {
     "name": "stderr",
     "output_type": "stream",
     "text": [
      "2021-11-26 13:11:06.043899: W tensorflow/python/util/util.cc:368] Sets are not currently considered sequences, but this may change in the future, so consider avoiding using them.\n"
     ]
    },
    {
     "name": "stdout",
     "output_type": "stream",
     "text": [
      "INFO:tensorflow:Assets written to: model_dnn/assets\n",
      "Saved model to disk\n"
     ]
    }
   ],
   "source": [
    "# save model and architecture to single file\n",
    "model.save(\"model_dnn\")\n",
    "print(\"Saved model to disk\")"
   ]
  },
  {
   "cell_type": "code",
   "execution_count": null,
   "id": "89de2650",
   "metadata": {},
   "outputs": [],
   "source": []
  }
 ],
 "metadata": {
  "kernelspec": {
   "display_name": "Python 3 (ipykernel)",
   "language": "python",
   "name": "python3"
  },
  "language_info": {
   "codemirror_mode": {
    "name": "ipython",
    "version": 3
   },
   "file_extension": ".py",
   "mimetype": "text/x-python",
   "name": "python",
   "nbconvert_exporter": "python",
   "pygments_lexer": "ipython3",
   "version": "3.8.10"
  }
 },
 "nbformat": 4,
 "nbformat_minor": 5
}
