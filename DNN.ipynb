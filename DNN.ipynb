{
 "cells": [
  {
   "cell_type": "code",
   "execution_count": 50,
   "id": "a0123230",
   "metadata": {},
   "outputs": [],
   "source": [
    "import pyarrow.parquet as pq\n",
    "import pandas as pd\n",
    "from sklearn.model_selection import train_test_split\n",
    "import tensorflow as tf\n",
    "from tensorflow import keras\n",
    "from tensorflow.keras import layers\n",
    "from tensorflow.keras.callbacks import EarlyStopping, ReduceLROnPlateau"
   ]
  },
  {
   "cell_type": "code",
   "execution_count": 51,
   "id": "16348b5d",
   "metadata": {},
   "outputs": [],
   "source": [
    "df = pd.read_parquet(\"Skim_OneSig_Oguz_Sel.parquet\")"
   ]
  },
  {
   "cell_type": "code",
   "execution_count": 52,
   "id": "9d30264b",
   "metadata": {},
   "outputs": [],
   "source": [
    "df[\"label\"] = 0\n",
    "df = df[df['weight']>0]"
   ]
  },
  {
   "cell_type": "code",
   "execution_count": 53,
   "id": "6ca5fa4e",
   "metadata": {},
   "outputs": [
    {
     "name": "stdout",
     "output_type": "stream",
     "text": [
      "        weight   Eta_ph1   Phi_ph1  E_mGG_ph1  pT_mGG_ph1   Eta_ph2   Phi_ph2  \\\n",
      "0     0.000025  1.151401  2.699523   1.979170    1.137842  1.603054  1.725826   \n",
      "1     0.000025  0.928688 -1.035375   2.569062    1.755869  0.060377  0.110630   \n",
      "2     0.000025 -0.324566 -0.605513   0.910566    0.864624  0.541065  0.405040   \n",
      "3     0.000025 -1.350016 -0.786307   1.866993    0.907029 -2.300989  2.424570   \n",
      "4     0.000025  0.276418  0.034514   0.957748    0.922289  1.291733  2.735958   \n",
      "...        ...       ...       ...        ...         ...       ...       ...   \n",
      "1850  0.784736  0.489109  1.587192   0.735345    0.655377  1.599969 -1.402752   \n",
      "1851  0.784736 -0.516578 -2.108513   0.333769    0.293702  2.013005  2.914027   \n",
      "1852  0.784736  1.693811  2.266197   1.222146    0.434619  0.070262 -1.049876   \n",
      "1853  0.784736  0.137637  2.189009   0.418680    0.414745  2.172778  0.626050   \n",
      "1854  0.784736  1.709857  0.876920   3.384164    1.185541  1.333158  2.846901   \n",
      "\n",
      "      E_mGG_ph2  pT_mGG_ph2  Electron_E  ...  Phi_jet1      E_jet2    pT_jet2  \\\n",
      "0      2.097534    0.811509  233.906647  ... -2.594233   44.835041  37.006805   \n",
      "1      0.288411    0.287886  154.754089  ...  1.736346  670.602722  65.599617   \n",
      "2      0.766810    0.666802  106.398964  ... -2.429425    0.000000   0.000000   \n",
      "3      1.118544    0.221841   62.572247  ...  1.086637   43.716480  40.493767   \n",
      "4      0.430226    0.219846   34.023560  ... -2.330503    0.000000   0.000000   \n",
      "...         ...         ...         ...  ...       ...         ...        ...   \n",
      "1850   0.736003    0.285561  271.594818  ...  0.071135   91.603226  59.531937   \n",
      "1851   1.079356    0.283319  131.135040  ...  2.209306  108.559990  70.284546   \n",
      "1852   0.318677    0.317892   37.472851  ...  2.184917  190.998734  68.016304   \n",
      "1853   1.380642    0.310378    0.000000  ...  0.101775  501.714172  59.243683   \n",
      "1854   0.585733    0.288777   94.038895  ...  0.303992   49.274067  37.789082   \n",
      "\n",
      "      Eta_jet2  Phi_jet2    InvM_jet   InvM_jet2         met  \\\n",
      "0     0.610907 -1.165494  133.033234    0.000000  174.566574   \n",
      "1    -3.015235  1.531505  297.733368  290.273743  233.649139   \n",
      "2     0.000000  0.000000    0.000000    0.000000  144.834885   \n",
      "3    -0.380434  3.079443   80.196831    0.000000  119.136139   \n",
      "4     0.000000  0.000000    0.000000    0.000000   72.548462   \n",
      "...        ...       ...         ...         ...         ...   \n",
      "1850  0.992770  1.519613  601.667786   37.195904   37.871899   \n",
      "1851  0.999488  3.057855   85.559967  127.434410   40.191174   \n",
      "1852  1.691782 -1.463259  193.707352    0.000000   65.707191   \n",
      "1853  2.825329  1.573262  162.932495  139.023376   47.090668   \n",
      "1854 -0.755664 -2.185100   97.707672  123.043365   58.228996   \n",
      "\n",
      "                                                process  label  \n",
      "0     GluGluToHHTo2G2Qlnu_node_cHHH1_TuneCP5_14TeV-p...      0  \n",
      "1     GluGluToHHTo2G2Qlnu_node_cHHH1_TuneCP5_14TeV-p...      0  \n",
      "2     GluGluToHHTo2G2Qlnu_node_cHHH1_TuneCP5_14TeV-p...      0  \n",
      "3     GluGluToHHTo2G2Qlnu_node_cHHH1_TuneCP5_14TeV-p...      0  \n",
      "4     GluGluToHHTo2G2Qlnu_node_cHHH1_TuneCP5_14TeV-p...      0  \n",
      "...                                                 ...    ...  \n",
      "1850  TTGamma_SingleLeptFromTbar_TuneCUETP8M2T4_14Te...      0  \n",
      "1851  TTGamma_SingleLeptFromTbar_TuneCUETP8M2T4_14Te...      0  \n",
      "1852  TTGamma_SingleLeptFromTbar_TuneCUETP8M2T4_14Te...      0  \n",
      "1853  TTGamma_SingleLeptFromTbar_TuneCUETP8M2T4_14Te...      0  \n",
      "1854  TTGamma_SingleLeptFromTbar_TuneCUETP8M2T4_14Te...      0  \n",
      "\n",
      "[582382 rows x 31 columns]\n"
     ]
    }
   ],
   "source": [
    "print(df)"
   ]
  },
  {
   "cell_type": "code",
   "execution_count": 54,
   "id": "57147667",
   "metadata": {},
   "outputs": [],
   "source": [
    "df.loc[df.process.str.contains(\"HHH\"), ['label']] = 1"
   ]
  },
  {
   "cell_type": "code",
   "execution_count": 55,
   "id": "8aa03dbe",
   "metadata": {},
   "outputs": [],
   "source": [
    "batch_size = 128\n",
    "\n",
    "\n",
    "def checkBatches(df):\n",
    "    N_checks = 1000\n",
    "    sum_sig = 0.\n",
    "    N_sig = 0\n",
    "    sum_back = 0.\n",
    "    N_back = 0\n",
    "    for i in range(N_checks):\n",
    "        rnd_df = df.sample(batch_size)\n",
    "        sum_sig  += rnd_df[rnd_df['label']==1]['weight'].sum()\n",
    "        sum_back += rnd_df[rnd_df['label']==0]['weight'].sum()\n",
    "        N_sig    += rnd_df[rnd_df['label']==1].shape[0]\n",
    "        N_back   += rnd_df[rnd_df['label']==0].shape[0]\n",
    "    sum_sig  /= N_checks\n",
    "    sum_back /= N_checks\n",
    "    N_sig    /= N_checks\n",
    "    N_back   /= N_checks\n",
    "\n",
    "    print (f'On average, per batch the total learning weight is\\n\\t... signal     : {sum_sig:12.6f} [{N_sig} events] \\n\\t... background : {sum_back:12.6f} [{N_back} events]')\n",
    "\n"
   ]
  },
  {
   "cell_type": "code",
   "execution_count": 56,
   "id": "3daa75df",
   "metadata": {},
   "outputs": [
    {
     "name": "stdout",
     "output_type": "stream",
     "text": [
      "On average, per batch the total learning weight is\n",
      "\t... signal     :     0.000910 [35.692 events] \n",
      "\t... background :   467.059024 [92.308 events]\n"
     ]
    }
   ],
   "source": [
    "checkBatches(df)"
   ]
  },
  {
   "cell_type": "code",
   "execution_count": 57,
   "id": "12b641a7",
   "metadata": {},
   "outputs": [
    {
     "name": "stdout",
     "output_type": "stream",
     "text": [
      "        weight   Eta_ph1   Phi_ph1  E_mGG_ph1  pT_mGG_ph1   Eta_ph2   Phi_ph2  \\\n",
      "0     0.000025  1.151401  2.699523   1.979170    1.137842  1.603054  1.725826   \n",
      "1     0.000025  0.928688 -1.035375   2.569062    1.755869  0.060377  0.110630   \n",
      "2     0.000025 -0.324566 -0.605513   0.910566    0.864624  0.541065  0.405040   \n",
      "3     0.000025 -1.350016 -0.786307   1.866993    0.907029 -2.300989  2.424570   \n",
      "4     0.000025  0.276418  0.034514   0.957748    0.922289  1.291733  2.735958   \n",
      "...        ...       ...       ...        ...         ...       ...       ...   \n",
      "1850  0.784736  0.489109  1.587192   0.735345    0.655377  1.599969 -1.402752   \n",
      "1851  0.784736 -0.516578 -2.108513   0.333769    0.293702  2.013005  2.914027   \n",
      "1852  0.784736  1.693811  2.266197   1.222146    0.434619  0.070262 -1.049876   \n",
      "1853  0.784736  0.137637  2.189009   0.418680    0.414745  2.172778  0.626050   \n",
      "1854  0.784736  1.709857  0.876920   3.384164    1.185541  1.333158  2.846901   \n",
      "\n",
      "      E_mGG_ph2  pT_mGG_ph2  Electron_E  ...  Phi_jet1      E_jet2    pT_jet2  \\\n",
      "0      2.097534    0.811509  233.906647  ... -2.594233   44.835041  37.006805   \n",
      "1      0.288411    0.287886  154.754089  ...  1.736346  670.602722  65.599617   \n",
      "2      0.766810    0.666802  106.398964  ... -2.429425    0.000000   0.000000   \n",
      "3      1.118544    0.221841   62.572247  ...  1.086637   43.716480  40.493767   \n",
      "4      0.430226    0.219846   34.023560  ... -2.330503    0.000000   0.000000   \n",
      "...         ...         ...         ...  ...       ...         ...        ...   \n",
      "1850   0.736003    0.285561  271.594818  ...  0.071135   91.603226  59.531937   \n",
      "1851   1.079356    0.283319  131.135040  ...  2.209306  108.559990  70.284546   \n",
      "1852   0.318677    0.317892   37.472851  ...  2.184917  190.998734  68.016304   \n",
      "1853   1.380642    0.310378    0.000000  ...  0.101775  501.714172  59.243683   \n",
      "1854   0.585733    0.288777   94.038895  ...  0.303992   49.274067  37.789082   \n",
      "\n",
      "      Eta_jet2  Phi_jet2    InvM_jet   InvM_jet2         met  \\\n",
      "0     0.610907 -1.165494  133.033234    0.000000  174.566574   \n",
      "1    -3.015235  1.531505  297.733368  290.273743  233.649139   \n",
      "2     0.000000  0.000000    0.000000    0.000000  144.834885   \n",
      "3    -0.380434  3.079443   80.196831    0.000000  119.136139   \n",
      "4     0.000000  0.000000    0.000000    0.000000   72.548462   \n",
      "...        ...       ...         ...         ...         ...   \n",
      "1850  0.992770  1.519613  601.667786   37.195904   37.871899   \n",
      "1851  0.999488  3.057855   85.559967  127.434410   40.191174   \n",
      "1852  1.691782 -1.463259  193.707352    0.000000   65.707191   \n",
      "1853  2.825329  1.573262  162.932495  139.023376   47.090668   \n",
      "1854 -0.755664 -2.185100   97.707672  123.043365   58.228996   \n",
      "\n",
      "                                                process  label  \n",
      "0     GluGluToHHTo2G2Qlnu_node_cHHH1_TuneCP5_14TeV-p...      1  \n",
      "1     GluGluToHHTo2G2Qlnu_node_cHHH1_TuneCP5_14TeV-p...      1  \n",
      "2     GluGluToHHTo2G2Qlnu_node_cHHH1_TuneCP5_14TeV-p...      1  \n",
      "3     GluGluToHHTo2G2Qlnu_node_cHHH1_TuneCP5_14TeV-p...      1  \n",
      "4     GluGluToHHTo2G2Qlnu_node_cHHH1_TuneCP5_14TeV-p...      1  \n",
      "...                                                 ...    ...  \n",
      "1850  TTGamma_SingleLeptFromTbar_TuneCUETP8M2T4_14Te...      0  \n",
      "1851  TTGamma_SingleLeptFromTbar_TuneCUETP8M2T4_14Te...      0  \n",
      "1852  TTGamma_SingleLeptFromTbar_TuneCUETP8M2T4_14Te...      0  \n",
      "1853  TTGamma_SingleLeptFromTbar_TuneCUETP8M2T4_14Te...      0  \n",
      "1854  TTGamma_SingleLeptFromTbar_TuneCUETP8M2T4_14Te...      0  \n",
      "\n",
      "[582382 rows x 31 columns]\n"
     ]
    }
   ],
   "source": [
    "print(df)"
   ]
  },
  {
   "cell_type": "code",
   "execution_count": 58,
   "id": "9e6a34ce",
   "metadata": {},
   "outputs": [
    {
     "name": "stdout",
     "output_type": "stream",
     "text": [
      "Sum of learning weight for signal     =         4.11938\n",
      "Sum of learning weight for background =   2807844.25000\n",
      "After equalization\n",
      "Sum of learning weight for signal     =    291191.00000\n",
      "Sum of learning weight for background =    291190.87500\n",
      "Average learning weight = 0.9999997615814209\n",
      "\n",
      "Now let us try again with batches\n"
     ]
    }
   ],
   "source": [
    "print (f\"Sum of learning weight for signal     = {df[df['label']==1]['weight'].sum():15.5f}\")\n",
    "print (f\"Sum of learning weight for background = {df[df['label']==0]['weight'].sum():15.5f}\")\n",
    "df.loc[df['label']==1,'weight'] *= df.shape[0]/2 / df[df['label']==1]['weight'].sum() \n",
    "df.loc[df['label']==0,'weight'] *= df.shape[0]/2 / df[df['label']==0]['weight'].sum()\n",
    "# We divide by their sum, and multiply by the number of events\n",
    "#   First part is so that the sum of weights of the signal is now == to the background ones\n",
    "#   The second part is because if the weights are super small, the loss will be small\n",
    "#       In practice the magnitude does not matter, only relative difference, but it is easier\n",
    "#       to check the learning when the loss variations are not far in the decimals\n",
    "#       -> like that the average unit weight is 1\n",
    "print (\"After equalization\")\n",
    "print (f\"Sum of learning weight for signal     = {df[df['label']==1]['weight'].sum():15.5f}\")\n",
    "print (f\"Sum of learning weight for background = {df[df['label']==0]['weight'].sum():15.5f}\")\n",
    "\n",
    "print (f'Average learning weight = {df[\"weight\"].mean()}')\n",
    "\n",
    "print ('\\nNow let us try again with batches')"
   ]
  },
  {
   "cell_type": "code",
   "execution_count": 59,
   "id": "03f230a9",
   "metadata": {},
   "outputs": [
    {
     "name": "stdout",
     "output_type": "stream",
     "text": [
      "On average, per batch the total learning weight is\n",
      "\t... signal     :    63.651612 [35.301 events] \n",
      "\t... background :    58.719584 [92.699 events]\n"
     ]
    }
   ],
   "source": [
    "checkBatches(df)"
   ]
  },
  {
   "cell_type": "code",
   "execution_count": 60,
   "id": "ed4a97fe",
   "metadata": {},
   "outputs": [],
   "source": [
    "input_vars=[\"Eta_ph1\",\n",
    "            \"Phi_ph1\",\n",
    "            \"E_mGG_ph1\",\n",
    "            \"pT_mGG_ph1\",\n",
    "            \"Eta_ph2\",\n",
    "            \"Phi_ph2\",\n",
    "            \"E_mGG_ph2\",\n",
    "            \"pT_mGG_ph2\",\n",
    "            \"Electron_E\",\n",
    "            \"Electron_pT\",\n",
    "            \"Electron_Eta\",\n",
    "            \"Electron_Phi\",\n",
    "            \"Muon_E\",\"Muon_pT\",\n",
    "            \"Muon_Eta\",\"Muon_Phi\",\n",
    "            \"nJets\",\"E_jet1\",\"pT_jet1\",\n",
    "            \"Eta_jet1\",\n",
    "            \"Phi_jet1\",\n",
    "            \"E_jet2\",\n",
    "            \"pT_jet2\",\n",
    "            \"Eta_jet2\",\n",
    "            \"Phi_jet2\",\n",
    "            \"InvM_jet\",\n",
    "            \"InvM_jet2\",\n",
    "            \"met\"]"
   ]
  },
  {
   "cell_type": "code",
   "execution_count": 61,
   "id": "fb4f4837",
   "metadata": {},
   "outputs": [
    {
     "name": "stdout",
     "output_type": "stream",
     "text": [
      "       Eta_ph1   Phi_ph1  E_mGG_ph1  pT_mGG_ph1   Eta_ph2   Phi_ph2  \\\n",
      "0     1.151401  2.699523   1.979170    1.137842  1.603054  1.725826   \n",
      "1     0.928688 -1.035375   2.569062    1.755869  0.060377  0.110630   \n",
      "2    -0.324566 -0.605513   0.910566    0.864624  0.541065  0.405040   \n",
      "3    -1.350016 -0.786307   1.866993    0.907029 -2.300989  2.424570   \n",
      "4     0.276418  0.034514   0.957748    0.922289  1.291733  2.735958   \n",
      "...        ...       ...        ...         ...       ...       ...   \n",
      "1850  0.489109  1.587192   0.735345    0.655377  1.599969 -1.402752   \n",
      "1851 -0.516578 -2.108513   0.333769    0.293702  2.013005  2.914027   \n",
      "1852  1.693811  2.266197   1.222146    0.434619  0.070262 -1.049876   \n",
      "1853  0.137637  2.189009   0.418680    0.414745  2.172778  0.626050   \n",
      "1854  1.709857  0.876920   3.384164    1.185541  1.333158  2.846901   \n",
      "\n",
      "      E_mGG_ph2  pT_mGG_ph2  Electron_E  Electron_pT  ...     pT_jet1  \\\n",
      "0      2.097534    0.811509  233.906647   116.614990  ...   64.265007   \n",
      "1      0.288411    0.287886  154.754089    49.135639  ...  111.142471   \n",
      "2      0.766810    0.666802  106.398964    74.800766  ...   42.585487   \n",
      "3      1.118544    0.221841   62.572247    43.717793  ...   52.996746   \n",
      "4      0.430226    0.219846   34.023560    33.640869  ...   34.346485   \n",
      "...         ...         ...         ...          ...  ...         ...   \n",
      "1850   0.736003    0.285561  271.594818   170.662491  ...   94.583092   \n",
      "1851   1.079356    0.283319  131.135040    70.836739  ...   89.564125   \n",
      "1852   0.318677    0.317892   37.472851    33.389145  ...   80.434189   \n",
      "1853   1.380642    0.310378    0.000000     0.000000  ...  132.120117   \n",
      "1854   0.585733    0.288777   94.038895    33.597771  ...   46.429760   \n",
      "\n",
      "      Eta_jet1  Phi_jet1      E_jet2    pT_jet2  Eta_jet2  Phi_jet2  \\\n",
      "0    -1.394348 -2.594233   44.835041  37.006805  0.610907 -1.165494   \n",
      "1    -0.383013  1.736346  670.602722  65.599617 -3.015235  1.531505   \n",
      "2    -0.873646 -2.429425    0.000000   0.000000  0.000000  0.000000   \n",
      "3    -0.731841  1.086637   43.716480  40.493767 -0.380434  3.079443   \n",
      "4     1.111015 -2.330503    0.000000   0.000000  0.000000  0.000000   \n",
      "...        ...       ...         ...        ...       ...       ...   \n",
      "1850 -3.172298  0.071135   91.603226  59.531937  0.992770  1.519613   \n",
      "1851  1.668409  2.209306  108.559990  70.284546  0.999488  3.057855   \n",
      "1852  0.111928  2.184917  190.998734  68.016304  1.691782 -1.463259   \n",
      "1853  1.673801  0.101775  501.714172  59.243683  2.825329  1.573262   \n",
      "1854 -2.010176  0.303992   49.274067  37.789082 -0.755664 -2.185100   \n",
      "\n",
      "        InvM_jet   InvM_jet2         met  \n",
      "0     133.033234    0.000000  174.566574  \n",
      "1     297.733368  290.273743  233.649139  \n",
      "2       0.000000    0.000000  144.834885  \n",
      "3      80.196831    0.000000  119.136139  \n",
      "4       0.000000    0.000000   72.548462  \n",
      "...          ...         ...         ...  \n",
      "1850  601.667786   37.195904   37.871899  \n",
      "1851   85.559967  127.434410   40.191174  \n",
      "1852  193.707352    0.000000   65.707191  \n",
      "1853  162.932495  139.023376   47.090668  \n",
      "1854   97.707672  123.043365   58.228996  \n",
      "\n",
      "[582382 rows x 28 columns]\n"
     ]
    }
   ],
   "source": [
    "print(df[input_vars])"
   ]
  },
  {
   "cell_type": "code",
   "execution_count": 62,
   "id": "b2d3b075",
   "metadata": {},
   "outputs": [],
   "source": [
    "df_clean = df[input_vars].copy()\n",
    "df_clean[\"label\"] = df.loc[:,\"label\"]\n",
    "df_clean.to_csv(\"dataframe_HHWWgg.csv\")\n"
   ]
  },
  {
   "cell_type": "code",
   "execution_count": 63,
   "id": "6fe45642",
   "metadata": {},
   "outputs": [],
   "source": [
    "X_train, X_test, y_train, y_test,w_train, w_test = train_test_split(df[input_vars], df.label, df.weight, \n",
    "                                                    test_size=0.50, random_state=42)"
   ]
  },
  {
   "cell_type": "code",
   "execution_count": 64,
   "id": "6bc055e3",
   "metadata": {},
   "outputs": [
    {
     "name": "stdout",
     "output_type": "stream",
     "text": [
      "         Eta_ph1   Phi_ph1  E_mGG_ph1  pT_mGG_ph1   Eta_ph2   Phi_ph2  \\\n",
      "25290  -0.398421  1.845167   0.470866    0.435816 -1.942047 -1.171818   \n",
      "67998  -0.453029  3.017922   0.578084    0.523444 -0.293673 -0.391958   \n",
      "163672  0.297485  2.993838   0.756183    0.723914 -0.031735 -1.206961   \n",
      "264015 -0.259140 -1.428844   1.037985    1.004082  0.221066  2.184900   \n",
      "284264  0.745103  1.805583   1.005225    0.778839  2.121045  1.362415   \n",
      "...          ...       ...        ...         ...       ...       ...   \n",
      "116903 -0.772568 -2.844754   0.956412    0.728100  0.139951  2.134813   \n",
      "139723  0.384860 -2.051977   0.857810    0.797980  0.817586 -0.671012   \n",
      "301104  1.406907  0.160381   2.725044    1.259202  1.697790 -2.436130   \n",
      "139860 -1.041113  2.122924   1.651149    1.036689 -1.037247  0.869580   \n",
      "129266 -1.275505  1.575882   2.125788    1.101502 -0.919755 -1.087096   \n",
      "\n",
      "        E_mGG_ph2  pT_mGG_ph2  Electron_E  Electron_pT  ...     pT_jet1  \\\n",
      "25290    1.186760    0.333527  107.331436   105.463936  ...  125.830704   \n",
      "67998    0.504160    0.483174  117.680923    61.140083  ...   54.975574   \n",
      "163672   0.447491    0.447266  133.405029    45.242996  ...  139.318039   \n",
      "264015   0.254060    0.247976   82.334625    80.371017  ...   60.775185   \n",
      "284264   2.258579    0.533959  100.054680    99.711288  ...  100.130310   \n",
      "...           ...         ...         ...          ...  ...         ...   \n",
      "116903   0.586660    0.580961   37.044163    34.506134  ...   82.264687   \n",
      "139723   0.935490    0.691285   73.754776    72.513443  ...  180.840485   \n",
      "301104   0.590580    0.209242  105.398117   104.512329  ...  239.895035   \n",
      "139860   1.113407    0.701167   64.298454    51.268044  ...   31.121193   \n",
      "129266   0.338108    0.232593    0.000000     0.000000  ...    0.000000   \n",
      "\n",
      "        Eta_jet1  Phi_jet1      E_jet2     pT_jet2  Eta_jet2  Phi_jet2  \\\n",
      "25290  -1.081638  1.206410   88.192039   79.182304  0.426638 -2.162594   \n",
      "67998  -0.122587 -2.332468  121.386650   54.888939  1.424487  1.471127   \n",
      "163672 -1.348303 -1.348288  197.607452   67.739037 -1.732761 -0.687003   \n",
      "264015  1.434757  0.446577    0.000000    0.000000  0.000000  0.000000   \n",
      "284264  2.484130  0.671731  132.881439   69.604652  1.260796  1.414474   \n",
      "...          ...       ...         ...         ...       ...       ...   \n",
      "116903 -4.212499 -2.130426   83.469009   80.597404 -0.248650  0.481443   \n",
      "139723  0.480606  2.314659  127.417397  121.489471  0.295524  0.640073   \n",
      "301104 -0.996943 -2.308604  142.788956  101.549301  0.866776  2.080254   \n",
      "139860  0.872777 -2.879909    0.000000    0.000000  0.000000  0.000000   \n",
      "129266  0.000000  0.000000    0.000000    0.000000  0.000000  0.000000   \n",
      "\n",
      "          InvM_jet   InvM_jet2         met  \n",
      "25290   261.278625  123.170090    6.424756  \n",
      "67998   141.346313  151.759705   45.519531  \n",
      "163672   75.023438  169.485245  107.227203  \n",
      "264015    0.000000    0.000000  123.566040  \n",
      "284264  131.588257  129.317352  222.889084  \n",
      "...            ...         ...         ...  \n",
      "116903  602.355347    0.000000  127.274590  \n",
      "139723  223.357513  183.233475  191.253479  \n",
      "301104  421.390930  226.307648  141.574951  \n",
      "139860    0.000000    0.000000  183.640167  \n",
      "129266    0.000000    0.000000   62.558449  \n",
      "\n",
      "[291191 rows x 28 columns]\n"
     ]
    }
   ],
   "source": [
    "print(X_train)"
   ]
  },
  {
   "cell_type": "code",
   "execution_count": 65,
   "id": "9a2ee770",
   "metadata": {},
   "outputs": [
    {
     "name": "stdout",
     "output_type": "stream",
     "text": [
      "         Eta_ph1   Phi_ph1  E_mGG_ph1  pT_mGG_ph1   Eta_ph2   Phi_ph2  \\\n",
      "7375   -0.408729  0.610854   1.205035    1.110940 -0.934734 -2.356215   \n",
      "252413  0.825740 -2.851163   1.892659    1.390904  1.931227 -3.067214   \n",
      "154070  0.044800 -2.703783   1.996239    1.994238  1.389595 -2.213472   \n",
      "54291   2.045930  1.813961   2.688378    0.683578  1.092361  0.547372   \n",
      "66293   1.113659 -1.307249   1.776774    1.053266  0.773555  0.450612   \n",
      "...          ...       ...        ...         ...       ...       ...   \n",
      "48364   0.201558 -2.898355   0.920576    0.902187 -1.090170  1.955246   \n",
      "330141  0.469474  1.153728   0.798313    0.717752  0.888509 -1.434875   \n",
      "42203   1.306268 -2.612823   1.588723    0.801738  1.026453  2.114499   \n",
      "194322 -0.836841  1.884891   1.465000    1.068510 -0.703277  0.468098   \n",
      "76901   0.893841  1.241902   1.222183    0.856595 -0.510386  1.770061   \n",
      "\n",
      "        E_mGG_ph2  pT_mGG_ph2  Electron_E  Electron_pT  ...     pT_jet1  \\\n",
      "7375     0.311060    0.211661   84.802963    75.543373  ...  121.249046   \n",
      "252413   1.810695    0.514187  344.320709   174.455200  ...  125.390373   \n",
      "154070   0.457949    0.214878    0.000000     0.000000  ...  202.493164   \n",
      "54291    1.018797    0.614338   59.086792    59.069370  ...   71.107674   \n",
      "66293    0.501434    0.381489  180.088470    43.458706  ...   38.226204   \n",
      "...           ...         ...         ...          ...  ...         ...   \n",
      "48364    0.505165    0.305149    0.000000     0.000000  ...   56.769581   \n",
      "330141   0.510382    0.359074   48.172604    44.314312  ...   78.238586   \n",
      "42203    0.958603    0.608748  128.459213    46.002621  ...  257.599640   \n",
      "194322   0.687886    0.546956  229.507004   220.848877  ...  195.180161   \n",
      "76901    0.510640    0.450658  121.708305    71.199219  ...   66.287926   \n",
      "\n",
      "        Eta_jet1  Phi_jet1      E_jet2     pT_jet2  Eta_jet2  Phi_jet2  \\\n",
      "7375   -0.557221  2.786533   83.835800   79.265907  0.316913  3.061345   \n",
      "252413 -2.195479  1.117575   84.889481   84.122826 -0.026808 -0.232664   \n",
      "154070 -0.749232  0.401901   93.343140   43.273479 -1.401624  0.084486   \n",
      "54291  -0.666927  1.166406  103.659523   61.548618 -1.105184 -1.477795   \n",
      "66293   1.129989 -2.383370   44.258129   38.044010 -0.544997  1.697980   \n",
      "...          ...       ...         ...         ...       ...       ...   \n",
      "48364  -1.373120 -1.156576    0.000000    0.000000  0.000000  0.000000   \n",
      "330141  0.483817 -2.689991   74.813896   61.842510  0.617792  1.653631   \n",
      "42203  -0.594659 -0.118345  223.398788  222.757401 -0.040688  2.856368   \n",
      "194322  3.458595  2.572455  753.830566   41.822521 -3.584097  2.211810   \n",
      "76901   0.938684 -2.396905   44.808907   39.258289 -0.512562  0.648407   \n",
      "\n",
      "           InvM_jet   InvM_jet2         met  \n",
      "7375      94.122330  141.781494  171.152313  \n",
      "252413   300.212982  238.547729  179.427032  \n",
      "154070    71.012512  140.862076  318.399231  \n",
      "54291    132.977921   43.871941  113.952675  \n",
      "66293     99.335320    0.000000  106.895821  \n",
      "...             ...         ...         ...  \n",
      "48364      0.000000    0.000000   94.334763  \n",
      "330141   116.611427  103.194206   78.082138  \n",
      "42203    498.579956  298.858765  120.366150  \n",
      "194322  3054.132324   97.263817  125.662582  \n",
      "76901    130.550964    0.000000  119.356377  \n",
      "\n",
      "[291191 rows x 28 columns]\n"
     ]
    }
   ],
   "source": [
    "print(X_test)"
   ]
  },
  {
   "cell_type": "code",
   "execution_count": 66,
   "id": "f8eb9bdd",
   "metadata": {},
   "outputs": [],
   "source": [
    "parameters = {\n",
    "    'epochs'                : 200,\n",
    "    'lr'                    : 0.0001,\n",
    "    'batch_size'            : 500,\n",
    "    'n_layers'              : 4,\n",
    "    'n_neurons'             : 128,\n",
    "    'hidden_activation'     : 'relu',\n",
    "    'output_activation'     : 'sigmoid',\n",
    "}"
   ]
  },
  {
   "cell_type": "code",
   "execution_count": 67,
   "id": "8a3c62ed",
   "metadata": {},
   "outputs": [],
   "source": [
    "inputs = keras.Input(shape=(len(input_vars),), name=\"particles\")\n",
    "x = layers.Dense(parameters['n_neurons'], activation=parameters['hidden_activation'], name=f\"dense_1\")(inputs)\n",
    "for i in range(1,parameters['n_layers']):\n",
    "    x = layers.Dense(parameters['n_neurons'], activation=parameters['hidden_activation'], name=f\"dense_{i+1}\")(x)\n",
    "outputs = layers.Dense(1, activation=parameters['output_activation'], name=\"predictions\")(x)\n",
    "\n",
    "model = keras.Model(inputs=inputs, outputs=outputs)"
   ]
  },
  {
   "cell_type": "code",
   "execution_count": 68,
   "id": "40426231",
   "metadata": {},
   "outputs": [
    {
     "name": "stdout",
     "output_type": "stream",
     "text": [
      "Model: \"model_2\"\n",
      "_________________________________________________________________\n",
      " Layer (type)                Output Shape              Param #   \n",
      "=================================================================\n",
      " particles (InputLayer)      [(None, 28)]              0         \n",
      "                                                                 \n",
      " dense_1 (Dense)             (None, 128)               3712      \n",
      "                                                                 \n",
      " dense_2 (Dense)             (None, 128)               16512     \n",
      "                                                                 \n",
      " dense_3 (Dense)             (None, 128)               16512     \n",
      "                                                                 \n",
      " dense_4 (Dense)             (None, 128)               16512     \n",
      "                                                                 \n",
      " predictions (Dense)         (None, 1)                 129       \n",
      "                                                                 \n",
      "=================================================================\n",
      "Total params: 53,377\n",
      "Trainable params: 53,377\n",
      "Non-trainable params: 0\n",
      "_________________________________________________________________\n"
     ]
    },
    {
     "name": "stderr",
     "output_type": "stream",
     "text": [
      "/home/donertas/.local/lib/python3.8/site-packages/keras/optimizer_v2/nadam.py:73: UserWarning: The `lr` argument is deprecated, use `learning_rate` instead.\n",
      "  super(Nadam, self).__init__(name, **kwargs)\n"
     ]
    }
   ],
   "source": [
    "model.compile(\n",
    "    #optimizer=keras.optimizers.RMSprop(),\n",
    "    optimizer=keras.optimizers.Nadam(lr=parameters['lr']),  # Optimizer\n",
    "    # Loss function to minimize\n",
    "    loss=keras.losses.BinaryCrossentropy(),\n",
    "    # List of metrics to monitor\n",
    "    metrics=[keras.metrics.BinaryAccuracy(),\n",
    "             tf.keras.metrics.AUC(),\n",
    "             tf.keras.metrics.Precision(),\n",
    "             tf.keras.metrics.Recall()],\n",
    ")\n",
    "\n",
    "model.summary()\n"
   ]
  },
  {
   "cell_type": "code",
   "execution_count": 69,
   "id": "f5baa6a5",
   "metadata": {},
   "outputs": [
    {
     "name": "stdout",
     "output_type": "stream",
     "text": [
      "         Eta_ph1   Phi_ph1  E_mGG_ph1  pT_mGG_ph1   Eta_ph2   Phi_ph2  \\\n",
      "25290  -0.398421  1.845167   0.470866    0.435816 -1.942047 -1.171818   \n",
      "67998  -0.453029  3.017922   0.578084    0.523444 -0.293673 -0.391958   \n",
      "163672  0.297485  2.993838   0.756183    0.723914 -0.031735 -1.206961   \n",
      "264015 -0.259140 -1.428844   1.037985    1.004082  0.221066  2.184900   \n",
      "284264  0.745103  1.805583   1.005225    0.778839  2.121045  1.362415   \n",
      "...          ...       ...        ...         ...       ...       ...   \n",
      "116903 -0.772568 -2.844754   0.956412    0.728100  0.139951  2.134813   \n",
      "139723  0.384860 -2.051977   0.857810    0.797980  0.817586 -0.671012   \n",
      "301104  1.406907  0.160381   2.725044    1.259202  1.697790 -2.436130   \n",
      "139860 -1.041113  2.122924   1.651149    1.036689 -1.037247  0.869580   \n",
      "129266 -1.275505  1.575882   2.125788    1.101502 -0.919755 -1.087096   \n",
      "\n",
      "        E_mGG_ph2  pT_mGG_ph2  Electron_E  Electron_pT  ...     pT_jet1  \\\n",
      "25290    1.186760    0.333527  107.331436   105.463936  ...  125.830704   \n",
      "67998    0.504160    0.483174  117.680923    61.140083  ...   54.975574   \n",
      "163672   0.447491    0.447266  133.405029    45.242996  ...  139.318039   \n",
      "264015   0.254060    0.247976   82.334625    80.371017  ...   60.775185   \n",
      "284264   2.258579    0.533959  100.054680    99.711288  ...  100.130310   \n",
      "...           ...         ...         ...          ...  ...         ...   \n",
      "116903   0.586660    0.580961   37.044163    34.506134  ...   82.264687   \n",
      "139723   0.935490    0.691285   73.754776    72.513443  ...  180.840485   \n",
      "301104   0.590580    0.209242  105.398117   104.512329  ...  239.895035   \n",
      "139860   1.113407    0.701167   64.298454    51.268044  ...   31.121193   \n",
      "129266   0.338108    0.232593    0.000000     0.000000  ...    0.000000   \n",
      "\n",
      "        Eta_jet1  Phi_jet1      E_jet2     pT_jet2  Eta_jet2  Phi_jet2  \\\n",
      "25290  -1.081638  1.206410   88.192039   79.182304  0.426638 -2.162594   \n",
      "67998  -0.122587 -2.332468  121.386650   54.888939  1.424487  1.471127   \n",
      "163672 -1.348303 -1.348288  197.607452   67.739037 -1.732761 -0.687003   \n",
      "264015  1.434757  0.446577    0.000000    0.000000  0.000000  0.000000   \n",
      "284264  2.484130  0.671731  132.881439   69.604652  1.260796  1.414474   \n",
      "...          ...       ...         ...         ...       ...       ...   \n",
      "116903 -4.212499 -2.130426   83.469009   80.597404 -0.248650  0.481443   \n",
      "139723  0.480606  2.314659  127.417397  121.489471  0.295524  0.640073   \n",
      "301104 -0.996943 -2.308604  142.788956  101.549301  0.866776  2.080254   \n",
      "139860  0.872777 -2.879909    0.000000    0.000000  0.000000  0.000000   \n",
      "129266  0.000000  0.000000    0.000000    0.000000  0.000000  0.000000   \n",
      "\n",
      "          InvM_jet   InvM_jet2         met  \n",
      "25290   261.278625  123.170090    6.424756  \n",
      "67998   141.346313  151.759705   45.519531  \n",
      "163672   75.023438  169.485245  107.227203  \n",
      "264015    0.000000    0.000000  123.566040  \n",
      "284264  131.588257  129.317352  222.889084  \n",
      "...            ...         ...         ...  \n",
      "116903  602.355347    0.000000  127.274590  \n",
      "139723  223.357513  183.233475  191.253479  \n",
      "301104  421.390930  226.307648  141.574951  \n",
      "139860    0.000000    0.000000  183.640167  \n",
      "129266    0.000000    0.000000   62.558449  \n",
      "\n",
      "[291191 rows x 28 columns]\n"
     ]
    }
   ],
   "source": [
    "print(X_train)"
   ]
  },
  {
   "cell_type": "code",
   "execution_count": 70,
   "id": "bfa63501",
   "metadata": {},
   "outputs": [
    {
     "name": "stdout",
     "output_type": "stream",
     "text": [
      "Epoch 1/200\n",
      "583/583 - 44s - loss: 1.2260 - binary_accuracy: 0.4141 - auc_2: 0.5463 - precision_2: 0.3003 - recall_2: 0.8373 - val_loss: 0.8085 - val_binary_accuracy: 0.3692 - val_auc_2: 0.5459 - val_precision_2: 0.2965 - val_recall_2: 0.9284 - lr: 1.0000e-04 - 44s/epoch - 75ms/step\n",
      "Epoch 2/200\n",
      "583/583 - 2s - loss: 0.8867 - binary_accuracy: 0.4051 - auc_2: 0.5558 - precision_2: 0.2993 - recall_2: 0.8541 - val_loss: 2.9076 - val_binary_accuracy: 0.6258 - val_auc_2: 0.6097 - val_precision_2: 0.3781 - val_recall_2: 0.5415 - lr: 1.0000e-04 - 2s/epoch - 4ms/step\n",
      "Epoch 3/200\n",
      "583/583 - 2s - loss: 1.6110 - binary_accuracy: 0.4172 - auc_2: 0.5352 - precision_2: 0.2977 - recall_2: 0.8112 - val_loss: 1.9682 - val_binary_accuracy: 0.3884 - val_auc_2: 0.5480 - val_precision_2: 0.2961 - val_recall_2: 0.8753 - lr: 1.0000e-04 - 2s/epoch - 4ms/step\n",
      "Epoch 4/200\n",
      "583/583 - 2s - loss: 0.9366 - binary_accuracy: 0.3844 - auc_2: 0.5336 - precision_2: 0.2924 - recall_2: 0.8592 - val_loss: 1.2115 - val_binary_accuracy: 0.3732 - val_auc_2: 0.5538 - val_precision_2: 0.2919 - val_recall_2: 0.8843 - lr: 1.0000e-04 - 2s/epoch - 4ms/step\n",
      "Epoch 5/200\n",
      "583/583 - 3s - loss: 0.7919 - binary_accuracy: 0.3816 - auc_2: 0.5357 - precision_2: 0.2926 - recall_2: 0.8682 - val_loss: 1.4077 - val_binary_accuracy: 0.3733 - val_auc_2: 0.5287 - val_precision_2: 0.2932 - val_recall_2: 0.8936 - lr: 1.0000e-04 - 3s/epoch - 4ms/step\n",
      "Epoch 6/200\n",
      "583/583 - 2s - loss: 1.8294 - binary_accuracy: 0.4278 - auc_2: 0.5407 - precision_2: 0.3003 - recall_2: 0.7995 - val_loss: 2.6146 - val_binary_accuracy: 0.3607 - val_auc_2: 0.5356 - val_precision_2: 0.2929 - val_recall_2: 0.9230 - lr: 1.0000e-04 - 2s/epoch - 4ms/step\n",
      "Epoch 7/200\n",
      "583/583 - 2s - loss: 0.8419 - binary_accuracy: 0.3823 - auc_2: 0.5169 - precision_2: 0.2916 - recall_2: 0.8591 - val_loss: 0.8330 - val_binary_accuracy: 0.3536 - val_auc_2: 0.5156 - val_precision_2: 0.2847 - val_recall_2: 0.8799 - lr: 1.0000e-04 - 2s/epoch - 4ms/step\n",
      "Epoch 8/200\n",
      "583/583 - 2s - loss: 0.7529 - binary_accuracy: 0.3882 - auc_2: 0.5436 - precision_2: 0.2932 - recall_2: 0.8554 - val_loss: 0.8015 - val_binary_accuracy: 0.3762 - val_auc_2: 0.5487 - val_precision_2: 0.2937 - val_recall_2: 0.8896 - lr: 1.0000e-04 - 2s/epoch - 4ms/step\n",
      "Epoch 9/200\n",
      "583/583 - 2s - loss: 0.6949 - binary_accuracy: 0.3893 - auc_2: 0.5352 - precision_2: 0.2936 - recall_2: 0.8552 - val_loss: 0.7996 - val_binary_accuracy: 0.4016 - val_auc_2: 0.5341 - val_precision_2: 0.2944 - val_recall_2: 0.8293 - lr: 1.0000e-04 - 2s/epoch - 4ms/step\n",
      "Epoch 10/200\n",
      "583/583 - 3s - loss: 0.7105 - binary_accuracy: 0.3865 - auc_2: 0.5357 - precision_2: 0.2931 - recall_2: 0.8594 - val_loss: 0.8735 - val_binary_accuracy: 0.3682 - val_auc_2: 0.5413 - val_precision_2: 0.2909 - val_recall_2: 0.8894 - lr: 1.0000e-04 - 3s/epoch - 5ms/step\n",
      "Epoch 11/200\n",
      "583/583 - 3s - loss: 0.4278 - binary_accuracy: 0.3775 - auc_2: 0.5492 - precision_2: 0.2927 - recall_2: 0.8792 - val_loss: 0.7368 - val_binary_accuracy: 0.3875 - val_auc_2: 0.5406 - val_precision_2: 0.2924 - val_recall_2: 0.8511 - lr: 1.0000e-04 - 3s/epoch - 6ms/step\n",
      "Epoch 12/200\n",
      "583/583 - 3s - loss: 0.3741 - binary_accuracy: 0.3731 - auc_2: 0.5590 - precision_2: 0.2930 - recall_2: 0.8928 - val_loss: 1.0049 - val_binary_accuracy: 0.5878 - val_auc_2: 0.6005 - val_precision_2: 0.3543 - val_recall_2: 0.5915 - lr: 1.0000e-04 - 3s/epoch - 5ms/step\n",
      "Epoch 13/200\n",
      "583/583 - 3s - loss: 0.6640 - binary_accuracy: 0.3769 - auc_2: 0.5388 - precision_2: 0.2909 - recall_2: 0.8673 - val_loss: 0.6795 - val_binary_accuracy: 0.3807 - val_auc_2: 0.5916 - val_precision_2: 0.2997 - val_recall_2: 0.9227 - lr: 1.0000e-04 - 3s/epoch - 5ms/step\n",
      "Epoch 14/200\n",
      "583/583 - 3s - loss: 0.4830 - binary_accuracy: 0.3802 - auc_2: 0.5582 - precision_2: 0.2922 - recall_2: 0.8691 - val_loss: 2.3437 - val_binary_accuracy: 0.3401 - val_auc_2: 0.4524 - val_precision_2: 0.2744 - val_recall_2: 0.8388 - lr: 1.0000e-04 - 3s/epoch - 5ms/step\n",
      "Epoch 15/200\n",
      "583/583 - 3s - loss: 1.0648 - binary_accuracy: 0.3867 - auc_2: 0.5216 - precision_2: 0.2878 - recall_2: 0.8222 - val_loss: 1.7254 - val_binary_accuracy: 0.4715 - val_auc_2: 0.5799 - val_precision_2: 0.3136 - val_recall_2: 0.7621 - lr: 1.0000e-04 - 3s/epoch - 5ms/step\n",
      "Epoch 16/200\n",
      "583/583 - 3s - loss: 0.6695 - binary_accuracy: 0.3663 - auc_2: 0.5264 - precision_2: 0.2858 - recall_2: 0.8578 - val_loss: 0.9734 - val_binary_accuracy: 0.3618 - val_auc_2: 0.5493 - val_precision_2: 0.2860 - val_recall_2: 0.8695 - lr: 1.0000e-04 - 3s/epoch - 5ms/step\n",
      "Epoch 17/200\n",
      "583/583 - 3s - loss: 0.7145 - binary_accuracy: 0.3905 - auc_2: 0.5480 - precision_2: 0.2956 - recall_2: 0.8666 - val_loss: 0.8648 - val_binary_accuracy: 0.4143 - val_auc_2: 0.5437 - val_precision_2: 0.3022 - val_recall_2: 0.8497 - lr: 1.0000e-04 - 3s/epoch - 5ms/step\n",
      "Epoch 18/200\n",
      "583/583 - 3s - loss: 0.4167 - binary_accuracy: 0.3952 - auc_2: 0.5535 - precision_2: 0.2987 - recall_2: 0.8770 - val_loss: 0.9442 - val_binary_accuracy: 0.3593 - val_auc_2: 0.5572 - val_precision_2: 0.2930 - val_recall_2: 0.9278 - lr: 1.0000e-04 - 3s/epoch - 5ms/step\n",
      "Epoch 19/200\n",
      "583/583 - 3s - loss: 0.3599 - binary_accuracy: 0.3741 - auc_2: 0.5523 - precision_2: 0.2940 - recall_2: 0.8976 - val_loss: 0.6643 - val_binary_accuracy: 0.3594 - val_auc_2: 0.5726 - val_precision_2: 0.2916 - val_recall_2: 0.9163 - lr: 1.0000e-04 - 3s/epoch - 5ms/step\n",
      "Epoch 20/200\n",
      "583/583 - 3s - loss: 0.7640 - binary_accuracy: 0.3837 - auc_2: 0.5427 - precision_2: 0.2924 - recall_2: 0.8609 - val_loss: 0.7285 - val_binary_accuracy: 0.3453 - val_auc_2: 0.5623 - val_precision_2: 0.2873 - val_recall_2: 0.9188 - lr: 1.0000e-04 - 3s/epoch - 5ms/step\n",
      "Epoch 21/200\n",
      "583/583 - 3s - loss: 0.6582 - binary_accuracy: 0.3900 - auc_2: 0.5373 - precision_2: 0.2943 - recall_2: 0.8588 - val_loss: 0.8351 - val_binary_accuracy: 0.3984 - val_auc_2: 0.5261 - val_precision_2: 0.2921 - val_recall_2: 0.8214 - lr: 1.0000e-04 - 3s/epoch - 5ms/step\n",
      "Epoch 22/200\n",
      "583/583 - 3s - loss: 0.4827 - binary_accuracy: 0.3751 - auc_2: 0.5441 - precision_2: 0.2917 - recall_2: 0.8780 - val_loss: 0.5834 - val_binary_accuracy: 0.3617 - val_auc_2: 0.5546 - val_precision_2: 0.2903 - val_recall_2: 0.9013 - lr: 1.0000e-04 - 3s/epoch - 5ms/step\n",
      "Epoch 23/200\n",
      "583/583 - 3s - loss: 0.6603 - binary_accuracy: 0.4035 - auc_2: 0.5423 - precision_2: 0.2972 - recall_2: 0.8437 - val_loss: 1.8905 - val_binary_accuracy: 0.3952 - val_auc_2: 0.4771 - val_precision_2: 0.2839 - val_recall_2: 0.7758 - lr: 1.0000e-04 - 3s/epoch - 5ms/step\n",
      "Epoch 24/200\n",
      "583/583 - 3s - loss: 1.0640 - binary_accuracy: 0.3761 - auc_2: 0.5100 - precision_2: 0.2890 - recall_2: 0.8567 - val_loss: 0.8482 - val_binary_accuracy: 0.3531 - val_auc_2: 0.4850 - val_precision_2: 0.2830 - val_recall_2: 0.8691 - lr: 1.0000e-04 - 3s/epoch - 5ms/step\n",
      "Epoch 25/200\n",
      "583/583 - 3s - loss: 0.4015 - binary_accuracy: 0.3696 - auc_2: 0.5358 - precision_2: 0.2913 - recall_2: 0.8886 - val_loss: 0.7068 - val_binary_accuracy: 0.3565 - val_auc_2: 0.5483 - val_precision_2: 0.2887 - val_recall_2: 0.9023 - lr: 1.0000e-04 - 3s/epoch - 4ms/step\n",
      "Epoch 26/200\n",
      "583/583 - 3s - loss: 0.4049 - binary_accuracy: 0.3726 - auc_2: 0.5468 - precision_2: 0.2914 - recall_2: 0.8825 - val_loss: 0.7651 - val_binary_accuracy: 0.3507 - val_auc_2: 0.5310 - val_precision_2: 0.2871 - val_recall_2: 0.9044 - lr: 1.0000e-04 - 3s/epoch - 5ms/step\n",
      "Epoch 27/200\n",
      "583/583 - 3s - loss: 0.4599 - binary_accuracy: 0.3677 - auc_2: 0.5361 - precision_2: 0.2906 - recall_2: 0.8885 - val_loss: 1.0933 - val_binary_accuracy: 0.3480 - val_auc_2: 0.4588 - val_precision_2: 0.2761 - val_recall_2: 0.8329 - lr: 1.0000e-04 - 3s/epoch - 5ms/step\n",
      "Epoch 28/200\n",
      "583/583 - 3s - loss: 0.6703 - binary_accuracy: 0.3836 - auc_2: 0.5542 - precision_2: 0.2936 - recall_2: 0.8696 - val_loss: 0.5689 - val_binary_accuracy: 0.4625 - val_auc_2: 0.6046 - val_precision_2: 0.3154 - val_recall_2: 0.8015 - lr: 1.0000e-04 - 3s/epoch - 6ms/step\n",
      "Epoch 29/200\n",
      "583/583 - 3s - loss: 0.4002 - binary_accuracy: 0.3643 - auc_2: 0.5501 - precision_2: 0.2888 - recall_2: 0.8842 - val_loss: 0.5502 - val_binary_accuracy: 0.3791 - val_auc_2: 0.6004 - val_precision_2: 0.2971 - val_recall_2: 0.9070 - lr: 1.0000e-04 - 3s/epoch - 6ms/step\n",
      "Epoch 30/200\n",
      "583/583 - 3s - loss: 0.3847 - binary_accuracy: 0.3637 - auc_2: 0.5575 - precision_2: 0.2908 - recall_2: 0.8998 - val_loss: 0.5405 - val_binary_accuracy: 0.3582 - val_auc_2: 0.5896 - val_precision_2: 0.2924 - val_recall_2: 0.9256 - lr: 1.0000e-04 - 3s/epoch - 5ms/step\n"
     ]
    },
    {
     "name": "stdout",
     "output_type": "stream",
     "text": [
      "Epoch 31/200\n",
      "583/583 - 3s - loss: 0.3769 - binary_accuracy: 0.3594 - auc_2: 0.5532 - precision_2: 0.2886 - recall_2: 0.8942 - val_loss: 0.5199 - val_binary_accuracy: 0.3725 - val_auc_2: 0.5599 - val_precision_2: 0.2886 - val_recall_2: 0.8623 - lr: 1.0000e-04 - 3s/epoch - 5ms/step\n",
      "Epoch 32/200\n",
      "583/583 - 3s - loss: 0.4568 - binary_accuracy: 0.3745 - auc_2: 0.5412 - precision_2: 0.2907 - recall_2: 0.8721 - val_loss: 0.6122 - val_binary_accuracy: 0.3376 - val_auc_2: 0.5358 - val_precision_2: 0.2842 - val_recall_2: 0.9143 - lr: 1.0000e-04 - 3s/epoch - 5ms/step\n",
      "Epoch 33/200\n",
      "583/583 - 3s - loss: 0.4006 - binary_accuracy: 0.3725 - auc_2: 0.5575 - precision_2: 0.2920 - recall_2: 0.8867 - val_loss: 0.4900 - val_binary_accuracy: 0.3728 - val_auc_2: 0.5314 - val_precision_2: 0.2800 - val_recall_2: 0.8026 - lr: 1.0000e-04 - 3s/epoch - 6ms/step\n",
      "Epoch 34/200\n",
      "583/583 - 3s - loss: 0.6994 - binary_accuracy: 0.3851 - auc_2: 0.5447 - precision_2: 0.2921 - recall_2: 0.8554 - val_loss: 0.6472 - val_binary_accuracy: 0.4014 - val_auc_2: 0.5625 - val_precision_2: 0.2971 - val_recall_2: 0.8481 - lr: 1.0000e-04 - 3s/epoch - 4ms/step\n",
      "Epoch 35/200\n",
      "583/583 - 4s - loss: 0.4264 - binary_accuracy: 0.3776 - auc_2: 0.5472 - precision_2: 0.2919 - recall_2: 0.8732 - val_loss: 0.6188 - val_binary_accuracy: 0.3485 - val_auc_2: 0.5250 - val_precision_2: 0.2844 - val_recall_2: 0.8897 - lr: 1.0000e-04 - 4s/epoch - 6ms/step\n",
      "Epoch 36/200\n",
      "583/583 - 3s - loss: 0.3071 - binary_accuracy: 0.3639 - auc_2: 0.5616 - precision_2: 0.2910 - recall_2: 0.9007 - val_loss: 0.6078 - val_binary_accuracy: 0.4098 - val_auc_2: 0.5745 - val_precision_2: 0.2978 - val_recall_2: 0.8311 - lr: 1.0000e-04 - 3s/epoch - 5ms/step\n",
      "Epoch 37/200\n",
      "583/583 - 3s - loss: 0.4053 - binary_accuracy: 0.3815 - auc_2: 0.5667 - precision_2: 0.2947 - recall_2: 0.8838 - val_loss: 1.1153 - val_binary_accuracy: 0.3390 - val_auc_2: 0.5075 - val_precision_2: 0.2825 - val_recall_2: 0.8986 - lr: 1.0000e-04 - 3s/epoch - 6ms/step\n",
      "Epoch 38/200\n",
      "583/583 - 4s - loss: 0.6112 - binary_accuracy: 0.3812 - auc_2: 0.5486 - precision_2: 0.2919 - recall_2: 0.8643 - val_loss: 0.7927 - val_binary_accuracy: 0.3742 - val_auc_2: 0.5873 - val_precision_2: 0.2954 - val_recall_2: 0.9073 - lr: 1.0000e-04 - 4s/epoch - 6ms/step\n",
      "Epoch 39/200\n",
      "583/583 - 3s - loss: 0.4396 - binary_accuracy: 0.3774 - auc_2: 0.5638 - precision_2: 0.2930 - recall_2: 0.8817 - val_loss: 0.6215 - val_binary_accuracy: 0.3530 - val_auc_2: 0.5657 - val_precision_2: 0.2874 - val_recall_2: 0.9012 - lr: 1.0000e-04 - 3s/epoch - 5ms/step\n",
      "Epoch 40/200\n",
      "583/583 - 3s - loss: 0.5346 - binary_accuracy: 0.3810 - auc_2: 0.5518 - precision_2: 0.2920 - recall_2: 0.8652 - val_loss: 0.7136 - val_binary_accuracy: 0.3747 - val_auc_2: 0.5819 - val_precision_2: 0.2954 - val_recall_2: 0.9062 - lr: 1.0000e-04 - 3s/epoch - 5ms/step\n",
      "Epoch 41/200\n",
      "583/583 - 3s - loss: 0.5828 - binary_accuracy: 0.3764 - auc_2: 0.5426 - precision_2: 0.2907 - recall_2: 0.8674 - val_loss: 1.2131 - val_binary_accuracy: 0.3447 - val_auc_2: 0.5123 - val_precision_2: 0.2815 - val_recall_2: 0.8782 - lr: 1.0000e-04 - 3s/epoch - 5ms/step\n",
      "Epoch 42/200\n",
      "583/583 - 3s - loss: 0.4076 - binary_accuracy: 0.3766 - auc_2: 0.5553 - precision_2: 0.2929 - recall_2: 0.8828 - val_loss: 0.5884 - val_binary_accuracy: 0.3579 - val_auc_2: 0.5578 - val_precision_2: 0.2912 - val_recall_2: 0.9172 - lr: 1.0000e-04 - 3s/epoch - 5ms/step\n",
      "Epoch 43/200\n",
      "\n",
      "Epoch 00043: ReduceLROnPlateau reducing learning rate to 9.999999747378752e-06.\n",
      "583/583 - 3s - loss: 0.3243 - binary_accuracy: 0.3662 - auc_2: 0.5703 - precision_2: 0.2920 - recall_2: 0.9026 - val_loss: 0.5256 - val_binary_accuracy: 0.3761 - val_auc_2: 0.6000 - val_precision_2: 0.2958 - val_recall_2: 0.9054 - lr: 1.0000e-04 - 3s/epoch - 5ms/step\n",
      "Epoch 44/200\n",
      "583/583 - 3s - loss: 0.2789 - binary_accuracy: 0.3713 - auc_2: 0.5944 - precision_2: 0.2944 - recall_2: 0.9076 - val_loss: 0.5333 - val_binary_accuracy: 0.3576 - val_auc_2: 0.5835 - val_precision_2: 0.2908 - val_recall_2: 0.9151 - lr: 1.0000e-05 - 3s/epoch - 5ms/step\n",
      "Epoch 45/200\n",
      "583/583 - 3s - loss: 0.2703 - binary_accuracy: 0.3611 - auc_2: 0.5852 - precision_2: 0.2916 - recall_2: 0.9124 - val_loss: 0.5108 - val_binary_accuracy: 0.3640 - val_auc_2: 0.5854 - val_precision_2: 0.2921 - val_recall_2: 0.9084 - lr: 1.0000e-05 - 3s/epoch - 6ms/step\n",
      "Epoch 46/200\n",
      "583/583 - 3s - loss: 0.2665 - binary_accuracy: 0.3606 - auc_2: 0.5861 - precision_2: 0.2917 - recall_2: 0.9146 - val_loss: 0.4919 - val_binary_accuracy: 0.3676 - val_auc_2: 0.5834 - val_precision_2: 0.2922 - val_recall_2: 0.9005 - lr: 1.0000e-05 - 3s/epoch - 5ms/step\n",
      "Epoch 47/200\n",
      "583/583 - 3s - loss: 0.2659 - binary_accuracy: 0.3601 - auc_2: 0.5825 - precision_2: 0.2911 - recall_2: 0.9116 - val_loss: 0.5163 - val_binary_accuracy: 0.3517 - val_auc_2: 0.5764 - val_precision_2: 0.2888 - val_recall_2: 0.9146 - lr: 1.0000e-05 - 3s/epoch - 5ms/step\n",
      "Epoch 48/200\n",
      "583/583 - 3s - loss: 0.2620 - binary_accuracy: 0.3559 - auc_2: 0.5836 - precision_2: 0.2905 - recall_2: 0.9171 - val_loss: 0.4813 - val_binary_accuracy: 0.3654 - val_auc_2: 0.5802 - val_precision_2: 0.2912 - val_recall_2: 0.8986 - lr: 1.0000e-05 - 3s/epoch - 5ms/step\n",
      "Epoch 49/200\n",
      "583/583 - 3s - loss: 0.2641 - binary_accuracy: 0.3580 - auc_2: 0.5806 - precision_2: 0.2902 - recall_2: 0.9098 - val_loss: 0.5216 - val_binary_accuracy: 0.3515 - val_auc_2: 0.5855 - val_precision_2: 0.2895 - val_recall_2: 0.9209 - lr: 1.0000e-05 - 3s/epoch - 4ms/step\n",
      "Epoch 50/200\n",
      "583/583 - 3s - loss: 0.2582 - binary_accuracy: 0.3544 - auc_2: 0.5872 - precision_2: 0.2905 - recall_2: 0.9209 - val_loss: 0.4741 - val_binary_accuracy: 0.3689 - val_auc_2: 0.5849 - val_precision_2: 0.2921 - val_recall_2: 0.8966 - lr: 1.0000e-05 - 3s/epoch - 5ms/step\n",
      "Epoch 51/200\n",
      "583/583 - 3s - loss: 0.2576 - binary_accuracy: 0.3562 - auc_2: 0.5812 - precision_2: 0.2902 - recall_2: 0.9140 - val_loss: 0.5019 - val_binary_accuracy: 0.3556 - val_auc_2: 0.5834 - val_precision_2: 0.2898 - val_recall_2: 0.9123 - lr: 1.0000e-05 - 3s/epoch - 5ms/step\n",
      "Epoch 52/200\n",
      "583/583 - 3s - loss: 0.2584 - binary_accuracy: 0.3549 - auc_2: 0.5855 - precision_2: 0.2902 - recall_2: 0.9178 - val_loss: 0.4949 - val_binary_accuracy: 0.3834 - val_auc_2: 0.5861 - val_precision_2: 0.2937 - val_recall_2: 0.8710 - lr: 1.0000e-05 - 3s/epoch - 5ms/step\n",
      "Epoch 53/200\n",
      "583/583 - 3s - loss: 0.2588 - binary_accuracy: 0.3524 - auc_2: 0.5772 - precision_2: 0.2886 - recall_2: 0.9120 - val_loss: 0.5122 - val_binary_accuracy: 0.3540 - val_auc_2: 0.5822 - val_precision_2: 0.2896 - val_recall_2: 0.9152 - lr: 1.0000e-05 - 3s/epoch - 5ms/step\n",
      "Epoch 54/200\n",
      "583/583 - 3s - loss: 0.2556 - binary_accuracy: 0.3539 - auc_2: 0.5852 - precision_2: 0.2899 - recall_2: 0.9180 - val_loss: 0.5038 - val_binary_accuracy: 0.3506 - val_auc_2: 0.5804 - val_precision_2: 0.2892 - val_recall_2: 0.9201 - lr: 1.0000e-05 - 3s/epoch - 5ms/step\n",
      "Epoch 55/200\n",
      "583/583 - 3s - loss: 0.2543 - binary_accuracy: 0.3534 - auc_2: 0.5829 - precision_2: 0.2897 - recall_2: 0.9176 - val_loss: 0.4938 - val_binary_accuracy: 0.3545 - val_auc_2: 0.5805 - val_precision_2: 0.2893 - val_recall_2: 0.9112 - lr: 1.0000e-05 - 3s/epoch - 4ms/step\n",
      "Epoch 56/200\n",
      "583/583 - 3s - loss: 0.2521 - binary_accuracy: 0.3519 - auc_2: 0.5819 - precision_2: 0.2893 - recall_2: 0.9183 - val_loss: 0.5085 - val_binary_accuracy: 0.3538 - val_auc_2: 0.5893 - val_precision_2: 0.2903 - val_recall_2: 0.9208 - lr: 1.0000e-05 - 3s/epoch - 5ms/step\n",
      "Epoch 57/200\n",
      "583/583 - 3s - loss: 0.2532 - binary_accuracy: 0.3532 - auc_2: 0.5851 - precision_2: 0.2899 - recall_2: 0.9199 - val_loss: 0.4935 - val_binary_accuracy: 0.3533 - val_auc_2: 0.5815 - val_precision_2: 0.2889 - val_recall_2: 0.9117 - lr: 1.0000e-05 - 3s/epoch - 5ms/step\n",
      "Epoch 58/200\n",
      "583/583 - 3s - loss: 0.2518 - binary_accuracy: 0.3523 - auc_2: 0.5851 - precision_2: 0.2894 - recall_2: 0.9181 - val_loss: 0.5193 - val_binary_accuracy: 0.3438 - val_auc_2: 0.5777 - val_precision_2: 0.2877 - val_recall_2: 0.9257 - lr: 1.0000e-05 - 3s/epoch - 5ms/step\n",
      "Epoch 59/200\n",
      "583/583 - 3s - loss: 0.2510 - binary_accuracy: 0.3506 - auc_2: 0.5817 - precision_2: 0.2890 - recall_2: 0.9193 - val_loss: 0.5088 - val_binary_accuracy: 0.3456 - val_auc_2: 0.5782 - val_precision_2: 0.2879 - val_recall_2: 0.9229 - lr: 1.0000e-05 - 3s/epoch - 5ms/step\n"
     ]
    },
    {
     "name": "stdout",
     "output_type": "stream",
     "text": [
      "Epoch 60/200\n",
      "\n",
      "Epoch 00060: ReduceLROnPlateau reducing learning rate to 9.999999747378752e-07.\n",
      "583/583 - 3s - loss: 0.2482 - binary_accuracy: 0.3505 - auc_2: 0.5825 - precision_2: 0.2891 - recall_2: 0.9204 - val_loss: 0.4964 - val_binary_accuracy: 0.3797 - val_auc_2: 0.5979 - val_precision_2: 0.2944 - val_recall_2: 0.8855 - lr: 1.0000e-05 - 3s/epoch - 5ms/step\n",
      "Epoch 61/200\n",
      "583/583 - 3s - loss: 0.2496 - binary_accuracy: 0.3541 - auc_2: 0.5862 - precision_2: 0.2895 - recall_2: 0.9142 - val_loss: 0.5068 - val_binary_accuracy: 0.3473 - val_auc_2: 0.5813 - val_precision_2: 0.2881 - val_recall_2: 0.9199 - lr: 1.0000e-06 - 3s/epoch - 4ms/step\n",
      "Epoch 62/200\n",
      "583/583 - 3s - loss: 0.2435 - binary_accuracy: 0.3484 - auc_2: 0.5830 - precision_2: 0.2887 - recall_2: 0.9224 - val_loss: 0.5013 - val_binary_accuracy: 0.3498 - val_auc_2: 0.5839 - val_precision_2: 0.2888 - val_recall_2: 0.9193 - lr: 1.0000e-06 - 3s/epoch - 5ms/step\n",
      "Epoch 63/200\n",
      "583/583 - 3s - loss: 0.2432 - binary_accuracy: 0.3494 - auc_2: 0.5850 - precision_2: 0.2891 - recall_2: 0.9232 - val_loss: 0.4951 - val_binary_accuracy: 0.3540 - val_auc_2: 0.5860 - val_precision_2: 0.2895 - val_recall_2: 0.9145 - lr: 1.0000e-06 - 3s/epoch - 5ms/step\n",
      "Epoch 64/200\n",
      "583/583 - 3s - loss: 0.2433 - binary_accuracy: 0.3501 - auc_2: 0.5858 - precision_2: 0.2893 - recall_2: 0.9227 - val_loss: 0.4936 - val_binary_accuracy: 0.3543 - val_auc_2: 0.5860 - val_precision_2: 0.2896 - val_recall_2: 0.9143 - lr: 1.0000e-06 - 3s/epoch - 5ms/step\n",
      "Epoch 65/200\n",
      "583/583 - 3s - loss: 0.2431 - binary_accuracy: 0.3509 - auc_2: 0.5863 - precision_2: 0.2894 - recall_2: 0.9214 - val_loss: 0.4961 - val_binary_accuracy: 0.3522 - val_auc_2: 0.5845 - val_precision_2: 0.2891 - val_recall_2: 0.9162 - lr: 1.0000e-06 - 3s/epoch - 5ms/step\n",
      "Epoch 66/200\n",
      "583/583 - 3s - loss: 0.2430 - binary_accuracy: 0.3507 - auc_2: 0.5848 - precision_2: 0.2893 - recall_2: 0.9210 - val_loss: 0.5017 - val_binary_accuracy: 0.3492 - val_auc_2: 0.5838 - val_precision_2: 0.2886 - val_recall_2: 0.9197 - lr: 1.0000e-06 - 3s/epoch - 5ms/step\n",
      "Epoch 67/200\n",
      "583/583 - 3s - loss: 0.2431 - binary_accuracy: 0.3500 - auc_2: 0.5856 - precision_2: 0.2893 - recall_2: 0.9228 - val_loss: 0.4991 - val_binary_accuracy: 0.3512 - val_auc_2: 0.5853 - val_precision_2: 0.2890 - val_recall_2: 0.9178 - lr: 1.0000e-06 - 3s/epoch - 5ms/step\n",
      "Epoch 68/200\n",
      "583/583 - 3s - loss: 0.2427 - binary_accuracy: 0.3509 - auc_2: 0.5859 - precision_2: 0.2894 - recall_2: 0.9213 - val_loss: 0.5068 - val_binary_accuracy: 0.3467 - val_auc_2: 0.5832 - val_precision_2: 0.2882 - val_recall_2: 0.9226 - lr: 1.0000e-06 - 3s/epoch - 5ms/step\n",
      "Epoch 69/200\n",
      "583/583 - 3s - loss: 0.2429 - binary_accuracy: 0.3492 - auc_2: 0.5855 - precision_2: 0.2891 - recall_2: 0.9237 - val_loss: 0.4989 - val_binary_accuracy: 0.3515 - val_auc_2: 0.5852 - val_precision_2: 0.2891 - val_recall_2: 0.9174 - lr: 1.0000e-06 - 3s/epoch - 6ms/step\n",
      "Epoch 70/200\n",
      "\n",
      "Epoch 00070: ReduceLROnPlateau reducing learning rate to 9.999999974752428e-08.\n",
      "583/583 - 3s - loss: 0.2426 - binary_accuracy: 0.3505 - auc_2: 0.5866 - precision_2: 0.2894 - recall_2: 0.9226 - val_loss: 0.5038 - val_binary_accuracy: 0.3480 - val_auc_2: 0.5835 - val_precision_2: 0.2884 - val_recall_2: 0.9208 - lr: 1.0000e-06 - 3s/epoch - 5ms/step\n",
      "Epoch 71/200\n",
      "583/583 - 3s - loss: 0.2419 - binary_accuracy: 0.3486 - auc_2: 0.5848 - precision_2: 0.2890 - recall_2: 0.9242 - val_loss: 0.5030 - val_binary_accuracy: 0.3484 - val_auc_2: 0.5838 - val_precision_2: 0.2885 - val_recall_2: 0.9204 - lr: 1.0000e-07 - 3s/epoch - 5ms/step\n",
      "Epoch 72/200\n",
      "583/583 - 3s - loss: 0.2419 - binary_accuracy: 0.3488 - auc_2: 0.5851 - precision_2: 0.2890 - recall_2: 0.9238 - val_loss: 0.5027 - val_binary_accuracy: 0.3487 - val_auc_2: 0.5840 - val_precision_2: 0.2885 - val_recall_2: 0.9202 - lr: 1.0000e-07 - 3s/epoch - 5ms/step\n",
      "Epoch 73/200\n",
      "583/583 - 3s - loss: 0.2419 - binary_accuracy: 0.3494 - auc_2: 0.5854 - precision_2: 0.2891 - recall_2: 0.9233 - val_loss: 0.5023 - val_binary_accuracy: 0.3489 - val_auc_2: 0.5841 - val_precision_2: 0.2886 - val_recall_2: 0.9200 - lr: 1.0000e-07 - 3s/epoch - 5ms/step\n",
      "Epoch 74/200\n",
      "583/583 - 3s - loss: 0.2419 - binary_accuracy: 0.3493 - auc_2: 0.5854 - precision_2: 0.2891 - recall_2: 0.9234 - val_loss: 0.5025 - val_binary_accuracy: 0.3489 - val_auc_2: 0.5841 - val_precision_2: 0.2886 - val_recall_2: 0.9202 - lr: 1.0000e-07 - 3s/epoch - 5ms/step\n",
      "Epoch 75/200\n",
      "583/583 - 3s - loss: 0.2419 - binary_accuracy: 0.3494 - auc_2: 0.5854 - precision_2: 0.2892 - recall_2: 0.9235 - val_loss: 0.5022 - val_binary_accuracy: 0.3490 - val_auc_2: 0.5842 - val_precision_2: 0.2886 - val_recall_2: 0.9199 - lr: 1.0000e-07 - 3s/epoch - 5ms/step\n",
      "Epoch 76/200\n",
      "583/583 - 3s - loss: 0.2419 - binary_accuracy: 0.3494 - auc_2: 0.5855 - precision_2: 0.2892 - recall_2: 0.9235 - val_loss: 0.5022 - val_binary_accuracy: 0.3490 - val_auc_2: 0.5842 - val_precision_2: 0.2886 - val_recall_2: 0.9199 - lr: 1.0000e-07 - 3s/epoch - 5ms/step\n",
      "Epoch 77/200\n",
      "583/583 - 3s - loss: 0.2419 - binary_accuracy: 0.3492 - auc_2: 0.5855 - precision_2: 0.2891 - recall_2: 0.9237 - val_loss: 0.5020 - val_binary_accuracy: 0.3491 - val_auc_2: 0.5843 - val_precision_2: 0.2886 - val_recall_2: 0.9197 - lr: 1.0000e-07 - 3s/epoch - 5ms/step\n",
      "Epoch 78/200\n",
      "583/583 - 3s - loss: 0.2418 - binary_accuracy: 0.3496 - auc_2: 0.5857 - precision_2: 0.2892 - recall_2: 0.9231 - val_loss: 0.5019 - val_binary_accuracy: 0.3492 - val_auc_2: 0.5844 - val_precision_2: 0.2886 - val_recall_2: 0.9197 - lr: 1.0000e-07 - 3s/epoch - 5ms/step\n",
      "Epoch 79/200\n",
      "583/583 - 3s - loss: 0.2418 - binary_accuracy: 0.3496 - auc_2: 0.5857 - precision_2: 0.2892 - recall_2: 0.9232 - val_loss: 0.5021 - val_binary_accuracy: 0.3490 - val_auc_2: 0.5843 - val_precision_2: 0.2886 - val_recall_2: 0.9199 - lr: 1.0000e-07 - 3s/epoch - 5ms/step\n",
      "Epoch 80/200\n",
      "\n",
      "Epoch 00080: ReduceLROnPlateau reducing learning rate to 1.0000000116860975e-08.\n",
      "583/583 - 3s - loss: 0.2418 - binary_accuracy: 0.3497 - auc_2: 0.5857 - precision_2: 0.2892 - recall_2: 0.9232 - val_loss: 0.5021 - val_binary_accuracy: 0.3490 - val_auc_2: 0.5843 - val_precision_2: 0.2886 - val_recall_2: 0.9199 - lr: 1.0000e-07 - 3s/epoch - 4ms/step\n",
      "Epoch 81/200\n",
      "583/583 - 3s - loss: 0.2417 - binary_accuracy: 0.3495 - auc_2: 0.5856 - precision_2: 0.2892 - recall_2: 0.9233 - val_loss: 0.5020 - val_binary_accuracy: 0.3491 - val_auc_2: 0.5843 - val_precision_2: 0.2886 - val_recall_2: 0.9198 - lr: 1.0000e-08 - 3s/epoch - 5ms/step\n",
      "Epoch 82/200\n",
      "583/583 - 3s - loss: 0.2417 - binary_accuracy: 0.3496 - auc_2: 0.5856 - precision_2: 0.2892 - recall_2: 0.9233 - val_loss: 0.5018 - val_binary_accuracy: 0.3492 - val_auc_2: 0.5843 - val_precision_2: 0.2886 - val_recall_2: 0.9197 - lr: 1.0000e-08 - 3s/epoch - 5ms/step\n",
      "Epoch 83/200\n",
      "583/583 - 3s - loss: 0.2417 - binary_accuracy: 0.3497 - auc_2: 0.5857 - precision_2: 0.2892 - recall_2: 0.9231 - val_loss: 0.5017 - val_binary_accuracy: 0.3493 - val_auc_2: 0.5844 - val_precision_2: 0.2887 - val_recall_2: 0.9197 - lr: 1.0000e-08 - 3s/epoch - 5ms/step\n",
      "Epoch 84/200\n",
      "583/583 - 3s - loss: 0.2417 - binary_accuracy: 0.3497 - auc_2: 0.5857 - precision_2: 0.2892 - recall_2: 0.9231 - val_loss: 0.5015 - val_binary_accuracy: 0.3493 - val_auc_2: 0.5844 - val_precision_2: 0.2887 - val_recall_2: 0.9196 - lr: 1.0000e-08 - 3s/epoch - 5ms/step\n",
      "Epoch 85/200\n",
      "583/583 - 3s - loss: 0.2417 - binary_accuracy: 0.3498 - auc_2: 0.5857 - precision_2: 0.2892 - recall_2: 0.9230 - val_loss: 0.5013 - val_binary_accuracy: 0.3494 - val_auc_2: 0.5844 - val_precision_2: 0.2887 - val_recall_2: 0.9195 - lr: 1.0000e-08 - 3s/epoch - 5ms/step\n",
      "Epoch 86/200\n",
      "583/583 - 3s - loss: 0.2417 - binary_accuracy: 0.3499 - auc_2: 0.5857 - precision_2: 0.2892 - recall_2: 0.9229 - val_loss: 0.5012 - val_binary_accuracy: 0.3495 - val_auc_2: 0.5844 - val_precision_2: 0.2887 - val_recall_2: 0.9194 - lr: 1.0000e-08 - 3s/epoch - 5ms/step\n",
      "Epoch 87/200\n",
      "583/583 - 3s - loss: 0.2417 - binary_accuracy: 0.3500 - auc_2: 0.5858 - precision_2: 0.2893 - recall_2: 0.9228 - val_loss: 0.5010 - val_binary_accuracy: 0.3496 - val_auc_2: 0.5845 - val_precision_2: 0.2887 - val_recall_2: 0.9193 - lr: 1.0000e-08 - 3s/epoch - 4ms/step\n",
      "Epoch 88/200\n",
      "583/583 - 3s - loss: 0.2417 - binary_accuracy: 0.3501 - auc_2: 0.5858 - precision_2: 0.2893 - recall_2: 0.9228 - val_loss: 0.5009 - val_binary_accuracy: 0.3496 - val_auc_2: 0.5845 - val_precision_2: 0.2887 - val_recall_2: 0.9192 - lr: 1.0000e-08 - 3s/epoch - 5ms/step\n"
     ]
    },
    {
     "name": "stdout",
     "output_type": "stream",
     "text": [
      "Epoch 89/200\n",
      "583/583 - 3s - loss: 0.2417 - binary_accuracy: 0.3501 - auc_2: 0.5858 - precision_2: 0.2893 - recall_2: 0.9227 - val_loss: 0.5008 - val_binary_accuracy: 0.3497 - val_auc_2: 0.5845 - val_precision_2: 0.2887 - val_recall_2: 0.9191 - lr: 1.0000e-08 - 3s/epoch - 5ms/step\n",
      "Epoch 90/200\n",
      "\n",
      "Epoch 00090: ReduceLROnPlateau reducing learning rate to 9.999999939225292e-10.\n",
      "583/583 - 3s - loss: 0.2417 - binary_accuracy: 0.3502 - auc_2: 0.5858 - precision_2: 0.2893 - recall_2: 0.9225 - val_loss: 0.5007 - val_binary_accuracy: 0.3498 - val_auc_2: 0.5845 - val_precision_2: 0.2887 - val_recall_2: 0.9190 - lr: 1.0000e-08 - 3s/epoch - 5ms/step\n",
      "Epoch 91/200\n",
      "583/583 - 3s - loss: 0.2417 - binary_accuracy: 0.3502 - auc_2: 0.5859 - precision_2: 0.2893 - recall_2: 0.9225 - val_loss: 0.5007 - val_binary_accuracy: 0.3498 - val_auc_2: 0.5845 - val_precision_2: 0.2887 - val_recall_2: 0.9190 - lr: 1.0000e-09 - 3s/epoch - 5ms/step\n",
      "Epoch 92/200\n",
      "583/583 - 3s - loss: 0.2417 - binary_accuracy: 0.3502 - auc_2: 0.5859 - precision_2: 0.2893 - recall_2: 0.9225 - val_loss: 0.5007 - val_binary_accuracy: 0.3498 - val_auc_2: 0.5845 - val_precision_2: 0.2887 - val_recall_2: 0.9190 - lr: 1.0000e-09 - 3s/epoch - 5ms/step\n",
      "Epoch 93/200\n",
      "583/583 - 3s - loss: 0.2417 - binary_accuracy: 0.3502 - auc_2: 0.5859 - precision_2: 0.2893 - recall_2: 0.9225 - val_loss: 0.5007 - val_binary_accuracy: 0.3498 - val_auc_2: 0.5845 - val_precision_2: 0.2887 - val_recall_2: 0.9190 - lr: 1.0000e-09 - 3s/epoch - 5ms/step\n",
      "Epoch 94/200\n",
      "583/583 - 3s - loss: 0.2417 - binary_accuracy: 0.3502 - auc_2: 0.5859 - precision_2: 0.2893 - recall_2: 0.9225 - val_loss: 0.5007 - val_binary_accuracy: 0.3498 - val_auc_2: 0.5845 - val_precision_2: 0.2887 - val_recall_2: 0.9190 - lr: 1.0000e-09 - 3s/epoch - 5ms/step\n",
      "Epoch 95/200\n",
      "583/583 - 3s - loss: 0.2417 - binary_accuracy: 0.3502 - auc_2: 0.5859 - precision_2: 0.2893 - recall_2: 0.9225 - val_loss: 0.5007 - val_binary_accuracy: 0.3498 - val_auc_2: 0.5845 - val_precision_2: 0.2887 - val_recall_2: 0.9190 - lr: 1.0000e-09 - 3s/epoch - 5ms/step\n",
      "Epoch 96/200\n",
      "583/583 - 3s - loss: 0.2417 - binary_accuracy: 0.3502 - auc_2: 0.5859 - precision_2: 0.2893 - recall_2: 0.9225 - val_loss: 0.5006 - val_binary_accuracy: 0.3498 - val_auc_2: 0.5845 - val_precision_2: 0.2887 - val_recall_2: 0.9190 - lr: 1.0000e-09 - 3s/epoch - 5ms/step\n",
      "Epoch 97/200\n",
      "583/583 - 3s - loss: 0.2417 - binary_accuracy: 0.3502 - auc_2: 0.5859 - precision_2: 0.2893 - recall_2: 0.9225 - val_loss: 0.5006 - val_binary_accuracy: 0.3498 - val_auc_2: 0.5845 - val_precision_2: 0.2887 - val_recall_2: 0.9190 - lr: 1.0000e-09 - 3s/epoch - 5ms/step\n",
      "Epoch 98/200\n",
      "583/583 - 3s - loss: 0.2417 - binary_accuracy: 0.3502 - auc_2: 0.5859 - precision_2: 0.2893 - recall_2: 0.9225 - val_loss: 0.5006 - val_binary_accuracy: 0.3498 - val_auc_2: 0.5845 - val_precision_2: 0.2887 - val_recall_2: 0.9190 - lr: 1.0000e-09 - 3s/epoch - 5ms/step\n",
      "Epoch 99/200\n",
      "583/583 - 3s - loss: 0.2417 - binary_accuracy: 0.3502 - auc_2: 0.5859 - precision_2: 0.2893 - recall_2: 0.9225 - val_loss: 0.5006 - val_binary_accuracy: 0.3498 - val_auc_2: 0.5845 - val_precision_2: 0.2887 - val_recall_2: 0.9190 - lr: 1.0000e-09 - 3s/epoch - 5ms/step\n",
      "Epoch 100/200\n",
      "\n",
      "Epoch 00100: ReduceLROnPlateau reducing learning rate to 9.999999717180686e-11.\n",
      "583/583 - 3s - loss: 0.2417 - binary_accuracy: 0.3502 - auc_2: 0.5859 - precision_2: 0.2893 - recall_2: 0.9225 - val_loss: 0.5006 - val_binary_accuracy: 0.3498 - val_auc_2: 0.5845 - val_precision_2: 0.2887 - val_recall_2: 0.9190 - lr: 1.0000e-09 - 3s/epoch - 5ms/step\n",
      "Epoch 00100: early stopping\n"
     ]
    }
   ],
   "source": [
    "# Callbacks #\n",
    "early_stopping = EarlyStopping(monitor = 'val_loss',\n",
    "                               min_delta = 0, \n",
    "                               patience = 50,\n",
    "                               verbose=2,\n",
    "                               mode='min')\n",
    "# Stop the learning when val_loss stops increasing \n",
    "# https://keras.io/api/callbacks/early_stopping/\n",
    "\n",
    "reduce_plateau = ReduceLROnPlateau(monitor = 'val_loss',\n",
    "                                   factor = 0.1,\n",
    "                                   min_delta = 0, \n",
    "                                   patience = 10,\n",
    "                                   verbose=2,\n",
    "                                   mode='min')\n",
    "# reduce LR if not improvement for some time \n",
    "# https://keras.io/api/callbacks/reduce_lr_on_plateau/\n",
    "history = model.fit(\n",
    "    X_train,\n",
    "    y_train,\n",
    "    verbose=2,\n",
    "    batch_size=parameters['batch_size'],\n",
    "    epochs=parameters['epochs'],\n",
    "    sample_weight=w_train,\n",
    "    # We pass some validation for\n",
    "    # monitoring validation loss and metrics\n",
    "    # at the end of each epoch\n",
    "    validation_data=(X_test, y_test,w_test),\n",
    "    callbacks = [early_stopping, reduce_plateau],\n",
    ")\n"
   ]
  },
  {
   "cell_type": "code",
   "execution_count": 71,
   "id": "94334845",
   "metadata": {},
   "outputs": [
    {
     "data": {
      "image/png": "[encoded data removed]",
      "text/plain": [
       "<Figure size 432x288 with 1 Axes>"
      ]
     },
     "metadata": {
      "needs_background": "light"
     },
     "output_type": "display_data"
    }
   ],
   "source": [
    "from IPython import embed\n",
    "import matplotlib.pyplot as plt\n",
    "\n",
    "fig = plt.figure()\n",
    "plt.plot(history.history['loss'],color='m',label='Training loss')\n",
    "plt.plot(history.history['val_loss'],color='b',label='Validation loss')\n",
    "plt.xlabel('Epoch')\n",
    "plt.ylabel('Loss function')\n",
    "plt.legend(loc='upper right')\n",
    "fig.savefig('training_validation.pdf')\n",
    "\n",
    "#PlotHistory(loss_history,params=parameters)\n",
    "# Params is a dict of parameters with name and values\n",
    "# used for plotting\n"
   ]
  },
  {
   "cell_type": "code",
   "execution_count": 72,
   "id": "1f10f696",
   "metadata": {},
   "outputs": [
    {
     "data": {
      "image/png": "[encoded data removed]",
      "text/plain": [
       "<Figure size 432x288 with 1 Axes>"
      ]
     },
     "metadata": {
      "needs_background": "light"
     },
     "output_type": "display_data"
    }
   ],
   "source": [
    "prediction = model.predict(X_test)\n",
    "from sklearn.metrics import roc_curve\n",
    "fpr_keras, tpr_keras, thresholds_keras = roc_curve(y_test, prediction,sample_weight=w_test)\n",
    "\n",
    "from sklearn.metrics import auc\n",
    "auc_keras = auc(fpr_keras, tpr_keras)\n",
    "\n",
    "from IPython import embed\n",
    "import matplotlib.pyplot as plt\n",
    "\n",
    "fig = plt.figure()\n",
    "plt.plot([0, 1], [0, 1], 'k--')\n",
    "plt.plot(fpr_keras, tpr_keras, label='Keras (area = {:.3f})'.format(auc_keras))\n",
    "#plt.plot(fpr_rf, tpr_rf, label='XGBoost (area = {:.3f})'.format(auc_rf))\n",
    "plt.xlabel('False positive rate')\n",
    "plt.ylabel('True positive rate')\n",
    "plt.title('ROC curve')\n",
    "plt.legend(loc='best')\n",
    "fig.savefig(\"ROC_curve.pdf\")\n",
    "plt.show()\n"
   ]
  },
  {
   "cell_type": "code",
   "execution_count": 73,
   "id": "38e8e583",
   "metadata": {},
   "outputs": [
    {
     "data": {
      "image/png": "[encoded data removed]",
      "text/plain": [
       "<Figure size 432x288 with 1 Axes>"
      ]
     },
     "metadata": {
      "needs_background": "light"
     },
     "output_type": "display_data"
    }
   ],
   "source": [
    "import matplotlib.pyplot as plt\n",
    "fig = plt.figure()\n",
    "plt.hist(prediction[y_test==0],histtype=(\"step\"),bins=100)\n",
    "plt.hist(prediction[y_test==1],histtype=(\"step\"),bins=100)\n",
    "plt.yscale('log') \n",
    "fig.savefig(\"prediction.pdf\", dpi = 300)"
   ]
  },
  {
   "cell_type": "code",
   "execution_count": 25,
   "id": "86da4315",
   "metadata": {},
   "outputs": [
    {
     "name": "stdout",
     "output_type": "stream",
     "text": [
      "9100/9100 - 7s - loss: 0.4168 - binary_accuracy: 0.3900 - auc: 0.6453 - precision: 0.3052 - recall: 0.9396 - 7s/epoch - 720us/step\n",
      "binary_accuracy: 39.00%\n"
     ]
    }
   ],
   "source": [
    "# evaluate the model\n",
    "scores = model.evaluate(X_test, y_test, sample_weight=w_test, verbose=2)\n",
    "print(\"%s: %.2f%%\" % (model.metrics_names[1], scores[1]*100))"
   ]
  },
  {
   "cell_type": "code",
   "execution_count": null,
   "id": "051f1247",
   "metadata": {},
   "outputs": [],
   "source": [
    "# save model and architecture to single file\n",
    "model.save(\"model_dnn_threesignal\")\n",
    "print(\"Saved model to disk\")"
   ]
  },
  {
   "cell_type": "code",
   "execution_count": null,
   "id": "89de2650",
   "metadata": {},
   "outputs": [],
   "source": []
  }
 ],
 "metadata": {
  "kernelspec": {
   "display_name": "Python 3 (ipykernel)",
   "language": "python",
   "name": "python3"
  },
  "language_info": {
   "codemirror_mode": {
    "name": "ipython",
    "version": 3
   },
   "file_extension": ".py",
   "mimetype": "text/x-python",
   "name": "python",
   "nbconvert_exporter": "python",
   "pygments_lexer": "ipython3",
   "version": "3.8.10"
  }
 },
 "nbformat": 4,
 "nbformat_minor": 5
}
